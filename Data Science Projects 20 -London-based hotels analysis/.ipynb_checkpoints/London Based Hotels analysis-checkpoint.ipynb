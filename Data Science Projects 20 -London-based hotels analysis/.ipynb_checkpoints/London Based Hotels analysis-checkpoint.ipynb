{
 "cells": [
  {
   "cell_type": "code",
   "execution_count": 2,
   "metadata": {},
   "outputs": [],
   "source": [
    "import pandas as pd\n",
    "import numpy as np "
   ]
  },
  {
   "cell_type": "code",
   "execution_count": 4,
   "metadata": {},
   "outputs": [],
   "source": [
    "''' reading dataset '''\n",
    "df = pd.read_csv('London_hotel_reviews.csv')"
   ]
  },
  {
   "cell_type": "code",
   "execution_count": 5,
   "metadata": {},
   "outputs": [
    {
     "data": {
      "text/html": [
       "<div>\n",
       "<style scoped>\n",
       "    .dataframe tbody tr th:only-of-type {\n",
       "        vertical-align: middle;\n",
       "    }\n",
       "\n",
       "    .dataframe tbody tr th {\n",
       "        vertical-align: top;\n",
       "    }\n",
       "\n",
       "    .dataframe thead th {\n",
       "        text-align: right;\n",
       "    }\n",
       "</style>\n",
       "<table border=\"1\" class=\"dataframe\">\n",
       "  <thead>\n",
       "    <tr style=\"text-align: right;\">\n",
       "      <th></th>\n",
       "      <th>Property Name</th>\n",
       "      <th>Review Rating</th>\n",
       "      <th>Review Title</th>\n",
       "      <th>Review Text</th>\n",
       "      <th>Location Of The Reviewer</th>\n",
       "      <th>Date Of Review</th>\n",
       "    </tr>\n",
       "  </thead>\n",
       "  <tbody>\n",
       "    <tr>\n",
       "      <th>0</th>\n",
       "      <td>Apex London Wall Hotel</td>\n",
       "      <td>5</td>\n",
       "      <td>Ottima qualit� prezzo</td>\n",
       "      <td>Siamo stati a Londra per un week end ed abbiam...</td>\n",
       "      <td>Casale Monferrato, Italy</td>\n",
       "      <td>10/20/2012</td>\n",
       "    </tr>\n",
       "    <tr>\n",
       "      <th>1</th>\n",
       "      <td>Corinthia Hotel London</td>\n",
       "      <td>5</td>\n",
       "      <td>By far, my best hotel in the world</td>\n",
       "      <td>I had a pleasure of staying in this hotel for ...</td>\n",
       "      <td>Savannah, Georgia</td>\n",
       "      <td>3/23/2016</td>\n",
       "    </tr>\n",
       "    <tr>\n",
       "      <th>2</th>\n",
       "      <td>The Savoy</td>\n",
       "      <td>5</td>\n",
       "      <td>First visit to the American Bar at the Savoy</td>\n",
       "      <td>A very lovely first visit to this iconic hotel...</td>\n",
       "      <td>London</td>\n",
       "      <td>7/30/2013</td>\n",
       "    </tr>\n",
       "    <tr>\n",
       "      <th>3</th>\n",
       "      <td>Rhodes Hotel</td>\n",
       "      <td>4</td>\n",
       "      <td>Nice stay</td>\n",
       "      <td>3 of us stayed at the Rhodes Hotel for 4 night...</td>\n",
       "      <td>Maui, Hawaii</td>\n",
       "      <td>6/2/2012</td>\n",
       "    </tr>\n",
       "    <tr>\n",
       "      <th>4</th>\n",
       "      <td>The Savoy</td>\n",
       "      <td>5</td>\n",
       "      <td>Perfection</td>\n",
       "      <td>Form the moment we arrived until we left we ex...</td>\n",
       "      <td>London, United Kingdom</td>\n",
       "      <td>11/24/2017</td>\n",
       "    </tr>\n",
       "  </tbody>\n",
       "</table>\n",
       "</div>"
      ],
      "text/plain": [
       "            Property Name  Review Rating  \\\n",
       "0  Apex London Wall Hotel              5   \n",
       "1  Corinthia Hotel London              5   \n",
       "2               The Savoy              5   \n",
       "3            Rhodes Hotel              4   \n",
       "4               The Savoy              5   \n",
       "\n",
       "                                   Review Title  \\\n",
       "0                         Ottima qualit� prezzo   \n",
       "1            By far, my best hotel in the world   \n",
       "2  First visit to the American Bar at the Savoy   \n",
       "3                                     Nice stay   \n",
       "4                                    Perfection   \n",
       "\n",
       "                                         Review Text  \\\n",
       "0  Siamo stati a Londra per un week end ed abbiam...   \n",
       "1  I had a pleasure of staying in this hotel for ...   \n",
       "2  A very lovely first visit to this iconic hotel...   \n",
       "3  3 of us stayed at the Rhodes Hotel for 4 night...   \n",
       "4  Form the moment we arrived until we left we ex...   \n",
       "\n",
       "   Location Of The Reviewer Date Of Review  \n",
       "0  Casale Monferrato, Italy     10/20/2012  \n",
       "1         Savannah, Georgia      3/23/2016  \n",
       "2                    London      7/30/2013  \n",
       "3              Maui, Hawaii       6/2/2012  \n",
       "4    London, United Kingdom     11/24/2017  "
      ]
     },
     "execution_count": 5,
     "metadata": {},
     "output_type": "execute_result"
    }
   ],
   "source": [
    "''' displaying data '''\n",
    "df.head()"
   ]
  },
  {
   "cell_type": "code",
   "execution_count": 7,
   "metadata": {},
   "outputs": [
    {
     "data": {
      "text/plain": [
       "(27330, 6)"
      ]
     },
     "execution_count": 7,
     "metadata": {},
     "output_type": "execute_result"
    }
   ],
   "source": [
    "''' shape of dataset '''\n",
    "df.shape"
   ]
  },
  {
   "cell_type": "code",
   "execution_count": 8,
   "metadata": {},
   "outputs": [],
   "source": [
    "''' removing unknown character '''\n",
    "df = df[df['Review Text'].str.contains(\"<U\") == False] "
   ]
  },
  {
   "cell_type": "code",
   "execution_count": 9,
   "metadata": {},
   "outputs": [
    {
     "data": {
      "text/plain": [
       "(26877, 6)"
      ]
     },
     "execution_count": 9,
     "metadata": {},
     "output_type": "execute_result"
    }
   ],
   "source": [
    "df.shape"
   ]
  },
  {
   "cell_type": "code",
   "execution_count": 10,
   "metadata": {},
   "outputs": [],
   "source": [
    "l = []\n",
    "x = 1\n",
    "for text in range(len(df)):\n",
    "    t = str(df['Review Text'].values[text])\n",
    "\n",
    "    ''' detect(review) is English ''' \n",
    "    if t != \"en\":\n",
    "        l.append(t)\n",
    "        x += 1"
   ]
  },
  {
   "cell_type": "code",
   "execution_count": 14,
   "metadata": {},
   "outputs": [
    {
     "name": "stdout",
     "output_type": "stream",
     "text": [
      "0 Siamo stati a Londra per un week end ed abbiamo alloggiato in questo ottimo Hotel prenotato da amici. | Personale molto gentile e disponibile, camere sufficientemente grandi ma soprattutto pulite e confortevoli con un letto matrimoniale grande e comodo, tv grande, impianto stereo Bose, . | Bagno grande con asciugacapelli, vasca da bagno, doccia, accappatoio, ciabatte, ecc. ma soprattutto pulito! | Ottima posizione sebbene sia nella zona finanziaria e quindi il fine settimana praticamente deserta ma per noi � stato forse un vantaggio per la tranquillit� e visto che in pochi minuti si raggiungono zone molto vivaci. | In ogni caso muoversi non � un problema: la metro di Moorgate � a due passi cos� come la stazione della metro e dei treni Liverpool Street (treno con collegamento diretto all'aeroporto di Stansted). | Nel periodo in cui siamo stati noi stavano ristrutturando e quindi probabilmente oggi sar� ancora meglio, da tornare e da consigliare! | Abbiamo speso per 2 notti senza colazione (evitata visto il costo e le opinioni negative) 257Sterline. \n",
      "\n",
      "1 I had a pleasure of staying in this hotel for 7 nights recently. This hotel was perfect in every way. Communication with the hotel before staying was prompt, and very efficient. Checking in was a breeze. You go through the spectacular lobby with modern glass chandeliers and take the elevator to your room. My room, they gave me an upgrade to junior suite, was spectacular. We had a walk-in closet of the size where you could have put a small bed in there; it served us nicely for the seven day stay. The decor was very refined, and oh the bathroom! Carrera marble floor was heated throughout, rain shower was to die for! | Location, as it turned out, was as good as it can be. We were 5 minutes walk to Trafalgar Square, but it was very quiet. Right outside was Embankment tube stop. We would walk to theater area and to numerous restaurants, and many major sites, such as London Eye or Westminster Abbey were within walking distance. | We had buffet breakfast or room service every morning. It was pricy, but my rate included it. Couple of nights, we had glass of wine sitting in front of fire place in the lobby. I used the spa, which is included in the room rate, almost every night. After a windchill day of sightseeing, the steam sauna and jacuzzi would soften my weary muscles. | I have stayed in many 5 star hotels around the world, but this hotel tops it. I would return here in a heartbeat next time I am in London. \n",
      "\n",
      "2 A very lovely first visit to this iconic hotel bar! | Wonderful service, without being intrusive at all! Very delicious cocktails and just generally all round, a very indulgent experience. | Well worth visiting only for that 'once in a lifetime' experience, though do make sure you are feeling 'flush' it doesn't come cheap! \n",
      "\n",
      "3 3 of us stayed at the Rhodes Hotel for 4 nights, its a great location for taking the Paddington Express from Heathrow. We like the location clost to the partk and in walking distance of most locations. The room and bath were small compared to American Hotels but very clean. We enjoyed the free WIFI. The owners and the staff were very friendly and helpful with taxi's and resturant recomendations. We would stay there again. \n",
      "\n",
      "4 Form the moment we arrived until we left we experienced absolute perfection in service excellance by every member of The Savoy staff. Famous for its personalise service and rich heritage the Savoy is truly won of the best hotels in the world to stay at. For eating and dining woud highly recommend Kaspers restaurant. For ourselves we cannot wait until we return. \n",
      "\n",
      "5 Well I am no strange to London's 5star hotels and when a new one comes along I am eager to try. So I heard about the corinthia via some friends who work in the industry and said their bar was really something. Until the incident I had stay there a total of 3 times but on the 4th time in June I was on my second of 4 nights and was about get some cash from my room as I was going to exchange money for some dollars as I was flying to the US pretty soon. When I came to my money it felt light. When I counted it, it was almost �1000 down. Obviously shocked I contacted reception. They started an investigation! | Well a couple of days later I had to checkout and the matter was not resolved. I was made to pay my bill in full. | Upon my return to London I met up with a manager at the hotel Jean Louis. He said the matter was still under investigation and he gave me his card to get in touch. Nothing was ever resolved. | This hotel does not only boast to be one of the best hotels in London but one of the best in the world. You pay premium for this reason and you expect a premium service. This hotel epically failed me and dented my confidence in the hotel industry. I didn't even get a formal apology. | It's a lovely hotel but I would have to say stay at your own risk but for over �500 a night should there be any risk? \n",
      "\n",
      "6 The hotel staff were very helpful, I booked the wrong hotel by mistake and they changed it without any hassle. The staff were great. Greeted with a glass of prosecco and a lovely comfortable room. Bed was very comfortable. Would definitely stay there again. \n",
      "\n",
      "7 Already stepping out of the taxi you get that very special feeling of welcome. A friendly smile, a helping hand and yet with lot's of attitude. Who ever organises this, its very well done. | At the front desk it's, as almost everywhere, very complicated and slow to check-in. All has been done already when reserving the room. How difficult can it be to swipe the card and get the key card? | But that's is quickly forgotten when using the room, the Bar and the Restaurant. Everything is smart and comfy and nicely designed. And the service is excellent. Well done. \n",
      "\n",
      "8 What an incredibly cool place. Had the most delicious and interesting cocktails at Dandelion (bar) followed by an incredible meal at Sea Containers (restaurant). The staff were so friendly and the service was exceptional. Rumpus Room (top floor bar) is the perfect place for a night cap - very cool and with a great atmosphere. I could not recommend Mondrian more! \n",
      "\n",
      "9 Ottimo rapporto qualit� - prezzo, ottima la posizione, a due passi dal centro e ben servita di metro e bus.Letti comodi e stanza sempre pulita..Ho provato solo la colazione Italiana e non quella Inglese, ma come posso dimenticarmi di quei cornetti con dentro spalmata la nutella!!..Ho detto tutto!Ottima anche la cortesia e la disponibilit� di tutti i dipendenti. \n",
      "\n"
     ]
    }
   ],
   "source": [
    "i = 0\n",
    "while i < 10:\n",
    "    print(i, l[i], '\\n' )\n",
    "    i += 1"
   ]
  },
  {
   "cell_type": "code",
   "execution_count": null,
   "metadata": {},
   "outputs": [],
   "source": []
  },
  {
   "cell_type": "code",
   "execution_count": null,
   "metadata": {},
   "outputs": [],
   "source": []
  }
 ],
 "metadata": {
  "kernelspec": {
   "display_name": "Python 3",
   "language": "python",
   "name": "python3"
  },
  "language_info": {
   "codemirror_mode": {
    "name": "ipython",
    "version": 3
   },
   "file_extension": ".py",
   "mimetype": "text/x-python",
   "name": "python",
   "nbconvert_exporter": "python",
   "pygments_lexer": "ipython3",
   "version": "3.8.8"
  }
 },
 "nbformat": 4,
 "nbformat_minor": 4
}
