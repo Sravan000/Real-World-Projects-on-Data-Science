{
 "cells": [
  {
   "cell_type": "code",
   "execution_count": 80,
   "metadata": {
    "_cell_guid": "b1076dfc-b9ad-4769-8c92-a6c4dae69d19",
    "_uuid": "8f2839f25d086af736a60e9eeb907d3b93b6e0e5"
   },
   "outputs": [
    {
     "name": "stdout",
     "output_type": "stream",
     "text": [
      "/kaggle/input/reviews-of-londonbased-hotels/London_hotel_reviews.csv\n"
     ]
    }
   ],
   "source": [
    "import numpy as np # linear algebra\n",
    "import pandas as pd # data processing, CSV file I/O (e.g. pd.read_csv)\n",
    "\n"
   ]
  },
  {
   "cell_type": "markdown",
   "metadata": {},
   "source": [
    "# Did Dataset be created full of English reviews?"
   ]
  },
  {
   "cell_type": "markdown",
   "metadata": {},
   "source": [
    "The answer is no! The dataset have lots of other language's reviews inside. In this kernel we will detect how many different language reviews there are. <br>\n"
   ]
  },
  {
   "cell_type": "code",
   "execution_count": 81,
   "metadata": {
    "_cell_guid": "79c7e3d0-c299-4dcb-8224-4455121ee9b0",
    "_uuid": "d629ff2d2480ee46fbb7e2d37f6b5fab8052498a"
   },
   "outputs": [],
   "source": [
    "import pandas as pd\n",
    "from langdetect import detect"
   ]
  },
  {
   "cell_type": "code",
   "execution_count": 82,
   "metadata": {},
   "outputs": [
    {
     "name": "stdout",
     "output_type": "stream",
     "text": [
      "(27330, 6)\n"
     ]
    },
    {
     "data": {
      "text/html": [
       "<div>\n",
       "<style scoped>\n",
       "    .dataframe tbody tr th:only-of-type {\n",
       "        vertical-align: middle;\n",
       "    }\n",
       "\n",
       "    .dataframe tbody tr th {\n",
       "        vertical-align: top;\n",
       "    }\n",
       "\n",
       "    .dataframe thead th {\n",
       "        text-align: right;\n",
       "    }\n",
       "</style>\n",
       "<table border=\"1\" class=\"dataframe\">\n",
       "  <thead>\n",
       "    <tr style=\"text-align: right;\">\n",
       "      <th></th>\n",
       "      <th>Property Name</th>\n",
       "      <th>Review Rating</th>\n",
       "      <th>Review Title</th>\n",
       "      <th>Review Text</th>\n",
       "      <th>Location Of The Reviewer</th>\n",
       "      <th>Date Of Review</th>\n",
       "    </tr>\n",
       "  </thead>\n",
       "  <tbody>\n",
       "    <tr>\n",
       "      <th>27325</th>\n",
       "      <td>Corinthia Hotel London</td>\n",
       "      <td>5</td>\n",
       "      <td>The Best 5 star Luxury Hotel in London</td>\n",
       "      <td>I come to London often but since I stayed in t...</td>\n",
       "      <td>Munich, Germany</td>\n",
       "      <td>12/12/2015</td>\n",
       "    </tr>\n",
       "    <tr>\n",
       "      <th>27326</th>\n",
       "      <td>A To Z Hotel</td>\n",
       "      <td>3</td>\n",
       "      <td>Mala Estadia</td>\n",
       "      <td>En cuarto que nos tocó no había toallas y habí...</td>\n",
       "      <td>Mexico City, Mexico</td>\n",
       "      <td>9/29/2015</td>\n",
       "    </tr>\n",
       "    <tr>\n",
       "      <th>27327</th>\n",
       "      <td>The Rembrandt</td>\n",
       "      <td>4</td>\n",
       "      <td>Excellent hotel in outstanding location</td>\n",
       "      <td>This is a quality quiet hotel located in an ex...</td>\n",
       "      <td>Adelaide, Australia</td>\n",
       "      <td>7/11/2017</td>\n",
       "    </tr>\n",
       "    <tr>\n",
       "      <th>27328</th>\n",
       "      <td>The Dorchester</td>\n",
       "      <td>4</td>\n",
       "      <td>Trevliga rum, men högljud AC</td>\n",
       "      <td>Väldigt vackra rum, tyvärr med en mycket höglj...</td>\n",
       "      <td>Gothenburg, Sweden</td>\n",
       "      <td>5/6/2014</td>\n",
       "    </tr>\n",
       "    <tr>\n",
       "      <th>27329</th>\n",
       "      <td>The Savoy</td>\n",
       "      <td>5</td>\n",
       "      <td>Great as always</td>\n",
       "      <td>I have been staying in London hotels for 10 ye...</td>\n",
       "      <td>Ballymena, United Kingdom</td>\n",
       "      <td>4/24/2017</td>\n",
       "    </tr>\n",
       "  </tbody>\n",
       "</table>\n",
       "</div>"
      ],
      "text/plain": [
       "                Property Name  Review Rating  \\\n",
       "27325  Corinthia Hotel London              5   \n",
       "27326            A To Z Hotel              3   \n",
       "27327           The Rembrandt              4   \n",
       "27328          The Dorchester              4   \n",
       "27329               The Savoy              5   \n",
       "\n",
       "                                  Review Title  \\\n",
       "27325   The Best 5 star Luxury Hotel in London   \n",
       "27326                             Mala Estadia   \n",
       "27327  Excellent hotel in outstanding location   \n",
       "27328             Trevliga rum, men högljud AC   \n",
       "27329                          Great as always   \n",
       "\n",
       "                                             Review Text  \\\n",
       "27325  I come to London often but since I stayed in t...   \n",
       "27326  En cuarto que nos tocó no había toallas y habí...   \n",
       "27327  This is a quality quiet hotel located in an ex...   \n",
       "27328  Väldigt vackra rum, tyvärr med en mycket höglj...   \n",
       "27329  I have been staying in London hotels for 10 ye...   \n",
       "\n",
       "        Location Of The Reviewer Date Of Review  \n",
       "27325            Munich, Germany     12/12/2015  \n",
       "27326        Mexico City, Mexico      9/29/2015  \n",
       "27327        Adelaide, Australia      7/11/2017  \n",
       "27328         Gothenburg, Sweden       5/6/2014  \n",
       "27329  Ballymena, United Kingdom      4/24/2017  "
      ]
     },
     "execution_count": 82,
     "metadata": {},
     "output_type": "execute_result"
    }
   ],
   "source": [
    "# Take dateset\n",
    "reviews_df = pd.read_csv('../input/reviews-of-londonbased-hotels/London_hotel_reviews.csv',  encoding = \"ISO-8859-1\" )\n",
    "\n",
    "# Look, how many reviews in the orginal dataset\n",
    "totalReviews = reviews_df.shape\n",
    "print(totalReviews)        # There are 27330 reviews and 1 columns\n",
    "reviews_df.tail()          # Show end of the 5 reviews\n"
   ]
  },
  {
   "cell_type": "code",
   "execution_count": 83,
   "metadata": {},
   "outputs": [
    {
     "name": "stdout",
     "output_type": "stream",
     "text": [
      "(26877, 6)\n"
     ]
    }
   ],
   "source": [
    "# Remove some reviews created full of unknown characters.\n",
    "reviews_df = reviews_df[reviews_df['Review Text'].str.contains(\"<U\") == False] \n",
    "\n",
    "# The total number of reviews after removed reviews are full of unknown character\n",
    "print(reviews_df.shape) # There are 26877 reviews."
   ]
  },
  {
   "cell_type": "code",
   "execution_count": 84,
   "metadata": {},
   "outputs": [],
   "source": [
    "\n",
    "\n",
    "otherLang = []\n",
    "j = 1\n",
    "for t in range(len(reviews_df)):                  # iterate for each object\n",
    "    i = str(reviews_df['Review Text'].values[t])  # Take just reviews to String : i\n",
    "    if detect(i) != \"en\":                         # detect(review) is English? if it is not do:\n",
    "        otherLang.append(i)\n",
    "#         print(j, i)\n",
    "        j += 1"
   ]
  },
  {
   "cell_type": "code",
   "execution_count": 85,
   "metadata": {},
   "outputs": [
    {
     "name": "stdout",
     "output_type": "stream",
     "text": [
      "0 Siamo stati a Londra per un week end ed abbiamo alloggiato in questo ottimo Hotel prenotato da amici. | Personale molto gentile e disponibile, camere sufficientemente grandi ma soprattutto pulite e confortevoli con un letto matrimoniale grande e comodo, tv grande, impianto stereo Bose, . | Bagno grande con asciugacapelli, vasca da bagno, doccia, accappatoio, ciabatte, ecc. ma soprattutto pulito! | Ottima posizione sebbene sia nella zona finanziaria e quindi il fine settimana praticamente deserta ma per noi è stato forse un vantaggio per la tranquillità e visto che in pochi minuti si raggiungono zone molto vivaci. | In ogni caso muoversi non è un problema: la metro di Moorgate è a due passi così come la stazione della metro e dei treni Liverpool Street (treno con collegamento diretto all'aeroporto di Stansted). | Nel periodo in cui siamo stati noi stavano ristrutturando e quindi probabilmente oggi sarà ancora meglio, da tornare e da consigliare! | Abbiamo speso per 2 notti senza colazione (evitata visto il costo e le opinioni negative) 257Sterline. \n",
      "\n",
      "1 Ottimo rapporto qualità - prezzo, ottima la posizione, a due passi dal centro e ben servita di metro e bus.Letti comodi e stanza sempre pulita..Ho provato solo la colazione Italiana e non quella Inglese, ma come posso dimenticarmi di quei cornetti con dentro spalmata la nutella!!..Ho detto tutto!Ottima anche la cortesia e la disponibilità di tutti i dipendenti. \n",
      "\n",
      "2 A 15 mn à pied, 5 en bus (passage fréquent) de la station de métro north acton (central line), un hotel simple mais suffisant pour petits budgets. C'est vrai, les tiroirs du petit bureau sont cassés , il n'y a pas de table de nuit.... C'est petit mais suffisant pour dormir et se laver. C'est tres propre, draps et serviettes comme le sol et la salle d'eau. Nettoyage tous les matins et serviettes propres. Accueil timide (tenu par des indiens) mais serviable (nous ont gardé une journee nos bagages le dernier jour). Petit déjeuner ok, toasts, beurre, café ou thé, jus d'orange, pot de lait, confitures. Tres calme, on a bien dormi pendant 6 nuits. Bref, à recommander, pour le prix c'est tres bien, meme plus propre que des hotels beaucoup plus chers dans le centre! \n",
      "\n",
      "3 Nous avons pris l'habitude de descendre dans cet hotel familial à chaque escapade à Londres, situation au top, propreté impécable, service sans faille du personnel, et un excelent petit dejeuner (et la gentillesse de Rita). | Mr &amp; Mrs Rees, les propriétaires sont la pour vous conseiller et endossent l'habit de concierge à la perfection. | Les chambres sont petites, certes, avec un deco decalée qui semble ne pas avoir évoluée depuis des années, nous qui sommes plus attirés par le Vintage et des hotels plus \"tendance\" (nous sommes d'ailleurs à Paris ce weekend pour le salon du Vintage), mais tres confortables et suffisantes pour y dormir. | Quant aux prix, nous sommes à londres ... | Un hotel à ne pas manquer que nous recommandons avec plaisir !!! \n",
      "\n",
      "4 Wir waren im Rahmen einer Städtereise für 3 Übernachtungen zu Gast im \"Apex London Wall Hotel\". Am Empfang wurden wir sehr freundlich begrüßt. Da wir bereits früh morgen angereist sind und die Zimmer verständlicherweise noch nicht bezugsfertig waren konnten wir unser Gepäck kostenlos abstellen. Dieses wurde später dann direkt durch das Personal auf das Zimmer gebracht. Unser Zimmer mit der Nummer 525 war toll eingerichtet und sehr sauber (siehe Bilder). Nach einem langen Sightseeing und Shopping Tag in London genau das richtige Hotel! \n",
      "\n",
      "5 In tutto, dalla struttura nuova in stile moderno, alla dotazione di tutti i comfort, al personale gentilissimo, professionale e molto disponibile. Elevato livello di pulizia, bagno pulitissimo e completo ( vasca + doccia) di generose dimensioni. Unica pecca la scarsa insonorizzazione della camera, in particolare della porta di accesso. | Il quartiere è molto tranquillo,nei fine settimana poco frequentato,ma si popola negli altri giorni. | La posizione è comodissima, ci sono ben quattro fermate della metro nel raggio di cinquecento metri. Ottimi anche i collegamenti di superficie. Liverpool station ( per chi arriva da Stansted in bus) dista soli cinque minuti a piedi. | Sempre a piedi si raggiungono facilmente London e Tower Bridge. | Maxpar64 \n",
      "\n",
      "6 E stata la nostra prima volta in questo albergo che ci ha lasciati molto soddisfatti. Ideale la posizione con metropolitana vicina. Il servizio è eccellente ad iniziare da chi ti accoglie alla porta. Lo staff molto qualificato. Ottima la cucina. Ambienti molto raffinati. Camere piccole ma accoglienti \n",
      "\n",
      "7 Nous avons séjourné à 4 pour le pont de l Ascension au Ridgemount Hotel en mai 2016. C est un petit hôtel très sympathique idéalement situé tout près du British Museum. Nous avons presque tout fait à pied. Nous sommes venus de saint Pancras jusqu'à l hôtel à pied également. La famille qui gère l hôtel est charmante. L accueil parfait. La chambre a 4 est plutôt grande et très propre (seul bémol nous étions côté rue Gower et il y a beaucoup de circulation). Le petit déjeuner est copieux. Bref nous avons passé 4 jours super! Prix correct pour Londres (160 livres par nuit pour 4 personnes). À conseiller ! \n",
      "\n",
      "8 Hotel moderno, recientemente inaugurado, frente al Tamesis, al lado de Blackfriars y a pasos de St. Paul | Habitaciones modernas, con muy buena vista al Tamesis, los restaurantes del hotel son excelentes, muy buena atencion y el personal de todo el hotel muy predispuesto. | Para recomendar sin dudas \n",
      "\n",
      "9 Laccueil de Panos est simplement Wow! Il vous explique tout et vient même porter votre valise à votre chambre si vous êtes à lannexe. Javais la chambre 330, minuscule environ 11 pieds par 5, mais impeccable! La salle de bain a été rénovée, les planchers aussi dans la chambre, le lit est correct ni trop dur ni trop mou. Il y a une petite table avec une chaise, une télé au bout du lit. La literie est changé à tous les jours. Les escaliers pour sy rendre sont dangereuses et étroites. Cependant, elles sont correctes pour les chambres du niveau 320. Javais une chambre côté cours et e nai pas été réveillée par le bruit des voitures. Ce doit être plus bruyant du côté rue. Le déjeuner se prend à lhôtel principal à 5 minutes de marches au sous-sol, celui qui sen occupe veille à ce quil ne manque de rien (fromage, jambon, croissant, céréales, nutella, confiture et beurre darachides, fruits). Lhôtel est hyper bien situé à 7 minutes de marche de Paddington. Si je reviens à Londres, il est certain que je reviens à cet hôtel, ce nest pas le grand luxe, mais rapport qualité/prix cest top! | Encore merci à Panos qui a fait de mon séjour, un séjour incroyable! | I was sleeping at the annex, the service of Panos was incredible! He bring me luggage to my room and explain everything. Ive got the room 330; the stairs are dangerous but hold the ramp and its ok! Also it was very small 11 by 5 feet, but the bathroom is new as the floor. The stairs that go to the rooms of level 320 are ok. Its very clean and the litery is change every day. If you have a room make sure that is not on the street because its noisy. Mine was on the back and i slept very well. | For breakfast you have to walk 5 minutes, but for me it was ok, the man who is in charge make sure that everyone is happy and that you have everything. There is ham, cheese, croissant, bread, nutella, peanut butter and gelly. Also some fruits. | 7 minutes walk from paddington, so very well located. | If I come back to London fore sure I will be back. Very good price for what you got! | Thanks again to Panos who make my stay incredible! \n",
      "\n",
      "\n",
      "Total reviews: 27330 \n",
      " Created by unknown characters: 453 \n",
      " Other Languages reviews: 3352 \n",
      " English Reviews: 23525\n"
     ]
    }
   ],
   "source": [
    "\n",
    "for i in range(10):\n",
    "    print(i, otherLang[i], '\\n' )\n",
    "\n",
    "print(\"\\nTotal reviews: {} \\n Created by unknown characters: {} \\n Other Languages reviews: {} \\n English Reviews: {}\".format(totalReviews[0], totalReviews[0]-len(reviews_df), j, len(reviews_df) - j))\n"
   ]
  },
  {
   "cell_type": "markdown",
   "metadata": {},
   "source": [
    "So, the dataset have just 23525 English reviews."
   ]
  }
 ],
 "metadata": {
  "kernelspec": {
   "display_name": "Python 3",
   "language": "python",
   "name": "python3"
  },
  "language_info": {
   "codemirror_mode": {
    "name": "ipython",
    "version": 3
   },
   "file_extension": ".py",
   "mimetype": "text/x-python",
   "name": "python",
   "nbconvert_exporter": "python",
   "pygments_lexer": "ipython3",
   "version": "3.8.8"
  }
 },
 "nbformat": 4,
 "nbformat_minor": 4
}
