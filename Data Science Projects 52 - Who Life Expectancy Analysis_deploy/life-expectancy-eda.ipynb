{
 "cells": [
  {
   "cell_type": "markdown",
   "id": "charitable-hardwood",
   "metadata": {
    "papermill": {
     "duration": 0.078435,
     "end_time": "2021-07-08T19:07:55.353385",
     "exception": false,
     "start_time": "2021-07-08T19:07:55.274950",
     "status": "completed"
    },
    "tags": []
   },
   "source": [
    "## **IMPORTING NECESSARY MODULES**"
   ]
  },
  {
   "cell_type": "code",
   "execution_count": null,
   "id": "technical-third",
   "metadata": {
    "_cell_guid": "b1076dfc-b9ad-4769-8c92-a6c4dae69d19",
    "_uuid": "8f2839f25d086af736a60e9eeb907d3b93b6e0e5",
    "execution": {
     "iopub.execute_input": "2021-07-08T19:07:55.514881Z",
     "iopub.status.busy": "2021-07-08T19:07:55.514014Z",
     "iopub.status.idle": "2021-07-08T19:08:01.994074Z",
     "shell.execute_reply": "2021-07-08T19:08:01.992985Z",
     "shell.execute_reply.started": "2021-07-08T18:50:57.024333Z"
    },
    "papermill": {
     "duration": 6.565235,
     "end_time": "2021-07-08T19:08:01.994356",
     "exception": false,
     "start_time": "2021-07-08T19:07:55.429121",
     "status": "completed"
    },
    "tags": []
   },
   "outputs": [],
   "source": [
    "\n",
    "import numpy as np # linear algebra\n",
    "import pandas as pd # data processing, CSV file I/O (e.g. pd.read_csv)\n",
    "import matplotlib.pyplot as plt\n",
    "import seaborn as sns\n",
    "from sklearn import preprocessing\n",
    "import tensorflow as tf\n",
    "from tensorflow import feature_column\n",
    "from tensorflow.keras import layers\n",
    "from sklearn.model_selection import train_test_split"
   ]
  },
  {
   "cell_type": "code",
   "execution_count": 2,
   "id": "elementary-enterprise",
   "metadata": {
    "execution": {
     "iopub.execute_input": "2021-07-08T19:08:02.151223Z",
     "iopub.status.busy": "2021-07-08T19:08:02.150559Z",
     "iopub.status.idle": "2021-07-08T19:08:02.152649Z",
     "shell.execute_reply": "2021-07-08T19:08:02.153141Z",
     "shell.execute_reply.started": "2021-06-07T09:07:21.47416Z"
    },
    "papermill": {
     "duration": 0.082935,
     "end_time": "2021-07-08T19:08:02.153318",
     "exception": false,
     "start_time": "2021-07-08T19:08:02.070383",
     "status": "completed"
    },
    "tags": []
   },
   "outputs": [],
   "source": [
    "#!pip install rpy2"
   ]
  },
  {
   "cell_type": "markdown",
   "id": "focused-ottawa",
   "metadata": {
    "papermill": {
     "duration": 0.075994,
     "end_time": "2021-07-08T19:08:02.305012",
     "exception": false,
     "start_time": "2021-07-08T19:08:02.229018",
     "status": "completed"
    },
    "tags": []
   },
   "source": [
    "## **IMPORTING DATA**"
   ]
  },
  {
   "cell_type": "code",
   "execution_count": 3,
   "id": "bulgarian-assurance",
   "metadata": {
    "execution": {
     "iopub.execute_input": "2021-07-08T19:08:02.460191Z",
     "iopub.status.busy": "2021-07-08T19:08:02.459533Z",
     "iopub.status.idle": "2021-07-08T19:08:02.540610Z",
     "shell.execute_reply": "2021-07-08T19:08:02.541107Z",
     "shell.execute_reply.started": "2021-07-08T18:57:18.961351Z"
    },
    "papermill": {
     "duration": 0.160413,
     "end_time": "2021-07-08T19:08:02.541303",
     "exception": false,
     "start_time": "2021-07-08T19:08:02.380890",
     "status": "completed"
    },
    "tags": []
   },
   "outputs": [
    {
     "data": {
      "text/html": [
       "<div>\n",
       "<style scoped>\n",
       "    .dataframe tbody tr th:only-of-type {\n",
       "        vertical-align: middle;\n",
       "    }\n",
       "\n",
       "    .dataframe tbody tr th {\n",
       "        vertical-align: top;\n",
       "    }\n",
       "\n",
       "    .dataframe thead th {\n",
       "        text-align: right;\n",
       "    }\n",
       "</style>\n",
       "<table border=\"1\" class=\"dataframe\">\n",
       "  <thead>\n",
       "    <tr style=\"text-align: right;\">\n",
       "      <th></th>\n",
       "      <th>Country</th>\n",
       "      <th>Year</th>\n",
       "      <th>Status</th>\n",
       "      <th>Life expectancy</th>\n",
       "      <th>Adult Mortality</th>\n",
       "      <th>infant deaths</th>\n",
       "      <th>Alcohol</th>\n",
       "      <th>percentage expenditure</th>\n",
       "      <th>Hepatitis B</th>\n",
       "      <th>Measles</th>\n",
       "      <th>BMI</th>\n",
       "      <th>under-five deaths</th>\n",
       "      <th>Polio</th>\n",
       "      <th>Total expenditure</th>\n",
       "      <th>Diphtheria</th>\n",
       "      <th>HIV/AIDS</th>\n",
       "      <th>GDP</th>\n",
       "      <th>Population</th>\n",
       "      <th>thinness  1-19 years</th>\n",
       "      <th>thinness 5-9 years</th>\n",
       "      <th>Income composition of resources</th>\n",
       "      <th>Schooling</th>\n",
       "    </tr>\n",
       "  </thead>\n",
       "  <tbody>\n",
       "    <tr>\n",
       "      <th>0</th>\n",
       "      <td>Afghanistan</td>\n",
       "      <td>2015</td>\n",
       "      <td>Developing</td>\n",
       "      <td>65.0</td>\n",
       "      <td>263.0</td>\n",
       "      <td>62</td>\n",
       "      <td>0.01</td>\n",
       "      <td>71.279624</td>\n",
       "      <td>65.0</td>\n",
       "      <td>1154</td>\n",
       "      <td>19.1</td>\n",
       "      <td>83</td>\n",
       "      <td>6.0</td>\n",
       "      <td>8.16</td>\n",
       "      <td>65.0</td>\n",
       "      <td>0.1</td>\n",
       "      <td>584.259210</td>\n",
       "      <td>33736494.0</td>\n",
       "      <td>17.2</td>\n",
       "      <td>17.3</td>\n",
       "      <td>0.479</td>\n",
       "      <td>10.1</td>\n",
       "    </tr>\n",
       "    <tr>\n",
       "      <th>1</th>\n",
       "      <td>Afghanistan</td>\n",
       "      <td>2014</td>\n",
       "      <td>Developing</td>\n",
       "      <td>59.9</td>\n",
       "      <td>271.0</td>\n",
       "      <td>64</td>\n",
       "      <td>0.01</td>\n",
       "      <td>73.523582</td>\n",
       "      <td>62.0</td>\n",
       "      <td>492</td>\n",
       "      <td>18.6</td>\n",
       "      <td>86</td>\n",
       "      <td>58.0</td>\n",
       "      <td>8.18</td>\n",
       "      <td>62.0</td>\n",
       "      <td>0.1</td>\n",
       "      <td>612.696514</td>\n",
       "      <td>327582.0</td>\n",
       "      <td>17.5</td>\n",
       "      <td>17.5</td>\n",
       "      <td>0.476</td>\n",
       "      <td>10.0</td>\n",
       "    </tr>\n",
       "    <tr>\n",
       "      <th>2</th>\n",
       "      <td>Afghanistan</td>\n",
       "      <td>2013</td>\n",
       "      <td>Developing</td>\n",
       "      <td>59.9</td>\n",
       "      <td>268.0</td>\n",
       "      <td>66</td>\n",
       "      <td>0.01</td>\n",
       "      <td>73.219243</td>\n",
       "      <td>64.0</td>\n",
       "      <td>430</td>\n",
       "      <td>18.1</td>\n",
       "      <td>89</td>\n",
       "      <td>62.0</td>\n",
       "      <td>8.13</td>\n",
       "      <td>64.0</td>\n",
       "      <td>0.1</td>\n",
       "      <td>631.744976</td>\n",
       "      <td>31731688.0</td>\n",
       "      <td>17.7</td>\n",
       "      <td>17.7</td>\n",
       "      <td>0.470</td>\n",
       "      <td>9.9</td>\n",
       "    </tr>\n",
       "    <tr>\n",
       "      <th>3</th>\n",
       "      <td>Afghanistan</td>\n",
       "      <td>2012</td>\n",
       "      <td>Developing</td>\n",
       "      <td>59.5</td>\n",
       "      <td>272.0</td>\n",
       "      <td>69</td>\n",
       "      <td>0.01</td>\n",
       "      <td>78.184215</td>\n",
       "      <td>67.0</td>\n",
       "      <td>2787</td>\n",
       "      <td>17.6</td>\n",
       "      <td>93</td>\n",
       "      <td>67.0</td>\n",
       "      <td>8.52</td>\n",
       "      <td>67.0</td>\n",
       "      <td>0.1</td>\n",
       "      <td>669.959000</td>\n",
       "      <td>3696958.0</td>\n",
       "      <td>17.9</td>\n",
       "      <td>18.0</td>\n",
       "      <td>0.463</td>\n",
       "      <td>9.8</td>\n",
       "    </tr>\n",
       "    <tr>\n",
       "      <th>4</th>\n",
       "      <td>Afghanistan</td>\n",
       "      <td>2011</td>\n",
       "      <td>Developing</td>\n",
       "      <td>59.2</td>\n",
       "      <td>275.0</td>\n",
       "      <td>71</td>\n",
       "      <td>0.01</td>\n",
       "      <td>7.097109</td>\n",
       "      <td>68.0</td>\n",
       "      <td>3013</td>\n",
       "      <td>17.2</td>\n",
       "      <td>97</td>\n",
       "      <td>68.0</td>\n",
       "      <td>7.87</td>\n",
       "      <td>68.0</td>\n",
       "      <td>0.1</td>\n",
       "      <td>63.537231</td>\n",
       "      <td>2978599.0</td>\n",
       "      <td>18.2</td>\n",
       "      <td>18.2</td>\n",
       "      <td>0.454</td>\n",
       "      <td>9.5</td>\n",
       "    </tr>\n",
       "  </tbody>\n",
       "</table>\n",
       "</div>"
      ],
      "text/plain": [
       "       Country  Year      Status  Life expectancy   Adult Mortality  \\\n",
       "0  Afghanistan  2015  Developing              65.0            263.0   \n",
       "1  Afghanistan  2014  Developing              59.9            271.0   \n",
       "2  Afghanistan  2013  Developing              59.9            268.0   \n",
       "3  Afghanistan  2012  Developing              59.5            272.0   \n",
       "4  Afghanistan  2011  Developing              59.2            275.0   \n",
       "\n",
       "   infant deaths  Alcohol  percentage expenditure  Hepatitis B  Measles   \\\n",
       "0             62     0.01               71.279624         65.0      1154   \n",
       "1             64     0.01               73.523582         62.0       492   \n",
       "2             66     0.01               73.219243         64.0       430   \n",
       "3             69     0.01               78.184215         67.0      2787   \n",
       "4             71     0.01                7.097109         68.0      3013   \n",
       "\n",
       "    BMI   under-five deaths   Polio  Total expenditure  Diphtheria   \\\n",
       "0   19.1                  83    6.0               8.16         65.0   \n",
       "1   18.6                  86   58.0               8.18         62.0   \n",
       "2   18.1                  89   62.0               8.13         64.0   \n",
       "3   17.6                  93   67.0               8.52         67.0   \n",
       "4   17.2                  97   68.0               7.87         68.0   \n",
       "\n",
       "    HIV/AIDS         GDP  Population   thinness  1-19 years  \\\n",
       "0        0.1  584.259210  33736494.0                   17.2   \n",
       "1        0.1  612.696514    327582.0                   17.5   \n",
       "2        0.1  631.744976  31731688.0                   17.7   \n",
       "3        0.1  669.959000   3696958.0                   17.9   \n",
       "4        0.1   63.537231   2978599.0                   18.2   \n",
       "\n",
       "    thinness 5-9 years  Income composition of resources  Schooling  \n",
       "0                 17.3                            0.479       10.1  \n",
       "1                 17.5                            0.476       10.0  \n",
       "2                 17.7                            0.470        9.9  \n",
       "3                 18.0                            0.463        9.8  \n",
       "4                 18.2                            0.454        9.5  "
      ]
     },
     "execution_count": 3,
     "metadata": {},
     "output_type": "execute_result"
    }
   ],
   "source": [
    "pd.set_option('display.max_columns', None)\n",
    "data = pd.read_csv('/kaggle/input/life-expectancy-who/Life Expectancy Data.csv')\n",
    "data.head()"
   ]
  },
  {
   "cell_type": "code",
   "execution_count": 4,
   "id": "armed-tolerance",
   "metadata": {
    "execution": {
     "iopub.execute_input": "2021-07-08T19:08:02.696981Z",
     "iopub.status.busy": "2021-07-08T19:08:02.696348Z",
     "iopub.status.idle": "2021-07-08T19:08:02.704415Z",
     "shell.execute_reply": "2021-07-08T19:08:02.703399Z",
     "shell.execute_reply.started": "2021-07-08T18:57:21.380430Z"
    },
    "papermill": {
     "duration": 0.08723,
     "end_time": "2021-07-08T19:08:02.704672",
     "exception": false,
     "start_time": "2021-07-08T19:08:02.617442",
     "status": "completed"
    },
    "tags": []
   },
   "outputs": [
    {
     "name": "stdout",
     "output_type": "stream",
     "text": [
      "the size of the dataset (2938, 22)\n",
      "the columns of the dataset  ['Country', 'Year', 'Status', 'Life expectancy ', 'Adult Mortality', 'infant deaths', 'Alcohol', 'percentage expenditure', 'Hepatitis B', 'Measles ', ' BMI ', 'under-five deaths ', 'Polio', 'Total expenditure', 'Diphtheria ', ' HIV/AIDS', 'GDP', 'Population', ' thinness  1-19 years', ' thinness 5-9 years', 'Income composition of resources', 'Schooling']\n"
     ]
    }
   ],
   "source": [
    "print('the size of the dataset', data.shape)\n",
    "print('the columns of the dataset ', list(data.columns))"
   ]
  },
  {
   "cell_type": "code",
   "execution_count": 5,
   "id": "planned-gibson",
   "metadata": {
    "execution": {
     "iopub.execute_input": "2021-07-08T19:08:02.864053Z",
     "iopub.status.busy": "2021-07-08T19:08:02.863060Z",
     "iopub.status.idle": "2021-07-08T19:08:02.869605Z",
     "shell.execute_reply": "2021-07-08T19:08:02.870167Z",
     "shell.execute_reply.started": "2021-07-08T18:57:22.528109Z"
    },
    "papermill": {
     "duration": 0.087513,
     "end_time": "2021-07-08T19:08:02.870349",
     "exception": false,
     "start_time": "2021-07-08T19:08:02.782836",
     "status": "completed"
    },
    "tags": []
   },
   "outputs": [],
   "source": [
    "data.rename(columns={\" BMI \":\"BMI\",\"Life expectancy \":\"Life_Expectancy\",\"Adult Mortality\":\"Adult_Mortality\",\n",
    "                   \"infant deaths\":\"Infant_Deaths\",\"percentage expenditure\":\"Percentage_Exp\",\"Hepatitis B\":\"HepatitisB\",\n",
    "                  \"Measles \":\"Measles\",\" BMI \":\"BMI\",\"under-five deaths \":\"Under_Five_Deaths\",\"Diphtheria \":\"Diphtheria\",\n",
    "                  \" HIV/AIDS\":\"HIV/AIDS\",\" thinness  1-19 years\":\"thinness_1to19_years\",\" thinness 5-9 years\":\"thinness_5to9_years\",\"Income composition of resources\":\"Income_Comp_Of_Resources\",\n",
    "                   \"Total expenditure\":\"Tot_Exp\"},inplace=True)"
   ]
  },
  {
   "cell_type": "code",
   "execution_count": 6,
   "id": "decimal-austria",
   "metadata": {
    "execution": {
     "iopub.execute_input": "2021-07-08T19:08:03.029669Z",
     "iopub.status.busy": "2021-07-08T19:08:03.028630Z",
     "iopub.status.idle": "2021-07-08T19:08:03.037308Z",
     "shell.execute_reply": "2021-07-08T19:08:03.036749Z",
     "shell.execute_reply.started": "2021-07-08T18:57:24.535156Z"
    },
    "papermill": {
     "duration": 0.090098,
     "end_time": "2021-07-08T19:08:03.037461",
     "exception": false,
     "start_time": "2021-07-08T19:08:02.947363",
     "status": "completed"
    },
    "tags": []
   },
   "outputs": [
    {
     "name": "stdout",
     "output_type": "stream",
     "text": [
      "Number of Countries 193\n"
     ]
    }
   ],
   "source": [
    "print('Number of Countries', len(data['Country'].unique()))"
   ]
  },
  {
   "cell_type": "code",
   "execution_count": 7,
   "id": "active-directory",
   "metadata": {
    "execution": {
     "iopub.execute_input": "2021-07-08T19:08:03.209151Z",
     "iopub.status.busy": "2021-07-08T19:08:03.198633Z",
     "iopub.status.idle": "2021-07-08T19:08:03.216841Z",
     "shell.execute_reply": "2021-07-08T19:08:03.215759Z",
     "shell.execute_reply.started": "2021-07-08T18:57:26.114833Z"
    },
    "papermill": {
     "duration": 0.102448,
     "end_time": "2021-07-08T19:08:03.217071",
     "exception": false,
     "start_time": "2021-07-08T19:08:03.114623",
     "status": "completed"
    },
    "tags": []
   },
   "outputs": [
    {
     "name": "stdout",
     "output_type": "stream",
     "text": [
      "<class 'pandas.core.frame.DataFrame'>\n",
      "RangeIndex: 2938 entries, 0 to 2937\n",
      "Data columns (total 22 columns):\n",
      " #   Column                    Non-Null Count  Dtype  \n",
      "---  ------                    --------------  -----  \n",
      " 0   Country                   2938 non-null   object \n",
      " 1   Year                      2938 non-null   int64  \n",
      " 2   Status                    2938 non-null   object \n",
      " 3   Life_Expectancy           2928 non-null   float64\n",
      " 4   Adult_Mortality           2928 non-null   float64\n",
      " 5   Infant_Deaths             2938 non-null   int64  \n",
      " 6   Alcohol                   2744 non-null   float64\n",
      " 7   Percentage_Exp            2938 non-null   float64\n",
      " 8   HepatitisB                2385 non-null   float64\n",
      " 9   Measles                   2938 non-null   int64  \n",
      " 10  BMI                       2904 non-null   float64\n",
      " 11  Under_Five_Deaths         2938 non-null   int64  \n",
      " 12  Polio                     2919 non-null   float64\n",
      " 13  Tot_Exp                   2712 non-null   float64\n",
      " 14  Diphtheria                2919 non-null   float64\n",
      " 15  HIV/AIDS                  2938 non-null   float64\n",
      " 16  GDP                       2490 non-null   float64\n",
      " 17  Population                2286 non-null   float64\n",
      " 18  thinness_1to19_years      2904 non-null   float64\n",
      " 19  thinness_5to9_years       2904 non-null   float64\n",
      " 20  Income_Comp_Of_Resources  2771 non-null   float64\n",
      " 21  Schooling                 2775 non-null   float64\n",
      "dtypes: float64(16), int64(4), object(2)\n",
      "memory usage: 505.1+ KB\n"
     ]
    }
   ],
   "source": [
    "data.info()"
   ]
  },
  {
   "cell_type": "code",
   "execution_count": 8,
   "id": "inner-image",
   "metadata": {
    "execution": {
     "iopub.execute_input": "2021-07-08T19:08:03.377289Z",
     "iopub.status.busy": "2021-07-08T19:08:03.376648Z",
     "iopub.status.idle": "2021-07-08T19:08:03.382958Z",
     "shell.execute_reply": "2021-07-08T19:08:03.383514Z",
     "shell.execute_reply.started": "2021-07-08T18:57:28.682589Z"
    },
    "papermill": {
     "duration": 0.087739,
     "end_time": "2021-07-08T19:08:03.383691",
     "exception": false,
     "start_time": "2021-07-08T19:08:03.295952",
     "status": "completed"
    },
    "tags": []
   },
   "outputs": [
    {
     "data": {
      "text/plain": [
       "array(['Afghanistan', 'Albania', 'Algeria', 'Angola',\n",
       "       'Antigua and Barbuda', 'Argentina', 'Armenia', 'Australia',\n",
       "       'Austria', 'Azerbaijan', 'Bahamas', 'Bahrain', 'Bangladesh',\n",
       "       'Barbados', 'Belarus', 'Belgium', 'Belize', 'Benin', 'Bhutan',\n",
       "       'Bolivia (Plurinational State of)', 'Bosnia and Herzegovina',\n",
       "       'Botswana', 'Brazil', 'Brunei Darussalam', 'Bulgaria',\n",
       "       'Burkina Faso', 'Burundi', \"Côte d'Ivoire\", 'Cabo Verde',\n",
       "       'Cambodia', 'Cameroon', 'Canada', 'Central African Republic',\n",
       "       'Chad', 'Chile', 'China', 'Colombia', 'Comoros', 'Congo',\n",
       "       'Cook Islands', 'Costa Rica', 'Croatia', 'Cuba', 'Cyprus',\n",
       "       'Czechia', \"Democratic People's Republic of Korea\",\n",
       "       'Democratic Republic of the Congo', 'Denmark', 'Djibouti',\n",
       "       'Dominica', 'Dominican Republic', 'Ecuador', 'Egypt',\n",
       "       'El Salvador', 'Equatorial Guinea', 'Eritrea', 'Estonia',\n",
       "       'Ethiopia', 'Fiji', 'Finland', 'France', 'Gabon', 'Gambia',\n",
       "       'Georgia', 'Germany', 'Ghana', 'Greece', 'Grenada', 'Guatemala',\n",
       "       'Guinea', 'Guinea-Bissau', 'Guyana', 'Haiti', 'Honduras',\n",
       "       'Hungary', 'Iceland', 'India', 'Indonesia',\n",
       "       'Iran (Islamic Republic of)', 'Iraq', 'Ireland', 'Israel', 'Italy',\n",
       "       'Jamaica', 'Japan', 'Jordan', 'Kazakhstan', 'Kenya', 'Kiribati',\n",
       "       'Kuwait', 'Kyrgyzstan', \"Lao People's Democratic Republic\",\n",
       "       'Latvia', 'Lebanon', 'Lesotho', 'Liberia', 'Libya', 'Lithuania',\n",
       "       'Luxembourg', 'Madagascar', 'Malawi', 'Malaysia', 'Maldives',\n",
       "       'Mali', 'Malta', 'Marshall Islands', 'Mauritania', 'Mauritius',\n",
       "       'Mexico', 'Micronesia (Federated States of)', 'Monaco', 'Mongolia',\n",
       "       'Montenegro', 'Morocco', 'Mozambique', 'Myanmar', 'Namibia',\n",
       "       'Nauru', 'Nepal', 'Netherlands', 'New Zealand', 'Nicaragua',\n",
       "       'Niger', 'Nigeria', 'Niue', 'Norway', 'Oman', 'Pakistan', 'Palau',\n",
       "       'Panama', 'Papua New Guinea', 'Paraguay', 'Peru', 'Philippines',\n",
       "       'Poland', 'Portugal', 'Qatar', 'Republic of Korea',\n",
       "       'Republic of Moldova', 'Romania', 'Russian Federation', 'Rwanda',\n",
       "       'Saint Kitts and Nevis', 'Saint Lucia',\n",
       "       'Saint Vincent and the Grenadines', 'Samoa', 'San Marino',\n",
       "       'Sao Tome and Principe', 'Saudi Arabia', 'Senegal', 'Serbia',\n",
       "       'Seychelles', 'Sierra Leone', 'Singapore', 'Slovakia', 'Slovenia',\n",
       "       'Solomon Islands', 'Somalia', 'South Africa', 'South Sudan',\n",
       "       'Spain', 'Sri Lanka', 'Sudan', 'Suriname', 'Swaziland', 'Sweden',\n",
       "       'Switzerland', 'Syrian Arab Republic', 'Tajikistan', 'Thailand',\n",
       "       'The former Yugoslav republic of Macedonia', 'Timor-Leste', 'Togo',\n",
       "       'Tonga', 'Trinidad and Tobago', 'Tunisia', 'Turkey',\n",
       "       'Turkmenistan', 'Tuvalu', 'Uganda', 'Ukraine',\n",
       "       'United Arab Emirates',\n",
       "       'United Kingdom of Great Britain and Northern Ireland',\n",
       "       'United Republic of Tanzania', 'United States of America',\n",
       "       'Uruguay', 'Uzbekistan', 'Vanuatu',\n",
       "       'Venezuela (Bolivarian Republic of)', 'Viet Nam', 'Yemen',\n",
       "       'Zambia', 'Zimbabwe'], dtype=object)"
      ]
     },
     "execution_count": 8,
     "metadata": {},
     "output_type": "execute_result"
    }
   ],
   "source": [
    "data.Country.unique()"
   ]
  },
  {
   "cell_type": "code",
   "execution_count": 9,
   "id": "expressed-syndicate",
   "metadata": {
    "execution": {
     "iopub.execute_input": "2021-07-08T19:08:03.543926Z",
     "iopub.status.busy": "2021-07-08T19:08:03.543238Z",
     "iopub.status.idle": "2021-07-08T19:08:03.550870Z",
     "shell.execute_reply": "2021-07-08T19:08:03.551396Z",
     "shell.execute_reply.started": "2021-07-08T18:57:32.501767Z"
    },
    "papermill": {
     "duration": 0.089745,
     "end_time": "2021-07-08T19:08:03.551590",
     "exception": false,
     "start_time": "2021-07-08T19:08:03.461845",
     "status": "completed"
    },
    "tags": []
   },
   "outputs": [
    {
     "data": {
      "text/plain": [
       "Status\n",
       "Developed      512\n",
       "Developing    2426\n",
       "Name: Status, dtype: int64"
      ]
     },
     "execution_count": 9,
     "metadata": {},
     "output_type": "execute_result"
    }
   ],
   "source": [
    "#Count of developing and developed countries\n",
    "data.groupby('Status')[\"Status\"].count()"
   ]
  },
  {
   "cell_type": "code",
   "execution_count": 10,
   "id": "honest-upgrade",
   "metadata": {
    "execution": {
     "iopub.execute_input": "2021-07-08T19:08:03.715257Z",
     "iopub.status.busy": "2021-07-08T19:08:03.714555Z",
     "iopub.status.idle": "2021-07-08T19:08:04.856496Z",
     "shell.execute_reply": "2021-07-08T19:08:04.855920Z",
     "shell.execute_reply.started": "2021-07-08T18:57:33.750319Z"
    },
    "papermill": {
     "duration": 1.225513,
     "end_time": "2021-07-08T19:08:04.856655",
     "exception": false,
     "start_time": "2021-07-08T19:08:03.631142",
     "status": "completed"
    },
    "tags": []
   },
   "outputs": [
    {
     "data": {
      "text/html": [
       "<div>\n",
       "<style scoped>\n",
       "    .dataframe tbody tr th:only-of-type {\n",
       "        vertical-align: middle;\n",
       "    }\n",
       "\n",
       "    .dataframe tbody tr th {\n",
       "        vertical-align: top;\n",
       "    }\n",
       "\n",
       "    .dataframe thead tr th {\n",
       "        text-align: left;\n",
       "    }\n",
       "\n",
       "    .dataframe thead tr:last-of-type th {\n",
       "        text-align: right;\n",
       "    }\n",
       "</style>\n",
       "<table border=\"1\" class=\"dataframe\">\n",
       "  <thead>\n",
       "    <tr>\n",
       "      <th></th>\n",
       "      <th colspan=\"8\" halign=\"left\">Life_Expectancy</th>\n",
       "      <th colspan=\"8\" halign=\"left\">Alcohol</th>\n",
       "    </tr>\n",
       "    <tr>\n",
       "      <th></th>\n",
       "      <th>count</th>\n",
       "      <th>mean</th>\n",
       "      <th>std</th>\n",
       "      <th>min</th>\n",
       "      <th>25%</th>\n",
       "      <th>50%</th>\n",
       "      <th>75%</th>\n",
       "      <th>max</th>\n",
       "      <th>count</th>\n",
       "      <th>mean</th>\n",
       "      <th>std</th>\n",
       "      <th>min</th>\n",
       "      <th>25%</th>\n",
       "      <th>50%</th>\n",
       "      <th>75%</th>\n",
       "      <th>max</th>\n",
       "    </tr>\n",
       "    <tr>\n",
       "      <th>Country</th>\n",
       "      <th></th>\n",
       "      <th></th>\n",
       "      <th></th>\n",
       "      <th></th>\n",
       "      <th></th>\n",
       "      <th></th>\n",
       "      <th></th>\n",
       "      <th></th>\n",
       "      <th></th>\n",
       "      <th></th>\n",
       "      <th></th>\n",
       "      <th></th>\n",
       "      <th></th>\n",
       "      <th></th>\n",
       "      <th></th>\n",
       "      <th></th>\n",
       "    </tr>\n",
       "  </thead>\n",
       "  <tbody>\n",
       "    <tr>\n",
       "      <th>Morocco</th>\n",
       "      <td>16.0</td>\n",
       "      <td>72.15625</td>\n",
       "      <td>2.243797</td>\n",
       "      <td>68.6</td>\n",
       "      <td>70.725</td>\n",
       "      <td>72.15</td>\n",
       "      <td>73.675</td>\n",
       "      <td>77.0</td>\n",
       "      <td>15.0</td>\n",
       "      <td>0.518667</td>\n",
       "      <td>0.060340</td>\n",
       "      <td>0.43</td>\n",
       "      <td>0.46</td>\n",
       "      <td>0.54</td>\n",
       "      <td>0.560</td>\n",
       "      <td>0.62</td>\n",
       "    </tr>\n",
       "    <tr>\n",
       "      <th>Germany</th>\n",
       "      <td>16.0</td>\n",
       "      <td>81.17500</td>\n",
       "      <td>3.379053</td>\n",
       "      <td>78.0</td>\n",
       "      <td>78.950</td>\n",
       "      <td>79.85</td>\n",
       "      <td>82.000</td>\n",
       "      <td>89.0</td>\n",
       "      <td>15.0</td>\n",
       "      <td>11.628667</td>\n",
       "      <td>0.568241</td>\n",
       "      <td>10.94</td>\n",
       "      <td>11.20</td>\n",
       "      <td>11.50</td>\n",
       "      <td>11.875</td>\n",
       "      <td>12.91</td>\n",
       "    </tr>\n",
       "    <tr>\n",
       "      <th>France</th>\n",
       "      <td>16.0</td>\n",
       "      <td>82.21875</td>\n",
       "      <td>3.166958</td>\n",
       "      <td>78.8</td>\n",
       "      <td>80.575</td>\n",
       "      <td>81.60</td>\n",
       "      <td>82.250</td>\n",
       "      <td>89.0</td>\n",
       "      <td>15.0</td>\n",
       "      <td>12.404667</td>\n",
       "      <td>0.936695</td>\n",
       "      <td>11.10</td>\n",
       "      <td>11.75</td>\n",
       "      <td>12.20</td>\n",
       "      <td>13.335</td>\n",
       "      <td>13.89</td>\n",
       "    </tr>\n",
       "    <tr>\n",
       "      <th>Spain</th>\n",
       "      <td>16.0</td>\n",
       "      <td>82.06875</td>\n",
       "      <td>2.792065</td>\n",
       "      <td>79.1</td>\n",
       "      <td>80.625</td>\n",
       "      <td>81.75</td>\n",
       "      <td>82.450</td>\n",
       "      <td>89.0</td>\n",
       "      <td>15.0</td>\n",
       "      <td>10.024000</td>\n",
       "      <td>2.974496</td>\n",
       "      <td>0.01</td>\n",
       "      <td>9.70</td>\n",
       "      <td>10.24</td>\n",
       "      <td>11.890</td>\n",
       "      <td>12.26</td>\n",
       "    </tr>\n",
       "  </tbody>\n",
       "</table>\n",
       "</div>"
      ],
      "text/plain": [
       "        Life_Expectancy                                                   \\\n",
       "                  count      mean       std   min     25%    50%     75%   \n",
       "Country                                                                    \n",
       "Morocco            16.0  72.15625  2.243797  68.6  70.725  72.15  73.675   \n",
       "Germany            16.0  81.17500  3.379053  78.0  78.950  79.85  82.000   \n",
       "France             16.0  82.21875  3.166958  78.8  80.575  81.60  82.250   \n",
       "Spain              16.0  82.06875  2.792065  79.1  80.625  81.75  82.450   \n",
       "\n",
       "              Alcohol                                                           \n",
       "          max   count       mean       std    min    25%    50%     75%    max  \n",
       "Country                                                                         \n",
       "Morocco  77.0    15.0   0.518667  0.060340   0.43   0.46   0.54   0.560   0.62  \n",
       "Germany  89.0    15.0  11.628667  0.568241  10.94  11.20  11.50  11.875  12.91  \n",
       "France   89.0    15.0  12.404667  0.936695  11.10  11.75  12.20  13.335  13.89  \n",
       "Spain    89.0    15.0  10.024000  2.974496   0.01   9.70  10.24  11.890  12.26  "
      ]
     },
     "execution_count": 10,
     "metadata": {},
     "output_type": "execute_result"
    }
   ],
   "source": [
    "data.loc[:, [\"Life_Expectancy\", \"Alcohol\"]].groupby(data['Country']).describe().loc[['Morocco','Germany','France','Spain'],:]"
   ]
  },
  {
   "cell_type": "markdown",
   "id": "annoying-canada",
   "metadata": {
    "papermill": {
     "duration": 0.078999,
     "end_time": "2021-07-08T19:08:05.016113",
     "exception": false,
     "start_time": "2021-07-08T19:08:04.937114",
     "status": "completed"
    },
    "tags": []
   },
   "source": [
    "## **DATA VISUALIZATION**"
   ]
  },
  {
   "cell_type": "code",
   "execution_count": 11,
   "id": "academic-musical",
   "metadata": {
    "execution": {
     "iopub.execute_input": "2021-07-08T19:08:05.178443Z",
     "iopub.status.busy": "2021-07-08T19:08:05.177731Z",
     "iopub.status.idle": "2021-07-08T19:08:05.390399Z",
     "shell.execute_reply": "2021-07-08T19:08:05.389717Z",
     "shell.execute_reply.started": "2021-07-08T18:58:19.145796Z"
    },
    "papermill": {
     "duration": 0.295491,
     "end_time": "2021-07-08T19:08:05.390548",
     "exception": false,
     "start_time": "2021-07-08T19:08:05.095057",
     "status": "completed"
    },
    "tags": []
   },
   "outputs": [
    {
     "data": {
      "text/plain": [
       "<AxesSubplot:>"
      ]
     },
     "execution_count": 11,
     "metadata": {},
     "output_type": "execute_result"
    },
    {
     "data": {
      "image/png": "[encoded data removed]",
      "text/plain": [
       "<Figure size 432x288 with 1 Axes>"
      ]
     },
     "metadata": {
      "needs_background": "light"
     },
     "output_type": "display_data"
    }
   ],
   "source": [
    "#Distribution of the response variable\n",
    "data['Life_Expectancy'].hist()"
   ]
  },
  {
   "cell_type": "code",
   "execution_count": 12,
   "id": "senior-armor",
   "metadata": {
    "execution": {
     "iopub.execute_input": "2021-07-08T19:08:05.583278Z",
     "iopub.status.busy": "2021-07-08T19:08:05.557806Z",
     "iopub.status.idle": "2021-07-08T19:08:05.690689Z",
     "shell.execute_reply": "2021-07-08T19:08:05.690117Z",
     "shell.execute_reply.started": "2021-07-08T18:58:21.093734Z"
    },
    "papermill": {
     "duration": 0.220128,
     "end_time": "2021-07-08T19:08:05.690833",
     "exception": false,
     "start_time": "2021-07-08T19:08:05.470705",
     "status": "completed"
    },
    "tags": []
   },
   "outputs": [
    {
     "data": {
      "image/png": "[encoded data removed]",
      "text/plain": [
       "<Figure size 432x432 with 1 Axes>"
      ]
     },
     "metadata": {
      "needs_background": "light"
     },
     "output_type": "display_data"
    }
   ],
   "source": [
    "plt.figure(figsize=(6,6))\n",
    "plt.bar(data.groupby('Status')['Status'].count().index, data.groupby('Status')['Life_Expectancy'].mean())\n",
    "plt.xlabel(\"Status\",fontsize=12)\n",
    "plt.ylabel(\"Avg Life_Expectancy\",fontsize=12)\n",
    "plt.title(\"Life_Expectancy w.r.t Status\")\n",
    "plt.show()"
   ]
  },
  {
   "cell_type": "code",
   "execution_count": 13,
   "id": "loose-wallpaper",
   "metadata": {
    "execution": {
     "iopub.execute_input": "2021-07-08T19:08:05.880231Z",
     "iopub.status.busy": "2021-07-08T19:08:05.865890Z",
     "iopub.status.idle": "2021-07-08T19:08:06.058353Z",
     "shell.execute_reply": "2021-07-08T19:08:06.057729Z",
     "shell.execute_reply.started": "2021-07-08T18:58:23.046145Z"
    },
    "papermill": {
     "duration": 0.28727,
     "end_time": "2021-07-08T19:08:06.058518",
     "exception": false,
     "start_time": "2021-07-08T19:08:05.771248",
     "status": "completed"
    },
    "tags": []
   },
   "outputs": [
    {
     "data": {
      "text/plain": [
       "<AxesSubplot:title={'center':'Life_Expectancy'}, xlabel='Country'>"
      ]
     },
     "execution_count": 13,
     "metadata": {},
     "output_type": "execute_result"
    },
    {
     "data": {
      "image/png": "[encoded data removed]",
      "text/plain": [
       "<Figure size 432x288 with 1 Axes>"
      ]
     },
     "metadata": {
      "needs_background": "light"
     },
     "output_type": "display_data"
    }
   ],
   "source": [
    "data[data.Country.isin(['Morocco','Germany','Spain','France'])].boxplot(by='Country', \n",
    "                       column=['Life_Expectancy'], \n",
    "                       grid=False)"
   ]
  },
  {
   "cell_type": "code",
   "execution_count": 14,
   "id": "funded-sessions",
   "metadata": {
    "execution": {
     "iopub.execute_input": "2021-07-08T19:08:06.230842Z",
     "iopub.status.busy": "2021-07-08T19:08:06.229812Z",
     "iopub.status.idle": "2021-07-08T19:08:06.380455Z",
     "shell.execute_reply": "2021-07-08T19:08:06.380995Z",
     "shell.execute_reply.started": "2021-07-08T18:58:25.530605Z"
    },
    "papermill": {
     "duration": 0.239589,
     "end_time": "2021-07-08T19:08:06.381215",
     "exception": false,
     "start_time": "2021-07-08T19:08:06.141626",
     "status": "completed"
    },
    "tags": []
   },
   "outputs": [
    {
     "data": {
      "text/plain": [
       "<AxesSubplot:ylabel='Country'>"
      ]
     },
     "execution_count": 14,
     "metadata": {},
     "output_type": "execute_result"
    },
    {
     "data": {
      "image/png": "[encoded data removed]",
      "text/plain": [
       "<Figure size 432x288 with 1 Axes>"
      ]
     },
     "metadata": {
      "needs_background": "light"
     },
     "output_type": "display_data"
    }
   ],
   "source": [
    "fig = plt.figure()\n",
    "ax1 = fig.add_subplot(211)\n",
    "data[data.Country.isin(['Morocco','Germany','Spain','France'])].groupby('Country')['Life_Expectancy'].mean().sort_values().plot(kind='barh', ax=ax1)"
   ]
  },
  {
   "cell_type": "code",
   "execution_count": 15,
   "id": "floppy-headquarters",
   "metadata": {
    "execution": {
     "iopub.execute_input": "2021-07-08T19:08:06.575841Z",
     "iopub.status.busy": "2021-07-08T19:08:06.574780Z",
     "iopub.status.idle": "2021-07-08T19:08:06.962510Z",
     "shell.execute_reply": "2021-07-08T19:08:06.962982Z",
     "shell.execute_reply.started": "2021-07-08T18:58:27.358759Z"
    },
    "papermill": {
     "duration": 0.488798,
     "end_time": "2021-07-08T19:08:06.963191",
     "exception": false,
     "start_time": "2021-07-08T19:08:06.474393",
     "status": "completed"
    },
    "tags": []
   },
   "outputs": [
    {
     "data": {
      "image/png": "[encoded data removed]",
      "text/plain": [
       "<Figure size 504x360 with 1 Axes>"
      ]
     },
     "metadata": {
      "needs_background": "light"
     },
     "output_type": "display_data"
    }
   ],
   "source": [
    "# Life_Expectancy w.r.t Year using bar plot.\n",
    "plt.figure(figsize=(7,5))\n",
    "plt.bar(data.groupby('Year')['Year'].count().index, data.groupby('Year')['Life_Expectancy'].mean(),color='red',alpha=0.65)\n",
    "plt.xlabel(\"Year\",fontsize=12)\n",
    "plt.ylabel(\"Avg Life_Expectancy\",fontsize=12)\n",
    "plt.title(\"Life_Expectancy w.r.t Year\")\n",
    "plt.show()"
   ]
  },
  {
   "cell_type": "code",
   "execution_count": 16,
   "id": "endangered-fleet",
   "metadata": {
    "execution": {
     "iopub.execute_input": "2021-07-08T19:08:07.137644Z",
     "iopub.status.busy": "2021-07-08T19:08:07.136676Z",
     "iopub.status.idle": "2021-07-08T19:08:09.176099Z",
     "shell.execute_reply": "2021-07-08T19:08:09.176594Z",
     "shell.execute_reply.started": "2021-07-08T18:58:29.781836Z"
    },
    "papermill": {
     "duration": 2.128796,
     "end_time": "2021-07-08T19:08:09.176773",
     "exception": false,
     "start_time": "2021-07-08T19:08:07.047977",
     "status": "completed"
    },
    "tags": []
   },
   "outputs": [
    {
     "data": {
      "image/png": "[encoded data removed]",
      "text/plain": [
       "<Figure size 1080x1080 with 2 Axes>"
      ]
     },
     "metadata": {
      "needs_background": "light"
     },
     "output_type": "display_data"
    }
   ],
   "source": [
    "# Using heatmap to observe correlations.\n",
    "cormat = data.corr()\n",
    "plt.figure(figsize=(15,15))\n",
    "sns.heatmap(cormat, square=True, annot=True, linewidths=.5)\n",
    "plt.title(\"Correlation matrix among variables\")\n",
    "plt.show()"
   ]
  },
  {
   "cell_type": "markdown",
   "id": "limiting-powell",
   "metadata": {
    "papermill": {
     "duration": 0.090751,
     "end_time": "2021-07-08T19:08:09.358040",
     "exception": false,
     "start_time": "2021-07-08T19:08:09.267289",
     "status": "completed"
    },
    "tags": []
   },
   "source": [
    "# **Observation**\n",
    "* **LifeExpectancy has a negative correlation with adult mortality** \n",
    "* **LifeExpectancy has strong correlatios with Schooling and Income composition of resources** \n",
    "* **Strong correlation between thinness_1to19_years and thinness_5to9_years** \n",
    "* **There is a non-negligible correlation between LifeExpectancy and BMI and body deseases** "
   ]
  },
  {
   "cell_type": "code",
   "execution_count": 17,
   "id": "mexican-recipe",
   "metadata": {
    "execution": {
     "iopub.execute_input": "2021-07-08T19:08:09.542693Z",
     "iopub.status.busy": "2021-07-08T19:08:09.541692Z",
     "iopub.status.idle": "2021-07-08T19:08:09.708582Z",
     "shell.execute_reply": "2021-07-08T19:08:09.709072Z",
     "shell.execute_reply.started": "2021-07-08T18:58:42.893554Z"
    },
    "papermill": {
     "duration": 0.260574,
     "end_time": "2021-07-08T19:08:09.709272",
     "exception": false,
     "start_time": "2021-07-08T19:08:09.448698",
     "status": "completed"
    },
    "tags": []
   },
   "outputs": [
    {
     "data": {
      "image/png": "[encoded data removed]",
      "text/plain": [
       "<Figure size 432x288 with 1 Axes>"
      ]
     },
     "metadata": {
      "needs_background": "light"
     },
     "output_type": "display_data"
    }
   ],
   "source": [
    "plt.scatter(data[\"thinness_5to9_years\"], data[\"thinness_1to19_years\"])\n",
    "plt.title(\"thinness_1to19_years vs thinness_5to9_years\")\n",
    "plt.show()"
   ]
  },
  {
   "cell_type": "code",
   "execution_count": 18,
   "id": "julian-bradley",
   "metadata": {
    "execution": {
     "iopub.execute_input": "2021-07-08T19:08:09.896228Z",
     "iopub.status.busy": "2021-07-08T19:08:09.895189Z",
     "iopub.status.idle": "2021-07-08T19:08:09.900892Z",
     "shell.execute_reply": "2021-07-08T19:08:09.901406Z",
     "shell.execute_reply.started": "2021-07-08T18:58:44.699411Z"
    },
    "papermill": {
     "duration": 0.100482,
     "end_time": "2021-07-08T19:08:09.901591",
     "exception": false,
     "start_time": "2021-07-08T19:08:09.801109",
     "status": "completed"
    },
    "tags": []
   },
   "outputs": [],
   "source": [
    "#Strong correlation between \"thinness_1to19_years\" and \"thinness_5to9_years\"\n",
    "data = data.drop(['thinness_5to9_years'], axis=1)"
   ]
  },
  {
   "cell_type": "markdown",
   "id": "positive-people",
   "metadata": {
    "execution": {
     "iopub.execute_input": "2021-05-26T09:41:11.699096Z",
     "iopub.status.busy": "2021-05-26T09:41:11.698721Z",
     "iopub.status.idle": "2021-05-26T09:41:11.703364Z",
     "shell.execute_reply": "2021-05-26T09:41:11.702227Z",
     "shell.execute_reply.started": "2021-05-26T09:41:11.699061Z"
    },
    "papermill": {
     "duration": 0.090997,
     "end_time": "2021-07-08T19:08:10.083665",
     "exception": false,
     "start_time": "2021-07-08T19:08:09.992668",
     "status": "completed"
    },
    "tags": []
   },
   "source": [
    "## **DEALING WITH MISSING DATA**"
   ]
  },
  {
   "cell_type": "code",
   "execution_count": 19,
   "id": "egyptian-eligibility",
   "metadata": {
    "execution": {
     "iopub.execute_input": "2021-07-08T19:08:10.268066Z",
     "iopub.status.busy": "2021-07-08T19:08:10.267111Z",
     "iopub.status.idle": "2021-07-08T19:08:10.277043Z",
     "shell.execute_reply": "2021-07-08T19:08:10.276429Z",
     "shell.execute_reply.started": "2021-07-08T18:58:59.823972Z"
    },
    "papermill": {
     "duration": 0.103248,
     "end_time": "2021-07-08T19:08:10.277198",
     "exception": false,
     "start_time": "2021-07-08T19:08:10.173950",
     "status": "completed"
    },
    "tags": []
   },
   "outputs": [
    {
     "data": {
      "text/plain": [
       "Country                       0\n",
       "Year                          0\n",
       "Status                        0\n",
       "Life_Expectancy              10\n",
       "Adult_Mortality              10\n",
       "Infant_Deaths                 0\n",
       "Alcohol                     194\n",
       "Percentage_Exp                0\n",
       "HepatitisB                  553\n",
       "Measles                       0\n",
       "BMI                          34\n",
       "Under_Five_Deaths             0\n",
       "Polio                        19\n",
       "Tot_Exp                     226\n",
       "Diphtheria                   19\n",
       "HIV/AIDS                      0\n",
       "GDP                         448\n",
       "Population                  652\n",
       "thinness_1to19_years         34\n",
       "Income_Comp_Of_Resources    167\n",
       "Schooling                   163\n",
       "dtype: int64"
      ]
     },
     "execution_count": 19,
     "metadata": {},
     "output_type": "execute_result"
    }
   ],
   "source": [
    "data.isnull().sum()"
   ]
  },
  {
   "cell_type": "code",
   "execution_count": 20,
   "id": "cleared-wagon",
   "metadata": {
    "execution": {
     "iopub.execute_input": "2021-07-08T19:08:10.465877Z",
     "iopub.status.busy": "2021-07-08T19:08:10.465013Z",
     "iopub.status.idle": "2021-07-08T19:08:10.490908Z",
     "shell.execute_reply": "2021-07-08T19:08:10.490381Z",
     "shell.execute_reply.started": "2021-07-08T18:59:05.433598Z"
    },
    "papermill": {
     "duration": 0.122647,
     "end_time": "2021-07-08T19:08:10.491058",
     "exception": false,
     "start_time": "2021-07-08T19:08:10.368411",
     "status": "completed"
    },
    "tags": []
   },
   "outputs": [
    {
     "data": {
      "text/plain": [
       "Country                      0.000000\n",
       "Year                         0.000000\n",
       "Status                       0.000000\n",
       "Life_Expectancy              0.340368\n",
       "Adult_Mortality              0.340368\n",
       "Infant_Deaths                0.000000\n",
       "Alcohol                      6.603131\n",
       "Percentage_Exp               0.000000\n",
       "HepatitisB                  18.822328\n",
       "Measles                      0.000000\n",
       "BMI                          1.157250\n",
       "Under_Five_Deaths            0.000000\n",
       "Polio                        0.646698\n",
       "Tot_Exp                      7.692308\n",
       "Diphtheria                   0.646698\n",
       "HIV/AIDS                     0.000000\n",
       "GDP                         15.248468\n",
       "Population                  22.191967\n",
       "thinness_1to19_years         1.157250\n",
       "Income_Comp_Of_Resources     5.684139\n",
       "Schooling                    5.547992\n",
       "dtype: float64"
      ]
     },
     "execution_count": 20,
     "metadata": {},
     "output_type": "execute_result"
    }
   ],
   "source": [
    "# percentage of null values in each column.\n",
    "data.isnull().sum()*100/data.isnull().count()"
   ]
  },
  {
   "cell_type": "code",
   "execution_count": 21,
   "id": "modular-couple",
   "metadata": {
    "execution": {
     "iopub.execute_input": "2021-07-08T19:08:10.680488Z",
     "iopub.status.busy": "2021-07-08T19:08:10.679538Z",
     "iopub.status.idle": "2021-07-08T19:08:10.682530Z",
     "shell.execute_reply": "2021-07-08T19:08:10.682981Z",
     "shell.execute_reply.started": "2021-07-08T18:59:07.796352Z"
    },
    "papermill": {
     "duration": 0.100726,
     "end_time": "2021-07-08T19:08:10.683166",
     "exception": false,
     "start_time": "2021-07-08T19:08:10.582440",
     "status": "completed"
    },
    "tags": []
   },
   "outputs": [],
   "source": [
    "country_list = data.Country.unique()\n",
    "fill_list = ['Life_Expectancy','Adult_Mortality','Alcohol','HepatitisB',\n",
    "             'BMI','Polio','Tot_Exp','Diphtheria','GDP','Population','thinness_1to19_years','Income_Comp_Of_Resources','Schooling']"
   ]
  },
  {
   "cell_type": "code",
   "execution_count": 22,
   "id": "demanding-paint",
   "metadata": {
    "execution": {
     "iopub.execute_input": "2021-07-08T19:08:10.919221Z",
     "iopub.status.busy": "2021-07-08T19:08:10.882636Z",
     "iopub.status.idle": "2021-07-08T19:08:12.689528Z",
     "shell.execute_reply": "2021-07-08T19:08:12.688933Z",
     "shell.execute_reply.started": "2021-07-08T18:59:09.437095Z"
    },
    "papermill": {
     "duration": 1.915707,
     "end_time": "2021-07-08T19:08:12.689672",
     "exception": false,
     "start_time": "2021-07-08T19:08:10.773965",
     "status": "completed"
    },
    "tags": []
   },
   "outputs": [],
   "source": [
    "# Treat null values using interpolation.\n",
    "for country in country_list:\n",
    "    data.loc[data['Country'] == country,fill_list] = data.loc[data['Country'] == country,fill_list].interpolate()"
   ]
  },
  {
   "cell_type": "code",
   "execution_count": 23,
   "id": "spiritual-campbell",
   "metadata": {
    "execution": {
     "iopub.execute_input": "2021-07-08T19:08:12.880210Z",
     "iopub.status.busy": "2021-07-08T19:08:12.879169Z",
     "iopub.status.idle": "2021-07-08T19:08:12.883251Z",
     "shell.execute_reply": "2021-07-08T19:08:12.882738Z",
     "shell.execute_reply.started": "2021-07-08T19:00:11.753771Z"
    },
    "papermill": {
     "duration": 0.10284,
     "end_time": "2021-07-08T19:08:12.883394",
     "exception": false,
     "start_time": "2021-07-08T19:08:12.780554",
     "status": "completed"
    },
    "tags": []
   },
   "outputs": [],
   "source": [
    "#Droping rows with null target variable\n",
    "data[np.isnan(data['Life_Expectancy'])]\n",
    "data = data.drop(data.index[[624, 769, 1650,1715,1812,1909,1958,2167,2216,2713]])"
   ]
  },
  {
   "cell_type": "code",
   "execution_count": 24,
   "id": "exceptional-sunrise",
   "metadata": {
    "execution": {
     "iopub.execute_input": "2021-07-08T19:08:13.074255Z",
     "iopub.status.busy": "2021-07-08T19:08:13.073573Z",
     "iopub.status.idle": "2021-07-08T19:08:13.076877Z",
     "shell.execute_reply": "2021-07-08T19:08:13.076376Z",
     "shell.execute_reply.started": "2021-07-08T19:00:24.025546Z"
    },
    "papermill": {
     "duration": 0.102474,
     "end_time": "2021-07-08T19:08:13.077015",
     "exception": false,
     "start_time": "2021-07-08T19:08:12.974541",
     "status": "completed"
    },
    "tags": []
   },
   "outputs": [],
   "source": [
    "def impute_col(row, col): #MCAR\n",
    "    mean_col = pd.DataFrame({'mean_col':pd.Series(np.round(data.groupby('Country')[col].mean(), 2))})\n",
    "    if np.isnan(row[col]):\n",
    "        cnt = row['Country']\n",
    "        row[col] = mean_col.loc[cnt][0]\n",
    "    return row"
   ]
  },
  {
   "cell_type": "code",
   "execution_count": 25,
   "id": "becoming-norway",
   "metadata": {
    "execution": {
     "iopub.execute_input": "2021-07-08T19:08:13.296532Z",
     "iopub.status.busy": "2021-07-08T19:08:13.278887Z",
     "iopub.status.idle": "2021-07-08T19:08:13.311404Z",
     "shell.execute_reply": "2021-07-08T19:08:13.311907Z",
     "shell.execute_reply.started": "2021-07-08T19:00:21.975863Z"
    },
    "papermill": {
     "duration": 0.14133,
     "end_time": "2021-07-08T19:08:13.312072",
     "exception": false,
     "start_time": "2021-07-08T19:08:13.170742",
     "status": "completed"
    },
    "tags": []
   },
   "outputs": [
    {
     "data": {
      "text/html": [
       "<div>\n",
       "<style scoped>\n",
       "    .dataframe tbody tr th:only-of-type {\n",
       "        vertical-align: middle;\n",
       "    }\n",
       "\n",
       "    .dataframe tbody tr th {\n",
       "        vertical-align: top;\n",
       "    }\n",
       "\n",
       "    .dataframe thead th {\n",
       "        text-align: right;\n",
       "    }\n",
       "</style>\n",
       "<table border=\"1\" class=\"dataframe\">\n",
       "  <thead>\n",
       "    <tr style=\"text-align: right;\">\n",
       "      <th></th>\n",
       "      <th>Country</th>\n",
       "      <th>Year</th>\n",
       "      <th>Status</th>\n",
       "      <th>Life_Expectancy</th>\n",
       "      <th>Adult_Mortality</th>\n",
       "      <th>Infant_Deaths</th>\n",
       "      <th>Alcohol</th>\n",
       "      <th>Percentage_Exp</th>\n",
       "      <th>HepatitisB</th>\n",
       "      <th>Measles</th>\n",
       "      <th>BMI</th>\n",
       "      <th>Under_Five_Deaths</th>\n",
       "      <th>Polio</th>\n",
       "      <th>Tot_Exp</th>\n",
       "      <th>Diphtheria</th>\n",
       "      <th>HIV/AIDS</th>\n",
       "      <th>GDP</th>\n",
       "      <th>Population</th>\n",
       "      <th>thinness_1to19_years</th>\n",
       "      <th>Income_Comp_Of_Resources</th>\n",
       "      <th>Schooling</th>\n",
       "    </tr>\n",
       "  </thead>\n",
       "  <tbody>\n",
       "    <tr>\n",
       "      <th>32</th>\n",
       "      <td>Algeria</td>\n",
       "      <td>2015</td>\n",
       "      <td>Developing</td>\n",
       "      <td>75.6</td>\n",
       "      <td>19.0</td>\n",
       "      <td>21</td>\n",
       "      <td>NaN</td>\n",
       "      <td>0.0</td>\n",
       "      <td>95.0</td>\n",
       "      <td>63</td>\n",
       "      <td>59.5</td>\n",
       "      <td>24</td>\n",
       "      <td>95.0</td>\n",
       "      <td>NaN</td>\n",
       "      <td>95.0</td>\n",
       "      <td>0.1</td>\n",
       "      <td>4132.762920</td>\n",
       "      <td>39871528.0</td>\n",
       "      <td>6.0</td>\n",
       "      <td>0.743</td>\n",
       "      <td>14.4</td>\n",
       "    </tr>\n",
       "    <tr>\n",
       "      <th>48</th>\n",
       "      <td>Angola</td>\n",
       "      <td>2015</td>\n",
       "      <td>Developing</td>\n",
       "      <td>52.4</td>\n",
       "      <td>335.0</td>\n",
       "      <td>66</td>\n",
       "      <td>NaN</td>\n",
       "      <td>0.0</td>\n",
       "      <td>64.0</td>\n",
       "      <td>118</td>\n",
       "      <td>23.3</td>\n",
       "      <td>98</td>\n",
       "      <td>7.0</td>\n",
       "      <td>NaN</td>\n",
       "      <td>64.0</td>\n",
       "      <td>1.9</td>\n",
       "      <td>3695.793748</td>\n",
       "      <td>2785935.0</td>\n",
       "      <td>8.3</td>\n",
       "      <td>0.531</td>\n",
       "      <td>11.4</td>\n",
       "    </tr>\n",
       "    <tr>\n",
       "      <th>64</th>\n",
       "      <td>Antigua and Barbuda</td>\n",
       "      <td>2015</td>\n",
       "      <td>Developing</td>\n",
       "      <td>76.4</td>\n",
       "      <td>13.0</td>\n",
       "      <td>0</td>\n",
       "      <td>NaN</td>\n",
       "      <td>0.0</td>\n",
       "      <td>99.0</td>\n",
       "      <td>0</td>\n",
       "      <td>47.7</td>\n",
       "      <td>0</td>\n",
       "      <td>86.0</td>\n",
       "      <td>NaN</td>\n",
       "      <td>99.0</td>\n",
       "      <td>0.2</td>\n",
       "      <td>13566.954100</td>\n",
       "      <td>NaN</td>\n",
       "      <td>3.3</td>\n",
       "      <td>0.784</td>\n",
       "      <td>13.9</td>\n",
       "    </tr>\n",
       "    <tr>\n",
       "      <th>80</th>\n",
       "      <td>Argentina</td>\n",
       "      <td>2015</td>\n",
       "      <td>Developing</td>\n",
       "      <td>76.3</td>\n",
       "      <td>116.0</td>\n",
       "      <td>8</td>\n",
       "      <td>NaN</td>\n",
       "      <td>0.0</td>\n",
       "      <td>94.0</td>\n",
       "      <td>0</td>\n",
       "      <td>62.8</td>\n",
       "      <td>9</td>\n",
       "      <td>93.0</td>\n",
       "      <td>NaN</td>\n",
       "      <td>94.0</td>\n",
       "      <td>0.1</td>\n",
       "      <td>13467.123600</td>\n",
       "      <td>43417765.0</td>\n",
       "      <td>1.0</td>\n",
       "      <td>0.826</td>\n",
       "      <td>17.3</td>\n",
       "    </tr>\n",
       "    <tr>\n",
       "      <th>96</th>\n",
       "      <td>Armenia</td>\n",
       "      <td>2015</td>\n",
       "      <td>Developing</td>\n",
       "      <td>74.8</td>\n",
       "      <td>118.0</td>\n",
       "      <td>1</td>\n",
       "      <td>NaN</td>\n",
       "      <td>0.0</td>\n",
       "      <td>94.0</td>\n",
       "      <td>33</td>\n",
       "      <td>54.9</td>\n",
       "      <td>1</td>\n",
       "      <td>96.0</td>\n",
       "      <td>NaN</td>\n",
       "      <td>94.0</td>\n",
       "      <td>0.1</td>\n",
       "      <td>369.654776</td>\n",
       "      <td>291695.0</td>\n",
       "      <td>2.1</td>\n",
       "      <td>0.741</td>\n",
       "      <td>12.7</td>\n",
       "    </tr>\n",
       "    <tr>\n",
       "      <th>...</th>\n",
       "      <td>...</td>\n",
       "      <td>...</td>\n",
       "      <td>...</td>\n",
       "      <td>...</td>\n",
       "      <td>...</td>\n",
       "      <td>...</td>\n",
       "      <td>...</td>\n",
       "      <td>...</td>\n",
       "      <td>...</td>\n",
       "      <td>...</td>\n",
       "      <td>...</td>\n",
       "      <td>...</td>\n",
       "      <td>...</td>\n",
       "      <td>...</td>\n",
       "      <td>...</td>\n",
       "      <td>...</td>\n",
       "      <td>...</td>\n",
       "      <td>...</td>\n",
       "      <td>...</td>\n",
       "      <td>...</td>\n",
       "      <td>...</td>\n",
       "    </tr>\n",
       "    <tr>\n",
       "      <th>2858</th>\n",
       "      <td>Venezuela (Bolivarian Republic of)</td>\n",
       "      <td>2015</td>\n",
       "      <td>Developing</td>\n",
       "      <td>74.1</td>\n",
       "      <td>157.0</td>\n",
       "      <td>9</td>\n",
       "      <td>NaN</td>\n",
       "      <td>0.0</td>\n",
       "      <td>87.0</td>\n",
       "      <td>0</td>\n",
       "      <td>62.1</td>\n",
       "      <td>10</td>\n",
       "      <td>87.0</td>\n",
       "      <td>NaN</td>\n",
       "      <td>87.0</td>\n",
       "      <td>0.1</td>\n",
       "      <td>NaN</td>\n",
       "      <td>NaN</td>\n",
       "      <td>1.6</td>\n",
       "      <td>0.769</td>\n",
       "      <td>14.3</td>\n",
       "    </tr>\n",
       "    <tr>\n",
       "      <th>2874</th>\n",
       "      <td>Viet Nam</td>\n",
       "      <td>2015</td>\n",
       "      <td>Developing</td>\n",
       "      <td>76.0</td>\n",
       "      <td>127.0</td>\n",
       "      <td>28</td>\n",
       "      <td>NaN</td>\n",
       "      <td>0.0</td>\n",
       "      <td>97.0</td>\n",
       "      <td>256</td>\n",
       "      <td>17.5</td>\n",
       "      <td>35</td>\n",
       "      <td>97.0</td>\n",
       "      <td>NaN</td>\n",
       "      <td>97.0</td>\n",
       "      <td>0.1</td>\n",
       "      <td>NaN</td>\n",
       "      <td>NaN</td>\n",
       "      <td>14.2</td>\n",
       "      <td>0.678</td>\n",
       "      <td>12.6</td>\n",
       "    </tr>\n",
       "    <tr>\n",
       "      <th>2890</th>\n",
       "      <td>Yemen</td>\n",
       "      <td>2015</td>\n",
       "      <td>Developing</td>\n",
       "      <td>65.7</td>\n",
       "      <td>224.0</td>\n",
       "      <td>37</td>\n",
       "      <td>NaN</td>\n",
       "      <td>0.0</td>\n",
       "      <td>69.0</td>\n",
       "      <td>468</td>\n",
       "      <td>41.3</td>\n",
       "      <td>47</td>\n",
       "      <td>63.0</td>\n",
       "      <td>NaN</td>\n",
       "      <td>69.0</td>\n",
       "      <td>0.1</td>\n",
       "      <td>NaN</td>\n",
       "      <td>NaN</td>\n",
       "      <td>13.6</td>\n",
       "      <td>0.499</td>\n",
       "      <td>9.0</td>\n",
       "    </tr>\n",
       "    <tr>\n",
       "      <th>2906</th>\n",
       "      <td>Zambia</td>\n",
       "      <td>2015</td>\n",
       "      <td>Developing</td>\n",
       "      <td>61.8</td>\n",
       "      <td>33.0</td>\n",
       "      <td>27</td>\n",
       "      <td>NaN</td>\n",
       "      <td>0.0</td>\n",
       "      <td>9.0</td>\n",
       "      <td>9</td>\n",
       "      <td>23.4</td>\n",
       "      <td>40</td>\n",
       "      <td>9.0</td>\n",
       "      <td>NaN</td>\n",
       "      <td>9.0</td>\n",
       "      <td>4.1</td>\n",
       "      <td>1313.889646</td>\n",
       "      <td>161587.0</td>\n",
       "      <td>6.3</td>\n",
       "      <td>0.576</td>\n",
       "      <td>12.5</td>\n",
       "    </tr>\n",
       "    <tr>\n",
       "      <th>2922</th>\n",
       "      <td>Zimbabwe</td>\n",
       "      <td>2015</td>\n",
       "      <td>Developing</td>\n",
       "      <td>67.0</td>\n",
       "      <td>336.0</td>\n",
       "      <td>22</td>\n",
       "      <td>NaN</td>\n",
       "      <td>0.0</td>\n",
       "      <td>87.0</td>\n",
       "      <td>0</td>\n",
       "      <td>31.8</td>\n",
       "      <td>32</td>\n",
       "      <td>88.0</td>\n",
       "      <td>NaN</td>\n",
       "      <td>87.0</td>\n",
       "      <td>6.2</td>\n",
       "      <td>118.693830</td>\n",
       "      <td>15777451.0</td>\n",
       "      <td>5.6</td>\n",
       "      <td>0.507</td>\n",
       "      <td>10.3</td>\n",
       "    </tr>\n",
       "  </tbody>\n",
       "</table>\n",
       "<p>192 rows × 21 columns</p>\n",
       "</div>"
      ],
      "text/plain": [
       "                                 Country  Year      Status  Life_Expectancy  \\\n",
       "32                               Algeria  2015  Developing             75.6   \n",
       "48                                Angola  2015  Developing             52.4   \n",
       "64                   Antigua and Barbuda  2015  Developing             76.4   \n",
       "80                             Argentina  2015  Developing             76.3   \n",
       "96                               Armenia  2015  Developing             74.8   \n",
       "...                                  ...   ...         ...              ...   \n",
       "2858  Venezuela (Bolivarian Republic of)  2015  Developing             74.1   \n",
       "2874                            Viet Nam  2015  Developing             76.0   \n",
       "2890                               Yemen  2015  Developing             65.7   \n",
       "2906                              Zambia  2015  Developing             61.8   \n",
       "2922                            Zimbabwe  2015  Developing             67.0   \n",
       "\n",
       "      Adult_Mortality  Infant_Deaths  Alcohol  Percentage_Exp  HepatitisB  \\\n",
       "32               19.0             21      NaN             0.0        95.0   \n",
       "48              335.0             66      NaN             0.0        64.0   \n",
       "64               13.0              0      NaN             0.0        99.0   \n",
       "80              116.0              8      NaN             0.0        94.0   \n",
       "96              118.0              1      NaN             0.0        94.0   \n",
       "...               ...            ...      ...             ...         ...   \n",
       "2858            157.0              9      NaN             0.0        87.0   \n",
       "2874            127.0             28      NaN             0.0        97.0   \n",
       "2890            224.0             37      NaN             0.0        69.0   \n",
       "2906             33.0             27      NaN             0.0         9.0   \n",
       "2922            336.0             22      NaN             0.0        87.0   \n",
       "\n",
       "      Measles   BMI  Under_Five_Deaths  Polio  Tot_Exp  Diphtheria  HIV/AIDS  \\\n",
       "32         63  59.5                 24   95.0      NaN        95.0       0.1   \n",
       "48        118  23.3                 98    7.0      NaN        64.0       1.9   \n",
       "64          0  47.7                  0   86.0      NaN        99.0       0.2   \n",
       "80          0  62.8                  9   93.0      NaN        94.0       0.1   \n",
       "96         33  54.9                  1   96.0      NaN        94.0       0.1   \n",
       "...       ...   ...                ...    ...      ...         ...       ...   \n",
       "2858        0  62.1                 10   87.0      NaN        87.0       0.1   \n",
       "2874      256  17.5                 35   97.0      NaN        97.0       0.1   \n",
       "2890      468  41.3                 47   63.0      NaN        69.0       0.1   \n",
       "2906        9  23.4                 40    9.0      NaN         9.0       4.1   \n",
       "2922        0  31.8                 32   88.0      NaN        87.0       6.2   \n",
       "\n",
       "               GDP  Population  thinness_1to19_years  \\\n",
       "32     4132.762920  39871528.0                   6.0   \n",
       "48     3695.793748   2785935.0                   8.3   \n",
       "64    13566.954100         NaN                   3.3   \n",
       "80    13467.123600  43417765.0                   1.0   \n",
       "96      369.654776    291695.0                   2.1   \n",
       "...            ...         ...                   ...   \n",
       "2858           NaN         NaN                   1.6   \n",
       "2874           NaN         NaN                  14.2   \n",
       "2890           NaN         NaN                  13.6   \n",
       "2906   1313.889646    161587.0                   6.3   \n",
       "2922    118.693830  15777451.0                   5.6   \n",
       "\n",
       "      Income_Comp_Of_Resources  Schooling  \n",
       "32                       0.743       14.4  \n",
       "48                       0.531       11.4  \n",
       "64                       0.784       13.9  \n",
       "80                       0.826       17.3  \n",
       "96                       0.741       12.7  \n",
       "...                        ...        ...  \n",
       "2858                     0.769       14.3  \n",
       "2874                     0.678       12.6  \n",
       "2890                     0.499        9.0  \n",
       "2906                     0.576       12.5  \n",
       "2922                     0.507       10.3  \n",
       "\n",
       "[192 rows x 21 columns]"
      ]
     },
     "execution_count": 25,
     "metadata": {},
     "output_type": "execute_result"
    }
   ],
   "source": [
    "# Alcohol null values\n",
    "data[np.isnan(data.Alcohol)]"
   ]
  },
  {
   "cell_type": "code",
   "execution_count": 26,
   "id": "informative-minneapolis",
   "metadata": {
    "execution": {
     "iopub.execute_input": "2021-07-08T19:08:13.505311Z",
     "iopub.status.busy": "2021-07-08T19:08:13.504653Z",
     "iopub.status.idle": "2021-07-08T19:08:18.375675Z",
     "shell.execute_reply": "2021-07-08T19:08:18.375059Z",
     "shell.execute_reply.started": "2021-07-08T19:01:16.872378Z"
    },
    "papermill": {
     "duration": 4.970109,
     "end_time": "2021-07-08T19:08:18.375820",
     "exception": false,
     "start_time": "2021-07-08T19:08:13.405711",
     "status": "completed"
    },
    "tags": []
   },
   "outputs": [],
   "source": [
    "data = data.apply(impute_col, args=('Alcohol',) , axis=1)\n",
    "data = data[data.Country != 'South Sudan']"
   ]
  },
  {
   "cell_type": "code",
   "execution_count": 27,
   "id": "mexican-gravity",
   "metadata": {
    "execution": {
     "iopub.execute_input": "2021-07-08T19:08:18.593070Z",
     "iopub.status.busy": "2021-07-08T19:08:18.580030Z",
     "iopub.status.idle": "2021-07-08T19:08:18.613751Z",
     "shell.execute_reply": "2021-07-08T19:08:18.613218Z",
     "shell.execute_reply.started": "2021-07-08T19:01:21.612044Z"
    },
    "papermill": {
     "duration": 0.144821,
     "end_time": "2021-07-08T19:08:18.613901",
     "exception": false,
     "start_time": "2021-07-08T19:08:18.469080",
     "status": "completed"
    },
    "tags": []
   },
   "outputs": [
    {
     "data": {
      "text/html": [
       "<div>\n",
       "<style scoped>\n",
       "    .dataframe tbody tr th:only-of-type {\n",
       "        vertical-align: middle;\n",
       "    }\n",
       "\n",
       "    .dataframe tbody tr th {\n",
       "        vertical-align: top;\n",
       "    }\n",
       "\n",
       "    .dataframe thead th {\n",
       "        text-align: right;\n",
       "    }\n",
       "</style>\n",
       "<table border=\"1\" class=\"dataframe\">\n",
       "  <thead>\n",
       "    <tr style=\"text-align: right;\">\n",
       "      <th></th>\n",
       "      <th>Country</th>\n",
       "      <th>Year</th>\n",
       "      <th>Status</th>\n",
       "      <th>Life_Expectancy</th>\n",
       "      <th>Adult_Mortality</th>\n",
       "      <th>Infant_Deaths</th>\n",
       "      <th>Alcohol</th>\n",
       "      <th>Percentage_Exp</th>\n",
       "      <th>HepatitisB</th>\n",
       "      <th>Measles</th>\n",
       "      <th>BMI</th>\n",
       "      <th>Under_Five_Deaths</th>\n",
       "      <th>Polio</th>\n",
       "      <th>Tot_Exp</th>\n",
       "      <th>Diphtheria</th>\n",
       "      <th>HIV/AIDS</th>\n",
       "      <th>GDP</th>\n",
       "      <th>Population</th>\n",
       "      <th>thinness_1to19_years</th>\n",
       "      <th>Income_Comp_Of_Resources</th>\n",
       "      <th>Schooling</th>\n",
       "    </tr>\n",
       "  </thead>\n",
       "  <tbody>\n",
       "    <tr>\n",
       "      <th>737</th>\n",
       "      <td>Denmark</td>\n",
       "      <td>2015</td>\n",
       "      <td>Developed</td>\n",
       "      <td>86.0</td>\n",
       "      <td>71.0</td>\n",
       "      <td>0</td>\n",
       "      <td>10.71</td>\n",
       "      <td>0.000000</td>\n",
       "      <td>NaN</td>\n",
       "      <td>9</td>\n",
       "      <td>58.8</td>\n",
       "      <td>0</td>\n",
       "      <td>93.0</td>\n",
       "      <td>NaN</td>\n",
       "      <td>93.0</td>\n",
       "      <td>0.1</td>\n",
       "      <td>5314.64416</td>\n",
       "      <td>5683483.0</td>\n",
       "      <td>1.1</td>\n",
       "      <td>0.923</td>\n",
       "      <td>19.2</td>\n",
       "    </tr>\n",
       "    <tr>\n",
       "      <th>738</th>\n",
       "      <td>Denmark</td>\n",
       "      <td>2014</td>\n",
       "      <td>Developed</td>\n",
       "      <td>84.0</td>\n",
       "      <td>73.0</td>\n",
       "      <td>0</td>\n",
       "      <td>9.64</td>\n",
       "      <td>10468.762920</td>\n",
       "      <td>NaN</td>\n",
       "      <td>27</td>\n",
       "      <td>58.4</td>\n",
       "      <td>0</td>\n",
       "      <td>94.0</td>\n",
       "      <td>1.80</td>\n",
       "      <td>94.0</td>\n",
       "      <td>0.1</td>\n",
       "      <td>62425.53920</td>\n",
       "      <td>5643475.0</td>\n",
       "      <td>1.1</td>\n",
       "      <td>0.926</td>\n",
       "      <td>19.2</td>\n",
       "    </tr>\n",
       "    <tr>\n",
       "      <th>739</th>\n",
       "      <td>Denmark</td>\n",
       "      <td>2013</td>\n",
       "      <td>Developed</td>\n",
       "      <td>81.0</td>\n",
       "      <td>75.0</td>\n",
       "      <td>0</td>\n",
       "      <td>9.50</td>\n",
       "      <td>10261.763000</td>\n",
       "      <td>NaN</td>\n",
       "      <td>17</td>\n",
       "      <td>58.1</td>\n",
       "      <td>0</td>\n",
       "      <td>94.0</td>\n",
       "      <td>11.25</td>\n",
       "      <td>94.0</td>\n",
       "      <td>0.1</td>\n",
       "      <td>61191.19263</td>\n",
       "      <td>5614932.0</td>\n",
       "      <td>1.1</td>\n",
       "      <td>0.924</td>\n",
       "      <td>18.7</td>\n",
       "    </tr>\n",
       "    <tr>\n",
       "      <th>740</th>\n",
       "      <td>Denmark</td>\n",
       "      <td>2012</td>\n",
       "      <td>Developed</td>\n",
       "      <td>80.0</td>\n",
       "      <td>76.0</td>\n",
       "      <td>0</td>\n",
       "      <td>9.26</td>\n",
       "      <td>928.417079</td>\n",
       "      <td>NaN</td>\n",
       "      <td>2</td>\n",
       "      <td>57.7</td>\n",
       "      <td>0</td>\n",
       "      <td>94.0</td>\n",
       "      <td>1.98</td>\n",
       "      <td>94.0</td>\n",
       "      <td>0.1</td>\n",
       "      <td>5857.52100</td>\n",
       "      <td>5591572.0</td>\n",
       "      <td>1.1</td>\n",
       "      <td>0.922</td>\n",
       "      <td>18.4</td>\n",
       "    </tr>\n",
       "    <tr>\n",
       "      <th>741</th>\n",
       "      <td>Denmark</td>\n",
       "      <td>2011</td>\n",
       "      <td>Developed</td>\n",
       "      <td>79.7</td>\n",
       "      <td>79.0</td>\n",
       "      <td>0</td>\n",
       "      <td>10.47</td>\n",
       "      <td>10251.108720</td>\n",
       "      <td>NaN</td>\n",
       "      <td>84</td>\n",
       "      <td>57.4</td>\n",
       "      <td>0</td>\n",
       "      <td>91.0</td>\n",
       "      <td>1.87</td>\n",
       "      <td>91.0</td>\n",
       "      <td>0.1</td>\n",
       "      <td>61753.66700</td>\n",
       "      <td>557572.0</td>\n",
       "      <td>1.1</td>\n",
       "      <td>0.910</td>\n",
       "      <td>16.9</td>\n",
       "    </tr>\n",
       "    <tr>\n",
       "      <th>...</th>\n",
       "      <td>...</td>\n",
       "      <td>...</td>\n",
       "      <td>...</td>\n",
       "      <td>...</td>\n",
       "      <td>...</td>\n",
       "      <td>...</td>\n",
       "      <td>...</td>\n",
       "      <td>...</td>\n",
       "      <td>...</td>\n",
       "      <td>...</td>\n",
       "      <td>...</td>\n",
       "      <td>...</td>\n",
       "      <td>...</td>\n",
       "      <td>...</td>\n",
       "      <td>...</td>\n",
       "      <td>...</td>\n",
       "      <td>...</td>\n",
       "      <td>...</td>\n",
       "      <td>...</td>\n",
       "      <td>...</td>\n",
       "      <td>...</td>\n",
       "    </tr>\n",
       "    <tr>\n",
       "      <th>2773</th>\n",
       "      <td>United Kingdom of Great Britain and Northern I...</td>\n",
       "      <td>2004</td>\n",
       "      <td>Developed</td>\n",
       "      <td>78.8</td>\n",
       "      <td>83.0</td>\n",
       "      <td>4</td>\n",
       "      <td>12.22</td>\n",
       "      <td>0.000000</td>\n",
       "      <td>NaN</td>\n",
       "      <td>189</td>\n",
       "      <td>6.1</td>\n",
       "      <td>4</td>\n",
       "      <td>92.0</td>\n",
       "      <td>7.98</td>\n",
       "      <td>92.0</td>\n",
       "      <td>0.1</td>\n",
       "      <td>NaN</td>\n",
       "      <td>NaN</td>\n",
       "      <td>0.7</td>\n",
       "      <td>NaN</td>\n",
       "      <td>NaN</td>\n",
       "    </tr>\n",
       "    <tr>\n",
       "      <th>2774</th>\n",
       "      <td>United Kingdom of Great Britain and Northern I...</td>\n",
       "      <td>2003</td>\n",
       "      <td>Developed</td>\n",
       "      <td>78.3</td>\n",
       "      <td>86.0</td>\n",
       "      <td>4</td>\n",
       "      <td>11.85</td>\n",
       "      <td>0.000000</td>\n",
       "      <td>NaN</td>\n",
       "      <td>460</td>\n",
       "      <td>59.5</td>\n",
       "      <td>4</td>\n",
       "      <td>91.0</td>\n",
       "      <td>7.81</td>\n",
       "      <td>91.0</td>\n",
       "      <td>0.1</td>\n",
       "      <td>NaN</td>\n",
       "      <td>NaN</td>\n",
       "      <td>0.7</td>\n",
       "      <td>NaN</td>\n",
       "      <td>NaN</td>\n",
       "    </tr>\n",
       "    <tr>\n",
       "      <th>2775</th>\n",
       "      <td>United Kingdom of Great Britain and Northern I...</td>\n",
       "      <td>2002</td>\n",
       "      <td>Developed</td>\n",
       "      <td>78.2</td>\n",
       "      <td>87.0</td>\n",
       "      <td>4</td>\n",
       "      <td>11.44</td>\n",
       "      <td>0.000000</td>\n",
       "      <td>NaN</td>\n",
       "      <td>314</td>\n",
       "      <td>58.8</td>\n",
       "      <td>4</td>\n",
       "      <td>91.0</td>\n",
       "      <td>7.57</td>\n",
       "      <td>91.0</td>\n",
       "      <td>0.1</td>\n",
       "      <td>NaN</td>\n",
       "      <td>NaN</td>\n",
       "      <td>0.7</td>\n",
       "      <td>NaN</td>\n",
       "      <td>NaN</td>\n",
       "    </tr>\n",
       "    <tr>\n",
       "      <th>2776</th>\n",
       "      <td>United Kingdom of Great Britain and Northern I...</td>\n",
       "      <td>2001</td>\n",
       "      <td>Developed</td>\n",
       "      <td>78.0</td>\n",
       "      <td>88.0</td>\n",
       "      <td>4</td>\n",
       "      <td>10.91</td>\n",
       "      <td>0.000000</td>\n",
       "      <td>NaN</td>\n",
       "      <td>73</td>\n",
       "      <td>58.2</td>\n",
       "      <td>4</td>\n",
       "      <td>91.0</td>\n",
       "      <td>7.31</td>\n",
       "      <td>91.0</td>\n",
       "      <td>0.1</td>\n",
       "      <td>NaN</td>\n",
       "      <td>NaN</td>\n",
       "      <td>0.7</td>\n",
       "      <td>NaN</td>\n",
       "      <td>NaN</td>\n",
       "    </tr>\n",
       "    <tr>\n",
       "      <th>2777</th>\n",
       "      <td>United Kingdom of Great Britain and Northern I...</td>\n",
       "      <td>2000</td>\n",
       "      <td>Developed</td>\n",
       "      <td>77.8</td>\n",
       "      <td>89.0</td>\n",
       "      <td>4</td>\n",
       "      <td>10.59</td>\n",
       "      <td>0.000000</td>\n",
       "      <td>NaN</td>\n",
       "      <td>104</td>\n",
       "      <td>57.5</td>\n",
       "      <td>5</td>\n",
       "      <td>91.0</td>\n",
       "      <td>6.94</td>\n",
       "      <td>91.0</td>\n",
       "      <td>0.1</td>\n",
       "      <td>NaN</td>\n",
       "      <td>NaN</td>\n",
       "      <td>0.7</td>\n",
       "      <td>NaN</td>\n",
       "      <td>NaN</td>\n",
       "    </tr>\n",
       "  </tbody>\n",
       "</table>\n",
       "<p>144 rows × 21 columns</p>\n",
       "</div>"
      ],
      "text/plain": [
       "                                                Country  Year     Status  \\\n",
       "737                                             Denmark  2015  Developed   \n",
       "738                                             Denmark  2014  Developed   \n",
       "739                                             Denmark  2013  Developed   \n",
       "740                                             Denmark  2012  Developed   \n",
       "741                                             Denmark  2011  Developed   \n",
       "...                                                 ...   ...        ...   \n",
       "2773  United Kingdom of Great Britain and Northern I...  2004  Developed   \n",
       "2774  United Kingdom of Great Britain and Northern I...  2003  Developed   \n",
       "2775  United Kingdom of Great Britain and Northern I...  2002  Developed   \n",
       "2776  United Kingdom of Great Britain and Northern I...  2001  Developed   \n",
       "2777  United Kingdom of Great Britain and Northern I...  2000  Developed   \n",
       "\n",
       "      Life_Expectancy  Adult_Mortality  Infant_Deaths  Alcohol  \\\n",
       "737              86.0             71.0              0    10.71   \n",
       "738              84.0             73.0              0     9.64   \n",
       "739              81.0             75.0              0     9.50   \n",
       "740              80.0             76.0              0     9.26   \n",
       "741              79.7             79.0              0    10.47   \n",
       "...               ...              ...            ...      ...   \n",
       "2773             78.8             83.0              4    12.22   \n",
       "2774             78.3             86.0              4    11.85   \n",
       "2775             78.2             87.0              4    11.44   \n",
       "2776             78.0             88.0              4    10.91   \n",
       "2777             77.8             89.0              4    10.59   \n",
       "\n",
       "      Percentage_Exp  HepatitisB  Measles   BMI  Under_Five_Deaths  Polio  \\\n",
       "737         0.000000         NaN        9  58.8                  0   93.0   \n",
       "738     10468.762920         NaN       27  58.4                  0   94.0   \n",
       "739     10261.763000         NaN       17  58.1                  0   94.0   \n",
       "740       928.417079         NaN        2  57.7                  0   94.0   \n",
       "741     10251.108720         NaN       84  57.4                  0   91.0   \n",
       "...              ...         ...      ...   ...                ...    ...   \n",
       "2773        0.000000         NaN      189   6.1                  4   92.0   \n",
       "2774        0.000000         NaN      460  59.5                  4   91.0   \n",
       "2775        0.000000         NaN      314  58.8                  4   91.0   \n",
       "2776        0.000000         NaN       73  58.2                  4   91.0   \n",
       "2777        0.000000         NaN      104  57.5                  5   91.0   \n",
       "\n",
       "      Tot_Exp  Diphtheria  HIV/AIDS          GDP  Population  \\\n",
       "737       NaN        93.0       0.1   5314.64416   5683483.0   \n",
       "738      1.80        94.0       0.1  62425.53920   5643475.0   \n",
       "739     11.25        94.0       0.1  61191.19263   5614932.0   \n",
       "740      1.98        94.0       0.1   5857.52100   5591572.0   \n",
       "741      1.87        91.0       0.1  61753.66700    557572.0   \n",
       "...       ...         ...       ...          ...         ...   \n",
       "2773     7.98        92.0       0.1          NaN         NaN   \n",
       "2774     7.81        91.0       0.1          NaN         NaN   \n",
       "2775     7.57        91.0       0.1          NaN         NaN   \n",
       "2776     7.31        91.0       0.1          NaN         NaN   \n",
       "2777     6.94        91.0       0.1          NaN         NaN   \n",
       "\n",
       "      thinness_1to19_years  Income_Comp_Of_Resources  Schooling  \n",
       "737                    1.1                     0.923       19.2  \n",
       "738                    1.1                     0.926       19.2  \n",
       "739                    1.1                     0.924       18.7  \n",
       "740                    1.1                     0.922       18.4  \n",
       "741                    1.1                     0.910       16.9  \n",
       "...                    ...                       ...        ...  \n",
       "2773                   0.7                       NaN        NaN  \n",
       "2774                   0.7                       NaN        NaN  \n",
       "2775                   0.7                       NaN        NaN  \n",
       "2776                   0.7                       NaN        NaN  \n",
       "2777                   0.7                       NaN        NaN  \n",
       "\n",
       "[144 rows x 21 columns]"
      ]
     },
     "execution_count": 27,
     "metadata": {},
     "output_type": "execute_result"
    }
   ],
   "source": [
    "# Hepatitis B null values\n",
    "data[np.isnan(data['HepatitisB'])]"
   ]
  },
  {
   "cell_type": "code",
   "execution_count": 28,
   "id": "analyzed-leeds",
   "metadata": {
    "execution": {
     "iopub.execute_input": "2021-07-08T19:08:18.808476Z",
     "iopub.status.busy": "2021-07-08T19:08:18.807620Z",
     "iopub.status.idle": "2021-07-08T19:08:18.810443Z",
     "shell.execute_reply": "2021-07-08T19:08:18.809887Z",
     "shell.execute_reply.started": "2021-07-08T19:01:29.079907Z"
    },
    "papermill": {
     "duration": 0.103105,
     "end_time": "2021-07-08T19:08:18.810588",
     "exception": false,
     "start_time": "2021-07-08T19:08:18.707483",
     "status": "completed"
    },
    "tags": []
   },
   "outputs": [],
   "source": [
    "data = data.drop(['HepatitisB'], axis=1)"
   ]
  },
  {
   "cell_type": "code",
   "execution_count": 29,
   "id": "angry-token",
   "metadata": {
    "execution": {
     "iopub.execute_input": "2021-07-08T19:08:19.029493Z",
     "iopub.status.busy": "2021-07-08T19:08:19.013125Z",
     "iopub.status.idle": "2021-07-08T19:08:19.047448Z",
     "shell.execute_reply": "2021-07-08T19:08:19.047986Z",
     "shell.execute_reply.started": "2021-07-08T19:01:34.608522Z"
    },
    "papermill": {
     "duration": 0.14229,
     "end_time": "2021-07-08T19:08:19.048185",
     "exception": false,
     "start_time": "2021-07-08T19:08:18.905895",
     "status": "completed"
    },
    "tags": []
   },
   "outputs": [
    {
     "data": {
      "text/html": [
       "<div>\n",
       "<style scoped>\n",
       "    .dataframe tbody tr th:only-of-type {\n",
       "        vertical-align: middle;\n",
       "    }\n",
       "\n",
       "    .dataframe tbody tr th {\n",
       "        vertical-align: top;\n",
       "    }\n",
       "\n",
       "    .dataframe thead th {\n",
       "        text-align: right;\n",
       "    }\n",
       "</style>\n",
       "<table border=\"1\" class=\"dataframe\">\n",
       "  <thead>\n",
       "    <tr style=\"text-align: right;\">\n",
       "      <th></th>\n",
       "      <th>Country</th>\n",
       "      <th>Year</th>\n",
       "      <th>Status</th>\n",
       "      <th>Life_Expectancy</th>\n",
       "      <th>Adult_Mortality</th>\n",
       "      <th>Infant_Deaths</th>\n",
       "      <th>Alcohol</th>\n",
       "      <th>Percentage_Exp</th>\n",
       "      <th>Measles</th>\n",
       "      <th>BMI</th>\n",
       "      <th>Under_Five_Deaths</th>\n",
       "      <th>Polio</th>\n",
       "      <th>Tot_Exp</th>\n",
       "      <th>Diphtheria</th>\n",
       "      <th>HIV/AIDS</th>\n",
       "      <th>GDP</th>\n",
       "      <th>Population</th>\n",
       "      <th>thinness_1to19_years</th>\n",
       "      <th>Income_Comp_Of_Resources</th>\n",
       "      <th>Schooling</th>\n",
       "    </tr>\n",
       "  </thead>\n",
       "  <tbody>\n",
       "    <tr>\n",
       "      <th>2457</th>\n",
       "      <td>Sudan</td>\n",
       "      <td>2015</td>\n",
       "      <td>Developing</td>\n",
       "      <td>64.1</td>\n",
       "      <td>225.0</td>\n",
       "      <td>58</td>\n",
       "      <td>1.46</td>\n",
       "      <td>0.000000</td>\n",
       "      <td>3585</td>\n",
       "      <td>NaN</td>\n",
       "      <td>85</td>\n",
       "      <td>93.0</td>\n",
       "      <td>NaN</td>\n",
       "      <td>93.0</td>\n",
       "      <td>0.3</td>\n",
       "      <td>2513.884661</td>\n",
       "      <td>3864783.0</td>\n",
       "      <td>NaN</td>\n",
       "      <td>0.488</td>\n",
       "      <td>7.2</td>\n",
       "    </tr>\n",
       "    <tr>\n",
       "      <th>2458</th>\n",
       "      <td>Sudan</td>\n",
       "      <td>2014</td>\n",
       "      <td>Developing</td>\n",
       "      <td>63.8</td>\n",
       "      <td>229.0</td>\n",
       "      <td>59</td>\n",
       "      <td>0.01</td>\n",
       "      <td>253.608651</td>\n",
       "      <td>676</td>\n",
       "      <td>NaN</td>\n",
       "      <td>86</td>\n",
       "      <td>94.0</td>\n",
       "      <td>8.43</td>\n",
       "      <td>94.0</td>\n",
       "      <td>0.3</td>\n",
       "      <td>2176.898290</td>\n",
       "      <td>37737913.0</td>\n",
       "      <td>NaN</td>\n",
       "      <td>0.485</td>\n",
       "      <td>7.2</td>\n",
       "    </tr>\n",
       "    <tr>\n",
       "      <th>2459</th>\n",
       "      <td>Sudan</td>\n",
       "      <td>2013</td>\n",
       "      <td>Developing</td>\n",
       "      <td>63.5</td>\n",
       "      <td>232.0</td>\n",
       "      <td>60</td>\n",
       "      <td>0.01</td>\n",
       "      <td>227.835321</td>\n",
       "      <td>2813</td>\n",
       "      <td>NaN</td>\n",
       "      <td>88</td>\n",
       "      <td>93.0</td>\n",
       "      <td>8.42</td>\n",
       "      <td>93.0</td>\n",
       "      <td>0.3</td>\n",
       "      <td>1955.667990</td>\n",
       "      <td>36849918.0</td>\n",
       "      <td>NaN</td>\n",
       "      <td>0.478</td>\n",
       "      <td>7.0</td>\n",
       "    </tr>\n",
       "    <tr>\n",
       "      <th>2460</th>\n",
       "      <td>Sudan</td>\n",
       "      <td>2012</td>\n",
       "      <td>Developing</td>\n",
       "      <td>63.2</td>\n",
       "      <td>235.0</td>\n",
       "      <td>61</td>\n",
       "      <td>0.01</td>\n",
       "      <td>220.522192</td>\n",
       "      <td>8523</td>\n",
       "      <td>NaN</td>\n",
       "      <td>89</td>\n",
       "      <td>92.0</td>\n",
       "      <td>8.20</td>\n",
       "      <td>92.0</td>\n",
       "      <td>0.3</td>\n",
       "      <td>1892.894352</td>\n",
       "      <td>3599192.0</td>\n",
       "      <td>NaN</td>\n",
       "      <td>0.468</td>\n",
       "      <td>6.8</td>\n",
       "    </tr>\n",
       "    <tr>\n",
       "      <th>2461</th>\n",
       "      <td>Sudan</td>\n",
       "      <td>2011</td>\n",
       "      <td>Developing</td>\n",
       "      <td>62.7</td>\n",
       "      <td>241.0</td>\n",
       "      <td>61</td>\n",
       "      <td>2.12</td>\n",
       "      <td>196.689215</td>\n",
       "      <td>5616</td>\n",
       "      <td>NaN</td>\n",
       "      <td>91</td>\n",
       "      <td>93.0</td>\n",
       "      <td>8.30</td>\n",
       "      <td>93.0</td>\n",
       "      <td>0.3</td>\n",
       "      <td>1666.857757</td>\n",
       "      <td>35167314.0</td>\n",
       "      <td>NaN</td>\n",
       "      <td>0.463</td>\n",
       "      <td>7.0</td>\n",
       "    </tr>\n",
       "    <tr>\n",
       "      <th>2462</th>\n",
       "      <td>Sudan</td>\n",
       "      <td>2010</td>\n",
       "      <td>Developing</td>\n",
       "      <td>62.5</td>\n",
       "      <td>243.0</td>\n",
       "      <td>62</td>\n",
       "      <td>1.77</td>\n",
       "      <td>172.009788</td>\n",
       "      <td>680</td>\n",
       "      <td>NaN</td>\n",
       "      <td>92</td>\n",
       "      <td>9.0</td>\n",
       "      <td>7.97</td>\n",
       "      <td>9.0</td>\n",
       "      <td>0.3</td>\n",
       "      <td>1476.478870</td>\n",
       "      <td>34385963.0</td>\n",
       "      <td>NaN</td>\n",
       "      <td>0.461</td>\n",
       "      <td>7.0</td>\n",
       "    </tr>\n",
       "    <tr>\n",
       "      <th>2463</th>\n",
       "      <td>Sudan</td>\n",
       "      <td>2009</td>\n",
       "      <td>Developing</td>\n",
       "      <td>62.0</td>\n",
       "      <td>248.0</td>\n",
       "      <td>63</td>\n",
       "      <td>1.99</td>\n",
       "      <td>17.053693</td>\n",
       "      <td>68</td>\n",
       "      <td>NaN</td>\n",
       "      <td>94</td>\n",
       "      <td>81.0</td>\n",
       "      <td>8.40</td>\n",
       "      <td>81.0</td>\n",
       "      <td>0.3</td>\n",
       "      <td>1226.884381</td>\n",
       "      <td>3365619.0</td>\n",
       "      <td>NaN</td>\n",
       "      <td>0.456</td>\n",
       "      <td>6.8</td>\n",
       "    </tr>\n",
       "    <tr>\n",
       "      <th>2464</th>\n",
       "      <td>Sudan</td>\n",
       "      <td>2008</td>\n",
       "      <td>Developing</td>\n",
       "      <td>61.8</td>\n",
       "      <td>251.0</td>\n",
       "      <td>64</td>\n",
       "      <td>2.01</td>\n",
       "      <td>128.636271</td>\n",
       "      <td>129</td>\n",
       "      <td>NaN</td>\n",
       "      <td>95</td>\n",
       "      <td>85.0</td>\n",
       "      <td>8.17</td>\n",
       "      <td>86.0</td>\n",
       "      <td>0.3</td>\n",
       "      <td>1291.528826</td>\n",
       "      <td>32955496.0</td>\n",
       "      <td>NaN</td>\n",
       "      <td>0.444</td>\n",
       "      <td>6.3</td>\n",
       "    </tr>\n",
       "    <tr>\n",
       "      <th>2465</th>\n",
       "      <td>Sudan</td>\n",
       "      <td>2007</td>\n",
       "      <td>Developing</td>\n",
       "      <td>61.4</td>\n",
       "      <td>254.0</td>\n",
       "      <td>65</td>\n",
       "      <td>2.01</td>\n",
       "      <td>86.131669</td>\n",
       "      <td>327</td>\n",
       "      <td>NaN</td>\n",
       "      <td>97</td>\n",
       "      <td>84.0</td>\n",
       "      <td>4.72</td>\n",
       "      <td>84.0</td>\n",
       "      <td>0.3</td>\n",
       "      <td>1115.695200</td>\n",
       "      <td>32282526.0</td>\n",
       "      <td>NaN</td>\n",
       "      <td>0.440</td>\n",
       "      <td>6.4</td>\n",
       "    </tr>\n",
       "    <tr>\n",
       "      <th>2466</th>\n",
       "      <td>Sudan</td>\n",
       "      <td>2006</td>\n",
       "      <td>Developing</td>\n",
       "      <td>61.0</td>\n",
       "      <td>26.0</td>\n",
       "      <td>66</td>\n",
       "      <td>1.90</td>\n",
       "      <td>60.336857</td>\n",
       "      <td>228</td>\n",
       "      <td>NaN</td>\n",
       "      <td>99</td>\n",
       "      <td>77.0</td>\n",
       "      <td>3.93</td>\n",
       "      <td>78.0</td>\n",
       "      <td>0.2</td>\n",
       "      <td>893.879364</td>\n",
       "      <td>316764.0</td>\n",
       "      <td>NaN</td>\n",
       "      <td>0.430</td>\n",
       "      <td>6.2</td>\n",
       "    </tr>\n",
       "    <tr>\n",
       "      <th>2467</th>\n",
       "      <td>Sudan</td>\n",
       "      <td>2005</td>\n",
       "      <td>Developing</td>\n",
       "      <td>67.0</td>\n",
       "      <td>261.0</td>\n",
       "      <td>66</td>\n",
       "      <td>1.55</td>\n",
       "      <td>37.590396</td>\n",
       "      <td>1374</td>\n",
       "      <td>NaN</td>\n",
       "      <td>101</td>\n",
       "      <td>78.0</td>\n",
       "      <td>3.18</td>\n",
       "      <td>78.0</td>\n",
       "      <td>0.2</td>\n",
       "      <td>679.753995</td>\n",
       "      <td>3911914.0</td>\n",
       "      <td>NaN</td>\n",
       "      <td>0.423</td>\n",
       "      <td>6.1</td>\n",
       "    </tr>\n",
       "    <tr>\n",
       "      <th>2468</th>\n",
       "      <td>Sudan</td>\n",
       "      <td>2004</td>\n",
       "      <td>Developing</td>\n",
       "      <td>59.7</td>\n",
       "      <td>278.0</td>\n",
       "      <td>68</td>\n",
       "      <td>1.59</td>\n",
       "      <td>37.044800</td>\n",
       "      <td>9562</td>\n",
       "      <td>NaN</td>\n",
       "      <td>102</td>\n",
       "      <td>74.0</td>\n",
       "      <td>3.39</td>\n",
       "      <td>74.0</td>\n",
       "      <td>0.2</td>\n",
       "      <td>565.569459</td>\n",
       "      <td>3186341.0</td>\n",
       "      <td>NaN</td>\n",
       "      <td>0.415</td>\n",
       "      <td>5.7</td>\n",
       "    </tr>\n",
       "    <tr>\n",
       "      <th>2469</th>\n",
       "      <td>Sudan</td>\n",
       "      <td>2003</td>\n",
       "      <td>Developing</td>\n",
       "      <td>59.6</td>\n",
       "      <td>278.0</td>\n",
       "      <td>69</td>\n",
       "      <td>1.74</td>\n",
       "      <td>35.352647</td>\n",
       "      <td>4381</td>\n",
       "      <td>NaN</td>\n",
       "      <td>104</td>\n",
       "      <td>69.0</td>\n",
       "      <td>3.18</td>\n",
       "      <td>69.0</td>\n",
       "      <td>0.2</td>\n",
       "      <td>477.738478</td>\n",
       "      <td>29435944.0</td>\n",
       "      <td>NaN</td>\n",
       "      <td>0.409</td>\n",
       "      <td>5.6</td>\n",
       "    </tr>\n",
       "    <tr>\n",
       "      <th>2470</th>\n",
       "      <td>Sudan</td>\n",
       "      <td>2002</td>\n",
       "      <td>Developing</td>\n",
       "      <td>59.4</td>\n",
       "      <td>277.0</td>\n",
       "      <td>70</td>\n",
       "      <td>1.59</td>\n",
       "      <td>30.622875</td>\n",
       "      <td>4529</td>\n",
       "      <td>NaN</td>\n",
       "      <td>106</td>\n",
       "      <td>6.0</td>\n",
       "      <td>2.95</td>\n",
       "      <td>6.0</td>\n",
       "      <td>0.2</td>\n",
       "      <td>412.151756</td>\n",
       "      <td>28679565.0</td>\n",
       "      <td>NaN</td>\n",
       "      <td>0.403</td>\n",
       "      <td>5.6</td>\n",
       "    </tr>\n",
       "    <tr>\n",
       "      <th>2471</th>\n",
       "      <td>Sudan</td>\n",
       "      <td>2001</td>\n",
       "      <td>Developing</td>\n",
       "      <td>58.9</td>\n",
       "      <td>283.0</td>\n",
       "      <td>71</td>\n",
       "      <td>1.81</td>\n",
       "      <td>28.880697</td>\n",
       "      <td>4362</td>\n",
       "      <td>NaN</td>\n",
       "      <td>108</td>\n",
       "      <td>66.0</td>\n",
       "      <td>2.96</td>\n",
       "      <td>66.0</td>\n",
       "      <td>0.2</td>\n",
       "      <td>377.525445</td>\n",
       "      <td>279455.0</td>\n",
       "      <td>NaN</td>\n",
       "      <td>0.399</td>\n",
       "      <td>5.6</td>\n",
       "    </tr>\n",
       "    <tr>\n",
       "      <th>2472</th>\n",
       "      <td>Sudan</td>\n",
       "      <td>2000</td>\n",
       "      <td>Developing</td>\n",
       "      <td>58.6</td>\n",
       "      <td>284.0</td>\n",
       "      <td>71</td>\n",
       "      <td>1.76</td>\n",
       "      <td>30.860010</td>\n",
       "      <td>2875</td>\n",
       "      <td>NaN</td>\n",
       "      <td>109</td>\n",
       "      <td>62.0</td>\n",
       "      <td>3.23</td>\n",
       "      <td>62.0</td>\n",
       "      <td>0.1</td>\n",
       "      <td>361.358430</td>\n",
       "      <td>2725535.0</td>\n",
       "      <td>NaN</td>\n",
       "      <td>0.394</td>\n",
       "      <td>5.5</td>\n",
       "    </tr>\n",
       "  </tbody>\n",
       "</table>\n",
       "</div>"
      ],
      "text/plain": [
       "     Country  Year      Status  Life_Expectancy  Adult_Mortality  \\\n",
       "2457   Sudan  2015  Developing             64.1            225.0   \n",
       "2458   Sudan  2014  Developing             63.8            229.0   \n",
       "2459   Sudan  2013  Developing             63.5            232.0   \n",
       "2460   Sudan  2012  Developing             63.2            235.0   \n",
       "2461   Sudan  2011  Developing             62.7            241.0   \n",
       "2462   Sudan  2010  Developing             62.5            243.0   \n",
       "2463   Sudan  2009  Developing             62.0            248.0   \n",
       "2464   Sudan  2008  Developing             61.8            251.0   \n",
       "2465   Sudan  2007  Developing             61.4            254.0   \n",
       "2466   Sudan  2006  Developing             61.0             26.0   \n",
       "2467   Sudan  2005  Developing             67.0            261.0   \n",
       "2468   Sudan  2004  Developing             59.7            278.0   \n",
       "2469   Sudan  2003  Developing             59.6            278.0   \n",
       "2470   Sudan  2002  Developing             59.4            277.0   \n",
       "2471   Sudan  2001  Developing             58.9            283.0   \n",
       "2472   Sudan  2000  Developing             58.6            284.0   \n",
       "\n",
       "      Infant_Deaths  Alcohol  Percentage_Exp  Measles  BMI  Under_Five_Deaths  \\\n",
       "2457             58     1.46        0.000000     3585  NaN                 85   \n",
       "2458             59     0.01      253.608651      676  NaN                 86   \n",
       "2459             60     0.01      227.835321     2813  NaN                 88   \n",
       "2460             61     0.01      220.522192     8523  NaN                 89   \n",
       "2461             61     2.12      196.689215     5616  NaN                 91   \n",
       "2462             62     1.77      172.009788      680  NaN                 92   \n",
       "2463             63     1.99       17.053693       68  NaN                 94   \n",
       "2464             64     2.01      128.636271      129  NaN                 95   \n",
       "2465             65     2.01       86.131669      327  NaN                 97   \n",
       "2466             66     1.90       60.336857      228  NaN                 99   \n",
       "2467             66     1.55       37.590396     1374  NaN                101   \n",
       "2468             68     1.59       37.044800     9562  NaN                102   \n",
       "2469             69     1.74       35.352647     4381  NaN                104   \n",
       "2470             70     1.59       30.622875     4529  NaN                106   \n",
       "2471             71     1.81       28.880697     4362  NaN                108   \n",
       "2472             71     1.76       30.860010     2875  NaN                109   \n",
       "\n",
       "      Polio  Tot_Exp  Diphtheria  HIV/AIDS          GDP  Population  \\\n",
       "2457   93.0      NaN        93.0       0.3  2513.884661   3864783.0   \n",
       "2458   94.0     8.43        94.0       0.3  2176.898290  37737913.0   \n",
       "2459   93.0     8.42        93.0       0.3  1955.667990  36849918.0   \n",
       "2460   92.0     8.20        92.0       0.3  1892.894352   3599192.0   \n",
       "2461   93.0     8.30        93.0       0.3  1666.857757  35167314.0   \n",
       "2462    9.0     7.97         9.0       0.3  1476.478870  34385963.0   \n",
       "2463   81.0     8.40        81.0       0.3  1226.884381   3365619.0   \n",
       "2464   85.0     8.17        86.0       0.3  1291.528826  32955496.0   \n",
       "2465   84.0     4.72        84.0       0.3  1115.695200  32282526.0   \n",
       "2466   77.0     3.93        78.0       0.2   893.879364    316764.0   \n",
       "2467   78.0     3.18        78.0       0.2   679.753995   3911914.0   \n",
       "2468   74.0     3.39        74.0       0.2   565.569459   3186341.0   \n",
       "2469   69.0     3.18        69.0       0.2   477.738478  29435944.0   \n",
       "2470    6.0     2.95         6.0       0.2   412.151756  28679565.0   \n",
       "2471   66.0     2.96        66.0       0.2   377.525445    279455.0   \n",
       "2472   62.0     3.23        62.0       0.1   361.358430   2725535.0   \n",
       "\n",
       "      thinness_1to19_years  Income_Comp_Of_Resources  Schooling  \n",
       "2457                   NaN                     0.488        7.2  \n",
       "2458                   NaN                     0.485        7.2  \n",
       "2459                   NaN                     0.478        7.0  \n",
       "2460                   NaN                     0.468        6.8  \n",
       "2461                   NaN                     0.463        7.0  \n",
       "2462                   NaN                     0.461        7.0  \n",
       "2463                   NaN                     0.456        6.8  \n",
       "2464                   NaN                     0.444        6.3  \n",
       "2465                   NaN                     0.440        6.4  \n",
       "2466                   NaN                     0.430        6.2  \n",
       "2467                   NaN                     0.423        6.1  \n",
       "2468                   NaN                     0.415        5.7  \n",
       "2469                   NaN                     0.409        5.6  \n",
       "2470                   NaN                     0.403        5.6  \n",
       "2471                   NaN                     0.399        5.6  \n",
       "2472                   NaN                     0.394        5.5  "
      ]
     },
     "execution_count": 29,
     "metadata": {},
     "output_type": "execute_result"
    }
   ],
   "source": [
    "#BMI null values\n",
    "data[np.isnan(data['BMI'])]"
   ]
  },
  {
   "cell_type": "code",
   "execution_count": 30,
   "id": "neither-argentina",
   "metadata": {
    "execution": {
     "iopub.execute_input": "2021-07-08T19:08:19.242934Z",
     "iopub.status.busy": "2021-07-08T19:08:19.242264Z",
     "iopub.status.idle": "2021-07-08T19:08:19.248431Z",
     "shell.execute_reply": "2021-07-08T19:08:19.247790Z",
     "shell.execute_reply.started": "2021-07-08T19:01:36.867972Z"
    },
    "papermill": {
     "duration": 0.104449,
     "end_time": "2021-07-08T19:08:19.248578",
     "exception": false,
     "start_time": "2021-07-08T19:08:19.144129",
     "status": "completed"
    },
    "tags": []
   },
   "outputs": [],
   "source": [
    "data = data[data.Country != 'Sudan']"
   ]
  },
  {
   "cell_type": "code",
   "execution_count": 31,
   "id": "everyday-feelings",
   "metadata": {
    "execution": {
     "iopub.execute_input": "2021-07-08T19:08:19.446327Z",
     "iopub.status.busy": "2021-07-08T19:08:19.443824Z",
     "iopub.status.idle": "2021-07-08T19:08:24.377606Z",
     "shell.execute_reply": "2021-07-08T19:08:24.376971Z",
     "shell.execute_reply.started": "2021-07-08T19:01:38.693866Z"
    },
    "papermill": {
     "duration": 5.033999,
     "end_time": "2021-07-08T19:08:24.377760",
     "exception": false,
     "start_time": "2021-07-08T19:08:19.343761",
     "status": "completed"
    },
    "tags": []
   },
   "outputs": [],
   "source": [
    "#Total expenditure null values\n",
    "data = data.apply(impute_col, args=('Tot_Exp',) , axis=1)"
   ]
  },
  {
   "cell_type": "code",
   "execution_count": 32,
   "id": "confidential-prompt",
   "metadata": {
    "execution": {
     "iopub.execute_input": "2021-07-08T19:08:24.574925Z",
     "iopub.status.busy": "2021-07-08T19:08:24.573469Z",
     "iopub.status.idle": "2021-07-08T19:08:24.581643Z",
     "shell.execute_reply": "2021-07-08T19:08:24.580952Z",
     "shell.execute_reply.started": "2021-07-08T19:01:43.269466Z"
    },
    "papermill": {
     "duration": 0.10756,
     "end_time": "2021-07-08T19:08:24.581798",
     "exception": false,
     "start_time": "2021-07-08T19:08:24.474238",
     "status": "completed"
    },
    "tags": []
   },
   "outputs": [],
   "source": [
    "data = data[~data['Country'].isin([\"Democratic People's Republic of Korea\",\"Somalia\"])]"
   ]
  },
  {
   "cell_type": "code",
   "execution_count": 33,
   "id": "extended-nomination",
   "metadata": {
    "execution": {
     "iopub.execute_input": "2021-07-08T19:08:24.777784Z",
     "iopub.status.busy": "2021-07-08T19:08:24.776286Z",
     "iopub.status.idle": "2021-07-08T19:08:29.521399Z",
     "shell.execute_reply": "2021-07-08T19:08:29.520805Z",
     "shell.execute_reply.started": "2021-07-08T19:01:46.108346Z"
    },
    "papermill": {
     "duration": 4.845139,
     "end_time": "2021-07-08T19:08:29.521551",
     "exception": false,
     "start_time": "2021-07-08T19:08:24.676412",
     "status": "completed"
    },
    "tags": []
   },
   "outputs": [],
   "source": [
    "#GDP null values\n",
    "data = data.apply(impute_col, args=('GDP',) , axis=1)"
   ]
  },
  {
   "cell_type": "code",
   "execution_count": 34,
   "id": "stylish-housing",
   "metadata": {
    "execution": {
     "iopub.execute_input": "2021-07-08T19:08:29.715159Z",
     "iopub.status.busy": "2021-07-08T19:08:29.714136Z",
     "iopub.status.idle": "2021-07-08T19:08:29.721865Z",
     "shell.execute_reply": "2021-07-08T19:08:29.722345Z",
     "shell.execute_reply.started": "2021-07-08T19:01:50.560039Z"
    },
    "papermill": {
     "duration": 0.106621,
     "end_time": "2021-07-08T19:08:29.722522",
     "exception": false,
     "start_time": "2021-07-08T19:08:29.615901",
     "status": "completed"
    },
    "tags": []
   },
   "outputs": [],
   "source": [
    "data = data.drop(['GDP'], axis=1)"
   ]
  },
  {
   "cell_type": "code",
   "execution_count": 35,
   "id": "german-platinum",
   "metadata": {
    "execution": {
     "iopub.execute_input": "2021-07-08T19:08:29.917535Z",
     "iopub.status.busy": "2021-07-08T19:08:29.916536Z",
     "iopub.status.idle": "2021-07-08T19:08:34.691774Z",
     "shell.execute_reply": "2021-07-08T19:08:34.692258Z",
     "shell.execute_reply.started": "2021-07-08T19:01:52.163995Z"
    },
    "papermill": {
     "duration": 4.874683,
     "end_time": "2021-07-08T19:08:34.692437",
     "exception": false,
     "start_time": "2021-07-08T19:08:29.817754",
     "status": "completed"
    },
    "tags": []
   },
   "outputs": [],
   "source": [
    "#Population null values\n",
    "data = data.apply(impute_col, args=('Population',) , axis=1)"
   ]
  },
  {
   "cell_type": "code",
   "execution_count": 36,
   "id": "loose-pasta",
   "metadata": {
    "execution": {
     "iopub.execute_input": "2021-07-08T19:08:34.885570Z",
     "iopub.status.busy": "2021-07-08T19:08:34.884597Z",
     "iopub.status.idle": "2021-07-08T19:08:34.894431Z",
     "shell.execute_reply": "2021-07-08T19:08:34.894900Z",
     "shell.execute_reply.started": "2021-07-08T19:01:56.801696Z"
    },
    "papermill": {
     "duration": 0.107671,
     "end_time": "2021-07-08T19:08:34.895076",
     "exception": false,
     "start_time": "2021-07-08T19:08:34.787405",
     "status": "completed"
    },
    "tags": []
   },
   "outputs": [
    {
     "data": {
      "text/plain": [
       "array(['Antigua and Barbuda', 'Bahamas', 'Bahrain', 'Barbados',\n",
       "       'Bolivia (Plurinational State of)', 'Brunei Darussalam',\n",
       "       \"Côte d'Ivoire\", 'Congo', 'Cuba', 'Czechia',\n",
       "       'Democratic Republic of the Congo', 'Egypt', 'Gambia', 'Grenada',\n",
       "       'Iran (Islamic Republic of)', 'Kuwait', 'Kyrgyzstan',\n",
       "       \"Lao People's Democratic Republic\", 'Libya',\n",
       "       'Micronesia (Federated States of)', 'New Zealand', 'Oman', 'Qatar',\n",
       "       'Republic of Korea', 'Republic of Moldova', 'Saint Lucia',\n",
       "       'Saint Vincent and the Grenadines', 'Saudi Arabia', 'Singapore',\n",
       "       'Slovakia', 'The former Yugoslav republic of Macedonia',\n",
       "       'United Arab Emirates',\n",
       "       'United Kingdom of Great Britain and Northern Ireland',\n",
       "       'United Republic of Tanzania', 'United States of America',\n",
       "       'Venezuela (Bolivarian Republic of)', 'Viet Nam', 'Yemen'],\n",
       "      dtype=object)"
      ]
     },
     "execution_count": 36,
     "metadata": {},
     "output_type": "execute_result"
    }
   ],
   "source": [
    "data[np.isnan(data.Population)]['Country'].unique()"
   ]
  },
  {
   "cell_type": "code",
   "execution_count": 37,
   "id": "banner-appreciation",
   "metadata": {
    "execution": {
     "iopub.execute_input": "2021-07-08T19:08:35.090681Z",
     "iopub.status.busy": "2021-07-08T19:08:35.089730Z",
     "iopub.status.idle": "2021-07-08T19:08:35.094879Z",
     "shell.execute_reply": "2021-07-08T19:08:35.095346Z",
     "shell.execute_reply.started": "2021-07-08T19:01:59.174771Z"
    },
    "papermill": {
     "duration": 0.105175,
     "end_time": "2021-07-08T19:08:35.095514",
     "exception": false,
     "start_time": "2021-07-08T19:08:34.990339",
     "status": "completed"
    },
    "tags": []
   },
   "outputs": [],
   "source": [
    "data = data.drop(['Population'], axis=1)"
   ]
  },
  {
   "cell_type": "code",
   "execution_count": 38,
   "id": "electronic-median",
   "metadata": {
    "execution": {
     "iopub.execute_input": "2021-07-08T19:08:35.290505Z",
     "iopub.status.busy": "2021-07-08T19:08:35.289520Z",
     "iopub.status.idle": "2021-07-08T19:08:40.036869Z",
     "shell.execute_reply": "2021-07-08T19:08:40.037460Z",
     "shell.execute_reply.started": "2021-07-08T19:02:00.792053Z"
    },
    "papermill": {
     "duration": 4.846421,
     "end_time": "2021-07-08T19:08:40.037657",
     "exception": false,
     "start_time": "2021-07-08T19:08:35.191236",
     "status": "completed"
    },
    "tags": []
   },
   "outputs": [],
   "source": [
    "#Income_Comp_Of_Resources\n",
    "data = data.apply(impute_col, args=('Income_Comp_Of_Resources',) , axis=1)"
   ]
  },
  {
   "cell_type": "code",
   "execution_count": 39,
   "id": "independent-bachelor",
   "metadata": {
    "execution": {
     "iopub.execute_input": "2021-07-08T19:08:40.234249Z",
     "iopub.status.busy": "2021-07-08T19:08:40.233232Z",
     "iopub.status.idle": "2021-07-08T19:08:40.240798Z",
     "shell.execute_reply": "2021-07-08T19:08:40.241300Z",
     "shell.execute_reply.started": "2021-07-08T19:02:08.254279Z"
    },
    "papermill": {
     "duration": 0.106324,
     "end_time": "2021-07-08T19:08:40.241486",
     "exception": false,
     "start_time": "2021-07-08T19:08:40.135162",
     "status": "completed"
    },
    "tags": []
   },
   "outputs": [],
   "source": [
    "data = data.drop(['Income_Comp_Of_Resources'], axis=1)"
   ]
  },
  {
   "cell_type": "code",
   "execution_count": 40,
   "id": "exempt-bridge",
   "metadata": {
    "execution": {
     "iopub.execute_input": "2021-07-08T19:08:40.435436Z",
     "iopub.status.busy": "2021-07-08T19:08:40.434424Z",
     "iopub.status.idle": "2021-07-08T19:08:45.304693Z",
     "shell.execute_reply": "2021-07-08T19:08:45.305201Z",
     "shell.execute_reply.started": "2021-07-08T19:02:09.130447Z"
    },
    "papermill": {
     "duration": 4.96909,
     "end_time": "2021-07-08T19:08:45.305396",
     "exception": false,
     "start_time": "2021-07-08T19:08:40.336306",
     "status": "completed"
    },
    "tags": []
   },
   "outputs": [],
   "source": [
    "#Schooling\n",
    "data = data.apply(impute_col, args=('Schooling',) , axis=1)\n",
    "data = data.drop(['Schooling'], axis=1)"
   ]
  },
  {
   "cell_type": "code",
   "execution_count": 41,
   "id": "mechanical-notebook",
   "metadata": {
    "execution": {
     "iopub.execute_input": "2021-07-08T19:08:45.499608Z",
     "iopub.status.busy": "2021-07-08T19:08:45.498640Z",
     "iopub.status.idle": "2021-07-08T19:08:45.507311Z",
     "shell.execute_reply": "2021-07-08T19:08:45.507760Z",
     "shell.execute_reply.started": "2021-07-08T19:02:12.972215Z"
    },
    "papermill": {
     "duration": 0.107304,
     "end_time": "2021-07-08T19:08:45.507934",
     "exception": false,
     "start_time": "2021-07-08T19:08:45.400630",
     "status": "completed"
    },
    "tags": []
   },
   "outputs": [
    {
     "data": {
      "text/plain": [
       "Country                 0\n",
       "Year                    0\n",
       "Status                  0\n",
       "Life_Expectancy         0\n",
       "Adult_Mortality         0\n",
       "Infant_Deaths           0\n",
       "Alcohol                 0\n",
       "Percentage_Exp          0\n",
       "Measles                 0\n",
       "BMI                     0\n",
       "Under_Five_Deaths       0\n",
       "Polio                   0\n",
       "Tot_Exp                 0\n",
       "Diphtheria              0\n",
       "HIV/AIDS                0\n",
       "thinness_1to19_years    0\n",
       "dtype: int64"
      ]
     },
     "execution_count": 41,
     "metadata": {},
     "output_type": "execute_result"
    }
   ],
   "source": [
    "data.isnull().sum()"
   ]
  },
  {
   "cell_type": "markdown",
   "id": "periodic-serve",
   "metadata": {
    "papermill": {
     "duration": 0.094489,
     "end_time": "2021-07-08T19:08:45.697271",
     "exception": false,
     "start_time": "2021-07-08T19:08:45.602782",
     "status": "completed"
    },
    "tags": []
   },
   "source": [
    "# **OUTLIERS**"
   ]
  },
  {
   "cell_type": "code",
   "execution_count": 42,
   "id": "patent-saying",
   "metadata": {
    "execution": {
     "iopub.execute_input": "2021-07-08T19:08:45.891317Z",
     "iopub.status.busy": "2021-07-08T19:08:45.890333Z",
     "iopub.status.idle": "2021-07-08T19:08:47.285176Z",
     "shell.execute_reply": "2021-07-08T19:08:47.285674Z",
     "shell.execute_reply.started": "2021-07-08T19:02:15.195192Z"
    },
    "papermill": {
     "duration": 1.493777,
     "end_time": "2021-07-08T19:08:47.285851",
     "exception": false,
     "start_time": "2021-07-08T19:08:45.792074",
     "status": "completed"
    },
    "tags": []
   },
   "outputs": [
    {
     "data": {
      "image/png": "[encoded data removed]",
      "text/plain": [
       "<Figure size 1440x2160 with 13 Axes>"
      ]
     },
     "metadata": {
      "needs_background": "light"
     },
     "output_type": "display_data"
    }
   ],
   "source": [
    "# Create a dictionary of columns.\n",
    "col_dict = {'Life_Expectancy':1, 'Adult_Mortality':2,\n",
    "            'Infant_Deaths':3, 'Alcohol':4,\n",
    "            'Percentage_Exp':5,'Measles':6,\n",
    "            'BMI':7,'Under_Five_Deaths':8,\n",
    "            'Polio':9,'Tot_Exp':10,\n",
    "            'Diphtheria':11,'HIV/AIDS':12,\n",
    "            'thinness_1to19_years':13}\n",
    "\n",
    "# Detect outliers in each variable using box plots.\n",
    "plt.figure(figsize=(20,30))\n",
    "\n",
    "for variable,i in col_dict.items():\n",
    "                     plt.subplot(5,4,i)\n",
    "                     plt.boxplot(data[variable])\n",
    "                     plt.title(variable)\n",
    "\n",
    "plt.show()"
   ]
  },
  {
   "cell_type": "code",
   "execution_count": 43,
   "id": "amino-whale",
   "metadata": {
    "execution": {
     "iopub.execute_input": "2021-07-08T19:08:47.485526Z",
     "iopub.status.busy": "2021-07-08T19:08:47.484531Z",
     "iopub.status.idle": "2021-07-08T19:08:47.507205Z",
     "shell.execute_reply": "2021-07-08T19:08:47.507692Z",
     "shell.execute_reply.started": "2021-07-08T19:02:19.813214Z"
    },
    "papermill": {
     "duration": 0.123931,
     "end_time": "2021-07-08T19:08:47.507863",
     "exception": false,
     "start_time": "2021-07-08T19:08:47.383932",
     "status": "completed"
    },
    "tags": []
   },
   "outputs": [
    {
     "data": {
      "text/html": [
       "<div>\n",
       "<style scoped>\n",
       "    .dataframe tbody tr th:only-of-type {\n",
       "        vertical-align: middle;\n",
       "    }\n",
       "\n",
       "    .dataframe tbody tr th {\n",
       "        vertical-align: top;\n",
       "    }\n",
       "\n",
       "    .dataframe thead th {\n",
       "        text-align: right;\n",
       "    }\n",
       "</style>\n",
       "<table border=\"1\" class=\"dataframe\">\n",
       "  <thead>\n",
       "    <tr style=\"text-align: right;\">\n",
       "      <th></th>\n",
       "      <th>Country</th>\n",
       "      <th>Year</th>\n",
       "      <th>Status</th>\n",
       "      <th>Life_Expectancy</th>\n",
       "      <th>Adult_Mortality</th>\n",
       "      <th>Infant_Deaths</th>\n",
       "      <th>Alcohol</th>\n",
       "      <th>Percentage_Exp</th>\n",
       "      <th>Measles</th>\n",
       "      <th>BMI</th>\n",
       "      <th>Under_Five_Deaths</th>\n",
       "      <th>Polio</th>\n",
       "      <th>Tot_Exp</th>\n",
       "      <th>Diphtheria</th>\n",
       "      <th>HIV/AIDS</th>\n",
       "      <th>thinness_1to19_years</th>\n",
       "    </tr>\n",
       "  </thead>\n",
       "  <tbody>\n",
       "    <tr>\n",
       "      <th>0</th>\n",
       "      <td>Afghanistan</td>\n",
       "      <td>2015</td>\n",
       "      <td>Developing</td>\n",
       "      <td>65.0</td>\n",
       "      <td>263.0</td>\n",
       "      <td>62</td>\n",
       "      <td>0.01</td>\n",
       "      <td>71.279624</td>\n",
       "      <td>1154</td>\n",
       "      <td>19.1</td>\n",
       "      <td>83</td>\n",
       "      <td>6.0</td>\n",
       "      <td>8.16</td>\n",
       "      <td>65.0</td>\n",
       "      <td>0.1</td>\n",
       "      <td>17.2</td>\n",
       "    </tr>\n",
       "    <tr>\n",
       "      <th>1</th>\n",
       "      <td>Afghanistan</td>\n",
       "      <td>2014</td>\n",
       "      <td>Developing</td>\n",
       "      <td>59.9</td>\n",
       "      <td>271.0</td>\n",
       "      <td>64</td>\n",
       "      <td>0.01</td>\n",
       "      <td>73.523582</td>\n",
       "      <td>492</td>\n",
       "      <td>18.6</td>\n",
       "      <td>86</td>\n",
       "      <td>58.0</td>\n",
       "      <td>8.18</td>\n",
       "      <td>62.0</td>\n",
       "      <td>0.1</td>\n",
       "      <td>17.5</td>\n",
       "    </tr>\n",
       "    <tr>\n",
       "      <th>2</th>\n",
       "      <td>Afghanistan</td>\n",
       "      <td>2013</td>\n",
       "      <td>Developing</td>\n",
       "      <td>59.9</td>\n",
       "      <td>268.0</td>\n",
       "      <td>66</td>\n",
       "      <td>0.01</td>\n",
       "      <td>73.219243</td>\n",
       "      <td>430</td>\n",
       "      <td>18.1</td>\n",
       "      <td>89</td>\n",
       "      <td>62.0</td>\n",
       "      <td>8.13</td>\n",
       "      <td>64.0</td>\n",
       "      <td>0.1</td>\n",
       "      <td>17.7</td>\n",
       "    </tr>\n",
       "    <tr>\n",
       "      <th>3</th>\n",
       "      <td>Afghanistan</td>\n",
       "      <td>2012</td>\n",
       "      <td>Developing</td>\n",
       "      <td>59.5</td>\n",
       "      <td>272.0</td>\n",
       "      <td>69</td>\n",
       "      <td>0.01</td>\n",
       "      <td>78.184215</td>\n",
       "      <td>2787</td>\n",
       "      <td>17.6</td>\n",
       "      <td>93</td>\n",
       "      <td>67.0</td>\n",
       "      <td>8.52</td>\n",
       "      <td>67.0</td>\n",
       "      <td>0.1</td>\n",
       "      <td>17.9</td>\n",
       "    </tr>\n",
       "    <tr>\n",
       "      <th>4</th>\n",
       "      <td>Afghanistan</td>\n",
       "      <td>2011</td>\n",
       "      <td>Developing</td>\n",
       "      <td>59.2</td>\n",
       "      <td>275.0</td>\n",
       "      <td>71</td>\n",
       "      <td>0.01</td>\n",
       "      <td>7.097109</td>\n",
       "      <td>3013</td>\n",
       "      <td>17.2</td>\n",
       "      <td>97</td>\n",
       "      <td>68.0</td>\n",
       "      <td>7.87</td>\n",
       "      <td>68.0</td>\n",
       "      <td>0.1</td>\n",
       "      <td>18.2</td>\n",
       "    </tr>\n",
       "  </tbody>\n",
       "</table>\n",
       "</div>"
      ],
      "text/plain": [
       "       Country  Year      Status  Life_Expectancy  Adult_Mortality  \\\n",
       "0  Afghanistan  2015  Developing             65.0            263.0   \n",
       "1  Afghanistan  2014  Developing             59.9            271.0   \n",
       "2  Afghanistan  2013  Developing             59.9            268.0   \n",
       "3  Afghanistan  2012  Developing             59.5            272.0   \n",
       "4  Afghanistan  2011  Developing             59.2            275.0   \n",
       "\n",
       "   Infant_Deaths  Alcohol  Percentage_Exp  Measles   BMI  Under_Five_Deaths  \\\n",
       "0             62     0.01       71.279624     1154  19.1                 83   \n",
       "1             64     0.01       73.523582      492  18.6                 86   \n",
       "2             66     0.01       73.219243      430  18.1                 89   \n",
       "3             69     0.01       78.184215     2787  17.6                 93   \n",
       "4             71     0.01        7.097109     3013  17.2                 97   \n",
       "\n",
       "   Polio  Tot_Exp  Diphtheria  HIV/AIDS  thinness_1to19_years  \n",
       "0    6.0     8.16        65.0       0.1                  17.2  \n",
       "1   58.0     8.18        62.0       0.1                  17.5  \n",
       "2   62.0     8.13        64.0       0.1                  17.7  \n",
       "3   67.0     8.52        67.0       0.1                  17.9  \n",
       "4   68.0     7.87        68.0       0.1                  18.2  "
      ]
     },
     "execution_count": 43,
     "metadata": {},
     "output_type": "execute_result"
    }
   ],
   "source": [
    "data.head()"
   ]
  },
  {
   "cell_type": "markdown",
   "id": "wrapped-toner",
   "metadata": {
    "papermill": {
     "duration": 0.097966,
     "end_time": "2021-07-08T19:08:47.704523",
     "exception": false,
     "start_time": "2021-07-08T19:08:47.606557",
     "status": "completed"
    },
    "tags": []
   },
   "source": [
    "# **FEATURE SELECTION**"
   ]
  },
  {
   "cell_type": "code",
   "execution_count": 44,
   "id": "romantic-reliance",
   "metadata": {
    "execution": {
     "iopub.execute_input": "2021-07-08T19:08:47.905235Z",
     "iopub.status.busy": "2021-07-08T19:08:47.904249Z",
     "iopub.status.idle": "2021-07-08T19:08:47.916194Z",
     "shell.execute_reply": "2021-07-08T19:08:47.915669Z",
     "shell.execute_reply.started": "2021-07-08T19:02:22.004992Z"
    },
    "papermill": {
     "duration": 0.113369,
     "end_time": "2021-07-08T19:08:47.916339",
     "exception": false,
     "start_time": "2021-07-08T19:08:47.802970",
     "status": "completed"
    },
    "tags": []
   },
   "outputs": [
    {
     "data": {
      "text/plain": [
       "Ttest_indResult(statistic=29.36614038467105, pvalue=6.432298335457971e-166)"
      ]
     },
     "execution_count": 44,
     "metadata": {},
     "output_type": "execute_result"
    }
   ],
   "source": [
    "import scipy.stats as stats\n",
    "stats.ttest_ind(data.loc[data['Status']=='Developed','Life_Expectancy'],data.loc[data['Status']=='Developing','Life_Expectancy'])"
   ]
  },
  {
   "cell_type": "markdown",
   "id": "atlantic-charity",
   "metadata": {
    "papermill": {
     "duration": 0.100409,
     "end_time": "2021-07-08T19:08:48.115667",
     "exception": false,
     "start_time": "2021-07-08T19:08:48.015258",
     "status": "completed"
    },
    "tags": []
   },
   "source": [
    "**p value is < 0.05\n",
    "Therefore, the difference of Life Expectancy between Developed and Developing countries is significant. We can consider 'Status' as a feature.**\n",
    "\n",
    "**Also \"Adult mortality\" : -0.7, \"HIV/AIDS\" : -0.56,  \"BMI\" : 0.57, \"Polio\" : 0.47, \"GDP\" : 0.46, \"Alcohol\" : 0.4, \"thinness_1to19_years\" : 0.45**"
   ]
  },
  {
   "cell_type": "markdown",
   "id": "empirical-diagnosis",
   "metadata": {
    "papermill": {
     "duration": 0.098198,
     "end_time": "2021-07-08T19:08:48.312579",
     "exception": false,
     "start_time": "2021-07-08T19:08:48.214381",
     "status": "completed"
    },
    "tags": []
   },
   "source": [
    "# **FEATURE ENGINEERING**"
   ]
  },
  {
   "cell_type": "markdown",
   "id": "injured-commission",
   "metadata": {
    "papermill": {
     "duration": 0.098279,
     "end_time": "2021-07-08T19:08:48.509230",
     "exception": false,
     "start_time": "2021-07-08T19:08:48.410951",
     "status": "completed"
    },
    "tags": []
   },
   "source": [
    "* **DUMMIFICATION OF STATUS**\n",
    "* **NORMALIZING NUMERICAL FEATURES**"
   ]
  },
  {
   "cell_type": "code",
   "execution_count": 45,
   "id": "relevant-morning",
   "metadata": {
    "execution": {
     "iopub.execute_input": "2021-07-08T19:08:48.712713Z",
     "iopub.status.busy": "2021-07-08T19:08:48.711979Z",
     "iopub.status.idle": "2021-07-08T19:08:48.714186Z",
     "shell.execute_reply": "2021-07-08T19:08:48.714680Z",
     "shell.execute_reply.started": "2021-07-08T19:02:29.546996Z"
    },
    "papermill": {
     "duration": 0.10709,
     "end_time": "2021-07-08T19:08:48.714852",
     "exception": false,
     "start_time": "2021-07-08T19:08:48.607762",
     "status": "completed"
    },
    "tags": []
   },
   "outputs": [],
   "source": [
    "feature_df = data[['Country','Status','Adult_Mortality','Alcohol','HIV/AIDS','Polio','BMI', 'thinness_1to19_years','Life_Expectancy']]"
   ]
  },
  {
   "cell_type": "code",
   "execution_count": 46,
   "id": "ahead-promise",
   "metadata": {
    "execution": {
     "iopub.execute_input": "2021-07-08T19:08:48.919817Z",
     "iopub.status.busy": "2021-07-08T19:08:48.919074Z",
     "iopub.status.idle": "2021-07-08T19:08:48.926254Z",
     "shell.execute_reply": "2021-07-08T19:08:48.926787Z",
     "shell.execute_reply.started": "2021-07-08T19:02:31.709588Z"
    },
    "papermill": {
     "duration": 0.110866,
     "end_time": "2021-07-08T19:08:48.926982",
     "exception": false,
     "start_time": "2021-07-08T19:08:48.816116",
     "status": "completed"
    },
    "tags": []
   },
   "outputs": [],
   "source": [
    "feature_df = pd.concat([feature_df,pd.get_dummies(feature_df['Status'],drop_first=True)],axis=1)\n",
    "final = feature_df.drop('Status',axis=1)"
   ]
  },
  {
   "cell_type": "code",
   "execution_count": 47,
   "id": "intensive-parade",
   "metadata": {
    "execution": {
     "iopub.execute_input": "2021-07-08T19:08:49.131472Z",
     "iopub.status.busy": "2021-07-08T19:08:49.130743Z",
     "iopub.status.idle": "2021-07-08T19:08:49.467278Z",
     "shell.execute_reply": "2021-07-08T19:08:49.467821Z",
     "shell.execute_reply.started": "2021-07-08T19:02:34.256023Z"
    },
    "papermill": {
     "duration": 0.441009,
     "end_time": "2021-07-08T19:08:49.467997",
     "exception": false,
     "start_time": "2021-07-08T19:08:49.026988",
     "status": "completed"
    },
    "tags": []
   },
   "outputs": [],
   "source": [
    "final['Adult_Mortality_scaled'] =final['Adult_Mortality'].apply(lambda x : ((x-np.min(final['Adult_Mortality']))/(np.max(final['Adult_Mortality'])-np.min(final['Adult_Mortality'])) * (20)))"
   ]
  },
  {
   "cell_type": "code",
   "execution_count": 48,
   "id": "continuous-skirt",
   "metadata": {
    "execution": {
     "iopub.execute_input": "2021-07-08T19:08:49.672869Z",
     "iopub.status.busy": "2021-07-08T19:08:49.672199Z",
     "iopub.status.idle": "2021-07-08T19:08:50.019281Z",
     "shell.execute_reply": "2021-07-08T19:08:50.019827Z",
     "shell.execute_reply.started": "2021-07-08T19:02:58.749739Z"
    },
    "papermill": {
     "duration": 0.451464,
     "end_time": "2021-07-08T19:08:50.020008",
     "exception": false,
     "start_time": "2021-07-08T19:08:49.568544",
     "status": "completed"
    },
    "tags": []
   },
   "outputs": [],
   "source": [
    "final['Polio_scaled'] =final['Polio'].apply(lambda x : ((x-np.min(final['Polio']))/(np.max(final['Polio'])-np.min(final['Polio'])) * (20)))"
   ]
  },
  {
   "cell_type": "code",
   "execution_count": 49,
   "id": "separate-plane",
   "metadata": {
    "execution": {
     "iopub.execute_input": "2021-07-08T19:08:50.223961Z",
     "iopub.status.busy": "2021-07-08T19:08:50.223298Z",
     "iopub.status.idle": "2021-07-08T19:08:50.266300Z",
     "shell.execute_reply": "2021-07-08T19:08:50.265123Z",
     "shell.execute_reply.started": "2021-07-08T19:03:00.432631Z"
    },
    "papermill": {
     "duration": 0.145301,
     "end_time": "2021-07-08T19:08:50.266468",
     "exception": false,
     "start_time": "2021-07-08T19:08:50.121167",
     "status": "completed"
    },
    "tags": []
   },
   "outputs": [],
   "source": [
    "final.to_csv('./final.csv',index = False) "
   ]
  },
  {
   "cell_type": "code",
   "execution_count": 50,
   "id": "pleasant-dealer",
   "metadata": {
    "execution": {
     "iopub.execute_input": "2021-07-08T19:08:50.471875Z",
     "iopub.status.busy": "2021-07-08T19:08:50.471191Z",
     "iopub.status.idle": "2021-07-08T19:08:50.482120Z",
     "shell.execute_reply": "2021-07-08T19:08:50.481470Z",
     "shell.execute_reply.started": "2021-07-08T19:03:03.303041Z"
    },
    "papermill": {
     "duration": 0.116007,
     "end_time": "2021-07-08T19:08:50.482347",
     "exception": false,
     "start_time": "2021-07-08T19:08:50.366340",
     "status": "completed"
    },
    "tags": []
   },
   "outputs": [],
   "source": [
    "final = pd.read_csv('./final.csv')"
   ]
  },
  {
   "cell_type": "code",
   "execution_count": 51,
   "id": "interim-tourist",
   "metadata": {
    "execution": {
     "iopub.execute_input": "2021-07-08T19:08:50.702628Z",
     "iopub.status.busy": "2021-07-08T19:08:50.701502Z",
     "iopub.status.idle": "2021-07-08T19:08:50.707045Z",
     "shell.execute_reply": "2021-07-08T19:08:50.706566Z",
     "shell.execute_reply.started": "2021-07-08T19:03:04.645103Z"
    },
    "papermill": {
     "duration": 0.121891,
     "end_time": "2021-07-08T19:08:50.707216",
     "exception": false,
     "start_time": "2021-07-08T19:08:50.585325",
     "status": "completed"
    },
    "tags": []
   },
   "outputs": [
    {
     "data": {
      "text/html": [
       "<div>\n",
       "<style scoped>\n",
       "    .dataframe tbody tr th:only-of-type {\n",
       "        vertical-align: middle;\n",
       "    }\n",
       "\n",
       "    .dataframe tbody tr th {\n",
       "        vertical-align: top;\n",
       "    }\n",
       "\n",
       "    .dataframe thead th {\n",
       "        text-align: right;\n",
       "    }\n",
       "</style>\n",
       "<table border=\"1\" class=\"dataframe\">\n",
       "  <thead>\n",
       "    <tr style=\"text-align: right;\">\n",
       "      <th></th>\n",
       "      <th>Country</th>\n",
       "      <th>Adult_Mortality</th>\n",
       "      <th>Alcohol</th>\n",
       "      <th>HIV/AIDS</th>\n",
       "      <th>Polio</th>\n",
       "      <th>BMI</th>\n",
       "      <th>thinness_1to19_years</th>\n",
       "      <th>Life_Expectancy</th>\n",
       "      <th>Developing</th>\n",
       "      <th>Adult_Mortality_scaled</th>\n",
       "      <th>Polio_scaled</th>\n",
       "    </tr>\n",
       "  </thead>\n",
       "  <tbody>\n",
       "    <tr>\n",
       "      <th>0</th>\n",
       "      <td>Afghanistan</td>\n",
       "      <td>263.0</td>\n",
       "      <td>0.01</td>\n",
       "      <td>0.1</td>\n",
       "      <td>6.0</td>\n",
       "      <td>19.1</td>\n",
       "      <td>17.2</td>\n",
       "      <td>65.0</td>\n",
       "      <td>1</td>\n",
       "      <td>7.257618</td>\n",
       "      <td>0.625000</td>\n",
       "    </tr>\n",
       "    <tr>\n",
       "      <th>1</th>\n",
       "      <td>Afghanistan</td>\n",
       "      <td>271.0</td>\n",
       "      <td>0.01</td>\n",
       "      <td>0.1</td>\n",
       "      <td>58.0</td>\n",
       "      <td>18.6</td>\n",
       "      <td>17.5</td>\n",
       "      <td>59.9</td>\n",
       "      <td>1</td>\n",
       "      <td>7.479224</td>\n",
       "      <td>11.458333</td>\n",
       "    </tr>\n",
       "    <tr>\n",
       "      <th>2</th>\n",
       "      <td>Afghanistan</td>\n",
       "      <td>268.0</td>\n",
       "      <td>0.01</td>\n",
       "      <td>0.1</td>\n",
       "      <td>62.0</td>\n",
       "      <td>18.1</td>\n",
       "      <td>17.7</td>\n",
       "      <td>59.9</td>\n",
       "      <td>1</td>\n",
       "      <td>7.396122</td>\n",
       "      <td>12.291667</td>\n",
       "    </tr>\n",
       "    <tr>\n",
       "      <th>3</th>\n",
       "      <td>Afghanistan</td>\n",
       "      <td>272.0</td>\n",
       "      <td>0.01</td>\n",
       "      <td>0.1</td>\n",
       "      <td>67.0</td>\n",
       "      <td>17.6</td>\n",
       "      <td>17.9</td>\n",
       "      <td>59.5</td>\n",
       "      <td>1</td>\n",
       "      <td>7.506925</td>\n",
       "      <td>13.333333</td>\n",
       "    </tr>\n",
       "    <tr>\n",
       "      <th>4</th>\n",
       "      <td>Afghanistan</td>\n",
       "      <td>275.0</td>\n",
       "      <td>0.01</td>\n",
       "      <td>0.1</td>\n",
       "      <td>68.0</td>\n",
       "      <td>17.2</td>\n",
       "      <td>18.2</td>\n",
       "      <td>59.2</td>\n",
       "      <td>1</td>\n",
       "      <td>7.590028</td>\n",
       "      <td>13.541667</td>\n",
       "    </tr>\n",
       "  </tbody>\n",
       "</table>\n",
       "</div>"
      ],
      "text/plain": [
       "       Country  Adult_Mortality  Alcohol  HIV/AIDS  Polio   BMI  \\\n",
       "0  Afghanistan            263.0     0.01       0.1    6.0  19.1   \n",
       "1  Afghanistan            271.0     0.01       0.1   58.0  18.6   \n",
       "2  Afghanistan            268.0     0.01       0.1   62.0  18.1   \n",
       "3  Afghanistan            272.0     0.01       0.1   67.0  17.6   \n",
       "4  Afghanistan            275.0     0.01       0.1   68.0  17.2   \n",
       "\n",
       "   thinness_1to19_years  Life_Expectancy  Developing  Adult_Mortality_scaled  \\\n",
       "0                  17.2             65.0           1                7.257618   \n",
       "1                  17.5             59.9           1                7.479224   \n",
       "2                  17.7             59.9           1                7.396122   \n",
       "3                  17.9             59.5           1                7.506925   \n",
       "4                  18.2             59.2           1                7.590028   \n",
       "\n",
       "   Polio_scaled  \n",
       "0      0.625000  \n",
       "1     11.458333  \n",
       "2     12.291667  \n",
       "3     13.333333  \n",
       "4     13.541667  "
      ]
     },
     "execution_count": 51,
     "metadata": {},
     "output_type": "execute_result"
    }
   ],
   "source": [
    "final.head()"
   ]
  },
  {
   "cell_type": "markdown",
   "id": "distributed-commodity",
   "metadata": {
    "papermill": {
     "duration": 0.100698,
     "end_time": "2021-07-08T19:08:50.908242",
     "exception": false,
     "start_time": "2021-07-08T19:08:50.807544",
     "status": "completed"
    },
    "tags": []
   },
   "source": [
    "# **EMBED THE COUNTRY FEATURE**"
   ]
  },
  {
   "cell_type": "code",
   "execution_count": 52,
   "id": "occupational-collective",
   "metadata": {
    "execution": {
     "iopub.execute_input": "2021-07-08T19:08:51.115870Z",
     "iopub.status.busy": "2021-07-08T19:08:51.115155Z",
     "iopub.status.idle": "2021-07-08T19:08:51.117300Z",
     "shell.execute_reply": "2021-07-08T19:08:51.117880Z",
     "shell.execute_reply.started": "2021-07-08T19:03:06.567597Z"
    },
    "papermill": {
     "duration": 0.109659,
     "end_time": "2021-07-08T19:08:51.118048",
     "exception": false,
     "start_time": "2021-07-08T19:08:51.008389",
     "status": "completed"
    },
    "tags": []
   },
   "outputs": [],
   "source": [
    "countries = final.Country.unique()\n",
    "country_dict = {'countries': list(countries)}\n",
    "country_df = pd.DataFrame(country_dict)"
   ]
  },
  {
   "cell_type": "code",
   "execution_count": 53,
   "id": "spectacular-premium",
   "metadata": {
    "execution": {
     "iopub.execute_input": "2021-07-08T19:08:51.319352Z",
     "iopub.status.busy": "2021-07-08T19:08:51.318730Z",
     "iopub.status.idle": "2021-07-08T19:08:51.322775Z",
     "shell.execute_reply": "2021-07-08T19:08:51.323367Z",
     "shell.execute_reply.started": "2021-07-08T19:03:07.796667Z"
    },
    "papermill": {
     "duration": 0.105915,
     "end_time": "2021-07-08T19:08:51.323526",
     "exception": false,
     "start_time": "2021-07-08T19:08:51.217611",
     "status": "completed"
    },
    "tags": []
   },
   "outputs": [],
   "source": [
    "def demo(feature_column):\n",
    "    feature_layer = layers.DenseFeatures(feature_column)\n",
    "    return feature_layer(country_dict).numpy()"
   ]
  },
  {
   "cell_type": "code",
   "execution_count": 54,
   "id": "bridal-accommodation",
   "metadata": {
    "execution": {
     "iopub.execute_input": "2021-07-08T19:08:51.525945Z",
     "iopub.status.busy": "2021-07-08T19:08:51.525343Z",
     "iopub.status.idle": "2021-07-08T19:08:51.530704Z",
     "shell.execute_reply": "2021-07-08T19:08:51.530149Z",
     "shell.execute_reply.started": "2021-07-08T19:03:10.080691Z"
    },
    "papermill": {
     "duration": 0.107368,
     "end_time": "2021-07-08T19:08:51.530846",
     "exception": false,
     "start_time": "2021-07-08T19:08:51.423478",
     "status": "completed"
    },
    "tags": []
   },
   "outputs": [],
   "source": [
    "countries = feature_column.categorical_column_with_vocabulary_list(\n",
    " 'countries', country_df['countries'])"
   ]
  },
  {
   "cell_type": "code",
   "execution_count": 55,
   "id": "selected-garbage",
   "metadata": {
    "execution": {
     "iopub.execute_input": "2021-07-08T19:08:51.734429Z",
     "iopub.status.busy": "2021-07-08T19:08:51.733752Z",
     "iopub.status.idle": "2021-07-08T19:08:51.736801Z",
     "shell.execute_reply": "2021-07-08T19:08:51.736275Z",
     "shell.execute_reply.started": "2021-07-08T19:03:12.069169Z"
    },
    "papermill": {
     "duration": 0.106751,
     "end_time": "2021-07-08T19:08:51.736936",
     "exception": false,
     "start_time": "2021-07-08T19:08:51.630185",
     "status": "completed"
    },
    "tags": []
   },
   "outputs": [],
   "source": [
    "countries_embedding = feature_column.embedding_column(countries, dimension=4)"
   ]
  },
  {
   "cell_type": "code",
   "execution_count": 56,
   "id": "expected-reconstruction",
   "metadata": {
    "execution": {
     "iopub.execute_input": "2021-07-08T19:08:51.989765Z",
     "iopub.status.busy": "2021-07-08T19:08:51.989070Z",
     "iopub.status.idle": "2021-07-08T19:08:52.132907Z",
     "shell.execute_reply": "2021-07-08T19:08:52.132329Z",
     "shell.execute_reply.started": "2021-07-08T19:03:13.247094Z"
    },
    "papermill": {
     "duration": 0.296288,
     "end_time": "2021-07-08T19:08:52.133058",
     "exception": false,
     "start_time": "2021-07-08T19:08:51.836770",
     "status": "completed"
    },
    "tags": []
   },
   "outputs": [],
   "source": [
    "countries_embedding =  demo(countries_embedding)"
   ]
  },
  {
   "cell_type": "code",
   "execution_count": 57,
   "id": "tired-steering",
   "metadata": {
    "execution": {
     "iopub.execute_input": "2021-07-08T19:08:52.339405Z",
     "iopub.status.busy": "2021-07-08T19:08:52.338393Z",
     "iopub.status.idle": "2021-07-08T19:08:52.342837Z",
     "shell.execute_reply": "2021-07-08T19:08:52.343302Z",
     "shell.execute_reply.started": "2021-07-08T19:03:16.486614Z"
    },
    "papermill": {
     "duration": 0.109364,
     "end_time": "2021-07-08T19:08:52.343473",
     "exception": false,
     "start_time": "2021-07-08T19:08:52.234109",
     "status": "completed"
    },
    "tags": []
   },
   "outputs": [],
   "source": [
    "b = []\n",
    "for embed in countries_embedding:\n",
    "    b.extend([embed] * 16)"
   ]
  },
  {
   "cell_type": "code",
   "execution_count": 58,
   "id": "unlikely-binding",
   "metadata": {
    "execution": {
     "iopub.execute_input": "2021-07-08T19:08:52.547114Z",
     "iopub.status.busy": "2021-07-08T19:08:52.546137Z",
     "iopub.status.idle": "2021-07-08T19:08:52.551363Z",
     "shell.execute_reply": "2021-07-08T19:08:52.551847Z",
     "shell.execute_reply.started": "2021-07-08T19:03:17.145364Z"
    },
    "papermill": {
     "duration": 0.108452,
     "end_time": "2021-07-08T19:08:52.552007",
     "exception": false,
     "start_time": "2021-07-08T19:08:52.443555",
     "status": "completed"
    },
    "tags": []
   },
   "outputs": [],
   "source": [
    "final['countries_embedding'] = pd.Series(b)"
   ]
  },
  {
   "cell_type": "code",
   "execution_count": 59,
   "id": "greater-leader",
   "metadata": {
    "execution": {
     "iopub.execute_input": "2021-07-08T19:08:52.754581Z",
     "iopub.status.busy": "2021-07-08T19:08:52.753578Z",
     "iopub.status.idle": "2021-07-08T19:08:52.771478Z",
     "shell.execute_reply": "2021-07-08T19:08:52.771974Z",
     "shell.execute_reply.started": "2021-07-08T19:03:19.104975Z"
    },
    "papermill": {
     "duration": 0.121166,
     "end_time": "2021-07-08T19:08:52.772187",
     "exception": false,
     "start_time": "2021-07-08T19:08:52.651021",
     "status": "completed"
    },
    "tags": []
   },
   "outputs": [],
   "source": [
    "final['sum_countries_embedding'] = final['countries_embedding'].apply(lambda x: x.sum())"
   ]
  },
  {
   "cell_type": "code",
   "execution_count": 60,
   "id": "conservative-generic",
   "metadata": {
    "execution": {
     "iopub.execute_input": "2021-07-08T19:08:52.977071Z",
     "iopub.status.busy": "2021-07-08T19:08:52.976041Z",
     "iopub.status.idle": "2021-07-08T19:08:52.981445Z",
     "shell.execute_reply": "2021-07-08T19:08:52.981919Z",
     "shell.execute_reply.started": "2021-07-08T19:03:20.373705Z"
    },
    "papermill": {
     "duration": 0.109242,
     "end_time": "2021-07-08T19:08:52.982117",
     "exception": false,
     "start_time": "2021-07-08T19:08:52.872875",
     "status": "completed"
    },
    "tags": []
   },
   "outputs": [],
   "source": [
    "final =  final.rename(columns={\"HIV/AIDS\": \"hivaids\"})"
   ]
  },
  {
   "cell_type": "code",
   "execution_count": 61,
   "id": "earned-rebate",
   "metadata": {
    "execution": {
     "iopub.execute_input": "2021-07-08T19:08:53.214182Z",
     "iopub.status.busy": "2021-07-08T19:08:53.213199Z",
     "iopub.status.idle": "2021-07-08T19:08:53.217575Z",
     "shell.execute_reply": "2021-07-08T19:08:53.218044Z",
     "shell.execute_reply.started": "2021-07-08T19:03:22.491312Z"
    },
    "papermill": {
     "duration": 0.12246,
     "end_time": "2021-07-08T19:08:53.218245",
     "exception": false,
     "start_time": "2021-07-08T19:08:53.095785",
     "status": "completed"
    },
    "tags": []
   },
   "outputs": [],
   "source": [
    "feature_df = ['sum_countries_embedding','Adult_Mortality_scaled','Alcohol','hivaids','Polio_scaled','BMI', 'thinness_1to19_years','Developing']"
   ]
  },
  {
   "cell_type": "markdown",
   "id": "simplified-enforcement",
   "metadata": {
    "papermill": {
     "duration": 0.100191,
     "end_time": "2021-07-08T19:08:53.418695",
     "exception": false,
     "start_time": "2021-07-08T19:08:53.318504",
     "status": "completed"
    },
    "tags": []
   },
   "source": [
    "# **TRAINING**"
   ]
  },
  {
   "cell_type": "markdown",
   "id": "alleged-offset",
   "metadata": {
    "papermill": {
     "duration": 0.099503,
     "end_time": "2021-07-08T19:08:53.617980",
     "exception": false,
     "start_time": "2021-07-08T19:08:53.518477",
     "status": "completed"
    },
    "tags": []
   },
   "source": [
    "## **LINEAR REGRESSION**"
   ]
  },
  {
   "cell_type": "code",
   "execution_count": 62,
   "id": "fresh-crossing",
   "metadata": {
    "execution": {
     "iopub.execute_input": "2021-07-08T19:08:53.822053Z",
     "iopub.status.busy": "2021-07-08T19:08:53.820995Z",
     "iopub.status.idle": "2021-07-08T19:08:53.950735Z",
     "shell.execute_reply": "2021-07-08T19:08:53.949924Z",
     "shell.execute_reply.started": "2021-07-08T19:03:24.401444Z"
    },
    "papermill": {
     "duration": 0.233588,
     "end_time": "2021-07-08T19:08:53.950889",
     "exception": false,
     "start_time": "2021-07-08T19:08:53.717301",
     "status": "completed"
    },
    "tags": []
   },
   "outputs": [
    {
     "data": {
      "text/plain": [
       "LinearRegression()"
      ]
     },
     "execution_count": 62,
     "metadata": {},
     "output_type": "execute_result"
    }
   ],
   "source": [
    "from sklearn.linear_model import LinearRegression\n",
    "model = LinearRegression(fit_intercept=True)\n",
    "x = final.loc[:,feature_df]\n",
    "y = final.Life_Expectancy\n",
    "model.fit(x, y)"
   ]
  },
  {
   "cell_type": "code",
   "execution_count": 63,
   "id": "progressive-conference",
   "metadata": {
    "execution": {
     "iopub.execute_input": "2021-07-08T19:08:54.164287Z",
     "iopub.status.busy": "2021-07-08T19:08:54.163266Z",
     "iopub.status.idle": "2021-07-08T19:08:54.167460Z",
     "shell.execute_reply": "2021-07-08T19:08:54.166915Z",
     "shell.execute_reply.started": "2021-07-08T19:03:26.379774Z"
    },
    "papermill": {
     "duration": 0.114087,
     "end_time": "2021-07-08T19:08:54.167609",
     "exception": false,
     "start_time": "2021-07-08T19:08:54.053522",
     "status": "completed"
    },
    "tags": []
   },
   "outputs": [
    {
     "name": "stdout",
     "output_type": "stream",
     "text": [
      "Model slopes:     [ 0.15761569 -0.92843921  0.20669099 -0.48772224  0.37506926  0.09398699\n",
      " -0.17083514 -3.66732492]\n",
      "Model intercept: 67.4938346424481\n"
     ]
    }
   ],
   "source": [
    "print(\"Model slopes:    \", model.coef_)\n",
    "print(\"Model intercept:\", model.intercept_)"
   ]
  },
  {
   "cell_type": "code",
   "execution_count": 64,
   "id": "beginning-drain",
   "metadata": {
    "execution": {
     "iopub.execute_input": "2021-07-08T19:08:54.382913Z",
     "iopub.status.busy": "2021-07-08T19:08:54.375772Z",
     "iopub.status.idle": "2021-07-08T19:08:54.392728Z",
     "shell.execute_reply": "2021-07-08T19:08:54.393670Z",
     "shell.execute_reply.started": "2021-07-08T19:03:47.741348Z"
    },
    "papermill": {
     "duration": 0.125696,
     "end_time": "2021-07-08T19:08:54.393933",
     "exception": false,
     "start_time": "2021-07-08T19:08:54.268237",
     "status": "completed"
    },
    "tags": []
   },
   "outputs": [
    {
     "data": {
      "text/html": [
       "<div>\n",
       "<style scoped>\n",
       "    .dataframe tbody tr th:only-of-type {\n",
       "        vertical-align: middle;\n",
       "    }\n",
       "\n",
       "    .dataframe tbody tr th {\n",
       "        vertical-align: top;\n",
       "    }\n",
       "\n",
       "    .dataframe thead th {\n",
       "        text-align: right;\n",
       "    }\n",
       "</style>\n",
       "<table border=\"1\" class=\"dataframe\">\n",
       "  <thead>\n",
       "    <tr style=\"text-align: right;\">\n",
       "      <th></th>\n",
       "      <th>Method</th>\n",
       "      <th>RMSE</th>\n",
       "    </tr>\n",
       "  </thead>\n",
       "  <tbody>\n",
       "    <tr>\n",
       "      <th>0</th>\n",
       "      <td>Linear Regression</td>\n",
       "      <td>4.943823</td>\n",
       "    </tr>\n",
       "  </tbody>\n",
       "</table>\n",
       "</div>"
      ],
      "text/plain": [
       "              Method      RMSE\n",
       "0  Linear Regression  4.943823"
      ]
     },
     "execution_count": 64,
     "metadata": {},
     "output_type": "execute_result"
    }
   ],
   "source": [
    "y_predict = model.predict(x.values)\n",
    "RMSE = np.sqrt(((y-y_predict)**2).values.mean())\n",
    "\n",
    "results = pd.DataFrame()\n",
    "results[\"Method\"] = [\"Linear Regression\"]\n",
    "results[\"RMSE\"] = RMSE\n",
    "results"
   ]
  },
  {
   "cell_type": "code",
   "execution_count": 65,
   "id": "other-edmonton",
   "metadata": {
    "execution": {
     "iopub.execute_input": "2021-07-08T19:08:54.650392Z",
     "iopub.status.busy": "2021-07-08T19:08:54.649519Z",
     "iopub.status.idle": "2021-07-08T19:08:54.654153Z",
     "shell.execute_reply": "2021-07-08T19:08:54.653513Z",
     "shell.execute_reply.started": "2021-07-08T19:03:51.322422Z"
    },
    "papermill": {
     "duration": 0.113226,
     "end_time": "2021-07-08T19:08:54.654295",
     "exception": false,
     "start_time": "2021-07-08T19:08:54.541069",
     "status": "completed"
    },
    "tags": []
   },
   "outputs": [
    {
     "data": {
      "text/plain": [
       "(36.3, 89.0)"
      ]
     },
     "execution_count": 65,
     "metadata": {},
     "output_type": "execute_result"
    }
   ],
   "source": [
    "np.min(final['Life_Expectancy']), np.max(final['Life_Expectancy'])"
   ]
  },
  {
   "cell_type": "code",
   "execution_count": 66,
   "id": "allied-carroll",
   "metadata": {
    "execution": {
     "iopub.execute_input": "2021-07-08T19:08:54.861360Z",
     "iopub.status.busy": "2021-07-08T19:08:54.860635Z",
     "iopub.status.idle": "2021-07-08T19:08:55.752892Z",
     "shell.execute_reply": "2021-07-08T19:08:55.753405Z",
     "shell.execute_reply.started": "2021-07-08T19:03:53.039922Z"
    },
    "papermill": {
     "duration": 0.998501,
     "end_time": "2021-07-08T19:08:55.753582",
     "exception": false,
     "start_time": "2021-07-08T19:08:54.755081",
     "status": "completed"
    },
    "tags": []
   },
   "outputs": [
    {
     "data": {
      "image/png": "[encoded data removed]",
      "text/plain": [
       "<Figure size 576x396 with 2 Axes>"
      ]
     },
     "metadata": {},
     "output_type": "display_data"
    },
    {
     "data": {
      "text/plain": [
       "<AxesSubplot:title={'center':'Residuals for LinearRegression Model'}, xlabel='Predicted Value', ylabel='Residuals'>"
      ]
     },
     "execution_count": 66,
     "metadata": {},
     "output_type": "execute_result"
    }
   ],
   "source": [
    "from yellowbrick.regressor import ResidualsPlot\n",
    "visualizer = ResidualsPlot(estimator = model)\n",
    "visualizer.fit(x, y) \n",
    "visualizer.poof()"
   ]
  },
  {
   "cell_type": "markdown",
   "id": "bronze-armstrong",
   "metadata": {
    "papermill": {
     "duration": 0.104019,
     "end_time": "2021-07-08T19:08:55.961973",
     "exception": false,
     "start_time": "2021-07-08T19:08:55.857954",
     "status": "completed"
    },
    "tags": []
   },
   "source": [
    "**Residuals should be pretty symmetrically distributed, tending to cluster towards the middle of the plot. Clustered around the lower single digits of the y-axis.\n",
    "In general, no clear patterns.**"
   ]
  },
  {
   "cell_type": "markdown",
   "id": "anonymous-retrieval",
   "metadata": {
    "papermill": {
     "duration": 0.105554,
     "end_time": "2021-07-08T19:08:56.176746",
     "exception": false,
     "start_time": "2021-07-08T19:08:56.071192",
     "status": "completed"
    },
    "tags": []
   },
   "source": [
    "## **MIXED EFFECT MODEL**"
   ]
  },
  {
   "cell_type": "code",
   "execution_count": 67,
   "id": "toxic-demographic",
   "metadata": {
    "execution": {
     "iopub.execute_input": "2021-07-08T19:08:56.389825Z",
     "iopub.status.busy": "2021-07-08T19:08:56.389167Z",
     "iopub.status.idle": "2021-07-08T19:08:57.093415Z",
     "shell.execute_reply": "2021-07-08T19:08:57.092737Z",
     "shell.execute_reply.started": "2021-07-08T19:04:20.532126Z"
    },
    "papermill": {
     "duration": 0.813287,
     "end_time": "2021-07-08T19:08:57.093595",
     "exception": false,
     "start_time": "2021-07-08T19:08:56.280308",
     "status": "completed"
    },
    "tags": []
   },
   "outputs": [],
   "source": [
    "#!pip install -q statsmodels\n",
    "import statsmodels.api as sm\n",
    "import statsmodels.formula.api as smf\n",
    "md = smf.mixedlm(\"Life_Expectancy ~ Adult_Mortality_scaled + Alcohol + Polio_scaled + hivaids + BMI + thinness_1to19_years + Developing\", \n",
    "                 final, \n",
    "                 groups=final[\"sum_countries_embedding\"], re_formula=\"~Adult_Mortality_scaled + Alcohol + Polio_scaled + hivaids + BMI + thinness_1to19_years + Developing\") \n",
    "#re_formula To ensure that each country has its own random slope"
   ]
  },
  {
   "cell_type": "code",
   "execution_count": 68,
   "id": "curious-uncle",
   "metadata": {
    "execution": {
     "iopub.execute_input": "2021-07-08T19:08:57.310191Z",
     "iopub.status.busy": "2021-07-08T19:08:57.309499Z",
     "iopub.status.idle": "2021-07-08T19:09:46.068277Z",
     "shell.execute_reply": "2021-07-08T19:09:46.067662Z",
     "shell.execute_reply.started": "2021-07-08T19:04:22.887958Z"
    },
    "papermill": {
     "duration": 48.868533,
     "end_time": "2021-07-08T19:09:46.068435",
     "exception": false,
     "start_time": "2021-07-08T19:08:57.199902",
     "status": "completed"
    },
    "tags": []
   },
   "outputs": [
    {
     "name": "stderr",
     "output_type": "stream",
     "text": [
      "/opt/conda/lib/python3.7/site-packages/statsmodels/base/model.py:568: ConvergenceWarning: Maximum Likelihood optimization failed to converge. Check mle_retvals\n",
      "  ConvergenceWarning)\n",
      "/opt/conda/lib/python3.7/site-packages/statsmodels/regression/mixed_linear_model.py:2206: ConvergenceWarning: MixedLM optimization failed, trying a different optimizer may help.\n",
      "  warnings.warn(msg, ConvergenceWarning)\n",
      "/opt/conda/lib/python3.7/site-packages/statsmodels/regression/mixed_linear_model.py:2218: ConvergenceWarning: Gradient optimization failed, |grad| = 630.683943\n",
      "  warnings.warn(msg, ConvergenceWarning)\n"
     ]
    },
    {
     "name": "stdout",
     "output_type": "stream",
     "text": [
      "                              Mixed Linear Model Regression Results\n",
      "=================================================================================================\n",
      "Model:                        MixedLM             Dependent Variable:             Life_Expectancy\n",
      "No. Observations:             2864                Method:                         REML           \n",
      "No. Groups:                   179                 Scale:                          2.8842         \n",
      "Min. group size:              16                  Log-Likelihood:                 -7072.2854     \n",
      "Max. group size:              16                  Converged:                      No             \n",
      "Mean group size:              16.0                                                               \n",
      "-------------------------------------------------------------------------------------------------\n",
      "                                                   Coef.    Std.Err.    z    P>|z|  [0.025 0.975]\n",
      "-------------------------------------------------------------------------------------------------\n",
      "Intercept                                          79.581       1.574 50.569 0.000  76.496 82.665\n",
      "Adult_Mortality_scaled                             -0.051       0.024 -2.153 0.031  -0.097 -0.005\n",
      "Alcohol                                            -0.015       0.100 -0.147 0.883  -0.211  0.182\n",
      "Polio_scaled                                        0.169       0.034  4.914 0.000   0.102  0.237\n",
      "hivaids                                            -1.659                                        \n",
      "BMI                                                 0.025       0.052  0.491 0.623  -0.076  0.126\n",
      "thinness_1to19_years                               -0.616       0.199 -3.100 0.002  -1.006 -0.227\n",
      "Developing                                        -11.848       1.684 -7.036 0.000 -15.148 -8.547\n",
      "Group Var                                           4.665                                        \n",
      "Group x Adult_Mortality_scaled Cov                 -0.060       0.350                            \n",
      "Adult_Mortality_scaled Var                          0.025       0.003                            \n",
      "Group x Alcohol Cov                                 0.068       0.724                            \n",
      "Adult_Mortality_scaled x Alcohol Cov                0.012                                        \n",
      "Alcohol Var                                         1.038       0.087                            \n",
      "Group x Polio_scaled Cov                           -0.017       0.286                            \n",
      "Adult_Mortality_scaled x Polio_scaled Cov           0.009                                        \n",
      "Alcohol x Polio_scaled Cov                         -0.239                                        \n",
      "Polio_scaled Var                                    0.217                                        \n",
      "Group x hivaids Cov                                 0.354                                        \n",
      "Adult_Mortality_scaled x hivaids Cov               -0.007       0.016                            \n",
      "Alcohol x hivaids Cov                               0.020                                        \n",
      "Polio_scaled x hivaids Cov                         -0.004                                        \n",
      "hivaids Var                                         3.475       0.351                            \n",
      "Group x BMI Cov                                    -0.022       0.469                            \n",
      "Adult_Mortality_scaled x BMI Cov                    0.000                                        \n",
      "Alcohol x BMI Cov                                  -0.013                                        \n",
      "Polio_scaled x BMI Cov                              0.011       0.017                            \n",
      "hivaids x BMI Cov                                   0.023                                        \n",
      "BMI Var                                             0.465                                        \n",
      "Group x thinness_1to19_years Cov                   -0.120       1.534                            \n",
      "Adult_Mortality_scaled x thinness_1to19_years Cov   0.000                                        \n",
      "Alcohol x thinness_1to19_years Cov                 -0.047                                        \n",
      "Polio_scaled x thinness_1to19_years Cov             0.137                                        \n",
      "hivaids x thinness_1to19_years Cov                 -0.280                                        \n",
      "BMI x thinness_1to19_years Cov                      0.024                                        \n",
      "thinness_1to19_years Var                            3.000                                        \n",
      "Group x Developing Cov                              0.948  243303.285                            \n",
      "Adult_Mortality_scaled x Developing Cov            -0.010       0.355                            \n",
      "Alcohol x Developing Cov                            0.062       0.697                            \n",
      "Polio_scaled x Developing Cov                      -0.014       0.312                            \n",
      "hivaids x Developing Cov                            0.373                                        \n",
      "BMI x Developing Cov                                0.003       0.485                            \n",
      "thinness_1to19_years x Developing Cov              -0.146       1.577                            \n",
      "Developing Var                                      4.792 2410166.801                            \n",
      "=================================================================================================\n",
      "\n"
     ]
    },
    {
     "name": "stderr",
     "output_type": "stream",
     "text": [
      "/opt/conda/lib/python3.7/site-packages/statsmodels/regression/mixed_linear_model.py:2261: ConvergenceWarning: The Hessian matrix at the estimated parameter values is not positive definite.\n",
      "  warnings.warn(msg, ConvergenceWarning)\n",
      "/opt/conda/lib/python3.7/site-packages/statsmodels/regression/mixed_linear_model.py:2711: RuntimeWarning: invalid value encountered in sqrt\n",
      "  sdf[0:self.k_fe, 1] = np.sqrt(np.diag(self.cov_params()[0:self.k_fe]))\n"
     ]
    }
   ],
   "source": [
    "mdf = md.fit(method=[\"lbfgs\"])\n",
    "print(mdf.summary())"
   ]
  },
  {
   "cell_type": "code",
   "execution_count": 69,
   "id": "surprising-feature",
   "metadata": {
    "execution": {
     "iopub.execute_input": "2021-07-08T19:09:46.288254Z",
     "iopub.status.busy": "2021-07-08T19:09:46.287241Z",
     "iopub.status.idle": "2021-07-08T19:09:46.985808Z",
     "shell.execute_reply": "2021-07-08T19:09:46.985276Z",
     "shell.execute_reply.started": "2021-07-08T19:04:56.968544Z"
    },
    "papermill": {
     "duration": 0.810475,
     "end_time": "2021-07-08T19:09:46.985954",
     "exception": false,
     "start_time": "2021-07-08T19:09:46.175479",
     "status": "completed"
    },
    "tags": []
   },
   "outputs": [
    {
     "data": {
      "text/plain": [
       "<seaborn.axisgrid.FacetGrid at 0x7f1f9264e190>"
      ]
     },
     "execution_count": 69,
     "metadata": {},
     "output_type": "execute_result"
    },
    {
     "data": {
      "image/png": "[encoded data removed]",
      "text/plain": [
       "<Figure size 360x360 with 1 Axes>"
      ]
     },
     "metadata": {},
     "output_type": "display_data"
    }
   ],
   "source": [
    "performance = pd.DataFrame()\n",
    "performance[\"residuals\"] = mdf.resid.values\n",
    "performance[\"predicted\"] = mdf.fittedvalues\n",
    "\n",
    "sns.lmplot(x = \"predicted\", y = \"residuals\", data = performance)"
   ]
  },
  {
   "cell_type": "code",
   "execution_count": 70,
   "id": "early-wheel",
   "metadata": {
    "execution": {
     "iopub.execute_input": "2021-07-08T19:09:47.221346Z",
     "iopub.status.busy": "2021-07-08T19:09:47.220285Z",
     "iopub.status.idle": "2021-07-08T19:09:47.225249Z",
     "shell.execute_reply": "2021-07-08T19:09:47.224607Z",
     "shell.execute_reply.started": "2021-07-08T19:04:59.439373Z"
    },
    "papermill": {
     "duration": 0.128756,
     "end_time": "2021-07-08T19:09:47.225391",
     "exception": false,
     "start_time": "2021-07-08T19:09:47.096635",
     "status": "completed"
    },
    "tags": []
   },
   "outputs": [
    {
     "data": {
      "text/html": [
       "<div>\n",
       "<style scoped>\n",
       "    .dataframe tbody tr th:only-of-type {\n",
       "        vertical-align: middle;\n",
       "    }\n",
       "\n",
       "    .dataframe tbody tr th {\n",
       "        vertical-align: top;\n",
       "    }\n",
       "\n",
       "    .dataframe thead th {\n",
       "        text-align: right;\n",
       "    }\n",
       "</style>\n",
       "<table border=\"1\" class=\"dataframe\">\n",
       "  <thead>\n",
       "    <tr style=\"text-align: right;\">\n",
       "      <th></th>\n",
       "      <th>Method</th>\n",
       "      <th>RMSE</th>\n",
       "    </tr>\n",
       "  </thead>\n",
       "  <tbody>\n",
       "    <tr>\n",
       "      <th>0</th>\n",
       "      <td>Linear Regression</td>\n",
       "      <td>4.943823</td>\n",
       "    </tr>\n",
       "    <tr>\n",
       "      <th>3</th>\n",
       "      <td>Mixed_Random_Slopes</td>\n",
       "      <td>1.556047</td>\n",
       "    </tr>\n",
       "  </tbody>\n",
       "</table>\n",
       "</div>"
      ],
      "text/plain": [
       "                Method      RMSE\n",
       "0    Linear Regression  4.943823\n",
       "3  Mixed_Random_Slopes  1.556047"
      ]
     },
     "execution_count": 70,
     "metadata": {},
     "output_type": "execute_result"
    }
   ],
   "source": [
    "y_predict = mdf.fittedvalues\n",
    "RMSE = np.sqrt(((y-y_predict)**2).values.mean())\n",
    "results.loc[3] = [\"Mixed_Random_Slopes\", RMSE]\n",
    "results"
   ]
  },
  {
   "cell_type": "markdown",
   "id": "light-significance",
   "metadata": {
    "papermill": {
     "duration": 0.108433,
     "end_time": "2021-07-08T19:09:47.441921",
     "exception": false,
     "start_time": "2021-07-08T19:09:47.333488",
     "status": "completed"
    },
    "tags": []
   },
   "source": [
    "# **USING A NEURAL NETWORK**"
   ]
  },
  {
   "cell_type": "code",
   "execution_count": 71,
   "id": "moved-object",
   "metadata": {
    "execution": {
     "iopub.execute_input": "2021-07-08T19:09:47.662605Z",
     "iopub.status.busy": "2021-07-08T19:09:47.661565Z",
     "iopub.status.idle": "2021-07-08T19:09:47.673337Z",
     "shell.execute_reply": "2021-07-08T19:09:47.673822Z",
     "shell.execute_reply.started": "2021-07-08T19:05:03.233915Z"
    },
    "papermill": {
     "duration": 0.123987,
     "end_time": "2021-07-08T19:09:47.674021",
     "exception": false,
     "start_time": "2021-07-08T19:09:47.550034",
     "status": "completed"
    },
    "tags": []
   },
   "outputs": [],
   "source": [
    "final = pd.read_csv('./final.csv')"
   ]
  },
  {
   "cell_type": "code",
   "execution_count": 72,
   "id": "spanish-protocol",
   "metadata": {
    "execution": {
     "iopub.execute_input": "2021-07-08T19:09:47.897113Z",
     "iopub.status.busy": "2021-07-08T19:09:47.896064Z",
     "iopub.status.idle": "2021-07-08T19:09:47.916255Z",
     "shell.execute_reply": "2021-07-08T19:09:47.915653Z",
     "shell.execute_reply.started": "2021-07-08T19:05:04.807233Z"
    },
    "papermill": {
     "duration": 0.133845,
     "end_time": "2021-07-08T19:09:47.916403",
     "exception": false,
     "start_time": "2021-07-08T19:09:47.782558",
     "status": "completed"
    },
    "tags": []
   },
   "outputs": [
    {
     "data": {
      "text/html": [
       "<div>\n",
       "<style scoped>\n",
       "    .dataframe tbody tr th:only-of-type {\n",
       "        vertical-align: middle;\n",
       "    }\n",
       "\n",
       "    .dataframe tbody tr th {\n",
       "        vertical-align: top;\n",
       "    }\n",
       "\n",
       "    .dataframe thead th {\n",
       "        text-align: right;\n",
       "    }\n",
       "</style>\n",
       "<table border=\"1\" class=\"dataframe\">\n",
       "  <thead>\n",
       "    <tr style=\"text-align: right;\">\n",
       "      <th></th>\n",
       "      <th>Country</th>\n",
       "      <th>Adult_Mortality</th>\n",
       "      <th>Alcohol</th>\n",
       "      <th>HIV/AIDS</th>\n",
       "      <th>Polio</th>\n",
       "      <th>BMI</th>\n",
       "      <th>thinness_1to19_years</th>\n",
       "      <th>Life_Expectancy</th>\n",
       "      <th>Developing</th>\n",
       "      <th>Adult_Mortality_scaled</th>\n",
       "      <th>Polio_scaled</th>\n",
       "    </tr>\n",
       "  </thead>\n",
       "  <tbody>\n",
       "    <tr>\n",
       "      <th>0</th>\n",
       "      <td>Afghanistan</td>\n",
       "      <td>263.0</td>\n",
       "      <td>0.01</td>\n",
       "      <td>0.1</td>\n",
       "      <td>6.0</td>\n",
       "      <td>19.1</td>\n",
       "      <td>17.2</td>\n",
       "      <td>65.0</td>\n",
       "      <td>1</td>\n",
       "      <td>7.257618</td>\n",
       "      <td>0.625000</td>\n",
       "    </tr>\n",
       "    <tr>\n",
       "      <th>1</th>\n",
       "      <td>Afghanistan</td>\n",
       "      <td>271.0</td>\n",
       "      <td>0.01</td>\n",
       "      <td>0.1</td>\n",
       "      <td>58.0</td>\n",
       "      <td>18.6</td>\n",
       "      <td>17.5</td>\n",
       "      <td>59.9</td>\n",
       "      <td>1</td>\n",
       "      <td>7.479224</td>\n",
       "      <td>11.458333</td>\n",
       "    </tr>\n",
       "    <tr>\n",
       "      <th>2</th>\n",
       "      <td>Afghanistan</td>\n",
       "      <td>268.0</td>\n",
       "      <td>0.01</td>\n",
       "      <td>0.1</td>\n",
       "      <td>62.0</td>\n",
       "      <td>18.1</td>\n",
       "      <td>17.7</td>\n",
       "      <td>59.9</td>\n",
       "      <td>1</td>\n",
       "      <td>7.396122</td>\n",
       "      <td>12.291667</td>\n",
       "    </tr>\n",
       "    <tr>\n",
       "      <th>3</th>\n",
       "      <td>Afghanistan</td>\n",
       "      <td>272.0</td>\n",
       "      <td>0.01</td>\n",
       "      <td>0.1</td>\n",
       "      <td>67.0</td>\n",
       "      <td>17.6</td>\n",
       "      <td>17.9</td>\n",
       "      <td>59.5</td>\n",
       "      <td>1</td>\n",
       "      <td>7.506925</td>\n",
       "      <td>13.333333</td>\n",
       "    </tr>\n",
       "    <tr>\n",
       "      <th>4</th>\n",
       "      <td>Afghanistan</td>\n",
       "      <td>275.0</td>\n",
       "      <td>0.01</td>\n",
       "      <td>0.1</td>\n",
       "      <td>68.0</td>\n",
       "      <td>17.2</td>\n",
       "      <td>18.2</td>\n",
       "      <td>59.2</td>\n",
       "      <td>1</td>\n",
       "      <td>7.590028</td>\n",
       "      <td>13.541667</td>\n",
       "    </tr>\n",
       "  </tbody>\n",
       "</table>\n",
       "</div>"
      ],
      "text/plain": [
       "       Country  Adult_Mortality  Alcohol  HIV/AIDS  Polio   BMI  \\\n",
       "0  Afghanistan            263.0     0.01       0.1    6.0  19.1   \n",
       "1  Afghanistan            271.0     0.01       0.1   58.0  18.6   \n",
       "2  Afghanistan            268.0     0.01       0.1   62.0  18.1   \n",
       "3  Afghanistan            272.0     0.01       0.1   67.0  17.6   \n",
       "4  Afghanistan            275.0     0.01       0.1   68.0  17.2   \n",
       "\n",
       "   thinness_1to19_years  Life_Expectancy  Developing  Adult_Mortality_scaled  \\\n",
       "0                  17.2             65.0           1                7.257618   \n",
       "1                  17.5             59.9           1                7.479224   \n",
       "2                  17.7             59.9           1                7.396122   \n",
       "3                  17.9             59.5           1                7.506925   \n",
       "4                  18.2             59.2           1                7.590028   \n",
       "\n",
       "   Polio_scaled  \n",
       "0      0.625000  \n",
       "1     11.458333  \n",
       "2     12.291667  \n",
       "3     13.333333  \n",
       "4     13.541667  "
      ]
     },
     "execution_count": 72,
     "metadata": {},
     "output_type": "execute_result"
    }
   ],
   "source": [
    "final.head()"
   ]
  },
  {
   "cell_type": "code",
   "execution_count": 73,
   "id": "anonymous-caution",
   "metadata": {
    "execution": {
     "iopub.execute_input": "2021-07-08T19:09:48.166135Z",
     "iopub.status.busy": "2021-07-08T19:09:48.165110Z",
     "iopub.status.idle": "2021-07-08T19:09:48.172262Z",
     "shell.execute_reply": "2021-07-08T19:09:48.172751Z",
     "shell.execute_reply.started": "2021-07-08T19:05:06.702138Z"
    },
    "papermill": {
     "duration": 0.147977,
     "end_time": "2021-07-08T19:09:48.172941",
     "exception": false,
     "start_time": "2021-07-08T19:09:48.024964",
     "status": "completed"
    },
    "tags": []
   },
   "outputs": [],
   "source": [
    "final['Status'] = final['Developing'].map(lambda x: 'Developing' if x==1 else 'Developed')"
   ]
  },
  {
   "cell_type": "code",
   "execution_count": 74,
   "id": "hawaiian-cooper",
   "metadata": {
    "execution": {
     "iopub.execute_input": "2021-07-08T19:09:48.395437Z",
     "iopub.status.busy": "2021-07-08T19:09:48.394459Z",
     "iopub.status.idle": "2021-07-08T19:09:48.406181Z",
     "shell.execute_reply": "2021-07-08T19:09:48.405434Z",
     "shell.execute_reply.started": "2021-07-08T19:05:07.852197Z"
    },
    "papermill": {
     "duration": 0.124178,
     "end_time": "2021-07-08T19:09:48.406379",
     "exception": false,
     "start_time": "2021-07-08T19:09:48.282201",
     "status": "completed"
    },
    "tags": []
   },
   "outputs": [
    {
     "name": "stdout",
     "output_type": "stream",
     "text": [
      "1832 train examples\n",
      "459 validation examples\n",
      "573 test examples\n"
     ]
    }
   ],
   "source": [
    "train, test = train_test_split(final, test_size=0.2)\n",
    "train, val = train_test_split(train, test_size=0.2)\n",
    "print(len(train), 'train examples')\n",
    "print(len(val), 'validation examples')\n",
    "print(len(test), 'test examples')"
   ]
  },
  {
   "cell_type": "code",
   "execution_count": 75,
   "id": "laden-shoot",
   "metadata": {
    "execution": {
     "iopub.execute_input": "2021-07-08T19:09:48.632262Z",
     "iopub.status.busy": "2021-07-08T19:09:48.631562Z",
     "iopub.status.idle": "2021-07-08T19:09:48.633654Z",
     "shell.execute_reply": "2021-07-08T19:09:48.634130Z",
     "shell.execute_reply.started": "2021-07-08T19:05:09.679380Z"
    },
    "papermill": {
     "duration": 0.118237,
     "end_time": "2021-07-08T19:09:48.634312",
     "exception": false,
     "start_time": "2021-07-08T19:09:48.516075",
     "status": "completed"
    },
    "tags": []
   },
   "outputs": [],
   "source": [
    "def df_to_dataset(dataframe, shuffle=True, batch_size=32):\n",
    "    dataframe = dataframe.copy()\n",
    "    labels = dataframe.pop('Life_Expectancy')\n",
    "    ds = tf.data.Dataset.from_tensor_slices((dict(dataframe), labels))\n",
    "    if shuffle:\n",
    "        ds = ds.shuffle(buffer_size=len(dataframe))\n",
    "    ds = ds.batch(batch_size)\n",
    "    return ds"
   ]
  },
  {
   "cell_type": "code",
   "execution_count": 76,
   "id": "specialized-religious",
   "metadata": {
    "execution": {
     "iopub.execute_input": "2021-07-08T19:09:48.857785Z",
     "iopub.status.busy": "2021-07-08T19:09:48.857055Z",
     "iopub.status.idle": "2021-07-08T19:09:49.137411Z",
     "shell.execute_reply": "2021-07-08T19:09:49.136859Z",
     "shell.execute_reply.started": "2021-07-08T19:05:10.816578Z"
    },
    "papermill": {
     "duration": 0.39351,
     "end_time": "2021-07-08T19:09:49.137591",
     "exception": false,
     "start_time": "2021-07-08T19:09:48.744081",
     "status": "completed"
    },
    "tags": []
   },
   "outputs": [],
   "source": [
    "train_ds = df_to_dataset(train)\n",
    "val_ds = df_to_dataset(val, shuffle=False, batch_size=16)\n",
    "test_ds = df_to_dataset(test, shuffle=False, batch_size=16)"
   ]
  },
  {
   "cell_type": "code",
   "execution_count": 77,
   "id": "arranged-addition",
   "metadata": {
    "execution": {
     "iopub.execute_input": "2021-07-08T19:09:49.363190Z",
     "iopub.status.busy": "2021-07-08T19:09:49.362470Z",
     "iopub.status.idle": "2021-07-08T19:09:49.413513Z",
     "shell.execute_reply": "2021-07-08T19:09:49.412856Z",
     "shell.execute_reply.started": "2021-07-08T19:05:12.685905Z"
    },
    "papermill": {
     "duration": 0.165996,
     "end_time": "2021-07-08T19:09:49.413667",
     "exception": false,
     "start_time": "2021-07-08T19:09:49.247671",
     "status": "completed"
    },
    "tags": []
   },
   "outputs": [],
   "source": [
    "final_batch = next(iter(train_ds))[0]"
   ]
  },
  {
   "cell_type": "code",
   "execution_count": 78,
   "id": "statewide-greek",
   "metadata": {
    "execution": {
     "iopub.execute_input": "2021-07-08T19:09:49.640872Z",
     "iopub.status.busy": "2021-07-08T19:09:49.640151Z",
     "iopub.status.idle": "2021-07-08T19:09:49.643520Z",
     "shell.execute_reply": "2021-07-08T19:09:49.642906Z",
     "shell.execute_reply.started": "2021-07-08T19:05:13.884032Z"
    },
    "papermill": {
     "duration": 0.119268,
     "end_time": "2021-07-08T19:09:49.643676",
     "exception": false,
     "start_time": "2021-07-08T19:09:49.524408",
     "status": "completed"
    },
    "tags": []
   },
   "outputs": [],
   "source": [
    "def demo(feature_column):\n",
    "    feature_layer = layers.DenseFeatures(feature_column)\n",
    "    return feature_layer(final_batch).numpy()"
   ]
  },
  {
   "cell_type": "code",
   "execution_count": 79,
   "id": "conventional-smith",
   "metadata": {
    "execution": {
     "iopub.execute_input": "2021-07-08T19:09:49.867975Z",
     "iopub.status.busy": "2021-07-08T19:09:49.867295Z",
     "iopub.status.idle": "2021-07-08T19:09:49.870193Z",
     "shell.execute_reply": "2021-07-08T19:09:49.870662Z",
     "shell.execute_reply.started": "2021-07-08T19:05:15.892374Z"
    },
    "papermill": {
     "duration": 0.118089,
     "end_time": "2021-07-08T19:09:49.870827",
     "exception": false,
     "start_time": "2021-07-08T19:09:49.752738",
     "status": "completed"
    },
    "tags": []
   },
   "outputs": [],
   "source": [
    "feature_columns = []\n",
    "# numeric cols\n",
    "for header in ['Alcohol', 'HIV/AIDS', 'Polio_scaled','BMI','thinness_1to19_years']:\n",
    "    feature_columns.append(feature_column.numeric_column(header))"
   ]
  },
  {
   "cell_type": "code",
   "execution_count": 80,
   "id": "brave-workplace",
   "metadata": {
    "execution": {
     "iopub.execute_input": "2021-07-08T19:09:50.093978Z",
     "iopub.status.busy": "2021-07-08T19:09:50.093331Z",
     "iopub.status.idle": "2021-07-08T19:09:50.098678Z",
     "shell.execute_reply": "2021-07-08T19:09:50.098172Z",
     "shell.execute_reply.started": "2021-07-08T19:05:18.124609Z"
    },
    "papermill": {
     "duration": 0.118851,
     "end_time": "2021-07-08T19:09:50.098819",
     "exception": false,
     "start_time": "2021-07-08T19:09:49.979968",
     "status": "completed"
    },
    "tags": []
   },
   "outputs": [],
   "source": [
    "#catgorical cols\n",
    "status = feature_column.categorical_column_with_vocabulary_list(\n",
    "      'Status', ['Developing', 'Developed'])\n",
    "\n",
    "status = feature_column.indicator_column(status)\n",
    "feature_columns.append(status)"
   ]
  },
  {
   "cell_type": "code",
   "execution_count": 81,
   "id": "above-field",
   "metadata": {
    "execution": {
     "iopub.execute_input": "2021-07-08T19:09:50.325449Z",
     "iopub.status.busy": "2021-07-08T19:09:50.324634Z",
     "iopub.status.idle": "2021-07-08T19:09:50.326765Z",
     "shell.execute_reply": "2021-07-08T19:09:50.327306Z",
     "shell.execute_reply.started": "2021-07-08T19:05:20.009006Z"
    },
    "papermill": {
     "duration": 0.117498,
     "end_time": "2021-07-08T19:09:50.327487",
     "exception": false,
     "start_time": "2021-07-08T19:09:50.209989",
     "status": "completed"
    },
    "tags": []
   },
   "outputs": [],
   "source": [
    "# embedding columns\n",
    "country = feature_column.categorical_column_with_vocabulary_list(\n",
    "      'Country', final.Country.unique())\n",
    "country_embedding = feature_column.embedding_column(country, dimension=6)\n",
    "feature_columns.append(country_embedding)"
   ]
  },
  {
   "cell_type": "code",
   "execution_count": 82,
   "id": "broadband-snapshot",
   "metadata": {
    "execution": {
     "iopub.execute_input": "2021-07-08T19:09:50.551039Z",
     "iopub.status.busy": "2021-07-08T19:09:50.550345Z",
     "iopub.status.idle": "2021-07-08T19:09:50.586663Z",
     "shell.execute_reply": "2021-07-08T19:09:50.587256Z",
     "shell.execute_reply.started": "2021-07-08T19:05:22.996546Z"
    },
    "papermill": {
     "duration": 0.149664,
     "end_time": "2021-07-08T19:09:50.587443",
     "exception": false,
     "start_time": "2021-07-08T19:09:50.437779",
     "status": "completed"
    },
    "tags": []
   },
   "outputs": [],
   "source": [
    "#Input layer\n",
    "feature_layer = tf.keras.layers.DenseFeatures(feature_columns)\n",
    "#Model architecture\n",
    "model = tf.keras.Sequential([\n",
    "  feature_layer,\n",
    "  layers.Dense(128, activation='relu'),\n",
    "  layers.Dense(64, activation='relu'),\n",
    "  layers.Dense(32, activation='relu'), \n",
    "  layers.Dense(16, activation='relu'), \n",
    "  layers.Dense(1)\n",
    "])\n",
    "model.compile(loss='mse', optimizer=tf.keras.optimizers.Adam(0.001), metrics=[tf.keras.metrics.RootMeanSquaredError()])"
   ]
  },
  {
   "cell_type": "code",
   "execution_count": 83,
   "id": "packed-language",
   "metadata": {
    "execution": {
     "iopub.execute_input": "2021-07-08T19:09:50.810053Z",
     "iopub.status.busy": "2021-07-08T19:09:50.809351Z",
     "iopub.status.idle": "2021-07-08T19:10:01.923712Z",
     "shell.execute_reply": "2021-07-08T19:10:01.924341Z",
     "shell.execute_reply.started": "2021-07-08T19:05:24.377754Z"
    },
    "papermill": {
     "duration": 11.228156,
     "end_time": "2021-07-08T19:10:01.924612",
     "exception": false,
     "start_time": "2021-07-08T19:09:50.696456",
     "status": "completed"
    },
    "tags": []
   },
   "outputs": [
    {
     "name": "stdout",
     "output_type": "stream",
     "text": [
      "Epoch 1/40\n",
      "58/58 [==============================] - 2s 16ms/step - loss: 2912.6898 - root_mean_squared_error: 53.0321 - val_loss: 171.0300 - val_root_mean_squared_error: 13.0778\n",
      "Epoch 2/40\n",
      "58/58 [==============================] - 0s 4ms/step - loss: 149.0394 - root_mean_squared_error: 12.1691 - val_loss: 90.5093 - val_root_mean_squared_error: 9.5136\n",
      "Epoch 3/40\n",
      "58/58 [==============================] - 0s 4ms/step - loss: 97.4747 - root_mean_squared_error: 9.8705 - val_loss: 77.4235 - val_root_mean_squared_error: 8.7991\n",
      "Epoch 4/40\n",
      "58/58 [==============================] - 0s 4ms/step - loss: 73.7637 - root_mean_squared_error: 8.5837 - val_loss: 65.2425 - val_root_mean_squared_error: 8.0773\n",
      "Epoch 5/40\n",
      "58/58 [==============================] - 0s 4ms/step - loss: 67.0981 - root_mean_squared_error: 8.1838 - val_loss: 51.8145 - val_root_mean_squared_error: 7.1982\n",
      "Epoch 6/40\n",
      "58/58 [==============================] - 0s 4ms/step - loss: 47.9554 - root_mean_squared_error: 6.9225 - val_loss: 45.3827 - val_root_mean_squared_error: 6.7367\n",
      "Epoch 7/40\n",
      "58/58 [==============================] - 0s 4ms/step - loss: 48.5967 - root_mean_squared_error: 6.9409 - val_loss: 42.9256 - val_root_mean_squared_error: 6.5518\n",
      "Epoch 8/40\n",
      "58/58 [==============================] - 0s 4ms/step - loss: 41.3148 - root_mean_squared_error: 6.4219 - val_loss: 37.0045 - val_root_mean_squared_error: 6.0831\n",
      "Epoch 9/40\n",
      "58/58 [==============================] - 0s 4ms/step - loss: 28.8263 - root_mean_squared_error: 5.3628 - val_loss: 35.1043 - val_root_mean_squared_error: 5.9249\n",
      "Epoch 10/40\n",
      "58/58 [==============================] - 0s 4ms/step - loss: 28.2204 - root_mean_squared_error: 5.3078 - val_loss: 32.9501 - val_root_mean_squared_error: 5.7402\n",
      "Epoch 11/40\n",
      "58/58 [==============================] - 0s 4ms/step - loss: 25.3917 - root_mean_squared_error: 5.0363 - val_loss: 30.2174 - val_root_mean_squared_error: 5.4970\n",
      "Epoch 12/40\n",
      "58/58 [==============================] - 0s 4ms/step - loss: 20.6595 - root_mean_squared_error: 4.5369 - val_loss: 28.1690 - val_root_mean_squared_error: 5.3074\n",
      "Epoch 13/40\n",
      "58/58 [==============================] - 0s 4ms/step - loss: 19.3887 - root_mean_squared_error: 4.4015 - val_loss: 27.6207 - val_root_mean_squared_error: 5.2555\n",
      "Epoch 14/40\n",
      "58/58 [==============================] - 0s 4ms/step - loss: 18.7205 - root_mean_squared_error: 4.3216 - val_loss: 28.3813 - val_root_mean_squared_error: 5.3274\n",
      "Epoch 15/40\n",
      "58/58 [==============================] - 0s 4ms/step - loss: 19.1122 - root_mean_squared_error: 4.3364 - val_loss: 23.8573 - val_root_mean_squared_error: 4.8844\n",
      "Epoch 16/40\n",
      "58/58 [==============================] - 0s 4ms/step - loss: 16.7523 - root_mean_squared_error: 4.0871 - val_loss: 22.3150 - val_root_mean_squared_error: 4.7239\n",
      "Epoch 17/40\n",
      "58/58 [==============================] - 0s 4ms/step - loss: 13.4881 - root_mean_squared_error: 3.6565 - val_loss: 21.8582 - val_root_mean_squared_error: 4.6753\n",
      "Epoch 18/40\n",
      "58/58 [==============================] - 0s 4ms/step - loss: 13.2397 - root_mean_squared_error: 3.6354 - val_loss: 20.4035 - val_root_mean_squared_error: 4.5170\n",
      "Epoch 19/40\n",
      "58/58 [==============================] - 0s 4ms/step - loss: 12.5913 - root_mean_squared_error: 3.5093 - val_loss: 22.1982 - val_root_mean_squared_error: 4.7115\n",
      "Epoch 20/40\n",
      "58/58 [==============================] - 0s 4ms/step - loss: 12.1424 - root_mean_squared_error: 3.4752 - val_loss: 19.0612 - val_root_mean_squared_error: 4.3659\n",
      "Epoch 21/40\n",
      "58/58 [==============================] - 0s 4ms/step - loss: 12.3438 - root_mean_squared_error: 3.5076 - val_loss: 19.2437 - val_root_mean_squared_error: 4.3868\n",
      "Epoch 22/40\n",
      "58/58 [==============================] - 0s 4ms/step - loss: 9.6099 - root_mean_squared_error: 3.0956 - val_loss: 21.5174 - val_root_mean_squared_error: 4.6387\n",
      "Epoch 23/40\n",
      "58/58 [==============================] - 0s 4ms/step - loss: 9.7178 - root_mean_squared_error: 3.1156 - val_loss: 22.0470 - val_root_mean_squared_error: 4.6954\n",
      "Epoch 24/40\n",
      "58/58 [==============================] - 0s 4ms/step - loss: 10.4978 - root_mean_squared_error: 3.2368 - val_loss: 17.0007 - val_root_mean_squared_error: 4.1232\n",
      "Epoch 25/40\n",
      "58/58 [==============================] - 0s 4ms/step - loss: 8.5301 - root_mean_squared_error: 2.9167 - val_loss: 16.7898 - val_root_mean_squared_error: 4.0975\n",
      "Epoch 26/40\n",
      "58/58 [==============================] - 0s 4ms/step - loss: 7.7078 - root_mean_squared_error: 2.7677 - val_loss: 15.4442 - val_root_mean_squared_error: 3.9299\n",
      "Epoch 27/40\n",
      "58/58 [==============================] - 0s 4ms/step - loss: 7.5495 - root_mean_squared_error: 2.7407 - val_loss: 14.4123 - val_root_mean_squared_error: 3.7963\n",
      "Epoch 28/40\n",
      "58/58 [==============================] - 0s 4ms/step - loss: 8.3039 - root_mean_squared_error: 2.8744 - val_loss: 13.6249 - val_root_mean_squared_error: 3.6912\n",
      "Epoch 29/40\n",
      "58/58 [==============================] - 0s 4ms/step - loss: 7.4848 - root_mean_squared_error: 2.7323 - val_loss: 13.7865 - val_root_mean_squared_error: 3.7130\n",
      "Epoch 30/40\n",
      "58/58 [==============================] - 0s 4ms/step - loss: 6.0410 - root_mean_squared_error: 2.4532 - val_loss: 14.6803 - val_root_mean_squared_error: 3.8315\n",
      "Epoch 31/40\n",
      "58/58 [==============================] - 0s 4ms/step - loss: 7.3085 - root_mean_squared_error: 2.6994 - val_loss: 14.4180 - val_root_mean_squared_error: 3.7971\n",
      "Epoch 32/40\n",
      "58/58 [==============================] - 0s 4ms/step - loss: 6.9398 - root_mean_squared_error: 2.6323 - val_loss: 16.7635 - val_root_mean_squared_error: 4.0943\n",
      "Epoch 33/40\n",
      "58/58 [==============================] - 0s 4ms/step - loss: 8.3452 - root_mean_squared_error: 2.8834 - val_loss: 13.6091 - val_root_mean_squared_error: 3.6890\n",
      "Epoch 34/40\n",
      "58/58 [==============================] - 0s 4ms/step - loss: 8.3659 - root_mean_squared_error: 2.8608 - val_loss: 12.2184 - val_root_mean_squared_error: 3.4955\n",
      "Epoch 35/40\n",
      "58/58 [==============================] - 0s 4ms/step - loss: 6.3558 - root_mean_squared_error: 2.5091 - val_loss: 12.4273 - val_root_mean_squared_error: 3.5252\n",
      "Epoch 36/40\n",
      "58/58 [==============================] - 0s 4ms/step - loss: 5.7654 - root_mean_squared_error: 2.3993 - val_loss: 12.3528 - val_root_mean_squared_error: 3.5147\n",
      "Epoch 37/40\n",
      "58/58 [==============================] - 0s 4ms/step - loss: 6.9562 - root_mean_squared_error: 2.6315 - val_loss: 10.8203 - val_root_mean_squared_error: 3.2894\n",
      "Epoch 38/40\n",
      "58/58 [==============================] - 0s 4ms/step - loss: 5.0845 - root_mean_squared_error: 2.2490 - val_loss: 10.9022 - val_root_mean_squared_error: 3.3018\n",
      "Epoch 39/40\n",
      "58/58 [==============================] - 0s 4ms/step - loss: 6.2047 - root_mean_squared_error: 2.4904 - val_loss: 10.5571 - val_root_mean_squared_error: 3.2492\n",
      "Epoch 40/40\n",
      "58/58 [==============================] - 0s 4ms/step - loss: 5.5621 - root_mean_squared_error: 2.3549 - val_loss: 10.6858 - val_root_mean_squared_error: 3.2689\n"
     ]
    }
   ],
   "source": [
    "#Fitting\n",
    "history = model.fit(train_ds, validation_data=val_ds, epochs=40)"
   ]
  },
  {
   "cell_type": "code",
   "execution_count": 84,
   "id": "breeding-bubble",
   "metadata": {
    "execution": {
     "iopub.execute_input": "2021-07-08T19:10:02.258332Z",
     "iopub.status.busy": "2021-07-08T19:10:02.257313Z",
     "iopub.status.idle": "2021-07-08T19:10:02.262600Z",
     "shell.execute_reply": "2021-07-08T19:10:02.262030Z",
     "shell.execute_reply.started": "2021-07-08T19:05:36.226514Z"
    },
    "papermill": {
     "duration": 0.178442,
     "end_time": "2021-07-08T19:10:02.262751",
     "exception": false,
     "start_time": "2021-07-08T19:10:02.084309",
     "status": "completed"
    },
    "tags": []
   },
   "outputs": [
    {
     "data": {
      "text/html": [
       "<div>\n",
       "<style scoped>\n",
       "    .dataframe tbody tr th:only-of-type {\n",
       "        vertical-align: middle;\n",
       "    }\n",
       "\n",
       "    .dataframe tbody tr th {\n",
       "        vertical-align: top;\n",
       "    }\n",
       "\n",
       "    .dataframe thead th {\n",
       "        text-align: right;\n",
       "    }\n",
       "</style>\n",
       "<table border=\"1\" class=\"dataframe\">\n",
       "  <thead>\n",
       "    <tr style=\"text-align: right;\">\n",
       "      <th></th>\n",
       "      <th>loss</th>\n",
       "      <th>root_mean_squared_error</th>\n",
       "      <th>val_loss</th>\n",
       "      <th>val_root_mean_squared_error</th>\n",
       "      <th>epoch</th>\n",
       "    </tr>\n",
       "  </thead>\n",
       "  <tbody>\n",
       "    <tr>\n",
       "      <th>35</th>\n",
       "      <td>5.762866</td>\n",
       "      <td>2.400597</td>\n",
       "      <td>12.352845</td>\n",
       "      <td>3.514662</td>\n",
       "      <td>35</td>\n",
       "    </tr>\n",
       "    <tr>\n",
       "      <th>36</th>\n",
       "      <td>6.228776</td>\n",
       "      <td>2.495752</td>\n",
       "      <td>10.820253</td>\n",
       "      <td>3.289415</td>\n",
       "      <td>36</td>\n",
       "    </tr>\n",
       "    <tr>\n",
       "      <th>37</th>\n",
       "      <td>6.083138</td>\n",
       "      <td>2.466402</td>\n",
       "      <td>10.902196</td>\n",
       "      <td>3.301847</td>\n",
       "      <td>37</td>\n",
       "    </tr>\n",
       "    <tr>\n",
       "      <th>38</th>\n",
       "      <td>5.920846</td>\n",
       "      <td>2.433279</td>\n",
       "      <td>10.557143</td>\n",
       "      <td>3.249176</td>\n",
       "      <td>38</td>\n",
       "    </tr>\n",
       "    <tr>\n",
       "      <th>39</th>\n",
       "      <td>5.522215</td>\n",
       "      <td>2.349939</td>\n",
       "      <td>10.685758</td>\n",
       "      <td>3.268908</td>\n",
       "      <td>39</td>\n",
       "    </tr>\n",
       "  </tbody>\n",
       "</table>\n",
       "</div>"
      ],
      "text/plain": [
       "        loss  root_mean_squared_error   val_loss  val_root_mean_squared_error  \\\n",
       "35  5.762866                 2.400597  12.352845                     3.514662   \n",
       "36  6.228776                 2.495752  10.820253                     3.289415   \n",
       "37  6.083138                 2.466402  10.902196                     3.301847   \n",
       "38  5.920846                 2.433279  10.557143                     3.249176   \n",
       "39  5.522215                 2.349939  10.685758                     3.268908   \n",
       "\n",
       "    epoch  \n",
       "35     35  \n",
       "36     36  \n",
       "37     37  \n",
       "38     38  \n",
       "39     39  "
      ]
     },
     "execution_count": 84,
     "metadata": {},
     "output_type": "execute_result"
    }
   ],
   "source": [
    "hist = pd.DataFrame(history.history)\n",
    "hist['epoch'] = history.epoch\n",
    "hist.tail()"
   ]
  },
  {
   "cell_type": "code",
   "execution_count": 85,
   "id": "matched-harassment",
   "metadata": {
    "execution": {
     "iopub.execute_input": "2021-07-08T19:10:02.585490Z",
     "iopub.status.busy": "2021-07-08T19:10:02.584137Z",
     "iopub.status.idle": "2021-07-08T19:10:02.879608Z",
     "shell.execute_reply": "2021-07-08T19:10:02.880141Z",
     "shell.execute_reply.started": "2021-07-08T19:05:38.158836Z"
    },
    "papermill": {
     "duration": 0.45961,
     "end_time": "2021-07-08T19:10:02.880339",
     "exception": false,
     "start_time": "2021-07-08T19:10:02.420729",
     "status": "completed"
    },
    "tags": []
   },
   "outputs": [],
   "source": [
    "predictions = model.predict(test_ds)\n",
    "y = np.concatenate([y for x, y in test_ds], axis=0)"
   ]
  },
  {
   "cell_type": "code",
   "execution_count": 86,
   "id": "included-organ",
   "metadata": {
    "execution": {
     "iopub.execute_input": "2021-07-08T19:10:03.201425Z",
     "iopub.status.busy": "2021-07-08T19:10:03.200717Z",
     "iopub.status.idle": "2021-07-08T19:10:03.212699Z",
     "shell.execute_reply": "2021-07-08T19:10:03.212068Z",
     "shell.execute_reply.started": "2021-07-08T19:05:40.761257Z"
    },
    "papermill": {
     "duration": 0.174397,
     "end_time": "2021-07-08T19:10:03.212847",
     "exception": false,
     "start_time": "2021-07-08T19:10:03.038450",
     "status": "completed"
    },
    "tags": []
   },
   "outputs": [
    {
     "data": {
      "text/html": [
       "<div>\n",
       "<style scoped>\n",
       "    .dataframe tbody tr th:only-of-type {\n",
       "        vertical-align: middle;\n",
       "    }\n",
       "\n",
       "    .dataframe tbody tr th {\n",
       "        vertical-align: top;\n",
       "    }\n",
       "\n",
       "    .dataframe thead th {\n",
       "        text-align: right;\n",
       "    }\n",
       "</style>\n",
       "<table border=\"1\" class=\"dataframe\">\n",
       "  <thead>\n",
       "    <tr style=\"text-align: right;\">\n",
       "      <th></th>\n",
       "      <th>predictions</th>\n",
       "      <th>True</th>\n",
       "    </tr>\n",
       "  </thead>\n",
       "  <tbody>\n",
       "    <tr>\n",
       "      <th>568</th>\n",
       "      <td>65.390266</td>\n",
       "      <td>64.5</td>\n",
       "    </tr>\n",
       "    <tr>\n",
       "      <th>569</th>\n",
       "      <td>66.062790</td>\n",
       "      <td>59.2</td>\n",
       "    </tr>\n",
       "    <tr>\n",
       "      <th>570</th>\n",
       "      <td>73.869949</td>\n",
       "      <td>73.3</td>\n",
       "    </tr>\n",
       "    <tr>\n",
       "      <th>571</th>\n",
       "      <td>71.569748</td>\n",
       "      <td>78.0</td>\n",
       "    </tr>\n",
       "    <tr>\n",
       "      <th>572</th>\n",
       "      <td>78.504097</td>\n",
       "      <td>77.0</td>\n",
       "    </tr>\n",
       "  </tbody>\n",
       "</table>\n",
       "</div>"
      ],
      "text/plain": [
       "     predictions  True\n",
       "568    65.390266  64.5\n",
       "569    66.062790  59.2\n",
       "570    73.869949  73.3\n",
       "571    71.569748  78.0\n",
       "572    78.504097  77.0"
      ]
     },
     "execution_count": 86,
     "metadata": {},
     "output_type": "execute_result"
    }
   ],
   "source": [
    "compare = pd.DataFrame({'predictions':predictions.reshape((-1,)), 'True': y})\n",
    "compare.tail()"
   ]
  },
  {
   "cell_type": "code",
   "execution_count": 87,
   "id": "educated-sending",
   "metadata": {
    "execution": {
     "iopub.execute_input": "2021-07-08T19:10:03.535690Z",
     "iopub.status.busy": "2021-07-08T19:10:03.534649Z",
     "iopub.status.idle": "2021-07-08T19:10:03.602246Z",
     "shell.execute_reply": "2021-07-08T19:10:03.603000Z",
     "shell.execute_reply.started": "2021-07-08T19:05:45.673173Z"
    },
    "papermill": {
     "duration": 0.232252,
     "end_time": "2021-07-08T19:10:03.603258",
     "exception": false,
     "start_time": "2021-07-08T19:10:03.371006",
     "status": "completed"
    },
    "tags": []
   },
   "outputs": [
    {
     "name": "stdout",
     "output_type": "stream",
     "text": [
      "36/36 [==============================] - 0s 1ms/step - loss: 9.8171 - root_mean_squared_error: 3.1332\n"
     ]
    }
   ],
   "source": [
    "model_err = model.evaluate(test_ds)"
   ]
  },
  {
   "cell_type": "markdown",
   "id": "rational-specification",
   "metadata": {
    "papermill": {
     "duration": 0.160211,
     "end_time": "2021-07-08T19:10:03.922654",
     "exception": false,
     "start_time": "2021-07-08T19:10:03.762443",
     "status": "completed"
    },
    "tags": []
   },
   "source": [
    "## **IN THIS PARTICULAR CASE, THE MIXED EFFECT MODEL IS SUPERIOR TO BOTH NORMAL LINEAR REGRESSION AND THE USED NEURAL NETWORK ARCHITECTURE, SINCE IT TAKES INTO ACCOUNT THE DEPENDANCE OF THE DATA.**"
   ]
  }
 ],
 "metadata": {
  "kernelspec": {
   "display_name": "Python 3",
   "language": "python",
   "name": "python3"
  },
  "language_info": {
   "codemirror_mode": {
    "name": "ipython",
    "version": 3
   },
   "file_extension": ".py",
   "mimetype": "text/x-python",
   "name": "python",
   "nbconvert_exporter": "python",
   "pygments_lexer": "ipython3",
   "version": "3.8.8"
  },
  "papermill": {
   "default_parameters": {},
   "duration": 136.294468,
   "end_time": "2021-07-08T19:10:05.396652",
   "environment_variables": {},
   "exception": null,
   "input_path": "__notebook__.ipynb",
   "output_path": "__notebook__.ipynb",
   "parameters": {},
   "start_time": "2021-07-08T19:07:49.102184",
   "version": "2.3.2"
  }
 },
 "nbformat": 4,
 "nbformat_minor": 5
}
