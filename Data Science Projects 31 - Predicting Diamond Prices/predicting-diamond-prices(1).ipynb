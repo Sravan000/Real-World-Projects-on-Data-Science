{
 "cells": [
  {
   "cell_type": "code",
   "execution_count": 24,
   "metadata": {
    "scrolled": true
   },
   "outputs": [],
   "source": [
    "import numpy as np\n",
    "import warnings\n",
    "import pandas as pd\n",
    "import seaborn as sns\n",
    "import matplotlib.pyplot as plt\n",
    "%matplotlib inline \n",
    "\n",
    "from sklearn.preprocessing import StandardScaler\n",
    "from sklearn.model_selection import KFold\n",
    "from sklearn.model_selection import cross_validate\n",
    "from sklearn.linear_model import LinearRegression\n",
    "from sklearn.tree import DecisionTreeRegressor\n",
    "from sklearn.ensemble import RandomForestRegressor\n",
    "# from xgboost import XGBRegressor\n",
    "\n",
    "sns.set_style('darkgrid')\n",
    "warnings.filterwarnings('ignore')\n",
    "\n"
   ]
  },
  {
   "cell_type": "code",
   "execution_count": 7,
   "metadata": {},
   "outputs": [],
   "source": [
    "''' reading dataset '''\n",
    "df = pd.read_csv('diamonds.csv')"
   ]
  },
  {
   "cell_type": "code",
   "execution_count": 8,
   "metadata": {},
   "outputs": [
    {
     "data": {
      "text/html": [
       "<div>\n",
       "<style scoped>\n",
       "    .dataframe tbody tr th:only-of-type {\n",
       "        vertical-align: middle;\n",
       "    }\n",
       "\n",
       "    .dataframe tbody tr th {\n",
       "        vertical-align: top;\n",
       "    }\n",
       "\n",
       "    .dataframe thead th {\n",
       "        text-align: right;\n",
       "    }\n",
       "</style>\n",
       "<table border=\"1\" class=\"dataframe\">\n",
       "  <thead>\n",
       "    <tr style=\"text-align: right;\">\n",
       "      <th></th>\n",
       "      <th>Unnamed: 0</th>\n",
       "      <th>carat</th>\n",
       "      <th>cut</th>\n",
       "      <th>color</th>\n",
       "      <th>clarity</th>\n",
       "      <th>depth</th>\n",
       "      <th>table</th>\n",
       "      <th>price</th>\n",
       "      <th>x</th>\n",
       "      <th>y</th>\n",
       "      <th>z</th>\n",
       "    </tr>\n",
       "  </thead>\n",
       "  <tbody>\n",
       "    <tr>\n",
       "      <th>0</th>\n",
       "      <td>1</td>\n",
       "      <td>0.23</td>\n",
       "      <td>Ideal</td>\n",
       "      <td>E</td>\n",
       "      <td>SI2</td>\n",
       "      <td>61.5</td>\n",
       "      <td>55.0</td>\n",
       "      <td>326</td>\n",
       "      <td>3.95</td>\n",
       "      <td>3.98</td>\n",
       "      <td>2.43</td>\n",
       "    </tr>\n",
       "    <tr>\n",
       "      <th>1</th>\n",
       "      <td>2</td>\n",
       "      <td>0.21</td>\n",
       "      <td>Premium</td>\n",
       "      <td>E</td>\n",
       "      <td>SI1</td>\n",
       "      <td>59.8</td>\n",
       "      <td>61.0</td>\n",
       "      <td>326</td>\n",
       "      <td>3.89</td>\n",
       "      <td>3.84</td>\n",
       "      <td>2.31</td>\n",
       "    </tr>\n",
       "    <tr>\n",
       "      <th>2</th>\n",
       "      <td>3</td>\n",
       "      <td>0.23</td>\n",
       "      <td>Good</td>\n",
       "      <td>E</td>\n",
       "      <td>VS1</td>\n",
       "      <td>56.9</td>\n",
       "      <td>65.0</td>\n",
       "      <td>327</td>\n",
       "      <td>4.05</td>\n",
       "      <td>4.07</td>\n",
       "      <td>2.31</td>\n",
       "    </tr>\n",
       "    <tr>\n",
       "      <th>3</th>\n",
       "      <td>4</td>\n",
       "      <td>0.29</td>\n",
       "      <td>Premium</td>\n",
       "      <td>I</td>\n",
       "      <td>VS2</td>\n",
       "      <td>62.4</td>\n",
       "      <td>58.0</td>\n",
       "      <td>334</td>\n",
       "      <td>4.20</td>\n",
       "      <td>4.23</td>\n",
       "      <td>2.63</td>\n",
       "    </tr>\n",
       "    <tr>\n",
       "      <th>4</th>\n",
       "      <td>5</td>\n",
       "      <td>0.31</td>\n",
       "      <td>Good</td>\n",
       "      <td>J</td>\n",
       "      <td>SI2</td>\n",
       "      <td>63.3</td>\n",
       "      <td>58.0</td>\n",
       "      <td>335</td>\n",
       "      <td>4.34</td>\n",
       "      <td>4.35</td>\n",
       "      <td>2.75</td>\n",
       "    </tr>\n",
       "  </tbody>\n",
       "</table>\n",
       "</div>"
      ],
      "text/plain": [
       "   Unnamed: 0  carat      cut color clarity  depth  table  price     x     y  \\\n",
       "0           1   0.23    Ideal     E     SI2   61.5   55.0    326  3.95  3.98   \n",
       "1           2   0.21  Premium     E     SI1   59.8   61.0    326  3.89  3.84   \n",
       "2           3   0.23     Good     E     VS1   56.9   65.0    327  4.05  4.07   \n",
       "3           4   0.29  Premium     I     VS2   62.4   58.0    334  4.20  4.23   \n",
       "4           5   0.31     Good     J     SI2   63.3   58.0    335  4.34  4.35   \n",
       "\n",
       "      z  \n",
       "0  2.43  \n",
       "1  2.31  \n",
       "2  2.31  \n",
       "3  2.63  \n",
       "4  2.75  "
      ]
     },
     "execution_count": 8,
     "metadata": {},
     "output_type": "execute_result"
    }
   ],
   "source": [
    "''' displaying first 5 rows '''\n",
    "df.head()"
   ]
  },
  {
   "cell_type": "code",
   "execution_count": 9,
   "metadata": {},
   "outputs": [
    {
     "data": {
      "text/plain": [
       "(53940, 11)"
      ]
     },
     "execution_count": 9,
     "metadata": {},
     "output_type": "execute_result"
    }
   ],
   "source": [
    "''' shape of data '''\n",
    "df.shape"
   ]
  },
  {
   "cell_type": "code",
   "execution_count": 10,
   "metadata": {},
   "outputs": [
    {
     "data": {
      "text/html": [
       "<div>\n",
       "<style scoped>\n",
       "    .dataframe tbody tr th:only-of-type {\n",
       "        vertical-align: middle;\n",
       "    }\n",
       "\n",
       "    .dataframe tbody tr th {\n",
       "        vertical-align: top;\n",
       "    }\n",
       "\n",
       "    .dataframe thead th {\n",
       "        text-align: right;\n",
       "    }\n",
       "</style>\n",
       "<table border=\"1\" class=\"dataframe\">\n",
       "  <thead>\n",
       "    <tr style=\"text-align: right;\">\n",
       "      <th></th>\n",
       "      <th>Unnamed: 0</th>\n",
       "      <th>carat</th>\n",
       "      <th>cut</th>\n",
       "      <th>color</th>\n",
       "      <th>clarity</th>\n",
       "      <th>depth</th>\n",
       "      <th>table</th>\n",
       "      <th>price</th>\n",
       "      <th>x</th>\n",
       "      <th>y</th>\n",
       "      <th>z</th>\n",
       "    </tr>\n",
       "  </thead>\n",
       "  <tbody>\n",
       "  </tbody>\n",
       "</table>\n",
       "</div>"
      ],
      "text/plain": [
       "Empty DataFrame\n",
       "Columns: [Unnamed: 0, carat, cut, color, clarity, depth, table, price, x, y, z]\n",
       "Index: []"
      ]
     },
     "execution_count": 10,
     "metadata": {},
     "output_type": "execute_result"
    }
   ],
   "source": [
    "''' checking duplicate rows '''\n",
    "df[df.duplicated()]"
   ]
  },
  {
   "cell_type": "code",
   "execution_count": 11,
   "metadata": {},
   "outputs": [
    {
     "data": {
      "text/plain": [
       "Unnamed: 0    0\n",
       "carat         0\n",
       "cut           0\n",
       "color         0\n",
       "clarity       0\n",
       "depth         0\n",
       "table         0\n",
       "price         0\n",
       "x             0\n",
       "y             0\n",
       "z             0\n",
       "dtype: int64"
      ]
     },
     "execution_count": 11,
     "metadata": {},
     "output_type": "execute_result"
    }
   ],
   "source": [
    "''' checking null values '''\n",
    "df.isnull().sum()"
   ]
  },
  {
   "cell_type": "code",
   "execution_count": 12,
   "metadata": {},
   "outputs": [
    {
     "name": "stdout",
     "output_type": "stream",
     "text": [
      "<class 'pandas.core.frame.DataFrame'>\n",
      "RangeIndex: 53940 entries, 0 to 53939\n",
      "Data columns (total 11 columns):\n",
      " #   Column      Non-Null Count  Dtype  \n",
      "---  ------      --------------  -----  \n",
      " 0   Unnamed: 0  53940 non-null  int64  \n",
      " 1   carat       53940 non-null  float64\n",
      " 2   cut         53940 non-null  object \n",
      " 3   color       53940 non-null  object \n",
      " 4   clarity     53940 non-null  object \n",
      " 5   depth       53940 non-null  float64\n",
      " 6   table       53940 non-null  float64\n",
      " 7   price       53940 non-null  int64  \n",
      " 8   x           53940 non-null  float64\n",
      " 9   y           53940 non-null  float64\n",
      " 10  z           53940 non-null  float64\n",
      "dtypes: float64(6), int64(2), object(3)\n",
      "memory usage: 4.5+ MB\n"
     ]
    }
   ],
   "source": [
    "''' info of data '''\n",
    "df.info()"
   ]
  },
  {
   "cell_type": "code",
   "execution_count": 13,
   "metadata": {},
   "outputs": [],
   "source": [
    "''' dropingg Unnamed column from data '''\n",
    "df.drop(['Unnamed: 0'], axis=1, inplace=True)"
   ]
  },
  {
   "cell_type": "code",
   "execution_count": 15,
   "metadata": {},
   "outputs": [
    {
     "data": {
      "text/html": [
       "<div>\n",
       "<style scoped>\n",
       "    .dataframe tbody tr th:only-of-type {\n",
       "        vertical-align: middle;\n",
       "    }\n",
       "\n",
       "    .dataframe tbody tr th {\n",
       "        vertical-align: top;\n",
       "    }\n",
       "\n",
       "    .dataframe thead th {\n",
       "        text-align: right;\n",
       "    }\n",
       "</style>\n",
       "<table border=\"1\" class=\"dataframe\">\n",
       "  <thead>\n",
       "    <tr style=\"text-align: right;\">\n",
       "      <th></th>\n",
       "      <th>carat</th>\n",
       "      <th>cut</th>\n",
       "      <th>color</th>\n",
       "      <th>clarity</th>\n",
       "      <th>depth</th>\n",
       "      <th>table</th>\n",
       "      <th>price</th>\n",
       "      <th>x</th>\n",
       "      <th>y</th>\n",
       "      <th>z</th>\n",
       "    </tr>\n",
       "  </thead>\n",
       "  <tbody>\n",
       "    <tr>\n",
       "      <th>1005</th>\n",
       "      <td>0.79</td>\n",
       "      <td>Ideal</td>\n",
       "      <td>G</td>\n",
       "      <td>SI1</td>\n",
       "      <td>62.3</td>\n",
       "      <td>57.0</td>\n",
       "      <td>2898</td>\n",
       "      <td>5.90</td>\n",
       "      <td>5.85</td>\n",
       "      <td>3.66</td>\n",
       "    </tr>\n",
       "    <tr>\n",
       "      <th>1006</th>\n",
       "      <td>0.79</td>\n",
       "      <td>Ideal</td>\n",
       "      <td>G</td>\n",
       "      <td>SI1</td>\n",
       "      <td>62.3</td>\n",
       "      <td>57.0</td>\n",
       "      <td>2898</td>\n",
       "      <td>5.90</td>\n",
       "      <td>5.85</td>\n",
       "      <td>3.66</td>\n",
       "    </tr>\n",
       "    <tr>\n",
       "      <th>1007</th>\n",
       "      <td>0.79</td>\n",
       "      <td>Ideal</td>\n",
       "      <td>G</td>\n",
       "      <td>SI1</td>\n",
       "      <td>62.3</td>\n",
       "      <td>57.0</td>\n",
       "      <td>2898</td>\n",
       "      <td>5.90</td>\n",
       "      <td>5.85</td>\n",
       "      <td>3.66</td>\n",
       "    </tr>\n",
       "    <tr>\n",
       "      <th>1008</th>\n",
       "      <td>0.79</td>\n",
       "      <td>Ideal</td>\n",
       "      <td>G</td>\n",
       "      <td>SI1</td>\n",
       "      <td>62.3</td>\n",
       "      <td>57.0</td>\n",
       "      <td>2898</td>\n",
       "      <td>5.90</td>\n",
       "      <td>5.85</td>\n",
       "      <td>3.66</td>\n",
       "    </tr>\n",
       "    <tr>\n",
       "      <th>2025</th>\n",
       "      <td>1.52</td>\n",
       "      <td>Good</td>\n",
       "      <td>E</td>\n",
       "      <td>I1</td>\n",
       "      <td>57.3</td>\n",
       "      <td>58.0</td>\n",
       "      <td>3105</td>\n",
       "      <td>7.53</td>\n",
       "      <td>7.42</td>\n",
       "      <td>4.28</td>\n",
       "    </tr>\n",
       "    <tr>\n",
       "      <th>...</th>\n",
       "      <td>...</td>\n",
       "      <td>...</td>\n",
       "      <td>...</td>\n",
       "      <td>...</td>\n",
       "      <td>...</td>\n",
       "      <td>...</td>\n",
       "      <td>...</td>\n",
       "      <td>...</td>\n",
       "      <td>...</td>\n",
       "      <td>...</td>\n",
       "    </tr>\n",
       "    <tr>\n",
       "      <th>47969</th>\n",
       "      <td>0.52</td>\n",
       "      <td>Ideal</td>\n",
       "      <td>D</td>\n",
       "      <td>VS2</td>\n",
       "      <td>61.8</td>\n",
       "      <td>55.0</td>\n",
       "      <td>1919</td>\n",
       "      <td>5.19</td>\n",
       "      <td>5.16</td>\n",
       "      <td>3.20</td>\n",
       "    </tr>\n",
       "    <tr>\n",
       "      <th>49326</th>\n",
       "      <td>0.51</td>\n",
       "      <td>Ideal</td>\n",
       "      <td>F</td>\n",
       "      <td>VVS2</td>\n",
       "      <td>61.2</td>\n",
       "      <td>56.0</td>\n",
       "      <td>2093</td>\n",
       "      <td>5.17</td>\n",
       "      <td>5.19</td>\n",
       "      <td>3.17</td>\n",
       "    </tr>\n",
       "    <tr>\n",
       "      <th>49557</th>\n",
       "      <td>0.71</td>\n",
       "      <td>Good</td>\n",
       "      <td>F</td>\n",
       "      <td>SI2</td>\n",
       "      <td>64.1</td>\n",
       "      <td>60.0</td>\n",
       "      <td>2130</td>\n",
       "      <td>0.00</td>\n",
       "      <td>0.00</td>\n",
       "      <td>0.00</td>\n",
       "    </tr>\n",
       "    <tr>\n",
       "      <th>50079</th>\n",
       "      <td>0.51</td>\n",
       "      <td>Ideal</td>\n",
       "      <td>F</td>\n",
       "      <td>VVS2</td>\n",
       "      <td>61.2</td>\n",
       "      <td>56.0</td>\n",
       "      <td>2203</td>\n",
       "      <td>5.19</td>\n",
       "      <td>5.17</td>\n",
       "      <td>3.17</td>\n",
       "    </tr>\n",
       "    <tr>\n",
       "      <th>52861</th>\n",
       "      <td>0.50</td>\n",
       "      <td>Fair</td>\n",
       "      <td>E</td>\n",
       "      <td>VS2</td>\n",
       "      <td>79.0</td>\n",
       "      <td>73.0</td>\n",
       "      <td>2579</td>\n",
       "      <td>5.21</td>\n",
       "      <td>5.18</td>\n",
       "      <td>4.09</td>\n",
       "    </tr>\n",
       "  </tbody>\n",
       "</table>\n",
       "<p>146 rows × 10 columns</p>\n",
       "</div>"
      ],
      "text/plain": [
       "       carat    cut color clarity  depth  table  price     x     y     z\n",
       "1005    0.79  Ideal     G     SI1   62.3   57.0   2898  5.90  5.85  3.66\n",
       "1006    0.79  Ideal     G     SI1   62.3   57.0   2898  5.90  5.85  3.66\n",
       "1007    0.79  Ideal     G     SI1   62.3   57.0   2898  5.90  5.85  3.66\n",
       "1008    0.79  Ideal     G     SI1   62.3   57.0   2898  5.90  5.85  3.66\n",
       "2025    1.52   Good     E      I1   57.3   58.0   3105  7.53  7.42  4.28\n",
       "...      ...    ...   ...     ...    ...    ...    ...   ...   ...   ...\n",
       "47969   0.52  Ideal     D     VS2   61.8   55.0   1919  5.19  5.16  3.20\n",
       "49326   0.51  Ideal     F    VVS2   61.2   56.0   2093  5.17  5.19  3.17\n",
       "49557   0.71   Good     F     SI2   64.1   60.0   2130  0.00  0.00  0.00\n",
       "50079   0.51  Ideal     F    VVS2   61.2   56.0   2203  5.19  5.17  3.17\n",
       "52861   0.50   Fair     E     VS2   79.0   73.0   2579  5.21  5.18  4.09\n",
       "\n",
       "[146 rows x 10 columns]"
      ]
     },
     "execution_count": 15,
     "metadata": {},
     "output_type": "execute_result"
    }
   ],
   "source": [
    "''' checking duplicate rows '''\n",
    "df[df.duplicated()]"
   ]
  },
  {
   "cell_type": "code",
   "execution_count": 16,
   "metadata": {},
   "outputs": [],
   "source": [
    "''' dropping duplicate rows '''\n",
    "df.drop_duplicates(inplace=True)"
   ]
  },
  {
   "cell_type": "code",
   "execution_count": 17,
   "metadata": {},
   "outputs": [
    {
     "data": {
      "text/html": [
       "<div>\n",
       "<style scoped>\n",
       "    .dataframe tbody tr th:only-of-type {\n",
       "        vertical-align: middle;\n",
       "    }\n",
       "\n",
       "    .dataframe tbody tr th {\n",
       "        vertical-align: top;\n",
       "    }\n",
       "\n",
       "    .dataframe thead th {\n",
       "        text-align: right;\n",
       "    }\n",
       "</style>\n",
       "<table border=\"1\" class=\"dataframe\">\n",
       "  <thead>\n",
       "    <tr style=\"text-align: right;\">\n",
       "      <th></th>\n",
       "      <th>carat</th>\n",
       "      <th>depth</th>\n",
       "      <th>table</th>\n",
       "      <th>price</th>\n",
       "      <th>x</th>\n",
       "      <th>y</th>\n",
       "      <th>z</th>\n",
       "    </tr>\n",
       "  </thead>\n",
       "  <tbody>\n",
       "    <tr>\n",
       "      <th>count</th>\n",
       "      <td>53794.00000</td>\n",
       "      <td>53794.000000</td>\n",
       "      <td>53794.000000</td>\n",
       "      <td>53794.000000</td>\n",
       "      <td>53794.000000</td>\n",
       "      <td>53794.000000</td>\n",
       "      <td>53794.000000</td>\n",
       "    </tr>\n",
       "    <tr>\n",
       "      <th>mean</th>\n",
       "      <td>0.79778</td>\n",
       "      <td>61.748080</td>\n",
       "      <td>57.458109</td>\n",
       "      <td>3933.065082</td>\n",
       "      <td>5.731214</td>\n",
       "      <td>5.734653</td>\n",
       "      <td>3.538714</td>\n",
       "    </tr>\n",
       "    <tr>\n",
       "      <th>std</th>\n",
       "      <td>0.47339</td>\n",
       "      <td>1.429909</td>\n",
       "      <td>2.233679</td>\n",
       "      <td>3988.114460</td>\n",
       "      <td>1.120695</td>\n",
       "      <td>1.141209</td>\n",
       "      <td>0.705037</td>\n",
       "    </tr>\n",
       "    <tr>\n",
       "      <th>min</th>\n",
       "      <td>0.20000</td>\n",
       "      <td>43.000000</td>\n",
       "      <td>43.000000</td>\n",
       "      <td>326.000000</td>\n",
       "      <td>0.000000</td>\n",
       "      <td>0.000000</td>\n",
       "      <td>0.000000</td>\n",
       "    </tr>\n",
       "    <tr>\n",
       "      <th>25%</th>\n",
       "      <td>0.40000</td>\n",
       "      <td>61.000000</td>\n",
       "      <td>56.000000</td>\n",
       "      <td>951.000000</td>\n",
       "      <td>4.710000</td>\n",
       "      <td>4.720000</td>\n",
       "      <td>2.910000</td>\n",
       "    </tr>\n",
       "    <tr>\n",
       "      <th>50%</th>\n",
       "      <td>0.70000</td>\n",
       "      <td>61.800000</td>\n",
       "      <td>57.000000</td>\n",
       "      <td>2401.000000</td>\n",
       "      <td>5.700000</td>\n",
       "      <td>5.710000</td>\n",
       "      <td>3.530000</td>\n",
       "    </tr>\n",
       "    <tr>\n",
       "      <th>75%</th>\n",
       "      <td>1.04000</td>\n",
       "      <td>62.500000</td>\n",
       "      <td>59.000000</td>\n",
       "      <td>5326.750000</td>\n",
       "      <td>6.540000</td>\n",
       "      <td>6.540000</td>\n",
       "      <td>4.030000</td>\n",
       "    </tr>\n",
       "    <tr>\n",
       "      <th>max</th>\n",
       "      <td>5.01000</td>\n",
       "      <td>79.000000</td>\n",
       "      <td>95.000000</td>\n",
       "      <td>18823.000000</td>\n",
       "      <td>10.740000</td>\n",
       "      <td>58.900000</td>\n",
       "      <td>31.800000</td>\n",
       "    </tr>\n",
       "  </tbody>\n",
       "</table>\n",
       "</div>"
      ],
      "text/plain": [
       "             carat         depth         table         price             x  \\\n",
       "count  53794.00000  53794.000000  53794.000000  53794.000000  53794.000000   \n",
       "mean       0.79778     61.748080     57.458109   3933.065082      5.731214   \n",
       "std        0.47339      1.429909      2.233679   3988.114460      1.120695   \n",
       "min        0.20000     43.000000     43.000000    326.000000      0.000000   \n",
       "25%        0.40000     61.000000     56.000000    951.000000      4.710000   \n",
       "50%        0.70000     61.800000     57.000000   2401.000000      5.700000   \n",
       "75%        1.04000     62.500000     59.000000   5326.750000      6.540000   \n",
       "max        5.01000     79.000000     95.000000  18823.000000     10.740000   \n",
       "\n",
       "                  y             z  \n",
       "count  53794.000000  53794.000000  \n",
       "mean       5.734653      3.538714  \n",
       "std        1.141209      0.705037  \n",
       "min        0.000000      0.000000  \n",
       "25%        4.720000      2.910000  \n",
       "50%        5.710000      3.530000  \n",
       "75%        6.540000      4.030000  \n",
       "max       58.900000     31.800000  "
      ]
     },
     "execution_count": 17,
     "metadata": {},
     "output_type": "execute_result"
    }
   ],
   "source": [
    "''' describe data '''\n",
    "df.describe()"
   ]
  },
  {
   "cell_type": "code",
   "execution_count": null,
   "metadata": {},
   "outputs": [],
   "source": []
  },
  {
   "cell_type": "code",
   "execution_count": 44,
   "metadata": {},
   "outputs": [
    {
     "data": {
      "text/html": [
       "<style  type=\"text/css\" >\n",
       "</style><table id=\"T_0f60f_\" ><thead>    <tr>        <th class=\"blank level0\" ></th>        <th class=\"col_heading level0 col0\" >carat</th>        <th class=\"col_heading level0 col1\" >cut</th>        <th class=\"col_heading level0 col2\" >color</th>        <th class=\"col_heading level0 col3\" >clarity</th>        <th class=\"col_heading level0 col4\" >depth</th>        <th class=\"col_heading level0 col5\" >table</th>        <th class=\"col_heading level0 col6\" >price</th>        <th class=\"col_heading level0 col7\" >x</th>        <th class=\"col_heading level0 col8\" >y</th>        <th class=\"col_heading level0 col9\" >z</th>    </tr></thead><tbody>\n",
       "        </tbody></table>"
      ],
      "text/plain": [
       "<pandas.io.formats.style.Styler at 0x7fb273ff1850>"
      ]
     },
     "execution_count": 44,
     "metadata": {},
     "output_type": "execute_result"
    }
   ],
   "source": [
    "''' After use df.describe().T, we could see that the minimun value of x, y and z are equal to zero. \n",
    "    Let's take a look at them. '''\n",
    "\n",
    "dictn = {\"carat\" : \"{:.2f}\", \"depth\" : \"{:.1f}\", \"table\" : \"{:.1f}\", \"x\" : \"{:.2f}\", \"y\" : \"{:.2f}\", \"z\" : \"{:.2f}\"}\n",
    "df0 = df.loc[(df[\"x\"] == 0) | (df[\"y\"] == 0) | (df[\"z\"] == 0)]\n",
    "df0.style.apply(lambda x: [\"background: yellow\" if n == 0 else \"\" for n in x], axis = 1).format(dictn)"
   ]
  },
  {
   "cell_type": "code",
   "execution_count": 27,
   "metadata": {},
   "outputs": [],
   "source": [
    "''' Transforming them into NaN values '''\n",
    "df.loc[df[\"x\"] == 0, \"x\"] = np.nan \n",
    "df.loc[df[\"y\"] == 0, \"y\"] = np.nan \n",
    "df.loc[df[\"z\"] == 0, \"z\"] = np.nan "
   ]
  },
  {
   "cell_type": "code",
   "execution_count": 28,
   "metadata": {},
   "outputs": [
    {
     "data": {
      "text/plain": [
       "x     7\n",
       "y     6\n",
       "z    19\n",
       "dtype: int64"
      ]
     },
     "execution_count": 28,
     "metadata": {},
     "output_type": "execute_result"
    }
   ],
   "source": [
    "'''Seeing the number of the new missing values'''\n",
    "df[[\"x\", \"y\", \"z\"]].isnull().sum()"
   ]
  },
  {
   "cell_type": "code",
   "execution_count": 34,
   "metadata": {},
   "outputs": [
    {
     "data": {
      "text/plain": [
       "0.30    2596\n",
       "1.01    2240\n",
       "0.31    2238\n",
       "0.70    1981\n",
       "0.32    1827\n",
       "        ... \n",
       "2.77       1\n",
       "3.11       1\n",
       "5.01       1\n",
       "3.67       1\n",
       "3.65       1\n",
       "Name: carat, Length: 273, dtype: int64"
      ]
     },
     "execution_count": 34,
     "metadata": {},
     "output_type": "execute_result"
    }
   ],
   "source": [
    "df.carat.value_counts()"
   ]
  },
  {
   "cell_type": "code",
   "execution_count": 54,
   "metadata": {},
   "outputs": [],
   "source": [
    "''' filling null values '''\n",
    "def filling_null_values(col):\n",
    "    c = df.groupby([\"carat\"])[col].median()\n",
    "    idx = list(df.loc[df[col].isnull() == True].sort_values(by = \"carat\", ascending = False).index)\n",
    "    for i in idx:\n",
    "        cv = df.loc[i, \"carat\"]\n",
    "        val = c[cv]\n",
    "        df.loc[i, col] = val\n",
    "        print(\"carat: {} / median {} value: {}\".format(cv, col, val))\n",
    "    return df.iloc[idx].style.applymap(lambda x: \"background-color: limegreen\", subset = col).format(dictn)"
   ]
  },
  {
   "cell_type": "code",
   "execution_count": 55,
   "metadata": {},
   "outputs": [
    {
     "data": {
      "text/html": [
       "<style  type=\"text/css\" >\n",
       "</style><table id=\"T_be60a_\" ><thead>    <tr>        <th class=\"blank level0\" ></th>        <th class=\"col_heading level0 col0\" >carat</th>        <th class=\"col_heading level0 col1\" >cut</th>        <th class=\"col_heading level0 col2\" >color</th>        <th class=\"col_heading level0 col3\" >clarity</th>        <th class=\"col_heading level0 col4\" >depth</th>        <th class=\"col_heading level0 col5\" >table</th>        <th class=\"col_heading level0 col6\" >price</th>        <th class=\"col_heading level0 col7\" >x</th>        <th class=\"col_heading level0 col8\" >y</th>        <th class=\"col_heading level0 col9\" >z</th>    </tr></thead><tbody>\n",
       "        </tbody></table>"
      ],
      "text/plain": [
       "<pandas.io.formats.style.Styler at 0x7fb2800d2910>"
      ]
     },
     "execution_count": 55,
     "metadata": {},
     "output_type": "execute_result"
    }
   ],
   "source": [
    "''' filling null valus in y'''\n",
    "filling_null_values(\"y\")"
   ]
  },
  {
   "cell_type": "code",
   "execution_count": 37,
   "metadata": {},
   "outputs": [
    {
     "name": "stdout",
     "output_type": "stream",
     "text": [
      "carat: 2.25 / median x value: 8.47\n",
      "carat: 1.56 / median x value: 7.46\n",
      "carat: 1.2 / median x value: 6.78\n",
      "carat: 1.14 / median x value: 6.71\n",
      "carat: 1.07 / median x value: 6.57\n",
      "carat: 1.0 / median x value: 6.38\n",
      "carat: 0.71 / median x value: 5.72\n"
     ]
    },
    {
     "data": {
      "text/html": [
       "<style  type=\"text/css\" >\n",
       "#T_4d092_row0_col7,#T_4d092_row1_col7,#T_4d092_row2_col7,#T_4d092_row3_col7,#T_4d092_row4_col7,#T_4d092_row5_col7,#T_4d092_row6_col7{\n",
       "            background-color:  limegreen;\n",
       "        }</style><table id=\"T_4d092_\" ><thead>    <tr>        <th class=\"blank level0\" ></th>        <th class=\"col_heading level0 col0\" >carat</th>        <th class=\"col_heading level0 col1\" >cut</th>        <th class=\"col_heading level0 col2\" >color</th>        <th class=\"col_heading level0 col3\" >clarity</th>        <th class=\"col_heading level0 col4\" >depth</th>        <th class=\"col_heading level0 col5\" >table</th>        <th class=\"col_heading level0 col6\" >price</th>        <th class=\"col_heading level0 col7\" >x</th>        <th class=\"col_heading level0 col8\" >y</th>        <th class=\"col_heading level0 col9\" >z</th>    </tr></thead><tbody>\n",
       "                <tr>\n",
       "                        <th id=\"T_4d092_level0_row0\" class=\"row_heading level0 row0\" >27494</th>\n",
       "                        <td id=\"T_4d092_row0_col0\" class=\"data row0 col0\" >2.01</td>\n",
       "                        <td id=\"T_4d092_row0_col1\" class=\"data row0 col1\" >Premium</td>\n",
       "                        <td id=\"T_4d092_row0_col2\" class=\"data row0 col2\" >H</td>\n",
       "                        <td id=\"T_4d092_row0_col3\" class=\"data row0 col3\" >SI1</td>\n",
       "                        <td id=\"T_4d092_row0_col4\" class=\"data row0 col4\" >61.7</td>\n",
       "                        <td id=\"T_4d092_row0_col5\" class=\"data row0 col5\" >60.0</td>\n",
       "                        <td id=\"T_4d092_row0_col6\" class=\"data row0 col6\" >18188</td>\n",
       "                        <td id=\"T_4d092_row0_col7\" class=\"data row0 col7\" >8.06</td>\n",
       "                        <td id=\"T_4d092_row0_col8\" class=\"data row0 col8\" >7.96</td>\n",
       "                        <td id=\"T_4d092_row0_col9\" class=\"data row0 col9\" >4.94</td>\n",
       "            </tr>\n",
       "            <tr>\n",
       "                        <th id=\"T_4d092_level0_row1\" class=\"row_heading level0 row1\" >24576</th>\n",
       "                        <td id=\"T_4d092_row1_col0\" class=\"data row1 col0\" >1.51</td>\n",
       "                        <td id=\"T_4d092_row1_col1\" class=\"data row1 col1\" >Very Good</td>\n",
       "                        <td id=\"T_4d092_row1_col2\" class=\"data row1 col2\" >G</td>\n",
       "                        <td id=\"T_4d092_row1_col3\" class=\"data row1 col3\" >VS2</td>\n",
       "                        <td id=\"T_4d092_row1_col4\" class=\"data row1 col4\" >63.5</td>\n",
       "                        <td id=\"T_4d092_row1_col5\" class=\"data row1 col5\" >57.0</td>\n",
       "                        <td id=\"T_4d092_row1_col6\" class=\"data row1 col6\" >12872</td>\n",
       "                        <td id=\"T_4d092_row1_col7\" class=\"data row1 col7\" >7.23</td>\n",
       "                        <td id=\"T_4d092_row1_col8\" class=\"data row1 col8\" >7.19</td>\n",
       "                        <td id=\"T_4d092_row1_col9\" class=\"data row1 col9\" >4.58</td>\n",
       "            </tr>\n",
       "            <tr>\n",
       "                        <th id=\"T_4d092_level0_row2\" class=\"row_heading level0 row2\" >26303</th>\n",
       "                        <td id=\"T_4d092_row2_col0\" class=\"data row2 col0\" >1.82</td>\n",
       "                        <td id=\"T_4d092_row2_col1\" class=\"data row2 col1\" >Ideal</td>\n",
       "                        <td id=\"T_4d092_row2_col2\" class=\"data row2 col2\" >F</td>\n",
       "                        <td id=\"T_4d092_row2_col3\" class=\"data row2 col3\" >SI1</td>\n",
       "                        <td id=\"T_4d092_row2_col4\" class=\"data row2 col4\" >61.8</td>\n",
       "                        <td id=\"T_4d092_row2_col5\" class=\"data row2 col5\" >58.0</td>\n",
       "                        <td id=\"T_4d092_row2_col6\" class=\"data row2 col6\" >15802</td>\n",
       "                        <td id=\"T_4d092_row2_col7\" class=\"data row2 col7\" >7.80</td>\n",
       "                        <td id=\"T_4d092_row2_col8\" class=\"data row2 col8\" >7.84</td>\n",
       "                        <td id=\"T_4d092_row2_col9\" class=\"data row2 col9\" >4.83</td>\n",
       "            </tr>\n",
       "            <tr>\n",
       "                        <th id=\"T_4d092_level0_row3\" class=\"row_heading level0 row3\" >15988</th>\n",
       "                        <td id=\"T_4d092_row3_col0\" class=\"data row3 col0\" >1.01</td>\n",
       "                        <td id=\"T_4d092_row3_col1\" class=\"data row3 col1\" >Good</td>\n",
       "                        <td id=\"T_4d092_row3_col2\" class=\"data row3 col2\" >E</td>\n",
       "                        <td id=\"T_4d092_row3_col3\" class=\"data row3 col3\" >VS2</td>\n",
       "                        <td id=\"T_4d092_row3_col4\" class=\"data row3 col4\" >63.3</td>\n",
       "                        <td id=\"T_4d092_row3_col5\" class=\"data row3 col5\" >60.0</td>\n",
       "                        <td id=\"T_4d092_row3_col6\" class=\"data row3 col6\" >6399</td>\n",
       "                        <td id=\"T_4d092_row3_col7\" class=\"data row3 col7\" >6.30</td>\n",
       "                        <td id=\"T_4d092_row3_col8\" class=\"data row3 col8\" >6.33</td>\n",
       "                        <td id=\"T_4d092_row3_col9\" class=\"data row3 col9\" >4.00</td>\n",
       "            </tr>\n",
       "            <tr>\n",
       "                        <th id=\"T_4d092_level0_row4\" class=\"row_heading level0 row4\" >11208</th>\n",
       "                        <td id=\"T_4d092_row4_col0\" class=\"data row4 col0\" >1.01</td>\n",
       "                        <td id=\"T_4d092_row4_col1\" class=\"data row4 col1\" >Good</td>\n",
       "                        <td id=\"T_4d092_row4_col2\" class=\"data row4 col2\" >H</td>\n",
       "                        <td id=\"T_4d092_row4_col3\" class=\"data row4 col3\" >VS2</td>\n",
       "                        <td id=\"T_4d092_row4_col4\" class=\"data row4 col4\" >63.5</td>\n",
       "                        <td id=\"T_4d092_row4_col5\" class=\"data row4 col5\" >61.0</td>\n",
       "                        <td id=\"T_4d092_row4_col6\" class=\"data row4 col6\" >4959</td>\n",
       "                        <td id=\"T_4d092_row4_col7\" class=\"data row4 col7\" >6.24</td>\n",
       "                        <td id=\"T_4d092_row4_col8\" class=\"data row4 col8\" >6.32</td>\n",
       "                        <td id=\"T_4d092_row4_col9\" class=\"data row4 col9\" >3.99</td>\n",
       "            </tr>\n",
       "            <tr>\n",
       "                        <th id=\"T_4d092_level0_row5\" class=\"row_heading level0 row5\" >11991</th>\n",
       "                        <td id=\"T_4d092_row5_col0\" class=\"data row5 col0\" >1.04</td>\n",
       "                        <td id=\"T_4d092_row5_col1\" class=\"data row5 col1\" >Ideal</td>\n",
       "                        <td id=\"T_4d092_row5_col2\" class=\"data row5 col2\" >F</td>\n",
       "                        <td id=\"T_4d092_row5_col3\" class=\"data row5 col3\" >SI1</td>\n",
       "                        <td id=\"T_4d092_row5_col4\" class=\"data row5 col4\" >61.2</td>\n",
       "                        <td id=\"T_4d092_row5_col5\" class=\"data row5 col5\" >56.0</td>\n",
       "                        <td id=\"T_4d092_row5_col6\" class=\"data row5 col6\" >5145</td>\n",
       "                        <td id=\"T_4d092_row5_col7\" class=\"data row5 col7\" >6.54</td>\n",
       "                        <td id=\"T_4d092_row5_col8\" class=\"data row5 col8\" >6.60</td>\n",
       "                        <td id=\"T_4d092_row5_col9\" class=\"data row5 col9\" >4.02</td>\n",
       "            </tr>\n",
       "            <tr>\n",
       "                        <th id=\"T_4d092_level0_row6\" class=\"row_heading level0 row6\" >49700</th>\n",
       "                        <td id=\"T_4d092_row6_col0\" class=\"data row6 col0\" >0.70</td>\n",
       "                        <td id=\"T_4d092_row6_col1\" class=\"data row6 col1\" >Very Good</td>\n",
       "                        <td id=\"T_4d092_row6_col2\" class=\"data row6 col2\" >I</td>\n",
       "                        <td id=\"T_4d092_row6_col3\" class=\"data row6 col3\" >SI1</td>\n",
       "                        <td id=\"T_4d092_row6_col4\" class=\"data row6 col4\" >62.2</td>\n",
       "                        <td id=\"T_4d092_row6_col5\" class=\"data row6 col5\" >55.0</td>\n",
       "                        <td id=\"T_4d092_row6_col6\" class=\"data row6 col6\" >2147</td>\n",
       "                        <td id=\"T_4d092_row6_col7\" class=\"data row6 col7\" >5.62</td>\n",
       "                        <td id=\"T_4d092_row6_col8\" class=\"data row6 col8\" >5.67</td>\n",
       "                        <td id=\"T_4d092_row6_col9\" class=\"data row6 col9\" >3.51</td>\n",
       "            </tr>\n",
       "    </tbody></table>"
      ],
      "text/plain": [
       "<pandas.io.formats.style.Styler at 0x7fb270fc7670>"
      ]
     },
     "execution_count": 37,
     "metadata": {},
     "output_type": "execute_result"
    }
   ],
   "source": [
    "''' filling null values in x '''\n",
    "filling_null_values(\"x\")"
   ]
  },
  {
   "cell_type": "code",
   "execution_count": 38,
   "metadata": {},
   "outputs": [
    {
     "name": "stdout",
     "output_type": "stream",
     "text": [
      "carat: 2.8 / median z value: 5.5\n",
      "carat: 2.25 / median z value: 5.19\n",
      "carat: 2.25 / median z value: 5.19\n",
      "carat: 2.2 / median z value: 5.17\n",
      "carat: 2.18 / median z value: 5.16\n",
      "carat: 2.02 / median z value: 5.0\n",
      "carat: 1.56 / median z value: 4.59\n",
      "carat: 1.5 / median z value: 4.53\n",
      "carat: 1.2 / median z value: 4.21\n",
      "carat: 1.15 / median z value: 4.16\n",
      "carat: 1.14 / median z value: 4.14\n",
      "carat: 1.12 / median z value: 4.11\n",
      "carat: 1.1 / median z value: 4.09\n",
      "carat: 1.07 / median z value: 4.05\n",
      "carat: 1.01 / median z value: 3.98\n",
      "carat: 1.01 / median z value: 3.98\n",
      "carat: 1.0 / median z value: 3.96\n",
      "carat: 1.0 / median z value: 3.96\n",
      "carat: 0.71 / median z value: 3.54\n"
     ]
    },
    {
     "data": {
      "text/html": [
       "<style  type=\"text/css\" >\n",
       "#T_d989b_row0_col9,#T_d989b_row1_col9,#T_d989b_row2_col9,#T_d989b_row3_col9,#T_d989b_row4_col9,#T_d989b_row5_col9,#T_d989b_row6_col9,#T_d989b_row7_col9,#T_d989b_row8_col9,#T_d989b_row9_col9,#T_d989b_row10_col9,#T_d989b_row11_col9,#T_d989b_row12_col9,#T_d989b_row13_col9,#T_d989b_row14_col9,#T_d989b_row15_col9,#T_d989b_row16_col9,#T_d989b_row17_col9,#T_d989b_row18_col9{\n",
       "            background-color:  limegreen;\n",
       "        }</style><table id=\"T_d989b_\" ><thead>    <tr>        <th class=\"blank level0\" ></th>        <th class=\"col_heading level0 col0\" >carat</th>        <th class=\"col_heading level0 col1\" >cut</th>        <th class=\"col_heading level0 col2\" >color</th>        <th class=\"col_heading level0 col3\" >clarity</th>        <th class=\"col_heading level0 col4\" >depth</th>        <th class=\"col_heading level0 col5\" >table</th>        <th class=\"col_heading level0 col6\" >price</th>        <th class=\"col_heading level0 col7\" >x</th>        <th class=\"col_heading level0 col8\" >y</th>        <th class=\"col_heading level0 col9\" >z</th>    </tr></thead><tbody>\n",
       "                <tr>\n",
       "                        <th id=\"T_d989b_level0_row0\" class=\"row_heading level0 row0\" >27807</th>\n",
       "                        <td id=\"T_d989b_row0_col0\" class=\"data row0 col0\" >0.23</td>\n",
       "                        <td id=\"T_d989b_row0_col1\" class=\"data row0 col1\" >Ideal</td>\n",
       "                        <td id=\"T_d989b_row0_col2\" class=\"data row0 col2\" >F</td>\n",
       "                        <td id=\"T_d989b_row0_col3\" class=\"data row0 col3\" >VVS2</td>\n",
       "                        <td id=\"T_d989b_row0_col4\" class=\"data row0 col4\" >61.6</td>\n",
       "                        <td id=\"T_d989b_row0_col5\" class=\"data row0 col5\" >54.0</td>\n",
       "                        <td id=\"T_d989b_row0_col6\" class=\"data row0 col6\" >650</td>\n",
       "                        <td id=\"T_d989b_row0_col7\" class=\"data row0 col7\" >3.97</td>\n",
       "                        <td id=\"T_d989b_row0_col8\" class=\"data row0 col8\" >3.99</td>\n",
       "                        <td id=\"T_d989b_row0_col9\" class=\"data row0 col9\" >2.45</td>\n",
       "            </tr>\n",
       "            <tr>\n",
       "                        <th id=\"T_d989b_level0_row1\" class=\"row_heading level0 row1\" >26183</th>\n",
       "                        <td id=\"T_d989b_row1_col0\" class=\"data row1 col0\" >2.01</td>\n",
       "                        <td id=\"T_d989b_row1_col1\" class=\"data row1 col1\" >Premium</td>\n",
       "                        <td id=\"T_d989b_row1_col2\" class=\"data row1 col2\" >I</td>\n",
       "                        <td id=\"T_d989b_row1_col3\" class=\"data row1 col3\" >SI1</td>\n",
       "                        <td id=\"T_d989b_row1_col4\" class=\"data row1 col4\" >60.9</td>\n",
       "                        <td id=\"T_d989b_row1_col5\" class=\"data row1 col5\" >60.0</td>\n",
       "                        <td id=\"T_d989b_row1_col6\" class=\"data row1 col6\" >15528</td>\n",
       "                        <td id=\"T_d989b_row1_col7\" class=\"data row1 col7\" >8.10</td>\n",
       "                        <td id=\"T_d989b_row1_col8\" class=\"data row1 col8\" >8.06</td>\n",
       "                        <td id=\"T_d989b_row1_col9\" class=\"data row1 col9\" >4.92</td>\n",
       "            </tr>\n",
       "            <tr>\n",
       "                        <th id=\"T_d989b_level0_row2\" class=\"row_heading level0 row2\" >27494</th>\n",
       "                        <td id=\"T_d989b_row2_col0\" class=\"data row2 col0\" >2.01</td>\n",
       "                        <td id=\"T_d989b_row2_col1\" class=\"data row2 col1\" >Premium</td>\n",
       "                        <td id=\"T_d989b_row2_col2\" class=\"data row2 col2\" >H</td>\n",
       "                        <td id=\"T_d989b_row2_col3\" class=\"data row2 col3\" >SI1</td>\n",
       "                        <td id=\"T_d989b_row2_col4\" class=\"data row2 col4\" >61.7</td>\n",
       "                        <td id=\"T_d989b_row2_col5\" class=\"data row2 col5\" >60.0</td>\n",
       "                        <td id=\"T_d989b_row2_col6\" class=\"data row2 col6\" >18188</td>\n",
       "                        <td id=\"T_d989b_row2_col7\" class=\"data row2 col7\" >8.06</td>\n",
       "                        <td id=\"T_d989b_row2_col8\" class=\"data row2 col8\" >7.96</td>\n",
       "                        <td id=\"T_d989b_row2_col9\" class=\"data row2 col9\" >4.94</td>\n",
       "            </tr>\n",
       "            <tr>\n",
       "                        <th id=\"T_d989b_level0_row3\" class=\"row_heading level0 row3\" >27177</th>\n",
       "                        <td id=\"T_d989b_row3_col0\" class=\"data row3 col0\" >1.50</td>\n",
       "                        <td id=\"T_d989b_row3_col1\" class=\"data row3 col1\" >Good</td>\n",
       "                        <td id=\"T_d989b_row3_col2\" class=\"data row3 col2\" >E</td>\n",
       "                        <td id=\"T_d989b_row3_col3\" class=\"data row3 col3\" >VVS2</td>\n",
       "                        <td id=\"T_d989b_row3_col4\" class=\"data row3 col4\" >64.3</td>\n",
       "                        <td id=\"T_d989b_row3_col5\" class=\"data row3 col5\" >58.0</td>\n",
       "                        <td id=\"T_d989b_row3_col6\" class=\"data row3 col6\" >17449</td>\n",
       "                        <td id=\"T_d989b_row3_col7\" class=\"data row3 col7\" >7.20</td>\n",
       "                        <td id=\"T_d989b_row3_col8\" class=\"data row3 col8\" >7.13</td>\n",
       "                        <td id=\"T_d989b_row3_col9\" class=\"data row3 col9\" >4.61</td>\n",
       "            </tr>\n",
       "            <tr>\n",
       "                        <th id=\"T_d989b_level0_row4\" class=\"row_heading level0 row4\" >24450</th>\n",
       "                        <td id=\"T_d989b_row4_col0\" class=\"data row4 col0\" >1.37</td>\n",
       "                        <td id=\"T_d989b_row4_col1\" class=\"data row4 col1\" >Premium</td>\n",
       "                        <td id=\"T_d989b_row4_col2\" class=\"data row4 col2\" >E</td>\n",
       "                        <td id=\"T_d989b_row4_col3\" class=\"data row4 col3\" >VS1</td>\n",
       "                        <td id=\"T_d989b_row4_col4\" class=\"data row4 col4\" >59.4</td>\n",
       "                        <td id=\"T_d989b_row4_col5\" class=\"data row4 col5\" >60.0</td>\n",
       "                        <td id=\"T_d989b_row4_col6\" class=\"data row4 col6\" >12713</td>\n",
       "                        <td id=\"T_d989b_row4_col7\" class=\"data row4 col7\" >7.27</td>\n",
       "                        <td id=\"T_d989b_row4_col8\" class=\"data row4 col8\" >7.20</td>\n",
       "                        <td id=\"T_d989b_row4_col9\" class=\"data row4 col9\" >4.30</td>\n",
       "            </tr>\n",
       "            <tr>\n",
       "                        <th id=\"T_d989b_level0_row5\" class=\"row_heading level0 row5\" >27570</th>\n",
       "                        <td id=\"T_d989b_row5_col0\" class=\"data row5 col0\" >2.09</td>\n",
       "                        <td id=\"T_d989b_row5_col1\" class=\"data row5 col1\" >Very Good</td>\n",
       "                        <td id=\"T_d989b_row5_col2\" class=\"data row5 col2\" >H</td>\n",
       "                        <td id=\"T_d989b_row5_col3\" class=\"data row5 col3\" >SI1</td>\n",
       "                        <td id=\"T_d989b_row5_col4\" class=\"data row5 col4\" >61.1</td>\n",
       "                        <td id=\"T_d989b_row5_col5\" class=\"data row5 col5\" >56.0</td>\n",
       "                        <td id=\"T_d989b_row5_col6\" class=\"data row5 col6\" >18392</td>\n",
       "                        <td id=\"T_d989b_row5_col7\" class=\"data row5 col7\" >8.23</td>\n",
       "                        <td id=\"T_d989b_row5_col8\" class=\"data row5 col8\" >8.30</td>\n",
       "                        <td id=\"T_d989b_row5_col9\" class=\"data row5 col9\" >5.05</td>\n",
       "            </tr>\n",
       "            <tr>\n",
       "                        <th id=\"T_d989b_level0_row6\" class=\"row_heading level0 row6\" >24576</th>\n",
       "                        <td id=\"T_d989b_row6_col0\" class=\"data row6 col0\" >1.51</td>\n",
       "                        <td id=\"T_d989b_row6_col1\" class=\"data row6 col1\" >Very Good</td>\n",
       "                        <td id=\"T_d989b_row6_col2\" class=\"data row6 col2\" >G</td>\n",
       "                        <td id=\"T_d989b_row6_col3\" class=\"data row6 col3\" >VS2</td>\n",
       "                        <td id=\"T_d989b_row6_col4\" class=\"data row6 col4\" >63.5</td>\n",
       "                        <td id=\"T_d989b_row6_col5\" class=\"data row6 col5\" >57.0</td>\n",
       "                        <td id=\"T_d989b_row6_col6\" class=\"data row6 col6\" >12872</td>\n",
       "                        <td id=\"T_d989b_row6_col7\" class=\"data row6 col7\" >7.23</td>\n",
       "                        <td id=\"T_d989b_row6_col8\" class=\"data row6 col8\" >7.19</td>\n",
       "                        <td id=\"T_d989b_row6_col9\" class=\"data row6 col9\" >4.58</td>\n",
       "            </tr>\n",
       "            <tr>\n",
       "                        <th id=\"T_d989b_level0_row7\" class=\"row_heading level0 row7\" >10190</th>\n",
       "                        <td id=\"T_d989b_row7_col0\" class=\"data row7 col0\" >0.95</td>\n",
       "                        <td id=\"T_d989b_row7_col1\" class=\"data row7 col1\" >Very Good</td>\n",
       "                        <td id=\"T_d989b_row7_col2\" class=\"data row7 col2\" >E</td>\n",
       "                        <td id=\"T_d989b_row7_col3\" class=\"data row7 col3\" >SI1</td>\n",
       "                        <td id=\"T_d989b_row7_col4\" class=\"data row7 col4\" >61.6</td>\n",
       "                        <td id=\"T_d989b_row7_col5\" class=\"data row7 col5\" >56.0</td>\n",
       "                        <td id=\"T_d989b_row7_col6\" class=\"data row7 col6\" >4738</td>\n",
       "                        <td id=\"T_d989b_row7_col7\" class=\"data row7 col7\" >6.31</td>\n",
       "                        <td id=\"T_d989b_row7_col8\" class=\"data row7 col8\" >6.36</td>\n",
       "                        <td id=\"T_d989b_row7_col9\" class=\"data row7 col9\" >3.90</td>\n",
       "            </tr>\n",
       "            <tr>\n",
       "                        <th id=\"T_d989b_level0_row8\" class=\"row_heading level0 row8\" >26303</th>\n",
       "                        <td id=\"T_d989b_row8_col0\" class=\"data row8 col0\" >1.82</td>\n",
       "                        <td id=\"T_d989b_row8_col1\" class=\"data row8 col1\" >Ideal</td>\n",
       "                        <td id=\"T_d989b_row8_col2\" class=\"data row8 col2\" >F</td>\n",
       "                        <td id=\"T_d989b_row8_col3\" class=\"data row8 col3\" >SI1</td>\n",
       "                        <td id=\"T_d989b_row8_col4\" class=\"data row8 col4\" >61.8</td>\n",
       "                        <td id=\"T_d989b_row8_col5\" class=\"data row8 col5\" >58.0</td>\n",
       "                        <td id=\"T_d989b_row8_col6\" class=\"data row8 col6\" >15802</td>\n",
       "                        <td id=\"T_d989b_row8_col7\" class=\"data row8 col7\" >7.80</td>\n",
       "                        <td id=\"T_d989b_row8_col8\" class=\"data row8 col8\" >7.84</td>\n",
       "                        <td id=\"T_d989b_row8_col9\" class=\"data row8 col9\" >4.83</td>\n",
       "            </tr>\n",
       "            <tr>\n",
       "                        <th id=\"T_d989b_level0_row9\" class=\"row_heading level0 row9\" >13632</th>\n",
       "                        <td id=\"T_d989b_row9_col0\" class=\"data row9 col0\" >1.35</td>\n",
       "                        <td id=\"T_d989b_row9_col1\" class=\"data row9 col1\" >Very Good</td>\n",
       "                        <td id=\"T_d989b_row9_col2\" class=\"data row9 col2\" >I</td>\n",
       "                        <td id=\"T_d989b_row9_col3\" class=\"data row9 col3\" >SI2</td>\n",
       "                        <td id=\"T_d989b_row9_col4\" class=\"data row9 col4\" >58.6</td>\n",
       "                        <td id=\"T_d989b_row9_col5\" class=\"data row9 col5\" >63.0</td>\n",
       "                        <td id=\"T_d989b_row9_col6\" class=\"data row9 col6\" >5579</td>\n",
       "                        <td id=\"T_d989b_row9_col7\" class=\"data row9 col7\" >7.28</td>\n",
       "                        <td id=\"T_d989b_row9_col8\" class=\"data row9 col8\" >7.19</td>\n",
       "                        <td id=\"T_d989b_row9_col9\" class=\"data row9 col9\" >4.24</td>\n",
       "            </tr>\n",
       "            <tr>\n",
       "                        <th id=\"T_d989b_level0_row10\" class=\"row_heading level0 row10\" >15988</th>\n",
       "                        <td id=\"T_d989b_row10_col0\" class=\"data row10 col0\" >1.01</td>\n",
       "                        <td id=\"T_d989b_row10_col1\" class=\"data row10 col1\" >Good</td>\n",
       "                        <td id=\"T_d989b_row10_col2\" class=\"data row10 col2\" >E</td>\n",
       "                        <td id=\"T_d989b_row10_col3\" class=\"data row10 col3\" >VS2</td>\n",
       "                        <td id=\"T_d989b_row10_col4\" class=\"data row10 col4\" >63.3</td>\n",
       "                        <td id=\"T_d989b_row10_col5\" class=\"data row10 col5\" >60.0</td>\n",
       "                        <td id=\"T_d989b_row10_col6\" class=\"data row10 col6\" >6399</td>\n",
       "                        <td id=\"T_d989b_row10_col7\" class=\"data row10 col7\" >6.30</td>\n",
       "                        <td id=\"T_d989b_row10_col8\" class=\"data row10 col8\" >6.33</td>\n",
       "                        <td id=\"T_d989b_row10_col9\" class=\"data row10 col9\" >4.00</td>\n",
       "            </tr>\n",
       "            <tr>\n",
       "                        <th id=\"T_d989b_level0_row11\" class=\"row_heading level0 row11\" >51651</th>\n",
       "                        <td id=\"T_d989b_row11_col0\" class=\"data row11 col0\" >0.26</td>\n",
       "                        <td id=\"T_d989b_row11_col1\" class=\"data row11 col1\" >Ideal</td>\n",
       "                        <td id=\"T_d989b_row11_col2\" class=\"data row11 col2\" >G</td>\n",
       "                        <td id=\"T_d989b_row11_col3\" class=\"data row11 col3\" >VVS2</td>\n",
       "                        <td id=\"T_d989b_row11_col4\" class=\"data row11 col4\" >62.0</td>\n",
       "                        <td id=\"T_d989b_row11_col5\" class=\"data row11 col5\" >56.0</td>\n",
       "                        <td id=\"T_d989b_row11_col6\" class=\"data row11 col6\" >545</td>\n",
       "                        <td id=\"T_d989b_row11_col7\" class=\"data row11 col7\" >4.12</td>\n",
       "                        <td id=\"T_d989b_row11_col8\" class=\"data row11 col8\" >4.15</td>\n",
       "                        <td id=\"T_d989b_row11_col9\" class=\"data row11 col9\" >2.56</td>\n",
       "            </tr>\n",
       "            <tr>\n",
       "                        <th id=\"T_d989b_level0_row12\" class=\"row_heading level0 row12\" >4804</th>\n",
       "                        <td id=\"T_d989b_row12_col0\" class=\"data row12 col0\" >0.90</td>\n",
       "                        <td id=\"T_d989b_row12_col1\" class=\"data row12 col1\" >Very Good</td>\n",
       "                        <td id=\"T_d989b_row12_col2\" class=\"data row12 col2\" >F</td>\n",
       "                        <td id=\"T_d989b_row12_col3\" class=\"data row12 col3\" >SI1</td>\n",
       "                        <td id=\"T_d989b_row12_col4\" class=\"data row12 col4\" >63.8</td>\n",
       "                        <td id=\"T_d989b_row12_col5\" class=\"data row12 col5\" >54.0</td>\n",
       "                        <td id=\"T_d989b_row12_col6\" class=\"data row12 col6\" >3699</td>\n",
       "                        <td id=\"T_d989b_row12_col7\" class=\"data row12 col7\" >6.09</td>\n",
       "                        <td id=\"T_d989b_row12_col8\" class=\"data row12 col8\" >6.13</td>\n",
       "                        <td id=\"T_d989b_row12_col9\" class=\"data row12 col9\" >3.90</td>\n",
       "            </tr>\n",
       "            <tr>\n",
       "                        <th id=\"T_d989b_level0_row13\" class=\"row_heading level0 row13\" >11208</th>\n",
       "                        <td id=\"T_d989b_row13_col0\" class=\"data row13 col0\" >1.01</td>\n",
       "                        <td id=\"T_d989b_row13_col1\" class=\"data row13 col1\" >Good</td>\n",
       "                        <td id=\"T_d989b_row13_col2\" class=\"data row13 col2\" >H</td>\n",
       "                        <td id=\"T_d989b_row13_col3\" class=\"data row13 col3\" >VS2</td>\n",
       "                        <td id=\"T_d989b_row13_col4\" class=\"data row13 col4\" >63.5</td>\n",
       "                        <td id=\"T_d989b_row13_col5\" class=\"data row13 col5\" >61.0</td>\n",
       "                        <td id=\"T_d989b_row13_col6\" class=\"data row13 col6\" >4959</td>\n",
       "                        <td id=\"T_d989b_row13_col7\" class=\"data row13 col7\" >6.24</td>\n",
       "                        <td id=\"T_d989b_row13_col8\" class=\"data row13 col8\" >6.32</td>\n",
       "                        <td id=\"T_d989b_row13_col9\" class=\"data row13 col9\" >3.99</td>\n",
       "            </tr>\n",
       "            <tr>\n",
       "                        <th id=\"T_d989b_level0_row14\" class=\"row_heading level0 row14\" >2320</th>\n",
       "                        <td id=\"T_d989b_row14_col0\" class=\"data row14 col0\" >0.70</td>\n",
       "                        <td id=\"T_d989b_row14_col1\" class=\"data row14 col1\" >Ideal</td>\n",
       "                        <td id=\"T_d989b_row14_col2\" class=\"data row14 col2\" >H</td>\n",
       "                        <td id=\"T_d989b_row14_col3\" class=\"data row14 col3\" >IF</td>\n",
       "                        <td id=\"T_d989b_row14_col4\" class=\"data row14 col4\" >62.2</td>\n",
       "                        <td id=\"T_d989b_row14_col5\" class=\"data row14 col5\" >55.0</td>\n",
       "                        <td id=\"T_d989b_row14_col6\" class=\"data row14 col6\" >3167</td>\n",
       "                        <td id=\"T_d989b_row14_col7\" class=\"data row14 col7\" >5.68</td>\n",
       "                        <td id=\"T_d989b_row14_col8\" class=\"data row14 col8\" >5.71</td>\n",
       "                        <td id=\"T_d989b_row14_col9\" class=\"data row14 col9\" >3.54</td>\n",
       "            </tr>\n",
       "            <tr>\n",
       "                        <th id=\"T_d989b_level0_row15\" class=\"row_heading level0 row15\" >5485</th>\n",
       "                        <td id=\"T_d989b_row15_col0\" class=\"data row15 col0\" >0.90</td>\n",
       "                        <td id=\"T_d989b_row15_col1\" class=\"data row15 col1\" >Very Good</td>\n",
       "                        <td id=\"T_d989b_row15_col2\" class=\"data row15 col2\" >G</td>\n",
       "                        <td id=\"T_d989b_row15_col3\" class=\"data row15 col3\" >SI1</td>\n",
       "                        <td id=\"T_d989b_row15_col4\" class=\"data row15 col4\" >62.0</td>\n",
       "                        <td id=\"T_d989b_row15_col5\" class=\"data row15 col5\" >58.0</td>\n",
       "                        <td id=\"T_d989b_row15_col6\" class=\"data row15 col6\" >3841</td>\n",
       "                        <td id=\"T_d989b_row15_col7\" class=\"data row15 col7\" >6.14</td>\n",
       "                        <td id=\"T_d989b_row15_col8\" class=\"data row15 col8\" >6.18</td>\n",
       "                        <td id=\"T_d989b_row15_col9\" class=\"data row15 col9\" >3.82</td>\n",
       "            </tr>\n",
       "            <tr>\n",
       "                        <th id=\"T_d989b_level0_row16\" class=\"row_heading level0 row16\" >11991</th>\n",
       "                        <td id=\"T_d989b_row16_col0\" class=\"data row16 col0\" >1.04</td>\n",
       "                        <td id=\"T_d989b_row16_col1\" class=\"data row16 col1\" >Ideal</td>\n",
       "                        <td id=\"T_d989b_row16_col2\" class=\"data row16 col2\" >F</td>\n",
       "                        <td id=\"T_d989b_row16_col3\" class=\"data row16 col3\" >SI1</td>\n",
       "                        <td id=\"T_d989b_row16_col4\" class=\"data row16 col4\" >61.2</td>\n",
       "                        <td id=\"T_d989b_row16_col5\" class=\"data row16 col5\" >56.0</td>\n",
       "                        <td id=\"T_d989b_row16_col6\" class=\"data row16 col6\" >5145</td>\n",
       "                        <td id=\"T_d989b_row16_col7\" class=\"data row16 col7\" >6.54</td>\n",
       "                        <td id=\"T_d989b_row16_col8\" class=\"data row16 col8\" >6.60</td>\n",
       "                        <td id=\"T_d989b_row16_col9\" class=\"data row16 col9\" >4.02</td>\n",
       "            </tr>\n",
       "            <tr>\n",
       "                        <th id=\"T_d989b_level0_row17\" class=\"row_heading level0 row17\" >2213</th>\n",
       "                        <td id=\"T_d989b_row17_col0\" class=\"data row17 col0\" >0.68</td>\n",
       "                        <td id=\"T_d989b_row17_col1\" class=\"data row17 col1\" >Very Good</td>\n",
       "                        <td id=\"T_d989b_row17_col2\" class=\"data row17 col2\" >G</td>\n",
       "                        <td id=\"T_d989b_row17_col3\" class=\"data row17 col3\" >IF</td>\n",
       "                        <td id=\"T_d989b_row17_col4\" class=\"data row17 col4\" >62.7</td>\n",
       "                        <td id=\"T_d989b_row17_col5\" class=\"data row17 col5\" >56.0</td>\n",
       "                        <td id=\"T_d989b_row17_col6\" class=\"data row17 col6\" >3143</td>\n",
       "                        <td id=\"T_d989b_row17_col7\" class=\"data row17 col7\" >5.56</td>\n",
       "                        <td id=\"T_d989b_row17_col8\" class=\"data row17 col8\" >5.60</td>\n",
       "                        <td id=\"T_d989b_row17_col9\" class=\"data row17 col9\" >3.50</td>\n",
       "            </tr>\n",
       "            <tr>\n",
       "                        <th id=\"T_d989b_level0_row18\" class=\"row_heading level0 row18\" >49700</th>\n",
       "                        <td id=\"T_d989b_row18_col0\" class=\"data row18 col0\" >0.70</td>\n",
       "                        <td id=\"T_d989b_row18_col1\" class=\"data row18 col1\" >Very Good</td>\n",
       "                        <td id=\"T_d989b_row18_col2\" class=\"data row18 col2\" >I</td>\n",
       "                        <td id=\"T_d989b_row18_col3\" class=\"data row18 col3\" >SI1</td>\n",
       "                        <td id=\"T_d989b_row18_col4\" class=\"data row18 col4\" >62.2</td>\n",
       "                        <td id=\"T_d989b_row18_col5\" class=\"data row18 col5\" >55.0</td>\n",
       "                        <td id=\"T_d989b_row18_col6\" class=\"data row18 col6\" >2147</td>\n",
       "                        <td id=\"T_d989b_row18_col7\" class=\"data row18 col7\" >5.62</td>\n",
       "                        <td id=\"T_d989b_row18_col8\" class=\"data row18 col8\" >5.67</td>\n",
       "                        <td id=\"T_d989b_row18_col9\" class=\"data row18 col9\" >3.51</td>\n",
       "            </tr>\n",
       "    </tbody></table>"
      ],
      "text/plain": [
       "<pandas.io.formats.style.Styler at 0x7fb2a0ee9310>"
      ]
     },
     "execution_count": 38,
     "metadata": {},
     "output_type": "execute_result"
    }
   ],
   "source": [
    "''' filling null values in z '''\n",
    "filling_null_values(\"z\")"
   ]
  },
  {
   "cell_type": "code",
   "execution_count": 39,
   "metadata": {},
   "outputs": [
    {
     "data": {
      "image/png": "[encoded data removed]",
      "text/plain": [
       "<Figure size 720x360 with 1 Axes>"
      ]
     },
     "metadata": {},
     "output_type": "display_data"
    },
    {
     "data": {
      "image/png": "[encoded data removed]",
      "text/plain": [
       "<Figure size 720x360 with 1 Axes>"
      ]
     },
     "metadata": {},
     "output_type": "display_data"
    },
    {
     "data": {
      "image/png": "[encoded data removed]",
      "text/plain": [
       "<Figure size 720x360 with 1 Axes>"
      ]
     },
     "metadata": {},
     "output_type": "display_data"
    },
    {
     "data": {
      "image/png": "[encoded data removed]",
      "text/plain": [
       "<Figure size 720x360 with 1 Axes>"
      ]
     },
     "metadata": {},
     "output_type": "display_data"
    },
    {
     "data": {
      "image/png": "[encoded data removed]",
      "text/plain": [
       "<Figure size 720x360 with 1 Axes>"
      ]
     },
     "metadata": {},
     "output_type": "display_data"
    },
    {
     "data": {
      "image/png": "[encoded data removed]",
      "text/plain": [
       "<Figure size 720x360 with 1 Axes>"
      ]
     },
     "metadata": {},
     "output_type": "display_data"
    },
    {
     "data": {
      "image/png": "[encoded data removed]",
      "text/plain": [
       "<Figure size 720x360 with 1 Axes>"
      ]
     },
     "metadata": {},
     "output_type": "display_data"
    }
   ],
   "source": [
    "''' boxplot '''\n",
    "for c in ['carat', 'depth', 'table', 'price', 'x', 'y', 'z']:\n",
    "    plt.figure(figsize=(10, 5))\n",
    "    sns.boxplot(df[c])\n",
    "    plt.title(c, fontsize=20)\n",
    "    plt.show()"
   ]
  },
  {
   "cell_type": "code",
   "execution_count": 50,
   "metadata": {},
   "outputs": [],
   "source": [
    "''' checking outliers '''\n",
    "def outliers(out, col):\n",
    "    out_idx = out.index\n",
    "    i = pd.IndexSlice[out_idx, col]\n",
    "    return out.style.applymap(lambda x: \"background-color: red\", subset = i).format(dictn)"
   ]
  },
  {
   "cell_type": "code",
   "execution_count": 51,
   "metadata": {},
   "outputs": [
    {
     "data": {
      "text/html": [
       "<style  type=\"text/css\" >\n",
       "#T_b97c4_row0_col8,#T_b97c4_row1_col8{\n",
       "            background-color:  red;\n",
       "        }</style><table id=\"T_b97c4_\" ><thead>    <tr>        <th class=\"blank level0\" ></th>        <th class=\"col_heading level0 col0\" >carat</th>        <th class=\"col_heading level0 col1\" >cut</th>        <th class=\"col_heading level0 col2\" >color</th>        <th class=\"col_heading level0 col3\" >clarity</th>        <th class=\"col_heading level0 col4\" >depth</th>        <th class=\"col_heading level0 col5\" >table</th>        <th class=\"col_heading level0 col6\" >price</th>        <th class=\"col_heading level0 col7\" >x</th>        <th class=\"col_heading level0 col8\" >y</th>        <th class=\"col_heading level0 col9\" >z</th>    </tr></thead><tbody>\n",
       "                <tr>\n",
       "                        <th id=\"T_b97c4_level0_row0\" class=\"row_heading level0 row0\" >24067</th>\n",
       "                        <td id=\"T_b97c4_row0_col0\" class=\"data row0 col0\" >2.00</td>\n",
       "                        <td id=\"T_b97c4_row0_col1\" class=\"data row0 col1\" >Premium</td>\n",
       "                        <td id=\"T_b97c4_row0_col2\" class=\"data row0 col2\" >H</td>\n",
       "                        <td id=\"T_b97c4_row0_col3\" class=\"data row0 col3\" >SI2</td>\n",
       "                        <td id=\"T_b97c4_row0_col4\" class=\"data row0 col4\" >58.9</td>\n",
       "                        <td id=\"T_b97c4_row0_col5\" class=\"data row0 col5\" >57.0</td>\n",
       "                        <td id=\"T_b97c4_row0_col6\" class=\"data row0 col6\" >12210</td>\n",
       "                        <td id=\"T_b97c4_row0_col7\" class=\"data row0 col7\" >8.09</td>\n",
       "                        <td id=\"T_b97c4_row0_col8\" class=\"data row0 col8\" >58.90</td>\n",
       "                        <td id=\"T_b97c4_row0_col9\" class=\"data row0 col9\" >8.06</td>\n",
       "            </tr>\n",
       "            <tr>\n",
       "                        <th id=\"T_b97c4_level0_row1\" class=\"row_heading level0 row1\" >49189</th>\n",
       "                        <td id=\"T_b97c4_row1_col0\" class=\"data row1 col0\" >0.51</td>\n",
       "                        <td id=\"T_b97c4_row1_col1\" class=\"data row1 col1\" >Ideal</td>\n",
       "                        <td id=\"T_b97c4_row1_col2\" class=\"data row1 col2\" >E</td>\n",
       "                        <td id=\"T_b97c4_row1_col3\" class=\"data row1 col3\" >VS1</td>\n",
       "                        <td id=\"T_b97c4_row1_col4\" class=\"data row1 col4\" >61.8</td>\n",
       "                        <td id=\"T_b97c4_row1_col5\" class=\"data row1 col5\" >55.0</td>\n",
       "                        <td id=\"T_b97c4_row1_col6\" class=\"data row1 col6\" >2075</td>\n",
       "                        <td id=\"T_b97c4_row1_col7\" class=\"data row1 col7\" >5.15</td>\n",
       "                        <td id=\"T_b97c4_row1_col8\" class=\"data row1 col8\" >31.80</td>\n",
       "                        <td id=\"T_b97c4_row1_col9\" class=\"data row1 col9\" >5.12</td>\n",
       "            </tr>\n",
       "    </tbody></table>"
      ],
      "text/plain": [
       "<pandas.io.formats.style.Styler at 0x7fb2a128b220>"
      ]
     },
     "execution_count": 51,
     "metadata": {},
     "output_type": "execute_result"
    }
   ],
   "source": [
    "df_out= df.loc[df[\"y\"] > 30].copy()\n",
    "outliers(df_out, \"y\")"
   ]
  },
  {
   "cell_type": "code",
   "execution_count": 42,
   "metadata": {},
   "outputs": [
    {
     "data": {
      "text/html": [
       "<style  type=\"text/css\" >\n",
       "#T_f7c22_row0_col9{\n",
       "            background-color:  red;\n",
       "        }</style><table id=\"T_f7c22_\" ><thead>    <tr>        <th class=\"blank level0\" ></th>        <th class=\"col_heading level0 col0\" >carat</th>        <th class=\"col_heading level0 col1\" >cut</th>        <th class=\"col_heading level0 col2\" >color</th>        <th class=\"col_heading level0 col3\" >clarity</th>        <th class=\"col_heading level0 col4\" >depth</th>        <th class=\"col_heading level0 col5\" >table</th>        <th class=\"col_heading level0 col6\" >price</th>        <th class=\"col_heading level0 col7\" >x</th>        <th class=\"col_heading level0 col8\" >y</th>        <th class=\"col_heading level0 col9\" >z</th>    </tr></thead><tbody>\n",
       "                <tr>\n",
       "                        <th id=\"T_f7c22_level0_row0\" class=\"row_heading level0 row0\" >48410</th>\n",
       "                        <td id=\"T_f7c22_row0_col0\" class=\"data row0 col0\" >0.51</td>\n",
       "                        <td id=\"T_f7c22_row0_col1\" class=\"data row0 col1\" >Very Good</td>\n",
       "                        <td id=\"T_f7c22_row0_col2\" class=\"data row0 col2\" >E</td>\n",
       "                        <td id=\"T_f7c22_row0_col3\" class=\"data row0 col3\" >VS1</td>\n",
       "                        <td id=\"T_f7c22_row0_col4\" class=\"data row0 col4\" >61.8</td>\n",
       "                        <td id=\"T_f7c22_row0_col5\" class=\"data row0 col5\" >54.7</td>\n",
       "                        <td id=\"T_f7c22_row0_col6\" class=\"data row0 col6\" >1970</td>\n",
       "                        <td id=\"T_f7c22_row0_col7\" class=\"data row0 col7\" >5.12</td>\n",
       "                        <td id=\"T_f7c22_row0_col8\" class=\"data row0 col8\" >5.15</td>\n",
       "                        <td id=\"T_f7c22_row0_col9\" class=\"data row0 col9\" >31.80</td>\n",
       "            </tr>\n",
       "    </tbody></table>"
      ],
      "text/plain": [
       "<pandas.io.formats.style.Styler at 0x7fb273ff1a00>"
      ]
     },
     "execution_count": 42,
     "metadata": {},
     "output_type": "execute_result"
    }
   ],
   "source": [
    "df_out = df.loc[df[\"z\"] > 30].copy()\n",
    "outliers(df_out, \"z\")"
   ]
  },
  {
   "cell_type": "code",
   "execution_count": 56,
   "metadata": {},
   "outputs": [],
   "source": [
    "''' filling outliers values with np.nan in x and y '''\n",
    "df.loc[df[\"y\"] > 30, \"y\"] = np.nan\n",
    "df.loc[df[\"z\"] > 30, \"z\"] = np.nan"
   ]
  },
  {
   "cell_type": "code",
   "execution_count": 57,
   "metadata": {},
   "outputs": [
    {
     "name": "stdout",
     "output_type": "stream",
     "text": [
      "carat: 2.0 / median y value: 8.01\n",
      "carat: 0.51 / median y value: 5.14\n"
     ]
    },
    {
     "data": {
      "text/html": [
       "<style  type=\"text/css\" >\n",
       "#T_a413f_row0_col8,#T_a413f_row1_col8{\n",
       "            background-color:  limegreen;\n",
       "        }</style><table id=\"T_a413f_\" ><thead>    <tr>        <th class=\"blank level0\" ></th>        <th class=\"col_heading level0 col0\" >carat</th>        <th class=\"col_heading level0 col1\" >cut</th>        <th class=\"col_heading level0 col2\" >color</th>        <th class=\"col_heading level0 col3\" >clarity</th>        <th class=\"col_heading level0 col4\" >depth</th>        <th class=\"col_heading level0 col5\" >table</th>        <th class=\"col_heading level0 col6\" >price</th>        <th class=\"col_heading level0 col7\" >x</th>        <th class=\"col_heading level0 col8\" >y</th>        <th class=\"col_heading level0 col9\" >z</th>    </tr></thead><tbody>\n",
       "                <tr>\n",
       "                        <th id=\"T_a413f_level0_row0\" class=\"row_heading level0 row0\" >24122</th>\n",
       "                        <td id=\"T_a413f_row0_col0\" class=\"data row0 col0\" >2.12</td>\n",
       "                        <td id=\"T_a413f_row0_col1\" class=\"data row0 col1\" >Ideal</td>\n",
       "                        <td id=\"T_a413f_row0_col2\" class=\"data row0 col2\" >H</td>\n",
       "                        <td id=\"T_a413f_row0_col3\" class=\"data row0 col3\" >SI2</td>\n",
       "                        <td id=\"T_a413f_row0_col4\" class=\"data row0 col4\" >61.4</td>\n",
       "                        <td id=\"T_a413f_row0_col5\" class=\"data row0 col5\" >57.0</td>\n",
       "                        <td id=\"T_a413f_row0_col6\" class=\"data row0 col6\" >12284</td>\n",
       "                        <td id=\"T_a413f_row0_col7\" class=\"data row0 col7\" >8.28</td>\n",
       "                        <td id=\"T_a413f_row0_col8\" class=\"data row0 col8\" >8.24</td>\n",
       "                        <td id=\"T_a413f_row0_col9\" class=\"data row0 col9\" >5.07</td>\n",
       "            </tr>\n",
       "            <tr>\n",
       "                        <th id=\"T_a413f_level0_row1\" class=\"row_heading level0 row1\" >49332</th>\n",
       "                        <td id=\"T_a413f_row1_col0\" class=\"data row1 col0\" >0.70</td>\n",
       "                        <td id=\"T_a413f_row1_col1\" class=\"data row1 col1\" >Very Good</td>\n",
       "                        <td id=\"T_a413f_row1_col2\" class=\"data row1 col2\" >H</td>\n",
       "                        <td id=\"T_a413f_row1_col3\" class=\"data row1 col3\" >SI2</td>\n",
       "                        <td id=\"T_a413f_row1_col4\" class=\"data row1 col4\" >63.4</td>\n",
       "                        <td id=\"T_a413f_row1_col5\" class=\"data row1 col5\" >55.0</td>\n",
       "                        <td id=\"T_a413f_row1_col6\" class=\"data row1 col6\" >2094</td>\n",
       "                        <td id=\"T_a413f_row1_col7\" class=\"data row1 col7\" >5.59</td>\n",
       "                        <td id=\"T_a413f_row1_col8\" class=\"data row1 col8\" >5.64</td>\n",
       "                        <td id=\"T_a413f_row1_col9\" class=\"data row1 col9\" >3.56</td>\n",
       "            </tr>\n",
       "    </tbody></table>"
      ],
      "text/plain": [
       "<pandas.io.formats.style.Styler at 0x7fb274001f10>"
      ]
     },
     "execution_count": 57,
     "metadata": {},
     "output_type": "execute_result"
    }
   ],
   "source": [
    "''' filling null values in y '''\n",
    "filling_null_values(\"y\")"
   ]
  },
  {
   "cell_type": "code",
   "execution_count": 58,
   "metadata": {},
   "outputs": [
    {
     "name": "stdout",
     "output_type": "stream",
     "text": [
      "carat: 0.51 / median z value: 3.17\n"
     ]
    },
    {
     "data": {
      "text/html": [
       "<style  type=\"text/css\" >\n",
       "#T_b87ba_row0_col9{\n",
       "            background-color:  limegreen;\n",
       "        }</style><table id=\"T_b87ba_\" ><thead>    <tr>        <th class=\"blank level0\" ></th>        <th class=\"col_heading level0 col0\" >carat</th>        <th class=\"col_heading level0 col1\" >cut</th>        <th class=\"col_heading level0 col2\" >color</th>        <th class=\"col_heading level0 col3\" >clarity</th>        <th class=\"col_heading level0 col4\" >depth</th>        <th class=\"col_heading level0 col5\" >table</th>        <th class=\"col_heading level0 col6\" >price</th>        <th class=\"col_heading level0 col7\" >x</th>        <th class=\"col_heading level0 col8\" >y</th>        <th class=\"col_heading level0 col9\" >z</th>    </tr></thead><tbody>\n",
       "                <tr>\n",
       "                        <th id=\"T_b87ba_level0_row0\" class=\"row_heading level0 row0\" >48552</th>\n",
       "                        <td id=\"T_b87ba_row0_col0\" class=\"data row0 col0\" >0.55</td>\n",
       "                        <td id=\"T_b87ba_row0_col1\" class=\"data row0 col1\" >Ideal</td>\n",
       "                        <td id=\"T_b87ba_row0_col2\" class=\"data row0 col2\" >D</td>\n",
       "                        <td id=\"T_b87ba_row0_col3\" class=\"data row0 col3\" >VS1</td>\n",
       "                        <td id=\"T_b87ba_row0_col4\" class=\"data row0 col4\" >61.7</td>\n",
       "                        <td id=\"T_b87ba_row0_col5\" class=\"data row0 col5\" >55.0</td>\n",
       "                        <td id=\"T_b87ba_row0_col6\" class=\"data row0 col6\" >1990</td>\n",
       "                        <td id=\"T_b87ba_row0_col7\" class=\"data row0 col7\" >5.26</td>\n",
       "                        <td id=\"T_b87ba_row0_col8\" class=\"data row0 col8\" >5.25</td>\n",
       "                        <td id=\"T_b87ba_row0_col9\" class=\"data row0 col9\" >3.24</td>\n",
       "            </tr>\n",
       "    </tbody></table>"
      ],
      "text/plain": [
       "<pandas.io.formats.style.Styler at 0x7fb2a1178400>"
      ]
     },
     "execution_count": 58,
     "metadata": {},
     "output_type": "execute_result"
    }
   ],
   "source": [
    "''' filling null values in z '''\n",
    "filling_null_values('z')"
   ]
  },
  {
   "cell_type": "code",
   "execution_count": 59,
   "metadata": {},
   "outputs": [
    {
     "data": {
      "text/html": [
       "<style  type=\"text/css\" >\n",
       "#T_a4955_row0_col4,#T_a4955_row1_col4,#T_a4955_row2_col4,#T_a4955_row3_col4,#T_a4955_row4_col4{\n",
       "            background-color:  red;\n",
       "        }</style><table id=\"T_a4955_\" ><thead>    <tr>        <th class=\"blank level0\" ></th>        <th class=\"col_heading level0 col0\" >carat</th>        <th class=\"col_heading level0 col1\" >cut</th>        <th class=\"col_heading level0 col2\" >color</th>        <th class=\"col_heading level0 col3\" >clarity</th>        <th class=\"col_heading level0 col4\" >depth</th>        <th class=\"col_heading level0 col5\" >table</th>        <th class=\"col_heading level0 col6\" >price</th>        <th class=\"col_heading level0 col7\" >x</th>        <th class=\"col_heading level0 col8\" >y</th>        <th class=\"col_heading level0 col9\" >z</th>    </tr></thead><tbody>\n",
       "                <tr>\n",
       "                        <th id=\"T_a4955_level0_row0\" class=\"row_heading level0 row0\" >4518</th>\n",
       "                        <td id=\"T_a4955_row0_col0\" class=\"data row0 col0\" >1.00</td>\n",
       "                        <td id=\"T_a4955_row0_col1\" class=\"data row0 col1\" >Fair</td>\n",
       "                        <td id=\"T_a4955_row0_col2\" class=\"data row0 col2\" >G</td>\n",
       "                        <td id=\"T_a4955_row0_col3\" class=\"data row0 col3\" >SI1</td>\n",
       "                        <td id=\"T_a4955_row0_col4\" class=\"data row0 col4\" >43.0</td>\n",
       "                        <td id=\"T_a4955_row0_col5\" class=\"data row0 col5\" >59.0</td>\n",
       "                        <td id=\"T_a4955_row0_col6\" class=\"data row0 col6\" >3634</td>\n",
       "                        <td id=\"T_a4955_row0_col7\" class=\"data row0 col7\" >6.32</td>\n",
       "                        <td id=\"T_a4955_row0_col8\" class=\"data row0 col8\" >6.27</td>\n",
       "                        <td id=\"T_a4955_row0_col9\" class=\"data row0 col9\" >3.97</td>\n",
       "            </tr>\n",
       "            <tr>\n",
       "                        <th id=\"T_a4955_level0_row1\" class=\"row_heading level0 row1\" >6341</th>\n",
       "                        <td id=\"T_a4955_row1_col0\" class=\"data row1 col0\" >1.00</td>\n",
       "                        <td id=\"T_a4955_row1_col1\" class=\"data row1 col1\" >Fair</td>\n",
       "                        <td id=\"T_a4955_row1_col2\" class=\"data row1 col2\" >G</td>\n",
       "                        <td id=\"T_a4955_row1_col3\" class=\"data row1 col3\" >VS2</td>\n",
       "                        <td id=\"T_a4955_row1_col4\" class=\"data row1 col4\" >44.0</td>\n",
       "                        <td id=\"T_a4955_row1_col5\" class=\"data row1 col5\" >53.0</td>\n",
       "                        <td id=\"T_a4955_row1_col6\" class=\"data row1 col6\" >4032</td>\n",
       "                        <td id=\"T_a4955_row1_col7\" class=\"data row1 col7\" >6.31</td>\n",
       "                        <td id=\"T_a4955_row1_col8\" class=\"data row1 col8\" >6.24</td>\n",
       "                        <td id=\"T_a4955_row1_col9\" class=\"data row1 col9\" >4.12</td>\n",
       "            </tr>\n",
       "            <tr>\n",
       "                        <th id=\"T_a4955_level0_row2\" class=\"row_heading level0 row2\" >10377</th>\n",
       "                        <td id=\"T_a4955_row2_col0\" class=\"data row2 col0\" >1.09</td>\n",
       "                        <td id=\"T_a4955_row2_col1\" class=\"data row2 col1\" >Ideal</td>\n",
       "                        <td id=\"T_a4955_row2_col2\" class=\"data row2 col2\" >J</td>\n",
       "                        <td id=\"T_a4955_row2_col3\" class=\"data row2 col3\" >VS2</td>\n",
       "                        <td id=\"T_a4955_row2_col4\" class=\"data row2 col4\" >43.0</td>\n",
       "                        <td id=\"T_a4955_row2_col5\" class=\"data row2 col5\" >54.0</td>\n",
       "                        <td id=\"T_a4955_row2_col6\" class=\"data row2 col6\" >4778</td>\n",
       "                        <td id=\"T_a4955_row2_col7\" class=\"data row2 col7\" >6.53</td>\n",
       "                        <td id=\"T_a4955_row2_col8\" class=\"data row2 col8\" >6.55</td>\n",
       "                        <td id=\"T_a4955_row2_col9\" class=\"data row2 col9\" >4.12</td>\n",
       "            </tr>\n",
       "            <tr>\n",
       "                        <th id=\"T_a4955_level0_row3\" class=\"row_heading level0 row3\" >41918</th>\n",
       "                        <td id=\"T_a4955_row3_col0\" class=\"data row3 col0\" >1.03</td>\n",
       "                        <td id=\"T_a4955_row3_col1\" class=\"data row3 col1\" >Fair</td>\n",
       "                        <td id=\"T_a4955_row3_col2\" class=\"data row3 col2\" >E</td>\n",
       "                        <td id=\"T_a4955_row3_col3\" class=\"data row3 col3\" >I1</td>\n",
       "                        <td id=\"T_a4955_row3_col4\" class=\"data row3 col4\" >78.2</td>\n",
       "                        <td id=\"T_a4955_row3_col5\" class=\"data row3 col5\" >54.0</td>\n",
       "                        <td id=\"T_a4955_row3_col6\" class=\"data row3 col6\" >1262</td>\n",
       "                        <td id=\"T_a4955_row3_col7\" class=\"data row3 col7\" >5.72</td>\n",
       "                        <td id=\"T_a4955_row3_col8\" class=\"data row3 col8\" >5.59</td>\n",
       "                        <td id=\"T_a4955_row3_col9\" class=\"data row3 col9\" >4.42</td>\n",
       "            </tr>\n",
       "            <tr>\n",
       "                        <th id=\"T_a4955_level0_row4\" class=\"row_heading level0 row4\" >52860</th>\n",
       "                        <td id=\"T_a4955_row4_col0\" class=\"data row4 col0\" >0.50</td>\n",
       "                        <td id=\"T_a4955_row4_col1\" class=\"data row4 col1\" >Fair</td>\n",
       "                        <td id=\"T_a4955_row4_col2\" class=\"data row4 col2\" >E</td>\n",
       "                        <td id=\"T_a4955_row4_col3\" class=\"data row4 col3\" >VS2</td>\n",
       "                        <td id=\"T_a4955_row4_col4\" class=\"data row4 col4\" >79.0</td>\n",
       "                        <td id=\"T_a4955_row4_col5\" class=\"data row4 col5\" >73.0</td>\n",
       "                        <td id=\"T_a4955_row4_col6\" class=\"data row4 col6\" >2579</td>\n",
       "                        <td id=\"T_a4955_row4_col7\" class=\"data row4 col7\" >5.21</td>\n",
       "                        <td id=\"T_a4955_row4_col8\" class=\"data row4 col8\" >5.18</td>\n",
       "                        <td id=\"T_a4955_row4_col9\" class=\"data row4 col9\" >4.09</td>\n",
       "            </tr>\n",
       "    </tbody></table>"
      ],
      "text/plain": [
       "<pandas.io.formats.style.Styler at 0x7fb2740018e0>"
      ]
     },
     "execution_count": 59,
     "metadata": {},
     "output_type": "execute_result"
    }
   ],
   "source": [
    "''' checking outiers in depth column '''\n",
    "df_out = df.loc[(df[\"depth\"] > 75) | (df[\"depth\"] < 45)].copy()\n",
    "outliers(df_out, \"depth\")"
   ]
  },
  {
   "cell_type": "code",
   "execution_count": 60,
   "metadata": {},
   "outputs": [
    {
     "data": {
      "text/html": [
       "<style  type=\"text/css\" >\n",
       "#T_1d6ed_row0_col5,#T_1d6ed_row1_col5,#T_1d6ed_row2_col5,#T_1d6ed_row3_col5{\n",
       "            background-color:  red;\n",
       "        }</style><table id=\"T_1d6ed_\" ><thead>    <tr>        <th class=\"blank level0\" ></th>        <th class=\"col_heading level0 col0\" >carat</th>        <th class=\"col_heading level0 col1\" >cut</th>        <th class=\"col_heading level0 col2\" >color</th>        <th class=\"col_heading level0 col3\" >clarity</th>        <th class=\"col_heading level0 col4\" >depth</th>        <th class=\"col_heading level0 col5\" >table</th>        <th class=\"col_heading level0 col6\" >price</th>        <th class=\"col_heading level0 col7\" >x</th>        <th class=\"col_heading level0 col8\" >y</th>        <th class=\"col_heading level0 col9\" >z</th>    </tr></thead><tbody>\n",
       "                <tr>\n",
       "                        <th id=\"T_1d6ed_level0_row0\" class=\"row_heading level0 row0\" >4518</th>\n",
       "                        <td id=\"T_1d6ed_row0_col0\" class=\"data row0 col0\" >1.00</td>\n",
       "                        <td id=\"T_1d6ed_row0_col1\" class=\"data row0 col1\" >Fair</td>\n",
       "                        <td id=\"T_1d6ed_row0_col2\" class=\"data row0 col2\" >G</td>\n",
       "                        <td id=\"T_1d6ed_row0_col3\" class=\"data row0 col3\" >SI1</td>\n",
       "                        <td id=\"T_1d6ed_row0_col4\" class=\"data row0 col4\" >43.0</td>\n",
       "                        <td id=\"T_1d6ed_row0_col5\" class=\"data row0 col5\" >59.0</td>\n",
       "                        <td id=\"T_1d6ed_row0_col6\" class=\"data row0 col6\" >3634</td>\n",
       "                        <td id=\"T_1d6ed_row0_col7\" class=\"data row0 col7\" >6.32</td>\n",
       "                        <td id=\"T_1d6ed_row0_col8\" class=\"data row0 col8\" >6.27</td>\n",
       "                        <td id=\"T_1d6ed_row0_col9\" class=\"data row0 col9\" >3.97</td>\n",
       "            </tr>\n",
       "            <tr>\n",
       "                        <th id=\"T_1d6ed_level0_row1\" class=\"row_heading level0 row1\" >6341</th>\n",
       "                        <td id=\"T_1d6ed_row1_col0\" class=\"data row1 col0\" >1.00</td>\n",
       "                        <td id=\"T_1d6ed_row1_col1\" class=\"data row1 col1\" >Fair</td>\n",
       "                        <td id=\"T_1d6ed_row1_col2\" class=\"data row1 col2\" >G</td>\n",
       "                        <td id=\"T_1d6ed_row1_col3\" class=\"data row1 col3\" >VS2</td>\n",
       "                        <td id=\"T_1d6ed_row1_col4\" class=\"data row1 col4\" >44.0</td>\n",
       "                        <td id=\"T_1d6ed_row1_col5\" class=\"data row1 col5\" >53.0</td>\n",
       "                        <td id=\"T_1d6ed_row1_col6\" class=\"data row1 col6\" >4032</td>\n",
       "                        <td id=\"T_1d6ed_row1_col7\" class=\"data row1 col7\" >6.31</td>\n",
       "                        <td id=\"T_1d6ed_row1_col8\" class=\"data row1 col8\" >6.24</td>\n",
       "                        <td id=\"T_1d6ed_row1_col9\" class=\"data row1 col9\" >4.12</td>\n",
       "            </tr>\n",
       "            <tr>\n",
       "                        <th id=\"T_1d6ed_level0_row2\" class=\"row_heading level0 row2\" >10377</th>\n",
       "                        <td id=\"T_1d6ed_row2_col0\" class=\"data row2 col0\" >1.09</td>\n",
       "                        <td id=\"T_1d6ed_row2_col1\" class=\"data row2 col1\" >Ideal</td>\n",
       "                        <td id=\"T_1d6ed_row2_col2\" class=\"data row2 col2\" >J</td>\n",
       "                        <td id=\"T_1d6ed_row2_col3\" class=\"data row2 col3\" >VS2</td>\n",
       "                        <td id=\"T_1d6ed_row2_col4\" class=\"data row2 col4\" >43.0</td>\n",
       "                        <td id=\"T_1d6ed_row2_col5\" class=\"data row2 col5\" >54.0</td>\n",
       "                        <td id=\"T_1d6ed_row2_col6\" class=\"data row2 col6\" >4778</td>\n",
       "                        <td id=\"T_1d6ed_row2_col7\" class=\"data row2 col7\" >6.53</td>\n",
       "                        <td id=\"T_1d6ed_row2_col8\" class=\"data row2 col8\" >6.55</td>\n",
       "                        <td id=\"T_1d6ed_row2_col9\" class=\"data row2 col9\" >4.12</td>\n",
       "            </tr>\n",
       "            <tr>\n",
       "                        <th id=\"T_1d6ed_level0_row3\" class=\"row_heading level0 row3\" >24932</th>\n",
       "                        <td id=\"T_1d6ed_row3_col0\" class=\"data row3 col0\" >2.01</td>\n",
       "                        <td id=\"T_1d6ed_row3_col1\" class=\"data row3 col1\" >Fair</td>\n",
       "                        <td id=\"T_1d6ed_row3_col2\" class=\"data row3 col2\" >F</td>\n",
       "                        <td id=\"T_1d6ed_row3_col3\" class=\"data row3 col3\" >SI1</td>\n",
       "                        <td id=\"T_1d6ed_row3_col4\" class=\"data row3 col4\" >58.6</td>\n",
       "                        <td id=\"T_1d6ed_row3_col5\" class=\"data row3 col5\" >95.0</td>\n",
       "                        <td id=\"T_1d6ed_row3_col6\" class=\"data row3 col6\" >13387</td>\n",
       "                        <td id=\"T_1d6ed_row3_col7\" class=\"data row3 col7\" >8.32</td>\n",
       "                        <td id=\"T_1d6ed_row3_col8\" class=\"data row3 col8\" >8.31</td>\n",
       "                        <td id=\"T_1d6ed_row3_col9\" class=\"data row3 col9\" >4.87</td>\n",
       "            </tr>\n",
       "    </tbody></table>"
      ],
      "text/plain": [
       "<pandas.io.formats.style.Styler at 0x7fb2800d2d30>"
      ]
     },
     "execution_count": 60,
     "metadata": {},
     "output_type": "execute_result"
    }
   ],
   "source": [
    "''' checking outliers in table column '''\n",
    "df_out = df.loc[(df[\"table\"] > 90) | (df[\"depth\"] < 45)].copy()\n",
    "outliers(df_out, \"table\")"
   ]
  },
  {
   "cell_type": "code",
   "execution_count": 61,
   "metadata": {},
   "outputs": [
    {
     "data": {
      "text/html": [
       "<style  type=\"text/css\" >\n",
       "#T_b6981_row0_col9,#T_b6981_row1_col9,#T_b6981_row2_col9{\n",
       "            background-color:  red;\n",
       "        }</style><table id=\"T_b6981_\" ><thead>    <tr>        <th class=\"blank level0\" ></th>        <th class=\"col_heading level0 col0\" >carat</th>        <th class=\"col_heading level0 col1\" >cut</th>        <th class=\"col_heading level0 col2\" >color</th>        <th class=\"col_heading level0 col3\" >clarity</th>        <th class=\"col_heading level0 col4\" >depth</th>        <th class=\"col_heading level0 col5\" >table</th>        <th class=\"col_heading level0 col6\" >price</th>        <th class=\"col_heading level0 col7\" >x</th>        <th class=\"col_heading level0 col8\" >y</th>        <th class=\"col_heading level0 col9\" >z</th>    </tr></thead><tbody>\n",
       "                <tr>\n",
       "                        <th id=\"T_b6981_level0_row0\" class=\"row_heading level0 row0\" >14635</th>\n",
       "                        <td id=\"T_b6981_row0_col0\" class=\"data row0 col0\" >1.07</td>\n",
       "                        <td id=\"T_b6981_row0_col1\" class=\"data row0 col1\" >Ideal</td>\n",
       "                        <td id=\"T_b6981_row0_col2\" class=\"data row0 col2\" >F</td>\n",
       "                        <td id=\"T_b6981_row0_col3\" class=\"data row0 col3\" >SI1</td>\n",
       "                        <td id=\"T_b6981_row0_col4\" class=\"data row0 col4\" >60.6</td>\n",
       "                        <td id=\"T_b6981_row0_col5\" class=\"data row0 col5\" >57.0</td>\n",
       "                        <td id=\"T_b6981_row0_col6\" class=\"data row0 col6\" >5909</td>\n",
       "                        <td id=\"T_b6981_row0_col7\" class=\"data row0 col7\" >6.62</td>\n",
       "                        <td id=\"T_b6981_row0_col8\" class=\"data row0 col8\" >6.67</td>\n",
       "                        <td id=\"T_b6981_row0_col9\" class=\"data row0 col9\" >1.07</td>\n",
       "            </tr>\n",
       "            <tr>\n",
       "                        <th id=\"T_b6981_level0_row1\" class=\"row_heading level0 row1\" >20694</th>\n",
       "                        <td id=\"T_b6981_row1_col0\" class=\"data row1 col0\" >1.53</td>\n",
       "                        <td id=\"T_b6981_row1_col1\" class=\"data row1 col1\" >Ideal</td>\n",
       "                        <td id=\"T_b6981_row1_col2\" class=\"data row1 col2\" >I</td>\n",
       "                        <td id=\"T_b6981_row1_col3\" class=\"data row1 col3\" >SI1</td>\n",
       "                        <td id=\"T_b6981_row1_col4\" class=\"data row1 col4\" >61.9</td>\n",
       "                        <td id=\"T_b6981_row1_col5\" class=\"data row1 col5\" >54.0</td>\n",
       "                        <td id=\"T_b6981_row1_col6\" class=\"data row1 col6\" >8971</td>\n",
       "                        <td id=\"T_b6981_row1_col7\" class=\"data row1 col7\" >7.43</td>\n",
       "                        <td id=\"T_b6981_row1_col8\" class=\"data row1 col8\" >7.50</td>\n",
       "                        <td id=\"T_b6981_row1_col9\" class=\"data row1 col9\" >1.53</td>\n",
       "            </tr>\n",
       "            <tr>\n",
       "                        <th id=\"T_b6981_level0_row2\" class=\"row_heading level0 row2\" >21654</th>\n",
       "                        <td id=\"T_b6981_row2_col0\" class=\"data row2 col0\" >1.41</td>\n",
       "                        <td id=\"T_b6981_row2_col1\" class=\"data row2 col1\" >Ideal</td>\n",
       "                        <td id=\"T_b6981_row2_col2\" class=\"data row2 col2\" >H</td>\n",
       "                        <td id=\"T_b6981_row2_col3\" class=\"data row2 col3\" >VS1</td>\n",
       "                        <td id=\"T_b6981_row2_col4\" class=\"data row2 col4\" >60.7</td>\n",
       "                        <td id=\"T_b6981_row2_col5\" class=\"data row2 col5\" >56.0</td>\n",
       "                        <td id=\"T_b6981_row2_col6\" class=\"data row2 col6\" >9752</td>\n",
       "                        <td id=\"T_b6981_row2_col7\" class=\"data row2 col7\" >7.31</td>\n",
       "                        <td id=\"T_b6981_row2_col8\" class=\"data row2 col8\" >7.22</td>\n",
       "                        <td id=\"T_b6981_row2_col9\" class=\"data row2 col9\" >1.41</td>\n",
       "            </tr>\n",
       "    </tbody></table>"
      ],
      "text/plain": [
       "<pandas.io.formats.style.Styler at 0x7fb2a128ba60>"
      ]
     },
     "execution_count": 61,
     "metadata": {},
     "output_type": "execute_result"
    }
   ],
   "source": [
    "''' checking outliers in z column '''\n",
    "df_out = df.loc[df[\"z\"] < 2].copy()\n",
    "outliers(df_out, \"z\")"
   ]
  },
  {
   "cell_type": "code",
   "execution_count": 62,
   "metadata": {},
   "outputs": [
    {
     "data": {
      "text/html": [
       "<div>\n",
       "<style scoped>\n",
       "    .dataframe tbody tr th:only-of-type {\n",
       "        vertical-align: middle;\n",
       "    }\n",
       "\n",
       "    .dataframe tbody tr th {\n",
       "        vertical-align: top;\n",
       "    }\n",
       "\n",
       "    .dataframe thead th {\n",
       "        text-align: right;\n",
       "    }\n",
       "</style>\n",
       "<table border=\"1\" class=\"dataframe\">\n",
       "  <thead>\n",
       "    <tr style=\"text-align: right;\">\n",
       "      <th></th>\n",
       "      <th>carat</th>\n",
       "      <th>z</th>\n",
       "    </tr>\n",
       "  </thead>\n",
       "  <tbody>\n",
       "    <tr>\n",
       "      <th>14635</th>\n",
       "      <td>1.07</td>\n",
       "      <td>1.07</td>\n",
       "    </tr>\n",
       "    <tr>\n",
       "      <th>20694</th>\n",
       "      <td>1.53</td>\n",
       "      <td>1.53</td>\n",
       "    </tr>\n",
       "    <tr>\n",
       "      <th>21654</th>\n",
       "      <td>1.41</td>\n",
       "      <td>1.41</td>\n",
       "    </tr>\n",
       "  </tbody>\n",
       "</table>\n",
       "</div>"
      ],
      "text/plain": [
       "       carat     z\n",
       "14635   1.07  1.07\n",
       "20694   1.53  1.53\n",
       "21654   1.41  1.41"
      ]
     },
     "execution_count": 62,
     "metadata": {},
     "output_type": "execute_result"
    }
   ],
   "source": [
    "df.loc[df[\"carat\"] == df[\"z\"], [\"carat\", \"z\"]]"
   ]
  },
  {
   "cell_type": "code",
   "execution_count": 63,
   "metadata": {},
   "outputs": [],
   "source": [
    "''' replacing outliers in z with np.nan '''\n",
    "df.loc[df[\"z\"] < 2, \"z\"] = np.nan"
   ]
  },
  {
   "cell_type": "code",
   "execution_count": 64,
   "metadata": {},
   "outputs": [
    {
     "name": "stdout",
     "output_type": "stream",
     "text": [
      "carat: 1.53 / median z value: 4.56\n",
      "carat: 1.41 / median z value: 4.44\n",
      "carat: 1.07 / median z value: 4.05\n"
     ]
    },
    {
     "data": {
      "text/html": [
       "<style  type=\"text/css\" >\n",
       "#T_40f08_row0_col9,#T_40f08_row1_col9,#T_40f08_row2_col9{\n",
       "            background-color:  limegreen;\n",
       "        }</style><table id=\"T_40f08_\" ><thead>    <tr>        <th class=\"blank level0\" ></th>        <th class=\"col_heading level0 col0\" >carat</th>        <th class=\"col_heading level0 col1\" >cut</th>        <th class=\"col_heading level0 col2\" >color</th>        <th class=\"col_heading level0 col3\" >clarity</th>        <th class=\"col_heading level0 col4\" >depth</th>        <th class=\"col_heading level0 col5\" >table</th>        <th class=\"col_heading level0 col6\" >price</th>        <th class=\"col_heading level0 col7\" >x</th>        <th class=\"col_heading level0 col8\" >y</th>        <th class=\"col_heading level0 col9\" >z</th>    </tr></thead><tbody>\n",
       "                <tr>\n",
       "                        <th id=\"T_40f08_level0_row0\" class=\"row_heading level0 row0\" >20737</th>\n",
       "                        <td id=\"T_40f08_row0_col0\" class=\"data row0 col0\" >1.40</td>\n",
       "                        <td id=\"T_40f08_row0_col1\" class=\"data row0 col1\" >Ideal</td>\n",
       "                        <td id=\"T_40f08_row0_col2\" class=\"data row0 col2\" >H</td>\n",
       "                        <td id=\"T_40f08_row0_col3\" class=\"data row0 col3\" >VS2</td>\n",
       "                        <td id=\"T_40f08_row0_col4\" class=\"data row0 col4\" >63.0</td>\n",
       "                        <td id=\"T_40f08_row0_col5\" class=\"data row0 col5\" >56.0</td>\n",
       "                        <td id=\"T_40f08_row0_col6\" class=\"data row0 col6\" >8977</td>\n",
       "                        <td id=\"T_40f08_row0_col7\" class=\"data row0 col7\" >7.13</td>\n",
       "                        <td id=\"T_40f08_row0_col8\" class=\"data row0 col8\" >7.07</td>\n",
       "                        <td id=\"T_40f08_row0_col9\" class=\"data row0 col9\" >4.47</td>\n",
       "            </tr>\n",
       "            <tr>\n",
       "                        <th id=\"T_40f08_level0_row1\" class=\"row_heading level0 row1\" >21699</th>\n",
       "                        <td id=\"T_40f08_row1_col0\" class=\"data row1 col0\" >0.34</td>\n",
       "                        <td id=\"T_40f08_row1_col1\" class=\"data row1 col1\" >Ideal</td>\n",
       "                        <td id=\"T_40f08_row1_col2\" class=\"data row1 col2\" >D</td>\n",
       "                        <td id=\"T_40f08_row1_col3\" class=\"data row1 col3\" >SI1</td>\n",
       "                        <td id=\"T_40f08_row1_col4\" class=\"data row1 col4\" >60.6</td>\n",
       "                        <td id=\"T_40f08_row1_col5\" class=\"data row1 col5\" >56.0</td>\n",
       "                        <td id=\"T_40f08_row1_col6\" class=\"data row1 col6\" >626</td>\n",
       "                        <td id=\"T_40f08_row1_col7\" class=\"data row1 col7\" >4.51</td>\n",
       "                        <td id=\"T_40f08_row1_col8\" class=\"data row1 col8\" >4.54</td>\n",
       "                        <td id=\"T_40f08_row1_col9\" class=\"data row1 col9\" >2.74</td>\n",
       "            </tr>\n",
       "            <tr>\n",
       "                        <th id=\"T_40f08_level0_row2\" class=\"row_heading level0 row2\" >14668</th>\n",
       "                        <td id=\"T_40f08_row2_col0\" class=\"data row2 col0\" >1.51</td>\n",
       "                        <td id=\"T_40f08_row2_col1\" class=\"data row2 col1\" >Fair</td>\n",
       "                        <td id=\"T_40f08_row2_col2\" class=\"data row2 col2\" >F</td>\n",
       "                        <td id=\"T_40f08_row2_col3\" class=\"data row2 col3\" >SI2</td>\n",
       "                        <td id=\"T_40f08_row2_col4\" class=\"data row2 col4\" >65.4</td>\n",
       "                        <td id=\"T_40f08_row2_col5\" class=\"data row2 col5\" >56.0</td>\n",
       "                        <td id=\"T_40f08_row2_col6\" class=\"data row2 col6\" >5919</td>\n",
       "                        <td id=\"T_40f08_row2_col7\" class=\"data row2 col7\" >7.20</td>\n",
       "                        <td id=\"T_40f08_row2_col8\" class=\"data row2 col8\" >7.08</td>\n",
       "                        <td id=\"T_40f08_row2_col9\" class=\"data row2 col9\" >4.67</td>\n",
       "            </tr>\n",
       "    </tbody></table>"
      ],
      "text/plain": [
       "<pandas.io.formats.style.Styler at 0x7fb2a0ee9340>"
      ]
     },
     "execution_count": 64,
     "metadata": {},
     "output_type": "execute_result"
    }
   ],
   "source": [
    "''' filling null value in z '''\n",
    "filling_null_values('z')"
   ]
  },
  {
   "cell_type": "code",
   "execution_count": 65,
   "metadata": {},
   "outputs": [
    {
     "data": {
      "image/png": "[encoded data removed]",
      "text/plain": [
       "<Figure size 720x360 with 1 Axes>"
      ]
     },
     "metadata": {},
     "output_type": "display_data"
    }
   ],
   "source": [
    "''' barplot between cut and price '''\n",
    "plt.figure(figsize=(10, 5))\n",
    "sns.barplot(x='cut', y='price', data=df)\n",
    "plt.title('Relation b/w cut and price', fontsize=20);\n",
    "plt.xlabel('cut', fontsize=15)\n",
    "plt.ylabel('price', fontsize=15);"
   ]
  },
  {
   "cell_type": "code",
   "execution_count": 70,
   "metadata": {},
   "outputs": [
    {
     "data": {
      "text/plain": [
       "<AxesSubplot:>"
      ]
     },
     "execution_count": 70,
     "metadata": {},
     "output_type": "execute_result"
    },
    {
     "data": {
      "image/png": "[encoded data removed]",
      "text/plain": [
       "<Figure size 864x720 with 2 Axes>"
      ]
     },
     "metadata": {},
     "output_type": "display_data"
    }
   ],
   "source": [
    "''' checking correlation of price column with other columns '''\n",
    "df.corr()['price'].sort_values(ascending=False)[1:]\n",
    "plt.figure(figsize=(12,10))\n",
    "sns.heatmap(df.corr(),annot = True)"
   ]
  },
  {
   "cell_type": "code",
   "execution_count": 71,
   "metadata": {},
   "outputs": [
    {
     "data": {
      "image/png": "[encoded data removed]",
      "text/plain": [
       "<Figure size 720x360 with 1 Axes>"
      ]
     },
     "metadata": {},
     "output_type": "display_data"
    }
   ],
   "source": [
    "''' color category '''\n",
    "color_label = df.color.value_counts()\n",
    "plt.figure(figsize=(10, 5))\n",
    "sns.barplot(color_label.index, color_label);\n",
    "plt.ylabel('count', fontsize=15)\n",
    "plt.xlabel('color', fontsize=15);"
   ]
  },
  {
   "cell_type": "code",
   "execution_count": 55,
   "metadata": {},
   "outputs": [
    {
     "data": {
      "image/png": "[encoded data removed]",
      "text/plain": [
       "<Figure size 720x360 with 1 Axes>"
      ]
     },
     "metadata": {},
     "output_type": "display_data"
    }
   ],
   "source": [
    "''' barplot b/w clarity and price '''\n",
    "plt.figure(figsize=(10, 5))\n",
    "sns.barplot(x='clarity', y='price', data=df);\n",
    "plt.title('Relation b/w clarity and price', fontsize=20)\n",
    "plt.xlabel('clarity', fontsize=15)\n",
    "plt.ylabel('price', fontsize=15);"
   ]
  },
  {
   "cell_type": "code",
   "execution_count": 77,
   "metadata": {},
   "outputs": [
    {
     "data": {
      "text/plain": [
       "clarity\n",
       "I1        740\n",
       "IF       1784\n",
       "SI1     13032\n",
       "SI2      9150\n",
       "VS1      8156\n",
       "VS2     12229\n",
       "VVS1     3647\n",
       "VVS2     5056\n",
       "Name: price, dtype: int64"
      ]
     },
     "execution_count": 77,
     "metadata": {},
     "output_type": "execute_result"
    }
   ],
   "source": [
    "df.groupby(\"clarity\")[\"price\"].count()"
   ]
  },
  {
   "cell_type": "code",
   "execution_count": 78,
   "metadata": {},
   "outputs": [],
   "source": [
    "''' Preprocessing of data '''\n",
    "\n",
    "''' independent and dependent variabels '''\n",
    "X = df[['carat', 'cut', 'color', 'clarity', 'depth', 'table', 'x', 'y', 'z']]\n",
    "y = df[['price']]"
   ]
  },
  {
   "cell_type": "code",
   "execution_count": 79,
   "metadata": {},
   "outputs": [
    {
     "data": {
      "text/html": [
       "<div>\n",
       "<style scoped>\n",
       "    .dataframe tbody tr th:only-of-type {\n",
       "        vertical-align: middle;\n",
       "    }\n",
       "\n",
       "    .dataframe tbody tr th {\n",
       "        vertical-align: top;\n",
       "    }\n",
       "\n",
       "    .dataframe thead th {\n",
       "        text-align: right;\n",
       "    }\n",
       "</style>\n",
       "<table border=\"1\" class=\"dataframe\">\n",
       "  <thead>\n",
       "    <tr style=\"text-align: right;\">\n",
       "      <th></th>\n",
       "      <th>carat</th>\n",
       "      <th>cut</th>\n",
       "      <th>color</th>\n",
       "      <th>clarity</th>\n",
       "      <th>depth</th>\n",
       "      <th>table</th>\n",
       "      <th>x</th>\n",
       "      <th>y</th>\n",
       "      <th>z</th>\n",
       "    </tr>\n",
       "  </thead>\n",
       "  <tbody>\n",
       "    <tr>\n",
       "      <th>0</th>\n",
       "      <td>0.23</td>\n",
       "      <td>Ideal</td>\n",
       "      <td>E</td>\n",
       "      <td>SI2</td>\n",
       "      <td>61.5</td>\n",
       "      <td>55.0</td>\n",
       "      <td>3.95</td>\n",
       "      <td>3.98</td>\n",
       "      <td>2.43</td>\n",
       "    </tr>\n",
       "    <tr>\n",
       "      <th>1</th>\n",
       "      <td>0.21</td>\n",
       "      <td>Premium</td>\n",
       "      <td>E</td>\n",
       "      <td>SI1</td>\n",
       "      <td>59.8</td>\n",
       "      <td>61.0</td>\n",
       "      <td>3.89</td>\n",
       "      <td>3.84</td>\n",
       "      <td>2.31</td>\n",
       "    </tr>\n",
       "    <tr>\n",
       "      <th>2</th>\n",
       "      <td>0.23</td>\n",
       "      <td>Good</td>\n",
       "      <td>E</td>\n",
       "      <td>VS1</td>\n",
       "      <td>56.9</td>\n",
       "      <td>65.0</td>\n",
       "      <td>4.05</td>\n",
       "      <td>4.07</td>\n",
       "      <td>2.31</td>\n",
       "    </tr>\n",
       "    <tr>\n",
       "      <th>3</th>\n",
       "      <td>0.29</td>\n",
       "      <td>Premium</td>\n",
       "      <td>I</td>\n",
       "      <td>VS2</td>\n",
       "      <td>62.4</td>\n",
       "      <td>58.0</td>\n",
       "      <td>4.20</td>\n",
       "      <td>4.23</td>\n",
       "      <td>2.63</td>\n",
       "    </tr>\n",
       "    <tr>\n",
       "      <th>4</th>\n",
       "      <td>0.31</td>\n",
       "      <td>Good</td>\n",
       "      <td>J</td>\n",
       "      <td>SI2</td>\n",
       "      <td>63.3</td>\n",
       "      <td>58.0</td>\n",
       "      <td>4.34</td>\n",
       "      <td>4.35</td>\n",
       "      <td>2.75</td>\n",
       "    </tr>\n",
       "  </tbody>\n",
       "</table>\n",
       "</div>"
      ],
      "text/plain": [
       "   carat      cut color clarity  depth  table     x     y     z\n",
       "0   0.23    Ideal     E     SI2   61.5   55.0  3.95  3.98  2.43\n",
       "1   0.21  Premium     E     SI1   59.8   61.0  3.89  3.84  2.31\n",
       "2   0.23     Good     E     VS1   56.9   65.0  4.05  4.07  2.31\n",
       "3   0.29  Premium     I     VS2   62.4   58.0  4.20  4.23  2.63\n",
       "4   0.31     Good     J     SI2   63.3   58.0  4.34  4.35  2.75"
      ]
     },
     "execution_count": 79,
     "metadata": {},
     "output_type": "execute_result"
    }
   ],
   "source": [
    "X.head()"
   ]
  },
  {
   "cell_type": "code",
   "execution_count": 80,
   "metadata": {},
   "outputs": [
    {
     "data": {
      "text/html": [
       "<div>\n",
       "<style scoped>\n",
       "    .dataframe tbody tr th:only-of-type {\n",
       "        vertical-align: middle;\n",
       "    }\n",
       "\n",
       "    .dataframe tbody tr th {\n",
       "        vertical-align: top;\n",
       "    }\n",
       "\n",
       "    .dataframe thead th {\n",
       "        text-align: right;\n",
       "    }\n",
       "</style>\n",
       "<table border=\"1\" class=\"dataframe\">\n",
       "  <thead>\n",
       "    <tr style=\"text-align: right;\">\n",
       "      <th></th>\n",
       "      <th>price</th>\n",
       "    </tr>\n",
       "  </thead>\n",
       "  <tbody>\n",
       "    <tr>\n",
       "      <th>0</th>\n",
       "      <td>326</td>\n",
       "    </tr>\n",
       "    <tr>\n",
       "      <th>1</th>\n",
       "      <td>326</td>\n",
       "    </tr>\n",
       "    <tr>\n",
       "      <th>2</th>\n",
       "      <td>327</td>\n",
       "    </tr>\n",
       "    <tr>\n",
       "      <th>3</th>\n",
       "      <td>334</td>\n",
       "    </tr>\n",
       "    <tr>\n",
       "      <th>4</th>\n",
       "      <td>335</td>\n",
       "    </tr>\n",
       "  </tbody>\n",
       "</table>\n",
       "</div>"
      ],
      "text/plain": [
       "   price\n",
       "0    326\n",
       "1    326\n",
       "2    327\n",
       "3    334\n",
       "4    335"
      ]
     },
     "execution_count": 80,
     "metadata": {},
     "output_type": "execute_result"
    }
   ],
   "source": [
    "y.head()"
   ]
  },
  {
   "cell_type": "code",
   "execution_count": 81,
   "metadata": {},
   "outputs": [],
   "source": [
    "''' one-hot encoding '''\n",
    "X_copy = X.copy()\n",
    "\n",
    "X_copy = pd.get_dummies(data=X_copy, columns=['clarity', 'color', 'cut'], prefix=['clarity', 'color', 'cut'], \n",
    "                        drop_first=True).copy()"
   ]
  },
  {
   "cell_type": "code",
   "execution_count": 82,
   "metadata": {},
   "outputs": [
    {
     "data": {
      "text/html": [
       "<div>\n",
       "<style scoped>\n",
       "    .dataframe tbody tr th:only-of-type {\n",
       "        vertical-align: middle;\n",
       "    }\n",
       "\n",
       "    .dataframe tbody tr th {\n",
       "        vertical-align: top;\n",
       "    }\n",
       "\n",
       "    .dataframe thead th {\n",
       "        text-align: right;\n",
       "    }\n",
       "</style>\n",
       "<table border=\"1\" class=\"dataframe\">\n",
       "  <thead>\n",
       "    <tr style=\"text-align: right;\">\n",
       "      <th></th>\n",
       "      <th>carat</th>\n",
       "      <th>depth</th>\n",
       "      <th>table</th>\n",
       "      <th>x</th>\n",
       "      <th>y</th>\n",
       "      <th>z</th>\n",
       "      <th>clarity_IF</th>\n",
       "      <th>clarity_SI1</th>\n",
       "      <th>clarity_SI2</th>\n",
       "      <th>clarity_VS1</th>\n",
       "      <th>...</th>\n",
       "      <th>color_E</th>\n",
       "      <th>color_F</th>\n",
       "      <th>color_G</th>\n",
       "      <th>color_H</th>\n",
       "      <th>color_I</th>\n",
       "      <th>color_J</th>\n",
       "      <th>cut_Good</th>\n",
       "      <th>cut_Ideal</th>\n",
       "      <th>cut_Premium</th>\n",
       "      <th>cut_Very Good</th>\n",
       "    </tr>\n",
       "  </thead>\n",
       "  <tbody>\n",
       "    <tr>\n",
       "      <th>0</th>\n",
       "      <td>0.23</td>\n",
       "      <td>61.5</td>\n",
       "      <td>55.0</td>\n",
       "      <td>3.95</td>\n",
       "      <td>3.98</td>\n",
       "      <td>2.43</td>\n",
       "      <td>0</td>\n",
       "      <td>0</td>\n",
       "      <td>1</td>\n",
       "      <td>0</td>\n",
       "      <td>...</td>\n",
       "      <td>1</td>\n",
       "      <td>0</td>\n",
       "      <td>0</td>\n",
       "      <td>0</td>\n",
       "      <td>0</td>\n",
       "      <td>0</td>\n",
       "      <td>0</td>\n",
       "      <td>1</td>\n",
       "      <td>0</td>\n",
       "      <td>0</td>\n",
       "    </tr>\n",
       "    <tr>\n",
       "      <th>1</th>\n",
       "      <td>0.21</td>\n",
       "      <td>59.8</td>\n",
       "      <td>61.0</td>\n",
       "      <td>3.89</td>\n",
       "      <td>3.84</td>\n",
       "      <td>2.31</td>\n",
       "      <td>0</td>\n",
       "      <td>1</td>\n",
       "      <td>0</td>\n",
       "      <td>0</td>\n",
       "      <td>...</td>\n",
       "      <td>1</td>\n",
       "      <td>0</td>\n",
       "      <td>0</td>\n",
       "      <td>0</td>\n",
       "      <td>0</td>\n",
       "      <td>0</td>\n",
       "      <td>0</td>\n",
       "      <td>0</td>\n",
       "      <td>1</td>\n",
       "      <td>0</td>\n",
       "    </tr>\n",
       "    <tr>\n",
       "      <th>2</th>\n",
       "      <td>0.23</td>\n",
       "      <td>56.9</td>\n",
       "      <td>65.0</td>\n",
       "      <td>4.05</td>\n",
       "      <td>4.07</td>\n",
       "      <td>2.31</td>\n",
       "      <td>0</td>\n",
       "      <td>0</td>\n",
       "      <td>0</td>\n",
       "      <td>1</td>\n",
       "      <td>...</td>\n",
       "      <td>1</td>\n",
       "      <td>0</td>\n",
       "      <td>0</td>\n",
       "      <td>0</td>\n",
       "      <td>0</td>\n",
       "      <td>0</td>\n",
       "      <td>1</td>\n",
       "      <td>0</td>\n",
       "      <td>0</td>\n",
       "      <td>0</td>\n",
       "    </tr>\n",
       "    <tr>\n",
       "      <th>3</th>\n",
       "      <td>0.29</td>\n",
       "      <td>62.4</td>\n",
       "      <td>58.0</td>\n",
       "      <td>4.20</td>\n",
       "      <td>4.23</td>\n",
       "      <td>2.63</td>\n",
       "      <td>0</td>\n",
       "      <td>0</td>\n",
       "      <td>0</td>\n",
       "      <td>0</td>\n",
       "      <td>...</td>\n",
       "      <td>0</td>\n",
       "      <td>0</td>\n",
       "      <td>0</td>\n",
       "      <td>0</td>\n",
       "      <td>1</td>\n",
       "      <td>0</td>\n",
       "      <td>0</td>\n",
       "      <td>0</td>\n",
       "      <td>1</td>\n",
       "      <td>0</td>\n",
       "    </tr>\n",
       "    <tr>\n",
       "      <th>4</th>\n",
       "      <td>0.31</td>\n",
       "      <td>63.3</td>\n",
       "      <td>58.0</td>\n",
       "      <td>4.34</td>\n",
       "      <td>4.35</td>\n",
       "      <td>2.75</td>\n",
       "      <td>0</td>\n",
       "      <td>0</td>\n",
       "      <td>1</td>\n",
       "      <td>0</td>\n",
       "      <td>...</td>\n",
       "      <td>0</td>\n",
       "      <td>0</td>\n",
       "      <td>0</td>\n",
       "      <td>0</td>\n",
       "      <td>0</td>\n",
       "      <td>1</td>\n",
       "      <td>1</td>\n",
       "      <td>0</td>\n",
       "      <td>0</td>\n",
       "      <td>0</td>\n",
       "    </tr>\n",
       "  </tbody>\n",
       "</table>\n",
       "<p>5 rows × 23 columns</p>\n",
       "</div>"
      ],
      "text/plain": [
       "   carat  depth  table     x     y     z  clarity_IF  clarity_SI1  \\\n",
       "0   0.23   61.5   55.0  3.95  3.98  2.43           0            0   \n",
       "1   0.21   59.8   61.0  3.89  3.84  2.31           0            1   \n",
       "2   0.23   56.9   65.0  4.05  4.07  2.31           0            0   \n",
       "3   0.29   62.4   58.0  4.20  4.23  2.63           0            0   \n",
       "4   0.31   63.3   58.0  4.34  4.35  2.75           0            0   \n",
       "\n",
       "   clarity_SI2  clarity_VS1  ...  color_E  color_F  color_G  color_H  color_I  \\\n",
       "0            1            0  ...        1        0        0        0        0   \n",
       "1            0            0  ...        1        0        0        0        0   \n",
       "2            0            1  ...        1        0        0        0        0   \n",
       "3            0            0  ...        0        0        0        0        1   \n",
       "4            1            0  ...        0        0        0        0        0   \n",
       "\n",
       "   color_J  cut_Good  cut_Ideal  cut_Premium  cut_Very Good  \n",
       "0        0         0          1            0              0  \n",
       "1        0         0          0            1              0  \n",
       "2        0         1          0            0              0  \n",
       "3        0         0          0            1              0  \n",
       "4        1         1          0            0              0  \n",
       "\n",
       "[5 rows x 23 columns]"
      ]
     },
     "execution_count": 82,
     "metadata": {},
     "output_type": "execute_result"
    }
   ],
   "source": [
    "X_copy.head()"
   ]
  },
  {
   "cell_type": "code",
   "execution_count": 83,
   "metadata": {},
   "outputs": [],
   "source": [
    "''' scaling '''\n",
    "sc = StandardScaler()\n",
    "\n",
    "X_copy = sc.fit_transform(X_copy)"
   ]
  },
  {
   "cell_type": "code",
   "execution_count": 84,
   "metadata": {},
   "outputs": [],
   "source": [
    "''' k-fold correlation '''\n",
    "cv = KFold(n_splits=10, random_state=0, shuffle = True)"
   ]
  },
  {
   "cell_type": "code",
   "execution_count": 87,
   "metadata": {},
   "outputs": [],
   "source": [
    "matrix = [\"r2\", \"neg_mean_absolute_error\", \"neg_mean_squared_error\"]\n",
    "scores = {\"train\" : [], \"test\" : [], \"mae\" : [], \"mse\" : [], \"rmse\" : []}"
   ]
  },
  {
   "cell_type": "code",
   "execution_count": 94,
   "metadata": {},
   "outputs": [],
   "source": [
    "def result(model, f):\n",
    "    sc = cross_validate(model, f, y, cv=cv, scoring=matrix, return_train_score=True)\n",
    "    \n",
    "    train_s = sc[\"train_r2\"].mean()\n",
    "    scores[\"train\"].append(train_s)\n",
    "    \n",
    "    test_s = sc[\"test_r2\"].mean()\n",
    "    scores[\"test\"].append(test_s)\n",
    "    \n",
    "    ''' mae '''\n",
    "    mae = np.absolute(sc[\"test_neg_mean_absolute_error\"]).mean()\n",
    "    scores[\"mae\"].append(mae)\n",
    "    \n",
    "    ''' scorese '''\n",
    "    mse = np.absolute(sc[\"test_neg_mean_squared_error\"]).mean()\n",
    "    scores[\"mse\"].append(mse)\n",
    "    \n",
    "    ''' rscorese '''\n",
    "    rmse = np.sqrt(mse)\n",
    "    scores[\"rmse\"].append(rmse)\n",
    "    print(\"train score: {0:.4f}\\nTest score: {1:.4f}\\nMAE: {2:.2f}\\nMSE: {3:.2f}\\nRMSE: {4:.2f}\".format(train_s, test_s, \n",
    "                                                                                                      mae, mse, rmse))"
   ]
  },
  {
   "cell_type": "code",
   "execution_count": 95,
   "metadata": {},
   "outputs": [
    {
     "name": "stdout",
     "output_type": "stream",
     "text": [
      "train score: 0.9208\n",
      "Test score: 0.9204\n",
      "MAE: 732.70\n",
      "MSE: 1265460.69\n",
      "RMSE: 1124.93\n"
     ]
    }
   ],
   "source": [
    "''' linear regression '''\n",
    "linear_reg = LinearRegression()\n",
    "result(linear_reg, X_copy)"
   ]
  },
  {
   "cell_type": "code",
   "execution_count": 97,
   "metadata": {},
   "outputs": [],
   "source": [
    "''' XGBRegressor '''\n",
    "xgb = XGBRegressor(learning_rate = 0.1, n_estimators = 200, random_state = 0)\n",
    "result(xgb, X_copy)"
   ]
  },
  {
   "cell_type": "code",
   "execution_count": 98,
   "metadata": {},
   "outputs": [
    {
     "name": "stdout",
     "output_type": "stream",
     "text": [
      "train score: 0.9510\n",
      "Test score: 0.9477\n",
      "MAE: 472.31\n",
      "MSE: 832256.25\n",
      "RMSE: 912.28\n"
     ]
    }
   ],
   "source": [
    "''' RandomForestRegressor '''\n",
    "rf = RandomForestRegressor(max_depth = 8, n_estimators = 40, random_state = 0)\n",
    "result(rf, X_copy)"
   ]
  },
  {
   "cell_type": "code",
   "execution_count": 95,
   "metadata": {},
   "outputs": [
    {
     "name": "stdout",
     "output_type": "stream",
     "text": [
      "train score: 0.9448\n",
      "R2 score: 0.9404\n",
      "MAE: 505.29\n",
      "scoresE: 947037.49\n",
      "RscoresE: 973.16\n"
     ]
    }
   ],
   "source": [
    "''' DecisionTreeRegressor '''\n",
    "dt = DecisionTreeRegressor(max_depth = 8, random_state = 0)\n",
    "result(dt, X_copy)"
   ]
  },
  {
   "cell_type": "code",
   "execution_count": null,
   "metadata": {},
   "outputs": [],
   "source": []
  },
  {
   "cell_type": "code",
   "execution_count": null,
   "metadata": {},
   "outputs": [],
   "source": []
  }
 ],
 "metadata": {
  "kernelspec": {
   "display_name": "Python 3",
   "language": "python",
   "name": "python3"
  },
  "language_info": {
   "codemirror_mode": {
    "name": "ipython",
    "version": 3
   },
   "file_extension": ".py",
   "mimetype": "text/x-python",
   "name": "python",
   "nbconvert_exporter": "python",
   "pygments_lexer": "ipython3",
   "version": "3.8.8"
  }
 },
 "nbformat": 4,
 "nbformat_minor": 4
}
