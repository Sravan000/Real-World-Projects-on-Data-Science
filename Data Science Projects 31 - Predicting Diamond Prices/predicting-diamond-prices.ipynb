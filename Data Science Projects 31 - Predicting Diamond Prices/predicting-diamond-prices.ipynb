{
 "cells": [
  {
   "cell_type": "markdown",
   "id": "delayed-extraction",
   "metadata": {
    "papermill": {
     "duration": 0.063686,
     "end_time": "2021-03-21T19:13:55.741556",
     "exception": false,
     "start_time": "2021-03-21T19:13:55.677870",
     "status": "completed"
    },
    "tags": []
   },
   "source": [
    "![](https://3.bp.blogspot.com/-bwI-Pr1rNVg/WHoSXAJN_XI/AAAAAAAAYrQ/Z3VV1nvjrqATUy6WtGqJ-DgIRe0UsiOTQCLcB/s1600/Gifs%2Banimados%2BDiamante%2B1.gif)"
   ]
  },
  {
   "attachments": {
    "image.png": {
     "image/png": "[encoded data removed]"
    }
   },
   "cell_type": "markdown",
   "id": "terminal-characteristic",
   "metadata": {
    "papermill": {
     "duration": 0.057692,
     "end_time": "2021-03-21T19:13:55.857165",
     "exception": false,
     "start_time": "2021-03-21T19:13:55.799473",
     "status": "completed"
    },
    "tags": []
   },
   "source": [
    "![image.png](attachment:image.png)"
   ]
  },
  {
   "cell_type": "markdown",
   "id": "increasing-image",
   "metadata": {
    "papermill": {
     "duration": 0.05723,
     "end_time": "2021-03-21T19:13:55.972241",
     "exception": false,
     "start_time": "2021-03-21T19:13:55.915011",
     "status": "completed"
    },
    "tags": []
   },
   "source": [
    "Diamonds... desired and expensive, diamonds are one of nature's most beautiful creations. It is the hardest mineral on the planet, no other mineral or substance can scratch it, on the other hand, it is very fragile, and it breaks easily.\n",
    "\n",
    "Did you know that about 250 tons of gravel are needed to extract only one carat of diamond? And that 80% of the diamonds mined are used for industrial purposes?\n",
    "\n",
    "\n",
    "Really cool facts, here in this notebook i am going to predict diamond prices using some regression algorithms, but before that, an exploratory data analysis will be done."
   ]
  },
  {
   "attachments": {
    "image.png": {
     "image/png": "[encoded data removed]"
    }
   },
   "cell_type": "markdown",
   "id": "textile-funeral",
   "metadata": {
    "papermill": {
     "duration": 0.057378,
     "end_time": "2021-03-21T19:13:56.087308",
     "exception": false,
     "start_time": "2021-03-21T19:13:56.029930",
     "status": "completed"
    },
    "tags": []
   },
   "source": [
    "![image.png](attachment:image.png)"
   ]
  },
  {
   "cell_type": "code",
   "execution_count": null,
   "id": "lovely-seminar",
   "metadata": {
    "_cell_guid": "b1076dfc-b9ad-4769-8c92-a6c4dae69d19",
    "_uuid": "8f2839f25d086af736a60e9eeb907d3b93b6e0e5",
    "execution": {
     "iopub.execute_input": "2021-03-21T19:13:56.214888Z",
     "iopub.status.busy": "2021-03-21T19:13:56.214247Z",
     "iopub.status.idle": "2021-03-21T19:13:58.084639Z",
     "shell.execute_reply": "2021-03-21T19:13:58.085276Z"
    },
    "papermill": {
     "duration": 1.939783,
     "end_time": "2021-03-21T19:13:58.085608",
     "exception": false,
     "start_time": "2021-03-21T19:13:56.145825",
     "status": "completed"
    },
    "tags": []
   },
   "outputs": [],
   "source": [
    "# Importing libraries\n",
    "import numpy as np\n",
    "import pandas as pd\n",
    "import seaborn as sns\n",
    "from matplotlib import pyplot as plt\n",
    "from sklearn.preprocessing import StandardScaler\n",
    "from sklearn.model_selection import KFold\n",
    "from sklearn.model_selection import cross_validate\n",
    "from sklearn.linear_model import LinearRegression\n",
    "from sklearn.tree import DecisionTreeRegressor\n",
    "from sklearn.ensemble import RandomForestRegressor\n",
    "from xgboost import XGBRegressor\n",
    "\n",
    "\n",
    "SEED = 42"
   ]
  },
  {
   "cell_type": "code",
   "execution_count": 2,
   "id": "challenging-delaware",
   "metadata": {
    "execution": {
     "iopub.execute_input": "2021-03-21T19:13:58.211021Z",
     "iopub.status.busy": "2021-03-21T19:13:58.210234Z",
     "iopub.status.idle": "2021-03-21T19:13:58.412633Z",
     "shell.execute_reply": "2021-03-21T19:13:58.411913Z"
    },
    "papermill": {
     "duration": 0.266854,
     "end_time": "2021-03-21T19:13:58.412778",
     "exception": false,
     "start_time": "2021-03-21T19:13:58.145924",
     "status": "completed"
    },
    "tags": []
   },
   "outputs": [
    {
     "data": {
      "text/html": [
       "<div>\n",
       "<style scoped>\n",
       "    .dataframe tbody tr th:only-of-type {\n",
       "        vertical-align: middle;\n",
       "    }\n",
       "\n",
       "    .dataframe tbody tr th {\n",
       "        vertical-align: top;\n",
       "    }\n",
       "\n",
       "    .dataframe thead th {\n",
       "        text-align: right;\n",
       "    }\n",
       "</style>\n",
       "<table border=\"1\" class=\"dataframe\">\n",
       "  <thead>\n",
       "    <tr style=\"text-align: right;\">\n",
       "      <th></th>\n",
       "      <th>Unnamed: 0</th>\n",
       "      <th>carat</th>\n",
       "      <th>cut</th>\n",
       "      <th>color</th>\n",
       "      <th>clarity</th>\n",
       "      <th>depth</th>\n",
       "      <th>table</th>\n",
       "      <th>price</th>\n",
       "      <th>x</th>\n",
       "      <th>y</th>\n",
       "      <th>z</th>\n",
       "    </tr>\n",
       "  </thead>\n",
       "  <tbody>\n",
       "    <tr>\n",
       "      <th>0</th>\n",
       "      <td>1</td>\n",
       "      <td>0.23</td>\n",
       "      <td>Ideal</td>\n",
       "      <td>E</td>\n",
       "      <td>SI2</td>\n",
       "      <td>61.5</td>\n",
       "      <td>55.0</td>\n",
       "      <td>326</td>\n",
       "      <td>3.95</td>\n",
       "      <td>3.98</td>\n",
       "      <td>2.43</td>\n",
       "    </tr>\n",
       "    <tr>\n",
       "      <th>1</th>\n",
       "      <td>2</td>\n",
       "      <td>0.21</td>\n",
       "      <td>Premium</td>\n",
       "      <td>E</td>\n",
       "      <td>SI1</td>\n",
       "      <td>59.8</td>\n",
       "      <td>61.0</td>\n",
       "      <td>326</td>\n",
       "      <td>3.89</td>\n",
       "      <td>3.84</td>\n",
       "      <td>2.31</td>\n",
       "    </tr>\n",
       "    <tr>\n",
       "      <th>2</th>\n",
       "      <td>3</td>\n",
       "      <td>0.23</td>\n",
       "      <td>Good</td>\n",
       "      <td>E</td>\n",
       "      <td>VS1</td>\n",
       "      <td>56.9</td>\n",
       "      <td>65.0</td>\n",
       "      <td>327</td>\n",
       "      <td>4.05</td>\n",
       "      <td>4.07</td>\n",
       "      <td>2.31</td>\n",
       "    </tr>\n",
       "    <tr>\n",
       "      <th>3</th>\n",
       "      <td>4</td>\n",
       "      <td>0.29</td>\n",
       "      <td>Premium</td>\n",
       "      <td>I</td>\n",
       "      <td>VS2</td>\n",
       "      <td>62.4</td>\n",
       "      <td>58.0</td>\n",
       "      <td>334</td>\n",
       "      <td>4.20</td>\n",
       "      <td>4.23</td>\n",
       "      <td>2.63</td>\n",
       "    </tr>\n",
       "    <tr>\n",
       "      <th>4</th>\n",
       "      <td>5</td>\n",
       "      <td>0.31</td>\n",
       "      <td>Good</td>\n",
       "      <td>J</td>\n",
       "      <td>SI2</td>\n",
       "      <td>63.3</td>\n",
       "      <td>58.0</td>\n",
       "      <td>335</td>\n",
       "      <td>4.34</td>\n",
       "      <td>4.35</td>\n",
       "      <td>2.75</td>\n",
       "    </tr>\n",
       "    <tr>\n",
       "      <th>5</th>\n",
       "      <td>6</td>\n",
       "      <td>0.24</td>\n",
       "      <td>Very Good</td>\n",
       "      <td>J</td>\n",
       "      <td>VVS2</td>\n",
       "      <td>62.8</td>\n",
       "      <td>57.0</td>\n",
       "      <td>336</td>\n",
       "      <td>3.94</td>\n",
       "      <td>3.96</td>\n",
       "      <td>2.48</td>\n",
       "    </tr>\n",
       "    <tr>\n",
       "      <th>6</th>\n",
       "      <td>7</td>\n",
       "      <td>0.24</td>\n",
       "      <td>Very Good</td>\n",
       "      <td>I</td>\n",
       "      <td>VVS1</td>\n",
       "      <td>62.3</td>\n",
       "      <td>57.0</td>\n",
       "      <td>336</td>\n",
       "      <td>3.95</td>\n",
       "      <td>3.98</td>\n",
       "      <td>2.47</td>\n",
       "    </tr>\n",
       "    <tr>\n",
       "      <th>7</th>\n",
       "      <td>8</td>\n",
       "      <td>0.26</td>\n",
       "      <td>Very Good</td>\n",
       "      <td>H</td>\n",
       "      <td>SI1</td>\n",
       "      <td>61.9</td>\n",
       "      <td>55.0</td>\n",
       "      <td>337</td>\n",
       "      <td>4.07</td>\n",
       "      <td>4.11</td>\n",
       "      <td>2.53</td>\n",
       "    </tr>\n",
       "  </tbody>\n",
       "</table>\n",
       "</div>"
      ],
      "text/plain": [
       "   Unnamed: 0  carat        cut color clarity  depth  table  price     x  \\\n",
       "0           1   0.23      Ideal     E     SI2   61.5   55.0    326  3.95   \n",
       "1           2   0.21    Premium     E     SI1   59.8   61.0    326  3.89   \n",
       "2           3   0.23       Good     E     VS1   56.9   65.0    327  4.05   \n",
       "3           4   0.29    Premium     I     VS2   62.4   58.0    334  4.20   \n",
       "4           5   0.31       Good     J     SI2   63.3   58.0    335  4.34   \n",
       "5           6   0.24  Very Good     J    VVS2   62.8   57.0    336  3.94   \n",
       "6           7   0.24  Very Good     I    VVS1   62.3   57.0    336  3.95   \n",
       "7           8   0.26  Very Good     H     SI1   61.9   55.0    337  4.07   \n",
       "\n",
       "      y     z  \n",
       "0  3.98  2.43  \n",
       "1  3.84  2.31  \n",
       "2  4.07  2.31  \n",
       "3  4.23  2.63  \n",
       "4  4.35  2.75  \n",
       "5  3.96  2.48  \n",
       "6  3.98  2.47  \n",
       "7  4.11  2.53  "
      ]
     },
     "execution_count": 2,
     "metadata": {},
     "output_type": "execute_result"
    }
   ],
   "source": [
    "# Loading data\n",
    "df = pd.read_csv(\"diamonds.csv\")\n",
    "df.head(8)"
   ]
  },
  {
   "cell_type": "markdown",
   "id": "settled-talent",
   "metadata": {
    "papermill": {
     "duration": 0.058766,
     "end_time": "2021-03-21T19:13:58.533119",
     "exception": false,
     "start_time": "2021-03-21T19:13:58.474353",
     "status": "completed"
    },
    "tags": []
   },
   "source": [
    "* **carat** - Carat weight of the diamond.\n",
    "* **cut** - Describes the cut quality of the diamond (from the best to worst: Ideal, Premium, Very Good, Good and Fair).\n",
    "* **color** - Color of the diamond (from the best to worst: D, E, F, G, H, I and J).\n",
    "* **clarity** - A measurement of how clear the diamond is (from the best to worst: IF, VVS1, VVS2, VS1, VS2, SI1, SI2 and I1).\n",
    "* **depth** - The height of a diamond, measured from the culet to the table, divided by the average girdle diameter (%).\n",
    "* **table** - The width of a diamond table expressed as a percentage of the average diameter (%).\n",
    "* **x** - Diamond length (mm).\n",
    "* **y** - Diamond width (mm).\n",
    "* **z** - Diamond depth (mm).\n",
    "* **price** - Diamond price."
   ]
  },
  {
   "cell_type": "code",
   "execution_count": 3,
   "id": "interracial-spending",
   "metadata": {
    "execution": {
     "iopub.execute_input": "2021-03-21T19:13:58.684083Z",
     "iopub.status.busy": "2021-03-21T19:13:58.683115Z",
     "iopub.status.idle": "2021-03-21T19:13:58.720223Z",
     "shell.execute_reply": "2021-03-21T19:13:58.719525Z"
    },
    "papermill": {
     "duration": 0.124202,
     "end_time": "2021-03-21T19:13:58.720376",
     "exception": false,
     "start_time": "2021-03-21T19:13:58.596174",
     "status": "completed"
    },
    "tags": []
   },
   "outputs": [
    {
     "name": "stdout",
     "output_type": "stream",
     "text": [
      "<class 'pandas.core.frame.DataFrame'>\n",
      "RangeIndex: 53940 entries, 0 to 53939\n",
      "Data columns (total 11 columns):\n",
      " #   Column      Non-Null Count  Dtype  \n",
      "---  ------      --------------  -----  \n",
      " 0   Unnamed: 0  53940 non-null  int64  \n",
      " 1   carat       53940 non-null  float64\n",
      " 2   cut         53940 non-null  object \n",
      " 3   color       53940 non-null  object \n",
      " 4   clarity     53940 non-null  object \n",
      " 5   depth       53940 non-null  float64\n",
      " 6   table       53940 non-null  float64\n",
      " 7   price       53940 non-null  int64  \n",
      " 8   x           53940 non-null  float64\n",
      " 9   y           53940 non-null  float64\n",
      " 10  z           53940 non-null  float64\n",
      "dtypes: float64(6), int64(2), object(3)\n",
      "memory usage: 4.5+ MB\n"
     ]
    }
   ],
   "source": [
    "# Getting some information about the data\n",
    "df.info()"
   ]
  },
  {
   "cell_type": "markdown",
   "id": "piano-peeing",
   "metadata": {
    "papermill": {
     "duration": 0.063256,
     "end_time": "2021-03-21T19:13:58.859452",
     "exception": false,
     "start_time": "2021-03-21T19:13:58.796196",
     "status": "completed"
    },
    "tags": []
   },
   "source": [
    "# <font size=\"4\">Missing Values</font>"
   ]
  },
  {
   "cell_type": "markdown",
   "id": "directed-ultimate",
   "metadata": {
    "papermill": {
     "duration": 0.063891,
     "end_time": "2021-03-21T19:13:59.001014",
     "exception": false,
     "start_time": "2021-03-21T19:13:58.937123",
     "status": "completed"
    },
    "tags": []
   },
   "source": [
    "As we can see from <code>df.info()</code>, there are no missing values."
   ]
  },
  {
   "cell_type": "code",
   "execution_count": 4,
   "id": "common-recording",
   "metadata": {
    "execution": {
     "iopub.execute_input": "2021-03-21T19:13:59.147943Z",
     "iopub.status.busy": "2021-03-21T19:13:59.146895Z",
     "iopub.status.idle": "2021-03-21T19:13:59.154545Z",
     "shell.execute_reply": "2021-03-21T19:13:59.155163Z"
    },
    "papermill": {
     "duration": 0.09193,
     "end_time": "2021-03-21T19:13:59.155341",
     "exception": false,
     "start_time": "2021-03-21T19:13:59.063411",
     "status": "completed"
    },
    "tags": []
   },
   "outputs": [
    {
     "name": "stdout",
     "output_type": "stream",
     "text": [
      "there are no missing values\n"
     ]
    }
   ],
   "source": [
    "if df.isnull().sum().any() == False:\n",
    "    print(\"there are no missing values\")\n",
    "else:\n",
    "    print(\"there are something wrong here\")"
   ]
  },
  {
   "cell_type": "markdown",
   "id": "wrong-dayton",
   "metadata": {
    "papermill": {
     "duration": 0.063747,
     "end_time": "2021-03-21T19:13:59.279803",
     "exception": false,
     "start_time": "2021-03-21T19:13:59.216056",
     "status": "completed"
    },
    "tags": []
   },
   "source": [
    "# <font size=\"4\">Duplicate Rows</font>"
   ]
  },
  {
   "cell_type": "markdown",
   "id": "scheduled-combination",
   "metadata": {
    "papermill": {
     "duration": 0.061362,
     "end_time": "2021-03-21T19:13:59.403478",
     "exception": false,
     "start_time": "2021-03-21T19:13:59.342116",
     "status": "completed"
    },
    "tags": []
   },
   "source": [
    "Let's check for duplicate rows, but first we need to delete the \"Unnamed: 0\" column, since it is useless for us and has a diffent value for each row, in other words, if we do not drop this column, the number of duplicate lines will always be zero."
   ]
  },
  {
   "cell_type": "code",
   "execution_count": 5,
   "id": "amazing-major",
   "metadata": {
    "execution": {
     "iopub.execute_input": "2021-03-21T19:13:59.541281Z",
     "iopub.status.busy": "2021-03-21T19:13:59.540311Z",
     "iopub.status.idle": "2021-03-21T19:13:59.583208Z",
     "shell.execute_reply": "2021-03-21T19:13:59.582394Z"
    },
    "papermill": {
     "duration": 0.113123,
     "end_time": "2021-03-21T19:13:59.583412",
     "exception": false,
     "start_time": "2021-03-21T19:13:59.470289",
     "status": "completed"
    },
    "tags": []
   },
   "outputs": [
    {
     "name": "stdout",
     "output_type": "stream",
     "text": [
      "number of duplicate rows:  146\n"
     ]
    }
   ],
   "source": [
    "# Dropping \"Unnamed: 0\" column\n",
    "df = df.drop([\"Unnamed: 0\"], axis = 1)\n",
    "\n",
    "# Checking for duplicate rows\n",
    "print(\"number of duplicate rows: \", df.duplicated().sum())"
   ]
  },
  {
   "cell_type": "code",
   "execution_count": 6,
   "id": "sapphire-translator",
   "metadata": {
    "execution": {
     "iopub.execute_input": "2021-03-21T19:13:59.714463Z",
     "iopub.status.busy": "2021-03-21T19:13:59.713740Z",
     "iopub.status.idle": "2021-03-21T19:13:59.759066Z",
     "shell.execute_reply": "2021-03-21T19:13:59.759692Z"
    },
    "papermill": {
     "duration": 0.114271,
     "end_time": "2021-03-21T19:13:59.759907",
     "exception": false,
     "start_time": "2021-03-21T19:13:59.645636",
     "status": "completed"
    },
    "tags": []
   },
   "outputs": [],
   "source": [
    "# Dropping them\n",
    "df = df.drop_duplicates().reset_index(drop = True)"
   ]
  },
  {
   "cell_type": "markdown",
   "id": "sharp-comment",
   "metadata": {
    "papermill": {
     "duration": 0.060902,
     "end_time": "2021-03-21T19:13:59.882435",
     "exception": false,
     "start_time": "2021-03-21T19:13:59.821533",
     "status": "completed"
    },
    "tags": []
   },
   "source": [
    "# <font size=\"4\">Data Describe</font>"
   ]
  },
  {
   "cell_type": "code",
   "execution_count": 7,
   "id": "operational-princess",
   "metadata": {
    "execution": {
     "iopub.execute_input": "2021-03-21T19:14:00.019454Z",
     "iopub.status.busy": "2021-03-21T19:14:00.018548Z",
     "iopub.status.idle": "2021-03-21T19:14:00.067740Z",
     "shell.execute_reply": "2021-03-21T19:14:00.067177Z"
    },
    "papermill": {
     "duration": 0.123398,
     "end_time": "2021-03-21T19:14:00.067898",
     "exception": false,
     "start_time": "2021-03-21T19:13:59.944500",
     "status": "completed"
    },
    "tags": []
   },
   "outputs": [
    {
     "data": {
      "text/html": [
       "<div>\n",
       "<style scoped>\n",
       "    .dataframe tbody tr th:only-of-type {\n",
       "        vertical-align: middle;\n",
       "    }\n",
       "\n",
       "    .dataframe tbody tr th {\n",
       "        vertical-align: top;\n",
       "    }\n",
       "\n",
       "    .dataframe thead th {\n",
       "        text-align: right;\n",
       "    }\n",
       "</style>\n",
       "<table border=\"1\" class=\"dataframe\">\n",
       "  <thead>\n",
       "    <tr style=\"text-align: right;\">\n",
       "      <th></th>\n",
       "      <th>count</th>\n",
       "      <th>mean</th>\n",
       "      <th>std</th>\n",
       "      <th>min</th>\n",
       "      <th>25%</th>\n",
       "      <th>50%</th>\n",
       "      <th>75%</th>\n",
       "      <th>max</th>\n",
       "    </tr>\n",
       "  </thead>\n",
       "  <tbody>\n",
       "    <tr>\n",
       "      <th>carat</th>\n",
       "      <td>53794.0</td>\n",
       "      <td>0.797780</td>\n",
       "      <td>0.473390</td>\n",
       "      <td>0.2</td>\n",
       "      <td>0.40</td>\n",
       "      <td>0.70</td>\n",
       "      <td>1.04</td>\n",
       "      <td>5.01</td>\n",
       "    </tr>\n",
       "    <tr>\n",
       "      <th>depth</th>\n",
       "      <td>53794.0</td>\n",
       "      <td>61.748080</td>\n",
       "      <td>1.429909</td>\n",
       "      <td>43.0</td>\n",
       "      <td>61.00</td>\n",
       "      <td>61.80</td>\n",
       "      <td>62.50</td>\n",
       "      <td>79.00</td>\n",
       "    </tr>\n",
       "    <tr>\n",
       "      <th>table</th>\n",
       "      <td>53794.0</td>\n",
       "      <td>57.458109</td>\n",
       "      <td>2.233679</td>\n",
       "      <td>43.0</td>\n",
       "      <td>56.00</td>\n",
       "      <td>57.00</td>\n",
       "      <td>59.00</td>\n",
       "      <td>95.00</td>\n",
       "    </tr>\n",
       "    <tr>\n",
       "      <th>price</th>\n",
       "      <td>53794.0</td>\n",
       "      <td>3933.065082</td>\n",
       "      <td>3988.114460</td>\n",
       "      <td>326.0</td>\n",
       "      <td>951.00</td>\n",
       "      <td>2401.00</td>\n",
       "      <td>5326.75</td>\n",
       "      <td>18823.00</td>\n",
       "    </tr>\n",
       "    <tr>\n",
       "      <th>x</th>\n",
       "      <td>53794.0</td>\n",
       "      <td>5.731214</td>\n",
       "      <td>1.120695</td>\n",
       "      <td>0.0</td>\n",
       "      <td>4.71</td>\n",
       "      <td>5.70</td>\n",
       "      <td>6.54</td>\n",
       "      <td>10.74</td>\n",
       "    </tr>\n",
       "    <tr>\n",
       "      <th>y</th>\n",
       "      <td>53794.0</td>\n",
       "      <td>5.734653</td>\n",
       "      <td>1.141209</td>\n",
       "      <td>0.0</td>\n",
       "      <td>4.72</td>\n",
       "      <td>5.71</td>\n",
       "      <td>6.54</td>\n",
       "      <td>58.90</td>\n",
       "    </tr>\n",
       "    <tr>\n",
       "      <th>z</th>\n",
       "      <td>53794.0</td>\n",
       "      <td>3.538714</td>\n",
       "      <td>0.705037</td>\n",
       "      <td>0.0</td>\n",
       "      <td>2.91</td>\n",
       "      <td>3.53</td>\n",
       "      <td>4.03</td>\n",
       "      <td>31.80</td>\n",
       "    </tr>\n",
       "  </tbody>\n",
       "</table>\n",
       "</div>"
      ],
      "text/plain": [
       "         count         mean          std    min     25%      50%      75%  \\\n",
       "carat  53794.0     0.797780     0.473390    0.2    0.40     0.70     1.04   \n",
       "depth  53794.0    61.748080     1.429909   43.0   61.00    61.80    62.50   \n",
       "table  53794.0    57.458109     2.233679   43.0   56.00    57.00    59.00   \n",
       "price  53794.0  3933.065082  3988.114460  326.0  951.00  2401.00  5326.75   \n",
       "x      53794.0     5.731214     1.120695    0.0    4.71     5.70     6.54   \n",
       "y      53794.0     5.734653     1.141209    0.0    4.72     5.71     6.54   \n",
       "z      53794.0     3.538714     0.705037    0.0    2.91     3.53     4.03   \n",
       "\n",
       "            max  \n",
       "carat      5.01  \n",
       "depth     79.00  \n",
       "table     95.00  \n",
       "price  18823.00  \n",
       "x         10.74  \n",
       "y         58.90  \n",
       "z         31.80  "
      ]
     },
     "execution_count": 7,
     "metadata": {},
     "output_type": "execute_result"
    }
   ],
   "source": [
    "# Numerical data\n",
    "df.describe().T"
   ]
  },
  {
   "cell_type": "code",
   "execution_count": 8,
   "id": "studied-graphic",
   "metadata": {
    "execution": {
     "iopub.execute_input": "2021-03-21T19:14:00.214528Z",
     "iopub.status.busy": "2021-03-21T19:14:00.199994Z",
     "iopub.status.idle": "2021-03-21T19:14:00.288315Z",
     "shell.execute_reply": "2021-03-21T19:14:00.287652Z"
    },
    "papermill": {
     "duration": 0.158405,
     "end_time": "2021-03-21T19:14:00.288455",
     "exception": false,
     "start_time": "2021-03-21T19:14:00.130050",
     "status": "completed"
    },
    "tags": []
   },
   "outputs": [
    {
     "data": {
      "text/html": [
       "<div>\n",
       "<style scoped>\n",
       "    .dataframe tbody tr th:only-of-type {\n",
       "        vertical-align: middle;\n",
       "    }\n",
       "\n",
       "    .dataframe tbody tr th {\n",
       "        vertical-align: top;\n",
       "    }\n",
       "\n",
       "    .dataframe thead th {\n",
       "        text-align: right;\n",
       "    }\n",
       "</style>\n",
       "<table border=\"1\" class=\"dataframe\">\n",
       "  <thead>\n",
       "    <tr style=\"text-align: right;\">\n",
       "      <th></th>\n",
       "      <th>count</th>\n",
       "      <th>unique</th>\n",
       "      <th>top</th>\n",
       "      <th>freq</th>\n",
       "    </tr>\n",
       "  </thead>\n",
       "  <tbody>\n",
       "    <tr>\n",
       "      <th>cut</th>\n",
       "      <td>53794</td>\n",
       "      <td>5</td>\n",
       "      <td>Ideal</td>\n",
       "      <td>21488</td>\n",
       "    </tr>\n",
       "    <tr>\n",
       "      <th>color</th>\n",
       "      <td>53794</td>\n",
       "      <td>7</td>\n",
       "      <td>G</td>\n",
       "      <td>11262</td>\n",
       "    </tr>\n",
       "    <tr>\n",
       "      <th>clarity</th>\n",
       "      <td>53794</td>\n",
       "      <td>8</td>\n",
       "      <td>SI1</td>\n",
       "      <td>13032</td>\n",
       "    </tr>\n",
       "  </tbody>\n",
       "</table>\n",
       "</div>"
      ],
      "text/plain": [
       "         count unique    top   freq\n",
       "cut      53794      5  Ideal  21488\n",
       "color    53794      7      G  11262\n",
       "clarity  53794      8    SI1  13032"
      ]
     },
     "execution_count": 8,
     "metadata": {},
     "output_type": "execute_result"
    }
   ],
   "source": [
    "# Categorical data\n",
    "df.describe(include = \"O\").T"
   ]
  },
  {
   "cell_type": "markdown",
   "id": "surgical-ground",
   "metadata": {
    "papermill": {
     "duration": 0.064121,
     "end_time": "2021-03-21T19:14:00.414405",
     "exception": false,
     "start_time": "2021-03-21T19:14:00.350284",
     "status": "completed"
    },
    "tags": []
   },
   "source": [
    "After use <code>df.describe().T</code>, we could see that the minimun value of **x**, **y** and **z** are equal to zero. Let's take a look at them."
   ]
  },
  {
   "cell_type": "code",
   "execution_count": 9,
   "id": "departmental-yorkshire",
   "metadata": {
    "_kg_hide-input": true,
    "execution": {
     "iopub.execute_input": "2021-03-21T19:14:00.551031Z",
     "iopub.status.busy": "2021-03-21T19:14:00.550140Z",
     "iopub.status.idle": "2021-03-21T19:14:00.664996Z",
     "shell.execute_reply": "2021-03-21T19:14:00.664388Z"
    },
    "papermill": {
     "duration": 0.184899,
     "end_time": "2021-03-21T19:14:00.665137",
     "exception": false,
     "start_time": "2021-03-21T19:14:00.480238",
     "status": "completed"
    },
    "tags": []
   },
   "outputs": [
    {
     "data": {
      "text/html": [
       "<style  type=\"text/css\" >\n",
       "#T_0ed40_row0_col9,#T_0ed40_row1_col9,#T_0ed40_row2_col9,#T_0ed40_row3_col9,#T_0ed40_row4_col9,#T_0ed40_row5_col7,#T_0ed40_row5_col9,#T_0ed40_row6_col7,#T_0ed40_row6_col8,#T_0ed40_row6_col9,#T_0ed40_row7_col9,#T_0ed40_row8_col7,#T_0ed40_row8_col8,#T_0ed40_row8_col9,#T_0ed40_row9_col9,#T_0ed40_row10_col7,#T_0ed40_row10_col8,#T_0ed40_row10_col9,#T_0ed40_row11_col9,#T_0ed40_row12_col7,#T_0ed40_row12_col8,#T_0ed40_row12_col9,#T_0ed40_row13_col9,#T_0ed40_row14_col7,#T_0ed40_row14_col8,#T_0ed40_row14_col9,#T_0ed40_row15_col9,#T_0ed40_row16_col9,#T_0ed40_row17_col7,#T_0ed40_row17_col8,#T_0ed40_row17_col9,#T_0ed40_row18_col9{\n",
       "            background:  yellow;\n",
       "        }</style><table id=\"T_0ed40_\" ><thead>    <tr>        <th class=\"blank level0\" ></th>        <th class=\"col_heading level0 col0\" >carat</th>        <th class=\"col_heading level0 col1\" >cut</th>        <th class=\"col_heading level0 col2\" >color</th>        <th class=\"col_heading level0 col3\" >clarity</th>        <th class=\"col_heading level0 col4\" >depth</th>        <th class=\"col_heading level0 col5\" >table</th>        <th class=\"col_heading level0 col6\" >price</th>        <th class=\"col_heading level0 col7\" >x</th>        <th class=\"col_heading level0 col8\" >y</th>        <th class=\"col_heading level0 col9\" >z</th>    </tr></thead><tbody>\n",
       "                <tr>\n",
       "                        <th id=\"T_0ed40_level0_row0\" class=\"row_heading level0 row0\" >2201</th>\n",
       "                        <td id=\"T_0ed40_row0_col0\" class=\"data row0 col0\" >1.00</td>\n",
       "                        <td id=\"T_0ed40_row0_col1\" class=\"data row0 col1\" >Premium</td>\n",
       "                        <td id=\"T_0ed40_row0_col2\" class=\"data row0 col2\" >G</td>\n",
       "                        <td id=\"T_0ed40_row0_col3\" class=\"data row0 col3\" >SI2</td>\n",
       "                        <td id=\"T_0ed40_row0_col4\" class=\"data row0 col4\" >59.1</td>\n",
       "                        <td id=\"T_0ed40_row0_col5\" class=\"data row0 col5\" >59.0</td>\n",
       "                        <td id=\"T_0ed40_row0_col6\" class=\"data row0 col6\" >3142</td>\n",
       "                        <td id=\"T_0ed40_row0_col7\" class=\"data row0 col7\" >6.55</td>\n",
       "                        <td id=\"T_0ed40_row0_col8\" class=\"data row0 col8\" >6.48</td>\n",
       "                        <td id=\"T_0ed40_row0_col9\" class=\"data row0 col9\" >0.00</td>\n",
       "            </tr>\n",
       "            <tr>\n",
       "                        <th id=\"T_0ed40_level0_row1\" class=\"row_heading level0 row1\" >2308</th>\n",
       "                        <td id=\"T_0ed40_row1_col0\" class=\"data row1 col0\" >1.01</td>\n",
       "                        <td id=\"T_0ed40_row1_col1\" class=\"data row1 col1\" >Premium</td>\n",
       "                        <td id=\"T_0ed40_row1_col2\" class=\"data row1 col2\" >H</td>\n",
       "                        <td id=\"T_0ed40_row1_col3\" class=\"data row1 col3\" >I1</td>\n",
       "                        <td id=\"T_0ed40_row1_col4\" class=\"data row1 col4\" >58.1</td>\n",
       "                        <td id=\"T_0ed40_row1_col5\" class=\"data row1 col5\" >59.0</td>\n",
       "                        <td id=\"T_0ed40_row1_col6\" class=\"data row1 col6\" >3167</td>\n",
       "                        <td id=\"T_0ed40_row1_col7\" class=\"data row1 col7\" >6.66</td>\n",
       "                        <td id=\"T_0ed40_row1_col8\" class=\"data row1 col8\" >6.60</td>\n",
       "                        <td id=\"T_0ed40_row1_col9\" class=\"data row1 col9\" >0.00</td>\n",
       "            </tr>\n",
       "            <tr>\n",
       "                        <th id=\"T_0ed40_level0_row2\" class=\"row_heading level0 row2\" >4778</th>\n",
       "                        <td id=\"T_0ed40_row2_col0\" class=\"data row2 col0\" >1.10</td>\n",
       "                        <td id=\"T_0ed40_row2_col1\" class=\"data row2 col1\" >Premium</td>\n",
       "                        <td id=\"T_0ed40_row2_col2\" class=\"data row2 col2\" >G</td>\n",
       "                        <td id=\"T_0ed40_row2_col3\" class=\"data row2 col3\" >SI2</td>\n",
       "                        <td id=\"T_0ed40_row2_col4\" class=\"data row2 col4\" >63.0</td>\n",
       "                        <td id=\"T_0ed40_row2_col5\" class=\"data row2 col5\" >59.0</td>\n",
       "                        <td id=\"T_0ed40_row2_col6\" class=\"data row2 col6\" >3696</td>\n",
       "                        <td id=\"T_0ed40_row2_col7\" class=\"data row2 col7\" >6.50</td>\n",
       "                        <td id=\"T_0ed40_row2_col8\" class=\"data row2 col8\" >6.47</td>\n",
       "                        <td id=\"T_0ed40_row2_col9\" class=\"data row2 col9\" >0.00</td>\n",
       "            </tr>\n",
       "            <tr>\n",
       "                        <th id=\"T_0ed40_level0_row3\" class=\"row_heading level0 row3\" >5457</th>\n",
       "                        <td id=\"T_0ed40_row3_col0\" class=\"data row3 col0\" >1.01</td>\n",
       "                        <td id=\"T_0ed40_row3_col1\" class=\"data row3 col1\" >Premium</td>\n",
       "                        <td id=\"T_0ed40_row3_col2\" class=\"data row3 col2\" >F</td>\n",
       "                        <td id=\"T_0ed40_row3_col3\" class=\"data row3 col3\" >SI2</td>\n",
       "                        <td id=\"T_0ed40_row3_col4\" class=\"data row3 col4\" >59.2</td>\n",
       "                        <td id=\"T_0ed40_row3_col5\" class=\"data row3 col5\" >58.0</td>\n",
       "                        <td id=\"T_0ed40_row3_col6\" class=\"data row3 col6\" >3837</td>\n",
       "                        <td id=\"T_0ed40_row3_col7\" class=\"data row3 col7\" >6.50</td>\n",
       "                        <td id=\"T_0ed40_row3_col8\" class=\"data row3 col8\" >6.47</td>\n",
       "                        <td id=\"T_0ed40_row3_col9\" class=\"data row3 col9\" >0.00</td>\n",
       "            </tr>\n",
       "            <tr>\n",
       "                        <th id=\"T_0ed40_level0_row4\" class=\"row_heading level0 row4\" >10145</th>\n",
       "                        <td id=\"T_0ed40_row4_col0\" class=\"data row4 col0\" >1.50</td>\n",
       "                        <td id=\"T_0ed40_row4_col1\" class=\"data row4 col1\" >Good</td>\n",
       "                        <td id=\"T_0ed40_row4_col2\" class=\"data row4 col2\" >G</td>\n",
       "                        <td id=\"T_0ed40_row4_col3\" class=\"data row4 col3\" >I1</td>\n",
       "                        <td id=\"T_0ed40_row4_col4\" class=\"data row4 col4\" >64.0</td>\n",
       "                        <td id=\"T_0ed40_row4_col5\" class=\"data row4 col5\" >61.0</td>\n",
       "                        <td id=\"T_0ed40_row4_col6\" class=\"data row4 col6\" >4731</td>\n",
       "                        <td id=\"T_0ed40_row4_col7\" class=\"data row4 col7\" >7.15</td>\n",
       "                        <td id=\"T_0ed40_row4_col8\" class=\"data row4 col8\" >7.04</td>\n",
       "                        <td id=\"T_0ed40_row4_col9\" class=\"data row4 col9\" >0.00</td>\n",
       "            </tr>\n",
       "            <tr>\n",
       "                        <th id=\"T_0ed40_level0_row5\" class=\"row_heading level0 row5\" >11156</th>\n",
       "                        <td id=\"T_0ed40_row5_col0\" class=\"data row5 col0\" >1.07</td>\n",
       "                        <td id=\"T_0ed40_row5_col1\" class=\"data row5 col1\" >Ideal</td>\n",
       "                        <td id=\"T_0ed40_row5_col2\" class=\"data row5 col2\" >F</td>\n",
       "                        <td id=\"T_0ed40_row5_col3\" class=\"data row5 col3\" >SI2</td>\n",
       "                        <td id=\"T_0ed40_row5_col4\" class=\"data row5 col4\" >61.6</td>\n",
       "                        <td id=\"T_0ed40_row5_col5\" class=\"data row5 col5\" >56.0</td>\n",
       "                        <td id=\"T_0ed40_row5_col6\" class=\"data row5 col6\" >4954</td>\n",
       "                        <td id=\"T_0ed40_row5_col7\" class=\"data row5 col7\" >0.00</td>\n",
       "                        <td id=\"T_0ed40_row5_col8\" class=\"data row5 col8\" >6.62</td>\n",
       "                        <td id=\"T_0ed40_row5_col9\" class=\"data row5 col9\" >0.00</td>\n",
       "            </tr>\n",
       "            <tr>\n",
       "                        <th id=\"T_0ed40_level0_row6\" class=\"row_heading level0 row6\" >11935</th>\n",
       "                        <td id=\"T_0ed40_row6_col0\" class=\"data row6 col0\" >1.00</td>\n",
       "                        <td id=\"T_0ed40_row6_col1\" class=\"data row6 col1\" >Very Good</td>\n",
       "                        <td id=\"T_0ed40_row6_col2\" class=\"data row6 col2\" >H</td>\n",
       "                        <td id=\"T_0ed40_row6_col3\" class=\"data row6 col3\" >VS2</td>\n",
       "                        <td id=\"T_0ed40_row6_col4\" class=\"data row6 col4\" >63.3</td>\n",
       "                        <td id=\"T_0ed40_row6_col5\" class=\"data row6 col5\" >53.0</td>\n",
       "                        <td id=\"T_0ed40_row6_col6\" class=\"data row6 col6\" >5139</td>\n",
       "                        <td id=\"T_0ed40_row6_col7\" class=\"data row6 col7\" >0.00</td>\n",
       "                        <td id=\"T_0ed40_row6_col8\" class=\"data row6 col8\" >0.00</td>\n",
       "                        <td id=\"T_0ed40_row6_col9\" class=\"data row6 col9\" >0.00</td>\n",
       "            </tr>\n",
       "            <tr>\n",
       "                        <th id=\"T_0ed40_level0_row7\" class=\"row_heading level0 row7\" >13570</th>\n",
       "                        <td id=\"T_0ed40_row7_col0\" class=\"data row7 col0\" >1.15</td>\n",
       "                        <td id=\"T_0ed40_row7_col1\" class=\"data row7 col1\" >Ideal</td>\n",
       "                        <td id=\"T_0ed40_row7_col2\" class=\"data row7 col2\" >G</td>\n",
       "                        <td id=\"T_0ed40_row7_col3\" class=\"data row7 col3\" >VS2</td>\n",
       "                        <td id=\"T_0ed40_row7_col4\" class=\"data row7 col4\" >59.2</td>\n",
       "                        <td id=\"T_0ed40_row7_col5\" class=\"data row7 col5\" >56.0</td>\n",
       "                        <td id=\"T_0ed40_row7_col6\" class=\"data row7 col6\" >5564</td>\n",
       "                        <td id=\"T_0ed40_row7_col7\" class=\"data row7 col7\" >6.88</td>\n",
       "                        <td id=\"T_0ed40_row7_col8\" class=\"data row7 col8\" >6.83</td>\n",
       "                        <td id=\"T_0ed40_row7_col9\" class=\"data row7 col9\" >0.00</td>\n",
       "            </tr>\n",
       "            <tr>\n",
       "                        <th id=\"T_0ed40_level0_row8\" class=\"row_heading level0 row8\" >15914</th>\n",
       "                        <td id=\"T_0ed40_row8_col0\" class=\"data row8 col0\" >1.14</td>\n",
       "                        <td id=\"T_0ed40_row8_col1\" class=\"data row8 col1\" >Fair</td>\n",
       "                        <td id=\"T_0ed40_row8_col2\" class=\"data row8 col2\" >G</td>\n",
       "                        <td id=\"T_0ed40_row8_col3\" class=\"data row8 col3\" >VS1</td>\n",
       "                        <td id=\"T_0ed40_row8_col4\" class=\"data row8 col4\" >57.5</td>\n",
       "                        <td id=\"T_0ed40_row8_col5\" class=\"data row8 col5\" >67.0</td>\n",
       "                        <td id=\"T_0ed40_row8_col6\" class=\"data row8 col6\" >6381</td>\n",
       "                        <td id=\"T_0ed40_row8_col7\" class=\"data row8 col7\" >0.00</td>\n",
       "                        <td id=\"T_0ed40_row8_col8\" class=\"data row8 col8\" >0.00</td>\n",
       "                        <td id=\"T_0ed40_row8_col9\" class=\"data row8 col9\" >0.00</td>\n",
       "            </tr>\n",
       "            <tr>\n",
       "                        <th id=\"T_0ed40_level0_row9\" class=\"row_heading level0 row9\" >24338</th>\n",
       "                        <td id=\"T_0ed40_row9_col0\" class=\"data row9 col0\" >2.18</td>\n",
       "                        <td id=\"T_0ed40_row9_col1\" class=\"data row9 col1\" >Premium</td>\n",
       "                        <td id=\"T_0ed40_row9_col2\" class=\"data row9 col2\" >H</td>\n",
       "                        <td id=\"T_0ed40_row9_col3\" class=\"data row9 col3\" >SI2</td>\n",
       "                        <td id=\"T_0ed40_row9_col4\" class=\"data row9 col4\" >59.4</td>\n",
       "                        <td id=\"T_0ed40_row9_col5\" class=\"data row9 col5\" >61.0</td>\n",
       "                        <td id=\"T_0ed40_row9_col6\" class=\"data row9 col6\" >12631</td>\n",
       "                        <td id=\"T_0ed40_row9_col7\" class=\"data row9 col7\" >8.49</td>\n",
       "                        <td id=\"T_0ed40_row9_col8\" class=\"data row9 col8\" >8.45</td>\n",
       "                        <td id=\"T_0ed40_row9_col9\" class=\"data row9 col9\" >0.00</td>\n",
       "            </tr>\n",
       "            <tr>\n",
       "                        <th id=\"T_0ed40_level0_row10\" class=\"row_heading level0 row10\" >24464</th>\n",
       "                        <td id=\"T_0ed40_row10_col0\" class=\"data row10 col0\" >1.56</td>\n",
       "                        <td id=\"T_0ed40_row10_col1\" class=\"data row10 col1\" >Ideal</td>\n",
       "                        <td id=\"T_0ed40_row10_col2\" class=\"data row10 col2\" >G</td>\n",
       "                        <td id=\"T_0ed40_row10_col3\" class=\"data row10 col3\" >VS2</td>\n",
       "                        <td id=\"T_0ed40_row10_col4\" class=\"data row10 col4\" >62.2</td>\n",
       "                        <td id=\"T_0ed40_row10_col5\" class=\"data row10 col5\" >54.0</td>\n",
       "                        <td id=\"T_0ed40_row10_col6\" class=\"data row10 col6\" >12800</td>\n",
       "                        <td id=\"T_0ed40_row10_col7\" class=\"data row10 col7\" >0.00</td>\n",
       "                        <td id=\"T_0ed40_row10_col8\" class=\"data row10 col8\" >0.00</td>\n",
       "                        <td id=\"T_0ed40_row10_col9\" class=\"data row10 col9\" >0.00</td>\n",
       "            </tr>\n",
       "            <tr>\n",
       "                        <th id=\"T_0ed40_level0_row11\" class=\"row_heading level0 row11\" >26063</th>\n",
       "                        <td id=\"T_0ed40_row11_col0\" class=\"data row11 col0\" >2.25</td>\n",
       "                        <td id=\"T_0ed40_row11_col1\" class=\"data row11 col1\" >Premium</td>\n",
       "                        <td id=\"T_0ed40_row11_col2\" class=\"data row11 col2\" >I</td>\n",
       "                        <td id=\"T_0ed40_row11_col3\" class=\"data row11 col3\" >SI1</td>\n",
       "                        <td id=\"T_0ed40_row11_col4\" class=\"data row11 col4\" >61.3</td>\n",
       "                        <td id=\"T_0ed40_row11_col5\" class=\"data row11 col5\" >58.0</td>\n",
       "                        <td id=\"T_0ed40_row11_col6\" class=\"data row11 col6\" >15397</td>\n",
       "                        <td id=\"T_0ed40_row11_col7\" class=\"data row11 col7\" >8.52</td>\n",
       "                        <td id=\"T_0ed40_row11_col8\" class=\"data row11 col8\" >8.42</td>\n",
       "                        <td id=\"T_0ed40_row11_col9\" class=\"data row11 col9\" >0.00</td>\n",
       "            </tr>\n",
       "            <tr>\n",
       "                        <th id=\"T_0ed40_level0_row12\" class=\"row_heading level0 row12\" >26183</th>\n",
       "                        <td id=\"T_0ed40_row12_col0\" class=\"data row12 col0\" >1.20</td>\n",
       "                        <td id=\"T_0ed40_row12_col1\" class=\"data row12 col1\" >Premium</td>\n",
       "                        <td id=\"T_0ed40_row12_col2\" class=\"data row12 col2\" >D</td>\n",
       "                        <td id=\"T_0ed40_row12_col3\" class=\"data row12 col3\" >VVS1</td>\n",
       "                        <td id=\"T_0ed40_row12_col4\" class=\"data row12 col4\" >62.1</td>\n",
       "                        <td id=\"T_0ed40_row12_col5\" class=\"data row12 col5\" >59.0</td>\n",
       "                        <td id=\"T_0ed40_row12_col6\" class=\"data row12 col6\" >15686</td>\n",
       "                        <td id=\"T_0ed40_row12_col7\" class=\"data row12 col7\" >0.00</td>\n",
       "                        <td id=\"T_0ed40_row12_col8\" class=\"data row12 col8\" >0.00</td>\n",
       "                        <td id=\"T_0ed40_row12_col9\" class=\"data row12 col9\" >0.00</td>\n",
       "            </tr>\n",
       "            <tr>\n",
       "                        <th id=\"T_0ed40_level0_row13\" class=\"row_heading level0 row13\" >27047</th>\n",
       "                        <td id=\"T_0ed40_row13_col0\" class=\"data row13 col0\" >2.20</td>\n",
       "                        <td id=\"T_0ed40_row13_col1\" class=\"data row13 col1\" >Premium</td>\n",
       "                        <td id=\"T_0ed40_row13_col2\" class=\"data row13 col2\" >H</td>\n",
       "                        <td id=\"T_0ed40_row13_col3\" class=\"data row13 col3\" >SI1</td>\n",
       "                        <td id=\"T_0ed40_row13_col4\" class=\"data row13 col4\" >61.2</td>\n",
       "                        <td id=\"T_0ed40_row13_col5\" class=\"data row13 col5\" >59.0</td>\n",
       "                        <td id=\"T_0ed40_row13_col6\" class=\"data row13 col6\" >17265</td>\n",
       "                        <td id=\"T_0ed40_row13_col7\" class=\"data row13 col7\" >8.42</td>\n",
       "                        <td id=\"T_0ed40_row13_col8\" class=\"data row13 col8\" >8.37</td>\n",
       "                        <td id=\"T_0ed40_row13_col9\" class=\"data row13 col9\" >0.00</td>\n",
       "            </tr>\n",
       "            <tr>\n",
       "                        <th id=\"T_0ed40_level0_row14\" class=\"row_heading level0 row14\" >27364</th>\n",
       "                        <td id=\"T_0ed40_row14_col0\" class=\"data row14 col0\" >2.25</td>\n",
       "                        <td id=\"T_0ed40_row14_col1\" class=\"data row14 col1\" >Premium</td>\n",
       "                        <td id=\"T_0ed40_row14_col2\" class=\"data row14 col2\" >H</td>\n",
       "                        <td id=\"T_0ed40_row14_col3\" class=\"data row14 col3\" >SI2</td>\n",
       "                        <td id=\"T_0ed40_row14_col4\" class=\"data row14 col4\" >62.8</td>\n",
       "                        <td id=\"T_0ed40_row14_col5\" class=\"data row14 col5\" >59.0</td>\n",
       "                        <td id=\"T_0ed40_row14_col6\" class=\"data row14 col6\" >18034</td>\n",
       "                        <td id=\"T_0ed40_row14_col7\" class=\"data row14 col7\" >0.00</td>\n",
       "                        <td id=\"T_0ed40_row14_col8\" class=\"data row14 col8\" >0.00</td>\n",
       "                        <td id=\"T_0ed40_row14_col9\" class=\"data row14 col9\" >0.00</td>\n",
       "            </tr>\n",
       "            <tr>\n",
       "                        <th id=\"T_0ed40_level0_row15\" class=\"row_heading level0 row15\" >27438</th>\n",
       "                        <td id=\"T_0ed40_row15_col0\" class=\"data row15 col0\" >2.02</td>\n",
       "                        <td id=\"T_0ed40_row15_col1\" class=\"data row15 col1\" >Premium</td>\n",
       "                        <td id=\"T_0ed40_row15_col2\" class=\"data row15 col2\" >H</td>\n",
       "                        <td id=\"T_0ed40_row15_col3\" class=\"data row15 col3\" >VS2</td>\n",
       "                        <td id=\"T_0ed40_row15_col4\" class=\"data row15 col4\" >62.7</td>\n",
       "                        <td id=\"T_0ed40_row15_col5\" class=\"data row15 col5\" >53.0</td>\n",
       "                        <td id=\"T_0ed40_row15_col6\" class=\"data row15 col6\" >18207</td>\n",
       "                        <td id=\"T_0ed40_row15_col7\" class=\"data row15 col7\" >8.02</td>\n",
       "                        <td id=\"T_0ed40_row15_col8\" class=\"data row15 col8\" >7.95</td>\n",
       "                        <td id=\"T_0ed40_row15_col9\" class=\"data row15 col9\" >0.00</td>\n",
       "            </tr>\n",
       "            <tr>\n",
       "                        <th id=\"T_0ed40_level0_row16\" class=\"row_heading level0 row16\" >27672</th>\n",
       "                        <td id=\"T_0ed40_row16_col0\" class=\"data row16 col0\" >2.80</td>\n",
       "                        <td id=\"T_0ed40_row16_col1\" class=\"data row16 col1\" >Good</td>\n",
       "                        <td id=\"T_0ed40_row16_col2\" class=\"data row16 col2\" >G</td>\n",
       "                        <td id=\"T_0ed40_row16_col3\" class=\"data row16 col3\" >SI2</td>\n",
       "                        <td id=\"T_0ed40_row16_col4\" class=\"data row16 col4\" >63.8</td>\n",
       "                        <td id=\"T_0ed40_row16_col5\" class=\"data row16 col5\" >58.0</td>\n",
       "                        <td id=\"T_0ed40_row16_col6\" class=\"data row16 col6\" >18788</td>\n",
       "                        <td id=\"T_0ed40_row16_col7\" class=\"data row16 col7\" >8.90</td>\n",
       "                        <td id=\"T_0ed40_row16_col8\" class=\"data row16 col8\" >8.85</td>\n",
       "                        <td id=\"T_0ed40_row16_col9\" class=\"data row16 col9\" >0.00</td>\n",
       "            </tr>\n",
       "            <tr>\n",
       "                        <th id=\"T_0ed40_level0_row17\" class=\"row_heading level0 row17\" >49413</th>\n",
       "                        <td id=\"T_0ed40_row17_col0\" class=\"data row17 col0\" >0.71</td>\n",
       "                        <td id=\"T_0ed40_row17_col1\" class=\"data row17 col1\" >Good</td>\n",
       "                        <td id=\"T_0ed40_row17_col2\" class=\"data row17 col2\" >F</td>\n",
       "                        <td id=\"T_0ed40_row17_col3\" class=\"data row17 col3\" >SI2</td>\n",
       "                        <td id=\"T_0ed40_row17_col4\" class=\"data row17 col4\" >64.1</td>\n",
       "                        <td id=\"T_0ed40_row17_col5\" class=\"data row17 col5\" >60.0</td>\n",
       "                        <td id=\"T_0ed40_row17_col6\" class=\"data row17 col6\" >2130</td>\n",
       "                        <td id=\"T_0ed40_row17_col7\" class=\"data row17 col7\" >0.00</td>\n",
       "                        <td id=\"T_0ed40_row17_col8\" class=\"data row17 col8\" >0.00</td>\n",
       "                        <td id=\"T_0ed40_row17_col9\" class=\"data row17 col9\" >0.00</td>\n",
       "            </tr>\n",
       "            <tr>\n",
       "                        <th id=\"T_0ed40_level0_row18\" class=\"row_heading level0 row18\" >51361</th>\n",
       "                        <td id=\"T_0ed40_row18_col0\" class=\"data row18 col0\" >1.12</td>\n",
       "                        <td id=\"T_0ed40_row18_col1\" class=\"data row18 col1\" >Premium</td>\n",
       "                        <td id=\"T_0ed40_row18_col2\" class=\"data row18 col2\" >G</td>\n",
       "                        <td id=\"T_0ed40_row18_col3\" class=\"data row18 col3\" >I1</td>\n",
       "                        <td id=\"T_0ed40_row18_col4\" class=\"data row18 col4\" >60.4</td>\n",
       "                        <td id=\"T_0ed40_row18_col5\" class=\"data row18 col5\" >59.0</td>\n",
       "                        <td id=\"T_0ed40_row18_col6\" class=\"data row18 col6\" >2383</td>\n",
       "                        <td id=\"T_0ed40_row18_col7\" class=\"data row18 col7\" >6.71</td>\n",
       "                        <td id=\"T_0ed40_row18_col8\" class=\"data row18 col8\" >6.67</td>\n",
       "                        <td id=\"T_0ed40_row18_col9\" class=\"data row18 col9\" >0.00</td>\n",
       "            </tr>\n",
       "    </tbody></table>"
      ],
      "text/plain": [
       "<pandas.io.formats.style.Styler at 0x7f0265d34f90>"
      ]
     },
     "execution_count": 9,
     "metadata": {},
     "output_type": "execute_result"
    }
   ],
   "source": [
    "format_dict = {\"carat\" : \"{:.2f}\", \"depth\" : \"{:.1f}\", \"table\" : \"{:.1f}\", \"x\" : \"{:.2f}\", \"y\" : \"{:.2f}\", \"z\" : \"{:.2f}\"}\n",
    "df_zero = df.loc[(df[\"x\"] == 0) | (df[\"y\"] == 0) | (df[\"z\"] == 0)]\n",
    "df_zero.style.apply(lambda x: [\"background: yellow\" if n == 0 else \"\" for n in x], axis = 1).format(format_dict)"
   ]
  },
  {
   "cell_type": "markdown",
   "id": "thousand-climate",
   "metadata": {
    "papermill": {
     "duration": 0.064723,
     "end_time": "2021-03-21T19:14:00.793557",
     "exception": false,
     "start_time": "2021-03-21T19:14:00.728834",
     "status": "completed"
    },
    "tags": []
   },
   "source": [
    "We know that this values must be greater than zero, but for some reason they are not. So let's treat them as missing values."
   ]
  },
  {
   "cell_type": "code",
   "execution_count": 10,
   "id": "political-production",
   "metadata": {
    "execution": {
     "iopub.execute_input": "2021-03-21T19:14:00.931898Z",
     "iopub.status.busy": "2021-03-21T19:14:00.931073Z",
     "iopub.status.idle": "2021-03-21T19:14:00.943824Z",
     "shell.execute_reply": "2021-03-21T19:14:00.943146Z"
    },
    "papermill": {
     "duration": 0.083579,
     "end_time": "2021-03-21T19:14:00.943967",
     "exception": false,
     "start_time": "2021-03-21T19:14:00.860388",
     "status": "completed"
    },
    "tags": []
   },
   "outputs": [
    {
     "data": {
      "text/plain": [
       "x     7\n",
       "y     6\n",
       "z    19\n",
       "dtype: int64"
      ]
     },
     "execution_count": 10,
     "metadata": {},
     "output_type": "execute_result"
    }
   ],
   "source": [
    "# Transforming them into NaN values\n",
    "df.loc[df[\"x\"] == 0, \"x\"] = np.nan \n",
    "df.loc[df[\"y\"] == 0, \"y\"] = np.nan \n",
    "df.loc[df[\"z\"] == 0, \"z\"] = np.nan \n",
    "\n",
    "# Seeing the number of the new missing values\n",
    "df[[\"x\", \"y\", \"z\"]].isnull().sum()"
   ]
  },
  {
   "cell_type": "markdown",
   "id": "serial-overview",
   "metadata": {
    "papermill": {
     "duration": 0.066962,
     "end_time": "2021-03-21T19:14:01.080121",
     "exception": false,
     "start_time": "2021-03-21T19:14:01.013159",
     "status": "completed"
    },
    "tags": []
   },
   "source": [
    "Now, we have three columns with missing values. Let's see the strongest correlations for each one of them."
   ]
  },
  {
   "cell_type": "code",
   "execution_count": 11,
   "id": "viral-sender",
   "metadata": {
    "_kg_hide-input": true,
    "execution": {
     "iopub.execute_input": "2021-03-21T19:14:01.215887Z",
     "iopub.status.busy": "2021-03-21T19:14:01.214863Z",
     "iopub.status.idle": "2021-03-21T19:14:01.218632Z",
     "shell.execute_reply": "2021-03-21T19:14:01.217977Z"
    },
    "papermill": {
     "duration": 0.072997,
     "end_time": "2021-03-21T19:14:01.218770",
     "exception": false,
     "start_time": "2021-03-21T19:14:01.145773",
     "status": "completed"
    },
    "tags": []
   },
   "outputs": [],
   "source": [
    "def get_corr(col):\n",
    "    return df.corr().unstack()[col].sort_values(ascending = False)    "
   ]
  },
  {
   "cell_type": "code",
   "execution_count": 12,
   "id": "executive-veteran",
   "metadata": {
    "_kg_hide-input": true,
    "execution": {
     "iopub.execute_input": "2021-03-21T19:14:01.352892Z",
     "iopub.status.busy": "2021-03-21T19:14:01.352122Z",
     "iopub.status.idle": "2021-03-21T19:14:01.396522Z",
     "shell.execute_reply": "2021-03-21T19:14:01.397315Z"
    },
    "papermill": {
     "duration": 0.114761,
     "end_time": "2021-03-21T19:14:01.397560",
     "exception": false,
     "start_time": "2021-03-21T19:14:01.282799",
     "status": "completed"
    },
    "tags": []
   },
   "outputs": [
    {
     "name": "stdout",
     "output_type": "stream",
     "text": [
      "x correlations\n",
      "\n",
      "x        1.000000\n",
      "carat    0.977842\n",
      "z        0.975382\n",
      "y        0.974837\n",
      "price    0.887133\n",
      "table    0.195484\n",
      "depth   -0.025304\n",
      "dtype: float64\n",
      "\n",
      "-------------------------\n",
      "\n",
      "y correlations\n",
      "\n",
      "y        1.000000\n",
      "x        0.974837\n",
      "z        0.956623\n",
      "carat    0.953979\n",
      "price    0.867691\n",
      "table    0.183839\n",
      "depth   -0.029335\n",
      "dtype: float64\n",
      "\n",
      "-------------------------\n",
      "\n",
      "z correlations\n",
      "\n",
      "z        1.000000\n",
      "x        0.975382\n",
      "carat    0.961030\n",
      "y        0.956623\n",
      "price    0.868030\n",
      "table    0.151683\n",
      "depth    0.094678\n",
      "dtype: float64\n"
     ]
    }
   ],
   "source": [
    "print(\"x correlations\\n\\n{0}\\n\\n{3}\\n\\ny correlations\\n\\n{1}\\n\\n{3}\\n\\nz correlations\\n\\n{2}\".format(get_corr(\"x\"), get_corr(\"y\"), get_corr(\"z\"), 25*\"-\"))"
   ]
  },
  {
   "cell_type": "markdown",
   "id": "processed-allah",
   "metadata": {
    "papermill": {
     "duration": 0.063941,
     "end_time": "2021-03-21T19:14:01.528962",
     "exception": false,
     "start_time": "2021-03-21T19:14:01.465021",
     "status": "completed"
    },
    "tags": []
   },
   "source": [
    "* **x** strongest correlation is with **carat**\n",
    "* **y** strongest correlation is with **x**\n",
    "* **z** strongest correlation is with **x**\n",
    "\n",
    "Since **carat** has no missing values and has a strong correlation with **x**, **y** and **z**, let's assume that the strongest correlation of all dimensions is with **carat**, because in some cases more than one dimension value is misising at the same row and we are going to use the median of this correlation to fill them."
   ]
  },
  {
   "cell_type": "code",
   "execution_count": 13,
   "id": "worse-international",
   "metadata": {
    "_kg_hide-input": false,
    "execution": {
     "iopub.execute_input": "2021-03-21T19:14:01.666209Z",
     "iopub.status.busy": "2021-03-21T19:14:01.665454Z",
     "iopub.status.idle": "2021-03-21T19:14:01.669659Z",
     "shell.execute_reply": "2021-03-21T19:14:01.669029Z"
    },
    "papermill": {
     "duration": 0.075964,
     "end_time": "2021-03-21T19:14:01.669839",
     "exception": false,
     "start_time": "2021-03-21T19:14:01.593875",
     "status": "completed"
    },
    "tags": []
   },
   "outputs": [],
   "source": [
    "def fill_nan_values(col):\n",
    "    carat = df.groupby([\"carat\"])[col].median()\n",
    "    index_list = list(df.loc[df[col].isnull() == True].sort_values(by = \"carat\", ascending = False).index)\n",
    "    for i in index_list:\n",
    "        carat_value = df.loc[i, \"carat\"]\n",
    "        new_value = carat[carat_value]\n",
    "        df.loc[i, col] = new_value\n",
    "        print(\"carat: {0} / median {1} value: {2}\".format(carat_value, col, new_value))\n",
    "    return df.iloc[index_list].style.applymap(lambda x: \"background-color: limegreen\", subset = col).format(format_dict)"
   ]
  },
  {
   "cell_type": "markdown",
   "id": "typical-psychiatry",
   "metadata": {
    "papermill": {
     "duration": 0.064221,
     "end_time": "2021-03-21T19:14:01.798454",
     "exception": false,
     "start_time": "2021-03-21T19:14:01.734233",
     "status": "completed"
    },
    "tags": []
   },
   "source": [
    "I put the values in descending order, so we can better visualize this correlation."
   ]
  },
  {
   "cell_type": "code",
   "execution_count": 14,
   "id": "eight-journalist",
   "metadata": {
    "execution": {
     "iopub.execute_input": "2021-03-21T19:14:01.932517Z",
     "iopub.status.busy": "2021-03-21T19:14:01.931814Z",
     "iopub.status.idle": "2021-03-21T19:14:01.968071Z",
     "shell.execute_reply": "2021-03-21T19:14:01.967366Z"
    },
    "papermill": {
     "duration": 0.105701,
     "end_time": "2021-03-21T19:14:01.968221",
     "exception": false,
     "start_time": "2021-03-21T19:14:01.862520",
     "status": "completed"
    },
    "tags": []
   },
   "outputs": [
    {
     "name": "stdout",
     "output_type": "stream",
     "text": [
      "carat: 2.25 / median x value: 8.47\n",
      "carat: 1.56 / median x value: 7.46\n",
      "carat: 1.2 / median x value: 6.78\n",
      "carat: 1.14 / median x value: 6.71\n",
      "carat: 1.07 / median x value: 6.57\n",
      "carat: 1.0 / median x value: 6.38\n",
      "carat: 0.71 / median x value: 5.72\n"
     ]
    },
    {
     "data": {
      "text/html": [
       "<style  type=\"text/css\" >\n",
       "#T_94bae_row0_col7,#T_94bae_row1_col7,#T_94bae_row2_col7,#T_94bae_row3_col7,#T_94bae_row4_col7,#T_94bae_row5_col7,#T_94bae_row6_col7{\n",
       "            background-color:  limegreen;\n",
       "        }</style><table id=\"T_94bae_\" ><thead>    <tr>        <th class=\"blank level0\" ></th>        <th class=\"col_heading level0 col0\" >carat</th>        <th class=\"col_heading level0 col1\" >cut</th>        <th class=\"col_heading level0 col2\" >color</th>        <th class=\"col_heading level0 col3\" >clarity</th>        <th class=\"col_heading level0 col4\" >depth</th>        <th class=\"col_heading level0 col5\" >table</th>        <th class=\"col_heading level0 col6\" >price</th>        <th class=\"col_heading level0 col7\" >x</th>        <th class=\"col_heading level0 col8\" >y</th>        <th class=\"col_heading level0 col9\" >z</th>    </tr></thead><tbody>\n",
       "                <tr>\n",
       "                        <th id=\"T_94bae_level0_row0\" class=\"row_heading level0 row0\" >27364</th>\n",
       "                        <td id=\"T_94bae_row0_col0\" class=\"data row0 col0\" >2.25</td>\n",
       "                        <td id=\"T_94bae_row0_col1\" class=\"data row0 col1\" >Premium</td>\n",
       "                        <td id=\"T_94bae_row0_col2\" class=\"data row0 col2\" >H</td>\n",
       "                        <td id=\"T_94bae_row0_col3\" class=\"data row0 col3\" >SI2</td>\n",
       "                        <td id=\"T_94bae_row0_col4\" class=\"data row0 col4\" >62.8</td>\n",
       "                        <td id=\"T_94bae_row0_col5\" class=\"data row0 col5\" >59.0</td>\n",
       "                        <td id=\"T_94bae_row0_col6\" class=\"data row0 col6\" >18034</td>\n",
       "                        <td id=\"T_94bae_row0_col7\" class=\"data row0 col7\" >8.47</td>\n",
       "                        <td id=\"T_94bae_row0_col8\" class=\"data row0 col8\" >nan</td>\n",
       "                        <td id=\"T_94bae_row0_col9\" class=\"data row0 col9\" >nan</td>\n",
       "            </tr>\n",
       "            <tr>\n",
       "                        <th id=\"T_94bae_level0_row1\" class=\"row_heading level0 row1\" >24464</th>\n",
       "                        <td id=\"T_94bae_row1_col0\" class=\"data row1 col0\" >1.56</td>\n",
       "                        <td id=\"T_94bae_row1_col1\" class=\"data row1 col1\" >Ideal</td>\n",
       "                        <td id=\"T_94bae_row1_col2\" class=\"data row1 col2\" >G</td>\n",
       "                        <td id=\"T_94bae_row1_col3\" class=\"data row1 col3\" >VS2</td>\n",
       "                        <td id=\"T_94bae_row1_col4\" class=\"data row1 col4\" >62.2</td>\n",
       "                        <td id=\"T_94bae_row1_col5\" class=\"data row1 col5\" >54.0</td>\n",
       "                        <td id=\"T_94bae_row1_col6\" class=\"data row1 col6\" >12800</td>\n",
       "                        <td id=\"T_94bae_row1_col7\" class=\"data row1 col7\" >7.46</td>\n",
       "                        <td id=\"T_94bae_row1_col8\" class=\"data row1 col8\" >nan</td>\n",
       "                        <td id=\"T_94bae_row1_col9\" class=\"data row1 col9\" >nan</td>\n",
       "            </tr>\n",
       "            <tr>\n",
       "                        <th id=\"T_94bae_level0_row2\" class=\"row_heading level0 row2\" >26183</th>\n",
       "                        <td id=\"T_94bae_row2_col0\" class=\"data row2 col0\" >1.20</td>\n",
       "                        <td id=\"T_94bae_row2_col1\" class=\"data row2 col1\" >Premium</td>\n",
       "                        <td id=\"T_94bae_row2_col2\" class=\"data row2 col2\" >D</td>\n",
       "                        <td id=\"T_94bae_row2_col3\" class=\"data row2 col3\" >VVS1</td>\n",
       "                        <td id=\"T_94bae_row2_col4\" class=\"data row2 col4\" >62.1</td>\n",
       "                        <td id=\"T_94bae_row2_col5\" class=\"data row2 col5\" >59.0</td>\n",
       "                        <td id=\"T_94bae_row2_col6\" class=\"data row2 col6\" >15686</td>\n",
       "                        <td id=\"T_94bae_row2_col7\" class=\"data row2 col7\" >6.78</td>\n",
       "                        <td id=\"T_94bae_row2_col8\" class=\"data row2 col8\" >nan</td>\n",
       "                        <td id=\"T_94bae_row2_col9\" class=\"data row2 col9\" >nan</td>\n",
       "            </tr>\n",
       "            <tr>\n",
       "                        <th id=\"T_94bae_level0_row3\" class=\"row_heading level0 row3\" >15914</th>\n",
       "                        <td id=\"T_94bae_row3_col0\" class=\"data row3 col0\" >1.14</td>\n",
       "                        <td id=\"T_94bae_row3_col1\" class=\"data row3 col1\" >Fair</td>\n",
       "                        <td id=\"T_94bae_row3_col2\" class=\"data row3 col2\" >G</td>\n",
       "                        <td id=\"T_94bae_row3_col3\" class=\"data row3 col3\" >VS1</td>\n",
       "                        <td id=\"T_94bae_row3_col4\" class=\"data row3 col4\" >57.5</td>\n",
       "                        <td id=\"T_94bae_row3_col5\" class=\"data row3 col5\" >67.0</td>\n",
       "                        <td id=\"T_94bae_row3_col6\" class=\"data row3 col6\" >6381</td>\n",
       "                        <td id=\"T_94bae_row3_col7\" class=\"data row3 col7\" >6.71</td>\n",
       "                        <td id=\"T_94bae_row3_col8\" class=\"data row3 col8\" >nan</td>\n",
       "                        <td id=\"T_94bae_row3_col9\" class=\"data row3 col9\" >nan</td>\n",
       "            </tr>\n",
       "            <tr>\n",
       "                        <th id=\"T_94bae_level0_row4\" class=\"row_heading level0 row4\" >11156</th>\n",
       "                        <td id=\"T_94bae_row4_col0\" class=\"data row4 col0\" >1.07</td>\n",
       "                        <td id=\"T_94bae_row4_col1\" class=\"data row4 col1\" >Ideal</td>\n",
       "                        <td id=\"T_94bae_row4_col2\" class=\"data row4 col2\" >F</td>\n",
       "                        <td id=\"T_94bae_row4_col3\" class=\"data row4 col3\" >SI2</td>\n",
       "                        <td id=\"T_94bae_row4_col4\" class=\"data row4 col4\" >61.6</td>\n",
       "                        <td id=\"T_94bae_row4_col5\" class=\"data row4 col5\" >56.0</td>\n",
       "                        <td id=\"T_94bae_row4_col6\" class=\"data row4 col6\" >4954</td>\n",
       "                        <td id=\"T_94bae_row4_col7\" class=\"data row4 col7\" >6.57</td>\n",
       "                        <td id=\"T_94bae_row4_col8\" class=\"data row4 col8\" >6.62</td>\n",
       "                        <td id=\"T_94bae_row4_col9\" class=\"data row4 col9\" >nan</td>\n",
       "            </tr>\n",
       "            <tr>\n",
       "                        <th id=\"T_94bae_level0_row5\" class=\"row_heading level0 row5\" >11935</th>\n",
       "                        <td id=\"T_94bae_row5_col0\" class=\"data row5 col0\" >1.00</td>\n",
       "                        <td id=\"T_94bae_row5_col1\" class=\"data row5 col1\" >Very Good</td>\n",
       "                        <td id=\"T_94bae_row5_col2\" class=\"data row5 col2\" >H</td>\n",
       "                        <td id=\"T_94bae_row5_col3\" class=\"data row5 col3\" >VS2</td>\n",
       "                        <td id=\"T_94bae_row5_col4\" class=\"data row5 col4\" >63.3</td>\n",
       "                        <td id=\"T_94bae_row5_col5\" class=\"data row5 col5\" >53.0</td>\n",
       "                        <td id=\"T_94bae_row5_col6\" class=\"data row5 col6\" >5139</td>\n",
       "                        <td id=\"T_94bae_row5_col7\" class=\"data row5 col7\" >6.38</td>\n",
       "                        <td id=\"T_94bae_row5_col8\" class=\"data row5 col8\" >nan</td>\n",
       "                        <td id=\"T_94bae_row5_col9\" class=\"data row5 col9\" >nan</td>\n",
       "            </tr>\n",
       "            <tr>\n",
       "                        <th id=\"T_94bae_level0_row6\" class=\"row_heading level0 row6\" >49413</th>\n",
       "                        <td id=\"T_94bae_row6_col0\" class=\"data row6 col0\" >0.71</td>\n",
       "                        <td id=\"T_94bae_row6_col1\" class=\"data row6 col1\" >Good</td>\n",
       "                        <td id=\"T_94bae_row6_col2\" class=\"data row6 col2\" >F</td>\n",
       "                        <td id=\"T_94bae_row6_col3\" class=\"data row6 col3\" >SI2</td>\n",
       "                        <td id=\"T_94bae_row6_col4\" class=\"data row6 col4\" >64.1</td>\n",
       "                        <td id=\"T_94bae_row6_col5\" class=\"data row6 col5\" >60.0</td>\n",
       "                        <td id=\"T_94bae_row6_col6\" class=\"data row6 col6\" >2130</td>\n",
       "                        <td id=\"T_94bae_row6_col7\" class=\"data row6 col7\" >5.72</td>\n",
       "                        <td id=\"T_94bae_row6_col8\" class=\"data row6 col8\" >nan</td>\n",
       "                        <td id=\"T_94bae_row6_col9\" class=\"data row6 col9\" >nan</td>\n",
       "            </tr>\n",
       "    </tbody></table>"
      ],
      "text/plain": [
       "<pandas.io.formats.style.Styler at 0x7f02a4129dd0>"
      ]
     },
     "execution_count": 14,
     "metadata": {},
     "output_type": "execute_result"
    }
   ],
   "source": [
    "# Fixing \"x\" column\n",
    "fill_nan_values(\"x\")"
   ]
  },
  {
   "cell_type": "code",
   "execution_count": 15,
   "id": "amino-montana",
   "metadata": {
    "execution": {
     "iopub.execute_input": "2021-03-21T19:14:02.107874Z",
     "iopub.status.busy": "2021-03-21T19:14:02.106766Z",
     "iopub.status.idle": "2021-03-21T19:14:02.134578Z",
     "shell.execute_reply": "2021-03-21T19:14:02.135077Z"
    },
    "papermill": {
     "duration": 0.100779,
     "end_time": "2021-03-21T19:14:02.135258",
     "exception": false,
     "start_time": "2021-03-21T19:14:02.034479",
     "status": "completed"
    },
    "tags": []
   },
   "outputs": [
    {
     "name": "stdout",
     "output_type": "stream",
     "text": [
      "carat: 2.25 / median y value: 8.39\n",
      "carat: 1.56 / median y value: 7.46\n",
      "carat: 1.2 / median y value: 6.79\n",
      "carat: 1.14 / median y value: 6.72\n",
      "carat: 1.0 / median y value: 6.38\n",
      "carat: 0.71 / median y value: 5.73\n"
     ]
    },
    {
     "data": {
      "text/html": [
       "<style  type=\"text/css\" >\n",
       "#T_3c26c_row0_col8,#T_3c26c_row1_col8,#T_3c26c_row2_col8,#T_3c26c_row3_col8,#T_3c26c_row4_col8,#T_3c26c_row5_col8{\n",
       "            background-color:  limegreen;\n",
       "        }</style><table id=\"T_3c26c_\" ><thead>    <tr>        <th class=\"blank level0\" ></th>        <th class=\"col_heading level0 col0\" >carat</th>        <th class=\"col_heading level0 col1\" >cut</th>        <th class=\"col_heading level0 col2\" >color</th>        <th class=\"col_heading level0 col3\" >clarity</th>        <th class=\"col_heading level0 col4\" >depth</th>        <th class=\"col_heading level0 col5\" >table</th>        <th class=\"col_heading level0 col6\" >price</th>        <th class=\"col_heading level0 col7\" >x</th>        <th class=\"col_heading level0 col8\" >y</th>        <th class=\"col_heading level0 col9\" >z</th>    </tr></thead><tbody>\n",
       "                <tr>\n",
       "                        <th id=\"T_3c26c_level0_row0\" class=\"row_heading level0 row0\" >27364</th>\n",
       "                        <td id=\"T_3c26c_row0_col0\" class=\"data row0 col0\" >2.25</td>\n",
       "                        <td id=\"T_3c26c_row0_col1\" class=\"data row0 col1\" >Premium</td>\n",
       "                        <td id=\"T_3c26c_row0_col2\" class=\"data row0 col2\" >H</td>\n",
       "                        <td id=\"T_3c26c_row0_col3\" class=\"data row0 col3\" >SI2</td>\n",
       "                        <td id=\"T_3c26c_row0_col4\" class=\"data row0 col4\" >62.8</td>\n",
       "                        <td id=\"T_3c26c_row0_col5\" class=\"data row0 col5\" >59.0</td>\n",
       "                        <td id=\"T_3c26c_row0_col6\" class=\"data row0 col6\" >18034</td>\n",
       "                        <td id=\"T_3c26c_row0_col7\" class=\"data row0 col7\" >8.47</td>\n",
       "                        <td id=\"T_3c26c_row0_col8\" class=\"data row0 col8\" >8.39</td>\n",
       "                        <td id=\"T_3c26c_row0_col9\" class=\"data row0 col9\" >nan</td>\n",
       "            </tr>\n",
       "            <tr>\n",
       "                        <th id=\"T_3c26c_level0_row1\" class=\"row_heading level0 row1\" >24464</th>\n",
       "                        <td id=\"T_3c26c_row1_col0\" class=\"data row1 col0\" >1.56</td>\n",
       "                        <td id=\"T_3c26c_row1_col1\" class=\"data row1 col1\" >Ideal</td>\n",
       "                        <td id=\"T_3c26c_row1_col2\" class=\"data row1 col2\" >G</td>\n",
       "                        <td id=\"T_3c26c_row1_col3\" class=\"data row1 col3\" >VS2</td>\n",
       "                        <td id=\"T_3c26c_row1_col4\" class=\"data row1 col4\" >62.2</td>\n",
       "                        <td id=\"T_3c26c_row1_col5\" class=\"data row1 col5\" >54.0</td>\n",
       "                        <td id=\"T_3c26c_row1_col6\" class=\"data row1 col6\" >12800</td>\n",
       "                        <td id=\"T_3c26c_row1_col7\" class=\"data row1 col7\" >7.46</td>\n",
       "                        <td id=\"T_3c26c_row1_col8\" class=\"data row1 col8\" >7.46</td>\n",
       "                        <td id=\"T_3c26c_row1_col9\" class=\"data row1 col9\" >nan</td>\n",
       "            </tr>\n",
       "            <tr>\n",
       "                        <th id=\"T_3c26c_level0_row2\" class=\"row_heading level0 row2\" >26183</th>\n",
       "                        <td id=\"T_3c26c_row2_col0\" class=\"data row2 col0\" >1.20</td>\n",
       "                        <td id=\"T_3c26c_row2_col1\" class=\"data row2 col1\" >Premium</td>\n",
       "                        <td id=\"T_3c26c_row2_col2\" class=\"data row2 col2\" >D</td>\n",
       "                        <td id=\"T_3c26c_row2_col3\" class=\"data row2 col3\" >VVS1</td>\n",
       "                        <td id=\"T_3c26c_row2_col4\" class=\"data row2 col4\" >62.1</td>\n",
       "                        <td id=\"T_3c26c_row2_col5\" class=\"data row2 col5\" >59.0</td>\n",
       "                        <td id=\"T_3c26c_row2_col6\" class=\"data row2 col6\" >15686</td>\n",
       "                        <td id=\"T_3c26c_row2_col7\" class=\"data row2 col7\" >6.78</td>\n",
       "                        <td id=\"T_3c26c_row2_col8\" class=\"data row2 col8\" >6.79</td>\n",
       "                        <td id=\"T_3c26c_row2_col9\" class=\"data row2 col9\" >nan</td>\n",
       "            </tr>\n",
       "            <tr>\n",
       "                        <th id=\"T_3c26c_level0_row3\" class=\"row_heading level0 row3\" >15914</th>\n",
       "                        <td id=\"T_3c26c_row3_col0\" class=\"data row3 col0\" >1.14</td>\n",
       "                        <td id=\"T_3c26c_row3_col1\" class=\"data row3 col1\" >Fair</td>\n",
       "                        <td id=\"T_3c26c_row3_col2\" class=\"data row3 col2\" >G</td>\n",
       "                        <td id=\"T_3c26c_row3_col3\" class=\"data row3 col3\" >VS1</td>\n",
       "                        <td id=\"T_3c26c_row3_col4\" class=\"data row3 col4\" >57.5</td>\n",
       "                        <td id=\"T_3c26c_row3_col5\" class=\"data row3 col5\" >67.0</td>\n",
       "                        <td id=\"T_3c26c_row3_col6\" class=\"data row3 col6\" >6381</td>\n",
       "                        <td id=\"T_3c26c_row3_col7\" class=\"data row3 col7\" >6.71</td>\n",
       "                        <td id=\"T_3c26c_row3_col8\" class=\"data row3 col8\" >6.72</td>\n",
       "                        <td id=\"T_3c26c_row3_col9\" class=\"data row3 col9\" >nan</td>\n",
       "            </tr>\n",
       "            <tr>\n",
       "                        <th id=\"T_3c26c_level0_row4\" class=\"row_heading level0 row4\" >11935</th>\n",
       "                        <td id=\"T_3c26c_row4_col0\" class=\"data row4 col0\" >1.00</td>\n",
       "                        <td id=\"T_3c26c_row4_col1\" class=\"data row4 col1\" >Very Good</td>\n",
       "                        <td id=\"T_3c26c_row4_col2\" class=\"data row4 col2\" >H</td>\n",
       "                        <td id=\"T_3c26c_row4_col3\" class=\"data row4 col3\" >VS2</td>\n",
       "                        <td id=\"T_3c26c_row4_col4\" class=\"data row4 col4\" >63.3</td>\n",
       "                        <td id=\"T_3c26c_row4_col5\" class=\"data row4 col5\" >53.0</td>\n",
       "                        <td id=\"T_3c26c_row4_col6\" class=\"data row4 col6\" >5139</td>\n",
       "                        <td id=\"T_3c26c_row4_col7\" class=\"data row4 col7\" >6.38</td>\n",
       "                        <td id=\"T_3c26c_row4_col8\" class=\"data row4 col8\" >6.38</td>\n",
       "                        <td id=\"T_3c26c_row4_col9\" class=\"data row4 col9\" >nan</td>\n",
       "            </tr>\n",
       "            <tr>\n",
       "                        <th id=\"T_3c26c_level0_row5\" class=\"row_heading level0 row5\" >49413</th>\n",
       "                        <td id=\"T_3c26c_row5_col0\" class=\"data row5 col0\" >0.71</td>\n",
       "                        <td id=\"T_3c26c_row5_col1\" class=\"data row5 col1\" >Good</td>\n",
       "                        <td id=\"T_3c26c_row5_col2\" class=\"data row5 col2\" >F</td>\n",
       "                        <td id=\"T_3c26c_row5_col3\" class=\"data row5 col3\" >SI2</td>\n",
       "                        <td id=\"T_3c26c_row5_col4\" class=\"data row5 col4\" >64.1</td>\n",
       "                        <td id=\"T_3c26c_row5_col5\" class=\"data row5 col5\" >60.0</td>\n",
       "                        <td id=\"T_3c26c_row5_col6\" class=\"data row5 col6\" >2130</td>\n",
       "                        <td id=\"T_3c26c_row5_col7\" class=\"data row5 col7\" >5.72</td>\n",
       "                        <td id=\"T_3c26c_row5_col8\" class=\"data row5 col8\" >5.73</td>\n",
       "                        <td id=\"T_3c26c_row5_col9\" class=\"data row5 col9\" >nan</td>\n",
       "            </tr>\n",
       "    </tbody></table>"
      ],
      "text/plain": [
       "<pandas.io.formats.style.Styler at 0x7f0265cfd710>"
      ]
     },
     "execution_count": 15,
     "metadata": {},
     "output_type": "execute_result"
    }
   ],
   "source": [
    "# Fixing \"y\" column\n",
    "fill_nan_values(\"y\")"
   ]
  },
  {
   "cell_type": "code",
   "execution_count": 16,
   "id": "straight-portal",
   "metadata": {
    "execution": {
     "iopub.execute_input": "2021-03-21T19:14:02.278053Z",
     "iopub.status.busy": "2021-03-21T19:14:02.276989Z",
     "iopub.status.idle": "2021-03-21T19:14:02.331768Z",
     "shell.execute_reply": "2021-03-21T19:14:02.331207Z"
    },
    "papermill": {
     "duration": 0.127682,
     "end_time": "2021-03-21T19:14:02.331926",
     "exception": false,
     "start_time": "2021-03-21T19:14:02.204244",
     "status": "completed"
    },
    "tags": []
   },
   "outputs": [
    {
     "name": "stdout",
     "output_type": "stream",
     "text": [
      "carat: 2.8 / median z value: 5.5\n",
      "carat: 2.25 / median z value: 5.19\n",
      "carat: 2.25 / median z value: 5.19\n",
      "carat: 2.2 / median z value: 5.17\n",
      "carat: 2.18 / median z value: 5.16\n",
      "carat: 2.02 / median z value: 5.0\n",
      "carat: 1.56 / median z value: 4.59\n",
      "carat: 1.5 / median z value: 4.53\n",
      "carat: 1.2 / median z value: 4.21\n",
      "carat: 1.15 / median z value: 4.16\n",
      "carat: 1.14 / median z value: 4.14\n",
      "carat: 1.12 / median z value: 4.11\n",
      "carat: 1.1 / median z value: 4.09\n",
      "carat: 1.07 / median z value: 4.05\n",
      "carat: 1.01 / median z value: 3.98\n",
      "carat: 1.01 / median z value: 3.98\n",
      "carat: 1.0 / median z value: 3.96\n",
      "carat: 1.0 / median z value: 3.96\n",
      "carat: 0.71 / median z value: 3.54\n"
     ]
    },
    {
     "data": {
      "text/html": [
       "<style  type=\"text/css\" >\n",
       "#T_8835c_row0_col9,#T_8835c_row1_col9,#T_8835c_row2_col9,#T_8835c_row3_col9,#T_8835c_row4_col9,#T_8835c_row5_col9,#T_8835c_row6_col9,#T_8835c_row7_col9,#T_8835c_row8_col9,#T_8835c_row9_col9,#T_8835c_row10_col9,#T_8835c_row11_col9,#T_8835c_row12_col9,#T_8835c_row13_col9,#T_8835c_row14_col9,#T_8835c_row15_col9,#T_8835c_row16_col9,#T_8835c_row17_col9,#T_8835c_row18_col9{\n",
       "            background-color:  limegreen;\n",
       "        }</style><table id=\"T_8835c_\" ><thead>    <tr>        <th class=\"blank level0\" ></th>        <th class=\"col_heading level0 col0\" >carat</th>        <th class=\"col_heading level0 col1\" >cut</th>        <th class=\"col_heading level0 col2\" >color</th>        <th class=\"col_heading level0 col3\" >clarity</th>        <th class=\"col_heading level0 col4\" >depth</th>        <th class=\"col_heading level0 col5\" >table</th>        <th class=\"col_heading level0 col6\" >price</th>        <th class=\"col_heading level0 col7\" >x</th>        <th class=\"col_heading level0 col8\" >y</th>        <th class=\"col_heading level0 col9\" >z</th>    </tr></thead><tbody>\n",
       "                <tr>\n",
       "                        <th id=\"T_8835c_level0_row0\" class=\"row_heading level0 row0\" >27672</th>\n",
       "                        <td id=\"T_8835c_row0_col0\" class=\"data row0 col0\" >2.80</td>\n",
       "                        <td id=\"T_8835c_row0_col1\" class=\"data row0 col1\" >Good</td>\n",
       "                        <td id=\"T_8835c_row0_col2\" class=\"data row0 col2\" >G</td>\n",
       "                        <td id=\"T_8835c_row0_col3\" class=\"data row0 col3\" >SI2</td>\n",
       "                        <td id=\"T_8835c_row0_col4\" class=\"data row0 col4\" >63.8</td>\n",
       "                        <td id=\"T_8835c_row0_col5\" class=\"data row0 col5\" >58.0</td>\n",
       "                        <td id=\"T_8835c_row0_col6\" class=\"data row0 col6\" >18788</td>\n",
       "                        <td id=\"T_8835c_row0_col7\" class=\"data row0 col7\" >8.90</td>\n",
       "                        <td id=\"T_8835c_row0_col8\" class=\"data row0 col8\" >8.85</td>\n",
       "                        <td id=\"T_8835c_row0_col9\" class=\"data row0 col9\" >5.50</td>\n",
       "            </tr>\n",
       "            <tr>\n",
       "                        <th id=\"T_8835c_level0_row1\" class=\"row_heading level0 row1\" >26063</th>\n",
       "                        <td id=\"T_8835c_row1_col0\" class=\"data row1 col0\" >2.25</td>\n",
       "                        <td id=\"T_8835c_row1_col1\" class=\"data row1 col1\" >Premium</td>\n",
       "                        <td id=\"T_8835c_row1_col2\" class=\"data row1 col2\" >I</td>\n",
       "                        <td id=\"T_8835c_row1_col3\" class=\"data row1 col3\" >SI1</td>\n",
       "                        <td id=\"T_8835c_row1_col4\" class=\"data row1 col4\" >61.3</td>\n",
       "                        <td id=\"T_8835c_row1_col5\" class=\"data row1 col5\" >58.0</td>\n",
       "                        <td id=\"T_8835c_row1_col6\" class=\"data row1 col6\" >15397</td>\n",
       "                        <td id=\"T_8835c_row1_col7\" class=\"data row1 col7\" >8.52</td>\n",
       "                        <td id=\"T_8835c_row1_col8\" class=\"data row1 col8\" >8.42</td>\n",
       "                        <td id=\"T_8835c_row1_col9\" class=\"data row1 col9\" >5.19</td>\n",
       "            </tr>\n",
       "            <tr>\n",
       "                        <th id=\"T_8835c_level0_row2\" class=\"row_heading level0 row2\" >27364</th>\n",
       "                        <td id=\"T_8835c_row2_col0\" class=\"data row2 col0\" >2.25</td>\n",
       "                        <td id=\"T_8835c_row2_col1\" class=\"data row2 col1\" >Premium</td>\n",
       "                        <td id=\"T_8835c_row2_col2\" class=\"data row2 col2\" >H</td>\n",
       "                        <td id=\"T_8835c_row2_col3\" class=\"data row2 col3\" >SI2</td>\n",
       "                        <td id=\"T_8835c_row2_col4\" class=\"data row2 col4\" >62.8</td>\n",
       "                        <td id=\"T_8835c_row2_col5\" class=\"data row2 col5\" >59.0</td>\n",
       "                        <td id=\"T_8835c_row2_col6\" class=\"data row2 col6\" >18034</td>\n",
       "                        <td id=\"T_8835c_row2_col7\" class=\"data row2 col7\" >8.47</td>\n",
       "                        <td id=\"T_8835c_row2_col8\" class=\"data row2 col8\" >8.39</td>\n",
       "                        <td id=\"T_8835c_row2_col9\" class=\"data row2 col9\" >5.19</td>\n",
       "            </tr>\n",
       "            <tr>\n",
       "                        <th id=\"T_8835c_level0_row3\" class=\"row_heading level0 row3\" >27047</th>\n",
       "                        <td id=\"T_8835c_row3_col0\" class=\"data row3 col0\" >2.20</td>\n",
       "                        <td id=\"T_8835c_row3_col1\" class=\"data row3 col1\" >Premium</td>\n",
       "                        <td id=\"T_8835c_row3_col2\" class=\"data row3 col2\" >H</td>\n",
       "                        <td id=\"T_8835c_row3_col3\" class=\"data row3 col3\" >SI1</td>\n",
       "                        <td id=\"T_8835c_row3_col4\" class=\"data row3 col4\" >61.2</td>\n",
       "                        <td id=\"T_8835c_row3_col5\" class=\"data row3 col5\" >59.0</td>\n",
       "                        <td id=\"T_8835c_row3_col6\" class=\"data row3 col6\" >17265</td>\n",
       "                        <td id=\"T_8835c_row3_col7\" class=\"data row3 col7\" >8.42</td>\n",
       "                        <td id=\"T_8835c_row3_col8\" class=\"data row3 col8\" >8.37</td>\n",
       "                        <td id=\"T_8835c_row3_col9\" class=\"data row3 col9\" >5.17</td>\n",
       "            </tr>\n",
       "            <tr>\n",
       "                        <th id=\"T_8835c_level0_row4\" class=\"row_heading level0 row4\" >24338</th>\n",
       "                        <td id=\"T_8835c_row4_col0\" class=\"data row4 col0\" >2.18</td>\n",
       "                        <td id=\"T_8835c_row4_col1\" class=\"data row4 col1\" >Premium</td>\n",
       "                        <td id=\"T_8835c_row4_col2\" class=\"data row4 col2\" >H</td>\n",
       "                        <td id=\"T_8835c_row4_col3\" class=\"data row4 col3\" >SI2</td>\n",
       "                        <td id=\"T_8835c_row4_col4\" class=\"data row4 col4\" >59.4</td>\n",
       "                        <td id=\"T_8835c_row4_col5\" class=\"data row4 col5\" >61.0</td>\n",
       "                        <td id=\"T_8835c_row4_col6\" class=\"data row4 col6\" >12631</td>\n",
       "                        <td id=\"T_8835c_row4_col7\" class=\"data row4 col7\" >8.49</td>\n",
       "                        <td id=\"T_8835c_row4_col8\" class=\"data row4 col8\" >8.45</td>\n",
       "                        <td id=\"T_8835c_row4_col9\" class=\"data row4 col9\" >5.16</td>\n",
       "            </tr>\n",
       "            <tr>\n",
       "                        <th id=\"T_8835c_level0_row5\" class=\"row_heading level0 row5\" >27438</th>\n",
       "                        <td id=\"T_8835c_row5_col0\" class=\"data row5 col0\" >2.02</td>\n",
       "                        <td id=\"T_8835c_row5_col1\" class=\"data row5 col1\" >Premium</td>\n",
       "                        <td id=\"T_8835c_row5_col2\" class=\"data row5 col2\" >H</td>\n",
       "                        <td id=\"T_8835c_row5_col3\" class=\"data row5 col3\" >VS2</td>\n",
       "                        <td id=\"T_8835c_row5_col4\" class=\"data row5 col4\" >62.7</td>\n",
       "                        <td id=\"T_8835c_row5_col5\" class=\"data row5 col5\" >53.0</td>\n",
       "                        <td id=\"T_8835c_row5_col6\" class=\"data row5 col6\" >18207</td>\n",
       "                        <td id=\"T_8835c_row5_col7\" class=\"data row5 col7\" >8.02</td>\n",
       "                        <td id=\"T_8835c_row5_col8\" class=\"data row5 col8\" >7.95</td>\n",
       "                        <td id=\"T_8835c_row5_col9\" class=\"data row5 col9\" >5.00</td>\n",
       "            </tr>\n",
       "            <tr>\n",
       "                        <th id=\"T_8835c_level0_row6\" class=\"row_heading level0 row6\" >24464</th>\n",
       "                        <td id=\"T_8835c_row6_col0\" class=\"data row6 col0\" >1.56</td>\n",
       "                        <td id=\"T_8835c_row6_col1\" class=\"data row6 col1\" >Ideal</td>\n",
       "                        <td id=\"T_8835c_row6_col2\" class=\"data row6 col2\" >G</td>\n",
       "                        <td id=\"T_8835c_row6_col3\" class=\"data row6 col3\" >VS2</td>\n",
       "                        <td id=\"T_8835c_row6_col4\" class=\"data row6 col4\" >62.2</td>\n",
       "                        <td id=\"T_8835c_row6_col5\" class=\"data row6 col5\" >54.0</td>\n",
       "                        <td id=\"T_8835c_row6_col6\" class=\"data row6 col6\" >12800</td>\n",
       "                        <td id=\"T_8835c_row6_col7\" class=\"data row6 col7\" >7.46</td>\n",
       "                        <td id=\"T_8835c_row6_col8\" class=\"data row6 col8\" >7.46</td>\n",
       "                        <td id=\"T_8835c_row6_col9\" class=\"data row6 col9\" >4.59</td>\n",
       "            </tr>\n",
       "            <tr>\n",
       "                        <th id=\"T_8835c_level0_row7\" class=\"row_heading level0 row7\" >10145</th>\n",
       "                        <td id=\"T_8835c_row7_col0\" class=\"data row7 col0\" >1.50</td>\n",
       "                        <td id=\"T_8835c_row7_col1\" class=\"data row7 col1\" >Good</td>\n",
       "                        <td id=\"T_8835c_row7_col2\" class=\"data row7 col2\" >G</td>\n",
       "                        <td id=\"T_8835c_row7_col3\" class=\"data row7 col3\" >I1</td>\n",
       "                        <td id=\"T_8835c_row7_col4\" class=\"data row7 col4\" >64.0</td>\n",
       "                        <td id=\"T_8835c_row7_col5\" class=\"data row7 col5\" >61.0</td>\n",
       "                        <td id=\"T_8835c_row7_col6\" class=\"data row7 col6\" >4731</td>\n",
       "                        <td id=\"T_8835c_row7_col7\" class=\"data row7 col7\" >7.15</td>\n",
       "                        <td id=\"T_8835c_row7_col8\" class=\"data row7 col8\" >7.04</td>\n",
       "                        <td id=\"T_8835c_row7_col9\" class=\"data row7 col9\" >4.53</td>\n",
       "            </tr>\n",
       "            <tr>\n",
       "                        <th id=\"T_8835c_level0_row8\" class=\"row_heading level0 row8\" >26183</th>\n",
       "                        <td id=\"T_8835c_row8_col0\" class=\"data row8 col0\" >1.20</td>\n",
       "                        <td id=\"T_8835c_row8_col1\" class=\"data row8 col1\" >Premium</td>\n",
       "                        <td id=\"T_8835c_row8_col2\" class=\"data row8 col2\" >D</td>\n",
       "                        <td id=\"T_8835c_row8_col3\" class=\"data row8 col3\" >VVS1</td>\n",
       "                        <td id=\"T_8835c_row8_col4\" class=\"data row8 col4\" >62.1</td>\n",
       "                        <td id=\"T_8835c_row8_col5\" class=\"data row8 col5\" >59.0</td>\n",
       "                        <td id=\"T_8835c_row8_col6\" class=\"data row8 col6\" >15686</td>\n",
       "                        <td id=\"T_8835c_row8_col7\" class=\"data row8 col7\" >6.78</td>\n",
       "                        <td id=\"T_8835c_row8_col8\" class=\"data row8 col8\" >6.79</td>\n",
       "                        <td id=\"T_8835c_row8_col9\" class=\"data row8 col9\" >4.21</td>\n",
       "            </tr>\n",
       "            <tr>\n",
       "                        <th id=\"T_8835c_level0_row9\" class=\"row_heading level0 row9\" >13570</th>\n",
       "                        <td id=\"T_8835c_row9_col0\" class=\"data row9 col0\" >1.15</td>\n",
       "                        <td id=\"T_8835c_row9_col1\" class=\"data row9 col1\" >Ideal</td>\n",
       "                        <td id=\"T_8835c_row9_col2\" class=\"data row9 col2\" >G</td>\n",
       "                        <td id=\"T_8835c_row9_col3\" class=\"data row9 col3\" >VS2</td>\n",
       "                        <td id=\"T_8835c_row9_col4\" class=\"data row9 col4\" >59.2</td>\n",
       "                        <td id=\"T_8835c_row9_col5\" class=\"data row9 col5\" >56.0</td>\n",
       "                        <td id=\"T_8835c_row9_col6\" class=\"data row9 col6\" >5564</td>\n",
       "                        <td id=\"T_8835c_row9_col7\" class=\"data row9 col7\" >6.88</td>\n",
       "                        <td id=\"T_8835c_row9_col8\" class=\"data row9 col8\" >6.83</td>\n",
       "                        <td id=\"T_8835c_row9_col9\" class=\"data row9 col9\" >4.16</td>\n",
       "            </tr>\n",
       "            <tr>\n",
       "                        <th id=\"T_8835c_level0_row10\" class=\"row_heading level0 row10\" >15914</th>\n",
       "                        <td id=\"T_8835c_row10_col0\" class=\"data row10 col0\" >1.14</td>\n",
       "                        <td id=\"T_8835c_row10_col1\" class=\"data row10 col1\" >Fair</td>\n",
       "                        <td id=\"T_8835c_row10_col2\" class=\"data row10 col2\" >G</td>\n",
       "                        <td id=\"T_8835c_row10_col3\" class=\"data row10 col3\" >VS1</td>\n",
       "                        <td id=\"T_8835c_row10_col4\" class=\"data row10 col4\" >57.5</td>\n",
       "                        <td id=\"T_8835c_row10_col5\" class=\"data row10 col5\" >67.0</td>\n",
       "                        <td id=\"T_8835c_row10_col6\" class=\"data row10 col6\" >6381</td>\n",
       "                        <td id=\"T_8835c_row10_col7\" class=\"data row10 col7\" >6.71</td>\n",
       "                        <td id=\"T_8835c_row10_col8\" class=\"data row10 col8\" >6.72</td>\n",
       "                        <td id=\"T_8835c_row10_col9\" class=\"data row10 col9\" >4.14</td>\n",
       "            </tr>\n",
       "            <tr>\n",
       "                        <th id=\"T_8835c_level0_row11\" class=\"row_heading level0 row11\" >51361</th>\n",
       "                        <td id=\"T_8835c_row11_col0\" class=\"data row11 col0\" >1.12</td>\n",
       "                        <td id=\"T_8835c_row11_col1\" class=\"data row11 col1\" >Premium</td>\n",
       "                        <td id=\"T_8835c_row11_col2\" class=\"data row11 col2\" >G</td>\n",
       "                        <td id=\"T_8835c_row11_col3\" class=\"data row11 col3\" >I1</td>\n",
       "                        <td id=\"T_8835c_row11_col4\" class=\"data row11 col4\" >60.4</td>\n",
       "                        <td id=\"T_8835c_row11_col5\" class=\"data row11 col5\" >59.0</td>\n",
       "                        <td id=\"T_8835c_row11_col6\" class=\"data row11 col6\" >2383</td>\n",
       "                        <td id=\"T_8835c_row11_col7\" class=\"data row11 col7\" >6.71</td>\n",
       "                        <td id=\"T_8835c_row11_col8\" class=\"data row11 col8\" >6.67</td>\n",
       "                        <td id=\"T_8835c_row11_col9\" class=\"data row11 col9\" >4.11</td>\n",
       "            </tr>\n",
       "            <tr>\n",
       "                        <th id=\"T_8835c_level0_row12\" class=\"row_heading level0 row12\" >4778</th>\n",
       "                        <td id=\"T_8835c_row12_col0\" class=\"data row12 col0\" >1.10</td>\n",
       "                        <td id=\"T_8835c_row12_col1\" class=\"data row12 col1\" >Premium</td>\n",
       "                        <td id=\"T_8835c_row12_col2\" class=\"data row12 col2\" >G</td>\n",
       "                        <td id=\"T_8835c_row12_col3\" class=\"data row12 col3\" >SI2</td>\n",
       "                        <td id=\"T_8835c_row12_col4\" class=\"data row12 col4\" >63.0</td>\n",
       "                        <td id=\"T_8835c_row12_col5\" class=\"data row12 col5\" >59.0</td>\n",
       "                        <td id=\"T_8835c_row12_col6\" class=\"data row12 col6\" >3696</td>\n",
       "                        <td id=\"T_8835c_row12_col7\" class=\"data row12 col7\" >6.50</td>\n",
       "                        <td id=\"T_8835c_row12_col8\" class=\"data row12 col8\" >6.47</td>\n",
       "                        <td id=\"T_8835c_row12_col9\" class=\"data row12 col9\" >4.09</td>\n",
       "            </tr>\n",
       "            <tr>\n",
       "                        <th id=\"T_8835c_level0_row13\" class=\"row_heading level0 row13\" >11156</th>\n",
       "                        <td id=\"T_8835c_row13_col0\" class=\"data row13 col0\" >1.07</td>\n",
       "                        <td id=\"T_8835c_row13_col1\" class=\"data row13 col1\" >Ideal</td>\n",
       "                        <td id=\"T_8835c_row13_col2\" class=\"data row13 col2\" >F</td>\n",
       "                        <td id=\"T_8835c_row13_col3\" class=\"data row13 col3\" >SI2</td>\n",
       "                        <td id=\"T_8835c_row13_col4\" class=\"data row13 col4\" >61.6</td>\n",
       "                        <td id=\"T_8835c_row13_col5\" class=\"data row13 col5\" >56.0</td>\n",
       "                        <td id=\"T_8835c_row13_col6\" class=\"data row13 col6\" >4954</td>\n",
       "                        <td id=\"T_8835c_row13_col7\" class=\"data row13 col7\" >6.57</td>\n",
       "                        <td id=\"T_8835c_row13_col8\" class=\"data row13 col8\" >6.62</td>\n",
       "                        <td id=\"T_8835c_row13_col9\" class=\"data row13 col9\" >4.05</td>\n",
       "            </tr>\n",
       "            <tr>\n",
       "                        <th id=\"T_8835c_level0_row14\" class=\"row_heading level0 row14\" >2308</th>\n",
       "                        <td id=\"T_8835c_row14_col0\" class=\"data row14 col0\" >1.01</td>\n",
       "                        <td id=\"T_8835c_row14_col1\" class=\"data row14 col1\" >Premium</td>\n",
       "                        <td id=\"T_8835c_row14_col2\" class=\"data row14 col2\" >H</td>\n",
       "                        <td id=\"T_8835c_row14_col3\" class=\"data row14 col3\" >I1</td>\n",
       "                        <td id=\"T_8835c_row14_col4\" class=\"data row14 col4\" >58.1</td>\n",
       "                        <td id=\"T_8835c_row14_col5\" class=\"data row14 col5\" >59.0</td>\n",
       "                        <td id=\"T_8835c_row14_col6\" class=\"data row14 col6\" >3167</td>\n",
       "                        <td id=\"T_8835c_row14_col7\" class=\"data row14 col7\" >6.66</td>\n",
       "                        <td id=\"T_8835c_row14_col8\" class=\"data row14 col8\" >6.60</td>\n",
       "                        <td id=\"T_8835c_row14_col9\" class=\"data row14 col9\" >3.98</td>\n",
       "            </tr>\n",
       "            <tr>\n",
       "                        <th id=\"T_8835c_level0_row15\" class=\"row_heading level0 row15\" >5457</th>\n",
       "                        <td id=\"T_8835c_row15_col0\" class=\"data row15 col0\" >1.01</td>\n",
       "                        <td id=\"T_8835c_row15_col1\" class=\"data row15 col1\" >Premium</td>\n",
       "                        <td id=\"T_8835c_row15_col2\" class=\"data row15 col2\" >F</td>\n",
       "                        <td id=\"T_8835c_row15_col3\" class=\"data row15 col3\" >SI2</td>\n",
       "                        <td id=\"T_8835c_row15_col4\" class=\"data row15 col4\" >59.2</td>\n",
       "                        <td id=\"T_8835c_row15_col5\" class=\"data row15 col5\" >58.0</td>\n",
       "                        <td id=\"T_8835c_row15_col6\" class=\"data row15 col6\" >3837</td>\n",
       "                        <td id=\"T_8835c_row15_col7\" class=\"data row15 col7\" >6.50</td>\n",
       "                        <td id=\"T_8835c_row15_col8\" class=\"data row15 col8\" >6.47</td>\n",
       "                        <td id=\"T_8835c_row15_col9\" class=\"data row15 col9\" >3.98</td>\n",
       "            </tr>\n",
       "            <tr>\n",
       "                        <th id=\"T_8835c_level0_row16\" class=\"row_heading level0 row16\" >11935</th>\n",
       "                        <td id=\"T_8835c_row16_col0\" class=\"data row16 col0\" >1.00</td>\n",
       "                        <td id=\"T_8835c_row16_col1\" class=\"data row16 col1\" >Very Good</td>\n",
       "                        <td id=\"T_8835c_row16_col2\" class=\"data row16 col2\" >H</td>\n",
       "                        <td id=\"T_8835c_row16_col3\" class=\"data row16 col3\" >VS2</td>\n",
       "                        <td id=\"T_8835c_row16_col4\" class=\"data row16 col4\" >63.3</td>\n",
       "                        <td id=\"T_8835c_row16_col5\" class=\"data row16 col5\" >53.0</td>\n",
       "                        <td id=\"T_8835c_row16_col6\" class=\"data row16 col6\" >5139</td>\n",
       "                        <td id=\"T_8835c_row16_col7\" class=\"data row16 col7\" >6.38</td>\n",
       "                        <td id=\"T_8835c_row16_col8\" class=\"data row16 col8\" >6.38</td>\n",
       "                        <td id=\"T_8835c_row16_col9\" class=\"data row16 col9\" >3.96</td>\n",
       "            </tr>\n",
       "            <tr>\n",
       "                        <th id=\"T_8835c_level0_row17\" class=\"row_heading level0 row17\" >2201</th>\n",
       "                        <td id=\"T_8835c_row17_col0\" class=\"data row17 col0\" >1.00</td>\n",
       "                        <td id=\"T_8835c_row17_col1\" class=\"data row17 col1\" >Premium</td>\n",
       "                        <td id=\"T_8835c_row17_col2\" class=\"data row17 col2\" >G</td>\n",
       "                        <td id=\"T_8835c_row17_col3\" class=\"data row17 col3\" >SI2</td>\n",
       "                        <td id=\"T_8835c_row17_col4\" class=\"data row17 col4\" >59.1</td>\n",
       "                        <td id=\"T_8835c_row17_col5\" class=\"data row17 col5\" >59.0</td>\n",
       "                        <td id=\"T_8835c_row17_col6\" class=\"data row17 col6\" >3142</td>\n",
       "                        <td id=\"T_8835c_row17_col7\" class=\"data row17 col7\" >6.55</td>\n",
       "                        <td id=\"T_8835c_row17_col8\" class=\"data row17 col8\" >6.48</td>\n",
       "                        <td id=\"T_8835c_row17_col9\" class=\"data row17 col9\" >3.96</td>\n",
       "            </tr>\n",
       "            <tr>\n",
       "                        <th id=\"T_8835c_level0_row18\" class=\"row_heading level0 row18\" >49413</th>\n",
       "                        <td id=\"T_8835c_row18_col0\" class=\"data row18 col0\" >0.71</td>\n",
       "                        <td id=\"T_8835c_row18_col1\" class=\"data row18 col1\" >Good</td>\n",
       "                        <td id=\"T_8835c_row18_col2\" class=\"data row18 col2\" >F</td>\n",
       "                        <td id=\"T_8835c_row18_col3\" class=\"data row18 col3\" >SI2</td>\n",
       "                        <td id=\"T_8835c_row18_col4\" class=\"data row18 col4\" >64.1</td>\n",
       "                        <td id=\"T_8835c_row18_col5\" class=\"data row18 col5\" >60.0</td>\n",
       "                        <td id=\"T_8835c_row18_col6\" class=\"data row18 col6\" >2130</td>\n",
       "                        <td id=\"T_8835c_row18_col7\" class=\"data row18 col7\" >5.72</td>\n",
       "                        <td id=\"T_8835c_row18_col8\" class=\"data row18 col8\" >5.73</td>\n",
       "                        <td id=\"T_8835c_row18_col9\" class=\"data row18 col9\" >3.54</td>\n",
       "            </tr>\n",
       "    </tbody></table>"
      ],
      "text/plain": [
       "<pandas.io.formats.style.Styler at 0x7f0282262d50>"
      ]
     },
     "execution_count": 16,
     "metadata": {},
     "output_type": "execute_result"
    }
   ],
   "source": [
    "# Fixing \"z\" column\n",
    "fill_nan_values(\"z\")"
   ]
  },
  {
   "cell_type": "markdown",
   "id": "hawaiian-sharing",
   "metadata": {
    "papermill": {
     "duration": 0.071134,
     "end_time": "2021-03-21T19:14:02.473227",
     "exception": false,
     "start_time": "2021-03-21T19:14:02.402093",
     "status": "completed"
    },
    "tags": []
   },
   "source": [
    "# <font size=\"4\">Outliers</font>"
   ]
  },
  {
   "cell_type": "markdown",
   "id": "peaceful-sending",
   "metadata": {
    "papermill": {
     "duration": 0.069157,
     "end_time": "2021-03-21T19:14:02.612561",
     "exception": false,
     "start_time": "2021-03-21T19:14:02.543404",
     "status": "completed"
    },
    "tags": []
   },
   "source": [
    "There are a lot of methods to find outlier values, but here we are going to use the simplest one: manually visualizing them. To this, we need to plot graphs showing the relation between all numerical features and the target (price).\n"
   ]
  },
  {
   "cell_type": "code",
   "execution_count": 17,
   "id": "active-former",
   "metadata": {
    "_kg_hide-input": true,
    "execution": {
     "iopub.execute_input": "2021-03-21T19:14:02.757181Z",
     "iopub.status.busy": "2021-03-21T19:14:02.756445Z",
     "iopub.status.idle": "2021-03-21T19:14:02.759704Z",
     "shell.execute_reply": "2021-03-21T19:14:02.759165Z"
    },
    "papermill": {
     "duration": 0.079182,
     "end_time": "2021-03-21T19:14:02.759851",
     "exception": false,
     "start_time": "2021-03-21T19:14:02.680669",
     "status": "completed"
    },
    "tags": []
   },
   "outputs": [],
   "source": [
    "def highlight_outliers(outliers, col):\n",
    "    outliers_index = outliers.index\n",
    "    i = pd.IndexSlice[outliers_index, col]\n",
    "    return outliers.style.applymap(lambda x: \"background-color: red\", subset = i).format(format_dict)"
   ]
  },
  {
   "cell_type": "code",
   "execution_count": 18,
   "id": "registered-disorder",
   "metadata": {
    "_kg_hide-input": true,
    "execution": {
     "iopub.execute_input": "2021-03-21T19:14:02.924144Z",
     "iopub.status.busy": "2021-03-21T19:14:02.911414Z",
     "iopub.status.idle": "2021-03-21T19:14:25.076210Z",
     "shell.execute_reply": "2021-03-21T19:14:25.075554Z"
    },
    "papermill": {
     "duration": 22.24367,
     "end_time": "2021-03-21T19:14:25.076455",
     "exception": false,
     "start_time": "2021-03-21T19:14:02.832785",
     "status": "completed"
    },
    "tags": []
   },
   "outputs": [
    {
     "data": {
      "image/png": "[encoded data removed]",
      "text/plain": [
       "<Figure size 864x1296 with 6 Axes>"
      ]
     },
     "metadata": {},
     "output_type": "display_data"
    }
   ],
   "source": [
    "sns.set_style(\"whitegrid\")\n",
    "c = \"darkturquoise\"\n",
    "\n",
    "plt.figure(figsize = (12, 18))\n",
    "plt.subplot(3, 2, 1)\n",
    "plt.title(\"price X carat\")\n",
    "sns.regplot(data = df, x = \"price\", y = \"carat\", color = c, line_kws = {\"color\" : \"black\"})\n",
    "plt.subplot(3, 2, 2)\n",
    "plt.title(\"price X depth\")\n",
    "sns.regplot(data = df, x = \"price\", y = \"depth\", color = c, line_kws = {\"color\" : \"black\"})\n",
    "plt.subplot(3, 2, 3)\n",
    "plt.title(\"price X table\")\n",
    "sns.regplot(data = df, x = \"price\", y = \"table\", color = c, line_kws = {\"color\" : \"black\"})\n",
    "plt.subplot(3, 2, 4)\n",
    "plt.title(\"price X x\")\n",
    "sns.regplot(data = df, x = \"price\", y = \"x\", color = c, line_kws = {\"color\" : \"black\"})\n",
    "plt.subplot(3, 2, 5)\n",
    "plt.title(\"price X y\")\n",
    "sns.regplot(data = df, x = \"price\", y = \"y\", color = c, line_kws = {\"color\" : \"black\"})\n",
    "plt.subplot(3, 2, 6)\n",
    "plt.title(\"price X z\")\n",
    "sns.regplot(data = df, x = \"price\", y = \"z\", color = c, line_kws = {\"color\" : \"black\"})\n",
    "plt.show()"
   ]
  },
  {
   "cell_type": "markdown",
   "id": "shared-freeware",
   "metadata": {
    "papermill": {
     "duration": 0.074458,
     "end_time": "2021-03-21T19:14:25.225247",
     "exception": false,
     "start_time": "2021-03-21T19:14:25.150789",
     "status": "completed"
    },
    "tags": []
   },
   "source": [
    "By looking at this graphs, we can see three values that are really far from others (notice the thickness difference between the last two graphs and the others). Let's take a look at them."
   ]
  },
  {
   "cell_type": "markdown",
   "id": "offshore-vintage",
   "metadata": {
    "papermill": {
     "duration": 0.07396,
     "end_time": "2021-03-21T19:14:25.373789",
     "exception": false,
     "start_time": "2021-03-21T19:14:25.299829",
     "status": "completed"
    },
    "tags": []
   },
   "source": [
    "* <font size=\"3\">price X y</font>"
   ]
  },
  {
   "cell_type": "code",
   "execution_count": 19,
   "id": "driven-storage",
   "metadata": {
    "_kg_hide-input": true,
    "execution": {
     "iopub.execute_input": "2021-03-21T19:14:25.526286Z",
     "iopub.status.busy": "2021-03-21T19:14:25.525508Z",
     "iopub.status.idle": "2021-03-21T19:14:25.541176Z",
     "shell.execute_reply": "2021-03-21T19:14:25.541709Z"
    },
    "papermill": {
     "duration": 0.096216,
     "end_time": "2021-03-21T19:14:25.541924",
     "exception": false,
     "start_time": "2021-03-21T19:14:25.445708",
     "status": "completed"
    },
    "tags": []
   },
   "outputs": [
    {
     "data": {
      "text/html": [
       "<style  type=\"text/css\" >\n",
       "#T_f6d9b_row0_col8,#T_f6d9b_row1_col8{\n",
       "            background-color:  red;\n",
       "        }</style><table id=\"T_f6d9b_\" ><thead>    <tr>        <th class=\"blank level0\" ></th>        <th class=\"col_heading level0 col0\" >carat</th>        <th class=\"col_heading level0 col1\" >cut</th>        <th class=\"col_heading level0 col2\" >color</th>        <th class=\"col_heading level0 col3\" >clarity</th>        <th class=\"col_heading level0 col4\" >depth</th>        <th class=\"col_heading level0 col5\" >table</th>        <th class=\"col_heading level0 col6\" >price</th>        <th class=\"col_heading level0 col7\" >x</th>        <th class=\"col_heading level0 col8\" >y</th>        <th class=\"col_heading level0 col9\" >z</th>    </tr></thead><tbody>\n",
       "                <tr>\n",
       "                        <th id=\"T_f6d9b_level0_row0\" class=\"row_heading level0 row0\" >24012</th>\n",
       "                        <td id=\"T_f6d9b_row0_col0\" class=\"data row0 col0\" >2.00</td>\n",
       "                        <td id=\"T_f6d9b_row0_col1\" class=\"data row0 col1\" >Premium</td>\n",
       "                        <td id=\"T_f6d9b_row0_col2\" class=\"data row0 col2\" >H</td>\n",
       "                        <td id=\"T_f6d9b_row0_col3\" class=\"data row0 col3\" >SI2</td>\n",
       "                        <td id=\"T_f6d9b_row0_col4\" class=\"data row0 col4\" >58.9</td>\n",
       "                        <td id=\"T_f6d9b_row0_col5\" class=\"data row0 col5\" >57.0</td>\n",
       "                        <td id=\"T_f6d9b_row0_col6\" class=\"data row0 col6\" >12210</td>\n",
       "                        <td id=\"T_f6d9b_row0_col7\" class=\"data row0 col7\" >8.09</td>\n",
       "                        <td id=\"T_f6d9b_row0_col8\" class=\"data row0 col8\" >58.90</td>\n",
       "                        <td id=\"T_f6d9b_row0_col9\" class=\"data row0 col9\" >8.06</td>\n",
       "            </tr>\n",
       "            <tr>\n",
       "                        <th id=\"T_f6d9b_level0_row1\" class=\"row_heading level0 row1\" >49047</th>\n",
       "                        <td id=\"T_f6d9b_row1_col0\" class=\"data row1 col0\" >0.51</td>\n",
       "                        <td id=\"T_f6d9b_row1_col1\" class=\"data row1 col1\" >Ideal</td>\n",
       "                        <td id=\"T_f6d9b_row1_col2\" class=\"data row1 col2\" >E</td>\n",
       "                        <td id=\"T_f6d9b_row1_col3\" class=\"data row1 col3\" >VS1</td>\n",
       "                        <td id=\"T_f6d9b_row1_col4\" class=\"data row1 col4\" >61.8</td>\n",
       "                        <td id=\"T_f6d9b_row1_col5\" class=\"data row1 col5\" >55.0</td>\n",
       "                        <td id=\"T_f6d9b_row1_col6\" class=\"data row1 col6\" >2075</td>\n",
       "                        <td id=\"T_f6d9b_row1_col7\" class=\"data row1 col7\" >5.15</td>\n",
       "                        <td id=\"T_f6d9b_row1_col8\" class=\"data row1 col8\" >31.80</td>\n",
       "                        <td id=\"T_f6d9b_row1_col9\" class=\"data row1 col9\" >5.12</td>\n",
       "            </tr>\n",
       "    </tbody></table>"
      ],
      "text/plain": [
       "<pandas.io.formats.style.Styler at 0x7f0265d18ad0>"
      ]
     },
     "execution_count": 19,
     "metadata": {},
     "output_type": "execute_result"
    }
   ],
   "source": [
    "df_outliers = df.loc[df[\"y\"] > 30].copy()\n",
    "highlight_outliers(df_outliers, \"y\")"
   ]
  },
  {
   "cell_type": "markdown",
   "id": "normal-duncan",
   "metadata": {
    "papermill": {
     "duration": 0.073653,
     "end_time": "2021-03-21T19:14:25.688826",
     "exception": false,
     "start_time": "2021-03-21T19:14:25.615173",
     "status": "completed"
    },
    "tags": []
   },
   "source": [
    "* <font size=\"3\">price X z</font>"
   ]
  },
  {
   "cell_type": "code",
   "execution_count": 20,
   "id": "sticky-moldova",
   "metadata": {
    "_kg_hide-input": true,
    "execution": {
     "iopub.execute_input": "2021-03-21T19:14:25.839363Z",
     "iopub.status.busy": "2021-03-21T19:14:25.838630Z",
     "iopub.status.idle": "2021-03-21T19:14:25.853400Z",
     "shell.execute_reply": "2021-03-21T19:14:25.852826Z"
    },
    "papermill": {
     "duration": 0.091874,
     "end_time": "2021-03-21T19:14:25.853556",
     "exception": false,
     "start_time": "2021-03-21T19:14:25.761682",
     "status": "completed"
    },
    "tags": []
   },
   "outputs": [
    {
     "data": {
      "text/html": [
       "<style  type=\"text/css\" >\n",
       "#T_c93e2_row0_col9{\n",
       "            background-color:  red;\n",
       "        }</style><table id=\"T_c93e2_\" ><thead>    <tr>        <th class=\"blank level0\" ></th>        <th class=\"col_heading level0 col0\" >carat</th>        <th class=\"col_heading level0 col1\" >cut</th>        <th class=\"col_heading level0 col2\" >color</th>        <th class=\"col_heading level0 col3\" >clarity</th>        <th class=\"col_heading level0 col4\" >depth</th>        <th class=\"col_heading level0 col5\" >table</th>        <th class=\"col_heading level0 col6\" >price</th>        <th class=\"col_heading level0 col7\" >x</th>        <th class=\"col_heading level0 col8\" >y</th>        <th class=\"col_heading level0 col9\" >z</th>    </tr></thead><tbody>\n",
       "                <tr>\n",
       "                        <th id=\"T_c93e2_level0_row0\" class=\"row_heading level0 row0\" >48268</th>\n",
       "                        <td id=\"T_c93e2_row0_col0\" class=\"data row0 col0\" >0.51</td>\n",
       "                        <td id=\"T_c93e2_row0_col1\" class=\"data row0 col1\" >Very Good</td>\n",
       "                        <td id=\"T_c93e2_row0_col2\" class=\"data row0 col2\" >E</td>\n",
       "                        <td id=\"T_c93e2_row0_col3\" class=\"data row0 col3\" >VS1</td>\n",
       "                        <td id=\"T_c93e2_row0_col4\" class=\"data row0 col4\" >61.8</td>\n",
       "                        <td id=\"T_c93e2_row0_col5\" class=\"data row0 col5\" >54.7</td>\n",
       "                        <td id=\"T_c93e2_row0_col6\" class=\"data row0 col6\" >1970</td>\n",
       "                        <td id=\"T_c93e2_row0_col7\" class=\"data row0 col7\" >5.12</td>\n",
       "                        <td id=\"T_c93e2_row0_col8\" class=\"data row0 col8\" >5.15</td>\n",
       "                        <td id=\"T_c93e2_row0_col9\" class=\"data row0 col9\" >31.80</td>\n",
       "            </tr>\n",
       "    </tbody></table>"
      ],
      "text/plain": [
       "<pandas.io.formats.style.Styler at 0x7f02631ccd50>"
      ]
     },
     "execution_count": 20,
     "metadata": {},
     "output_type": "execute_result"
    }
   ],
   "source": [
    "df_outliers = df.loc[df[\"z\"] > 30].copy()\n",
    "highlight_outliers(df_outliers, \"z\")"
   ]
  },
  {
   "cell_type": "markdown",
   "id": "korean-lobby",
   "metadata": {
    "papermill": {
     "duration": 0.074475,
     "end_time": "2021-03-21T19:14:26.002059",
     "exception": false,
     "start_time": "2021-03-21T19:14:25.927584",
     "status": "completed"
    },
    "tags": []
   },
   "source": [
    "This values are true outliers, let's treat them as missing values and do the same thing we did before."
   ]
  },
  {
   "cell_type": "code",
   "execution_count": 21,
   "id": "afraid-knitting",
   "metadata": {
    "execution": {
     "iopub.execute_input": "2021-03-21T19:14:26.156931Z",
     "iopub.status.busy": "2021-03-21T19:14:26.156231Z",
     "iopub.status.idle": "2021-03-21T19:14:26.162542Z",
     "shell.execute_reply": "2021-03-21T19:14:26.161986Z"
    },
    "papermill": {
     "duration": 0.085644,
     "end_time": "2021-03-21T19:14:26.162703",
     "exception": false,
     "start_time": "2021-03-21T19:14:26.077059",
     "status": "completed"
    },
    "tags": []
   },
   "outputs": [],
   "source": [
    "# Transforming them into NaN values\n",
    "df.loc[df[\"y\"] > 30, \"y\"] = np.nan\n",
    "df.loc[df[\"z\"] > 30, \"z\"] = np.nan"
   ]
  },
  {
   "cell_type": "code",
   "execution_count": 22,
   "id": "popular-weekend",
   "metadata": {
    "execution": {
     "iopub.execute_input": "2021-03-21T19:14:26.316397Z",
     "iopub.status.busy": "2021-03-21T19:14:26.315577Z",
     "iopub.status.idle": "2021-03-21T19:14:26.337398Z",
     "shell.execute_reply": "2021-03-21T19:14:26.338012Z"
    },
    "papermill": {
     "duration": 0.101824,
     "end_time": "2021-03-21T19:14:26.338203",
     "exception": false,
     "start_time": "2021-03-21T19:14:26.236379",
     "status": "completed"
    },
    "tags": []
   },
   "outputs": [
    {
     "name": "stdout",
     "output_type": "stream",
     "text": [
      "carat: 2.0 / median y value: 8.01\n",
      "carat: 0.51 / median y value: 5.14\n"
     ]
    },
    {
     "data": {
      "text/html": [
       "<style  type=\"text/css\" >\n",
       "#T_3ae51_row0_col8,#T_3ae51_row1_col8{\n",
       "            background-color:  limegreen;\n",
       "        }</style><table id=\"T_3ae51_\" ><thead>    <tr>        <th class=\"blank level0\" ></th>        <th class=\"col_heading level0 col0\" >carat</th>        <th class=\"col_heading level0 col1\" >cut</th>        <th class=\"col_heading level0 col2\" >color</th>        <th class=\"col_heading level0 col3\" >clarity</th>        <th class=\"col_heading level0 col4\" >depth</th>        <th class=\"col_heading level0 col5\" >table</th>        <th class=\"col_heading level0 col6\" >price</th>        <th class=\"col_heading level0 col7\" >x</th>        <th class=\"col_heading level0 col8\" >y</th>        <th class=\"col_heading level0 col9\" >z</th>    </tr></thead><tbody>\n",
       "                <tr>\n",
       "                        <th id=\"T_3ae51_level0_row0\" class=\"row_heading level0 row0\" >24012</th>\n",
       "                        <td id=\"T_3ae51_row0_col0\" class=\"data row0 col0\" >2.00</td>\n",
       "                        <td id=\"T_3ae51_row0_col1\" class=\"data row0 col1\" >Premium</td>\n",
       "                        <td id=\"T_3ae51_row0_col2\" class=\"data row0 col2\" >H</td>\n",
       "                        <td id=\"T_3ae51_row0_col3\" class=\"data row0 col3\" >SI2</td>\n",
       "                        <td id=\"T_3ae51_row0_col4\" class=\"data row0 col4\" >58.9</td>\n",
       "                        <td id=\"T_3ae51_row0_col5\" class=\"data row0 col5\" >57.0</td>\n",
       "                        <td id=\"T_3ae51_row0_col6\" class=\"data row0 col6\" >12210</td>\n",
       "                        <td id=\"T_3ae51_row0_col7\" class=\"data row0 col7\" >8.09</td>\n",
       "                        <td id=\"T_3ae51_row0_col8\" class=\"data row0 col8\" >8.01</td>\n",
       "                        <td id=\"T_3ae51_row0_col9\" class=\"data row0 col9\" >8.06</td>\n",
       "            </tr>\n",
       "            <tr>\n",
       "                        <th id=\"T_3ae51_level0_row1\" class=\"row_heading level0 row1\" >49047</th>\n",
       "                        <td id=\"T_3ae51_row1_col0\" class=\"data row1 col0\" >0.51</td>\n",
       "                        <td id=\"T_3ae51_row1_col1\" class=\"data row1 col1\" >Ideal</td>\n",
       "                        <td id=\"T_3ae51_row1_col2\" class=\"data row1 col2\" >E</td>\n",
       "                        <td id=\"T_3ae51_row1_col3\" class=\"data row1 col3\" >VS1</td>\n",
       "                        <td id=\"T_3ae51_row1_col4\" class=\"data row1 col4\" >61.8</td>\n",
       "                        <td id=\"T_3ae51_row1_col5\" class=\"data row1 col5\" >55.0</td>\n",
       "                        <td id=\"T_3ae51_row1_col6\" class=\"data row1 col6\" >2075</td>\n",
       "                        <td id=\"T_3ae51_row1_col7\" class=\"data row1 col7\" >5.15</td>\n",
       "                        <td id=\"T_3ae51_row1_col8\" class=\"data row1 col8\" >5.14</td>\n",
       "                        <td id=\"T_3ae51_row1_col9\" class=\"data row1 col9\" >5.12</td>\n",
       "            </tr>\n",
       "    </tbody></table>"
      ],
      "text/plain": [
       "<pandas.io.formats.style.Styler at 0x7f02636fead0>"
      ]
     },
     "execution_count": 22,
     "metadata": {},
     "output_type": "execute_result"
    }
   ],
   "source": [
    "# Fixing \"y\" column\n",
    "fill_nan_values(\"y\")"
   ]
  },
  {
   "cell_type": "code",
   "execution_count": 23,
   "id": "lonely-villa",
   "metadata": {
    "execution": {
     "iopub.execute_input": "2021-03-21T19:14:26.494146Z",
     "iopub.status.busy": "2021-03-21T19:14:26.493416Z",
     "iopub.status.idle": "2021-03-21T19:14:26.619507Z",
     "shell.execute_reply": "2021-03-21T19:14:26.620121Z"
    },
    "papermill": {
     "duration": 0.207082,
     "end_time": "2021-03-21T19:14:26.620309",
     "exception": false,
     "start_time": "2021-03-21T19:14:26.413227",
     "status": "completed"
    },
    "tags": []
   },
   "outputs": [
    {
     "name": "stdout",
     "output_type": "stream",
     "text": [
      "carat: 0.51 / median z value: 3.17\n"
     ]
    },
    {
     "data": {
      "text/html": [
       "<style  type=\"text/css\" >\n",
       "#T_3fc42_row0_col9{\n",
       "            background-color:  limegreen;\n",
       "        }</style><table id=\"T_3fc42_\" ><thead>    <tr>        <th class=\"blank level0\" ></th>        <th class=\"col_heading level0 col0\" >carat</th>        <th class=\"col_heading level0 col1\" >cut</th>        <th class=\"col_heading level0 col2\" >color</th>        <th class=\"col_heading level0 col3\" >clarity</th>        <th class=\"col_heading level0 col4\" >depth</th>        <th class=\"col_heading level0 col5\" >table</th>        <th class=\"col_heading level0 col6\" >price</th>        <th class=\"col_heading level0 col7\" >x</th>        <th class=\"col_heading level0 col8\" >y</th>        <th class=\"col_heading level0 col9\" >z</th>    </tr></thead><tbody>\n",
       "                <tr>\n",
       "                        <th id=\"T_3fc42_level0_row0\" class=\"row_heading level0 row0\" >48268</th>\n",
       "                        <td id=\"T_3fc42_row0_col0\" class=\"data row0 col0\" >0.51</td>\n",
       "                        <td id=\"T_3fc42_row0_col1\" class=\"data row0 col1\" >Very Good</td>\n",
       "                        <td id=\"T_3fc42_row0_col2\" class=\"data row0 col2\" >E</td>\n",
       "                        <td id=\"T_3fc42_row0_col3\" class=\"data row0 col3\" >VS1</td>\n",
       "                        <td id=\"T_3fc42_row0_col4\" class=\"data row0 col4\" >61.8</td>\n",
       "                        <td id=\"T_3fc42_row0_col5\" class=\"data row0 col5\" >54.7</td>\n",
       "                        <td id=\"T_3fc42_row0_col6\" class=\"data row0 col6\" >1970</td>\n",
       "                        <td id=\"T_3fc42_row0_col7\" class=\"data row0 col7\" >5.12</td>\n",
       "                        <td id=\"T_3fc42_row0_col8\" class=\"data row0 col8\" >5.15</td>\n",
       "                        <td id=\"T_3fc42_row0_col9\" class=\"data row0 col9\" >3.17</td>\n",
       "            </tr>\n",
       "    </tbody></table>"
      ],
      "text/plain": [
       "<pandas.io.formats.style.Styler at 0x7f02631f3d10>"
      ]
     },
     "execution_count": 23,
     "metadata": {},
     "output_type": "execute_result"
    }
   ],
   "source": [
    "# Fixing \"z\" column\n",
    "fill_nan_values(\"z\")"
   ]
  },
  {
   "cell_type": "markdown",
   "id": "technological-representative",
   "metadata": {
    "papermill": {
     "duration": 0.076312,
     "end_time": "2021-03-21T19:14:26.771834",
     "exception": false,
     "start_time": "2021-03-21T19:14:26.695522",
     "status": "completed"
    },
    "tags": []
   },
   "source": [
    "Now that we are free of this true outliers, let's analyze the possible outliers."
   ]
  },
  {
   "cell_type": "markdown",
   "id": "armed-ferry",
   "metadata": {
    "papermill": {
     "duration": 0.075041,
     "end_time": "2021-03-21T19:14:26.923582",
     "exception": false,
     "start_time": "2021-03-21T19:14:26.848541",
     "status": "completed"
    },
    "tags": []
   },
   "source": [
    "* <font size=\"3\">price X depth</font>"
   ]
  },
  {
   "cell_type": "code",
   "execution_count": 24,
   "id": "angry-payment",
   "metadata": {
    "_kg_hide-input": true,
    "execution": {
     "iopub.execute_input": "2021-03-21T19:14:27.081813Z",
     "iopub.status.busy": "2021-03-21T19:14:27.081091Z",
     "iopub.status.idle": "2021-03-21T19:14:27.096740Z",
     "shell.execute_reply": "2021-03-21T19:14:27.097312Z"
    },
    "papermill": {
     "duration": 0.097945,
     "end_time": "2021-03-21T19:14:27.097499",
     "exception": false,
     "start_time": "2021-03-21T19:14:26.999554",
     "status": "completed"
    },
    "tags": []
   },
   "outputs": [
    {
     "data": {
      "text/html": [
       "<style  type=\"text/css\" >\n",
       "#T_74812_row0_col4,#T_74812_row1_col4,#T_74812_row2_col4,#T_74812_row3_col4,#T_74812_row4_col4{\n",
       "            background-color:  red;\n",
       "        }</style><table id=\"T_74812_\" ><thead>    <tr>        <th class=\"blank level0\" ></th>        <th class=\"col_heading level0 col0\" >carat</th>        <th class=\"col_heading level0 col1\" >cut</th>        <th class=\"col_heading level0 col2\" >color</th>        <th class=\"col_heading level0 col3\" >clarity</th>        <th class=\"col_heading level0 col4\" >depth</th>        <th class=\"col_heading level0 col5\" >table</th>        <th class=\"col_heading level0 col6\" >price</th>        <th class=\"col_heading level0 col7\" >x</th>        <th class=\"col_heading level0 col8\" >y</th>        <th class=\"col_heading level0 col9\" >z</th>    </tr></thead><tbody>\n",
       "                <tr>\n",
       "                        <th id=\"T_74812_level0_row0\" class=\"row_heading level0 row0\" >4506</th>\n",
       "                        <td id=\"T_74812_row0_col0\" class=\"data row0 col0\" >1.00</td>\n",
       "                        <td id=\"T_74812_row0_col1\" class=\"data row0 col1\" >Fair</td>\n",
       "                        <td id=\"T_74812_row0_col2\" class=\"data row0 col2\" >G</td>\n",
       "                        <td id=\"T_74812_row0_col3\" class=\"data row0 col3\" >SI1</td>\n",
       "                        <td id=\"T_74812_row0_col4\" class=\"data row0 col4\" >43.0</td>\n",
       "                        <td id=\"T_74812_row0_col5\" class=\"data row0 col5\" >59.0</td>\n",
       "                        <td id=\"T_74812_row0_col6\" class=\"data row0 col6\" >3634</td>\n",
       "                        <td id=\"T_74812_row0_col7\" class=\"data row0 col7\" >6.32</td>\n",
       "                        <td id=\"T_74812_row0_col8\" class=\"data row0 col8\" >6.27</td>\n",
       "                        <td id=\"T_74812_row0_col9\" class=\"data row0 col9\" >3.97</td>\n",
       "            </tr>\n",
       "            <tr>\n",
       "                        <th id=\"T_74812_level0_row1\" class=\"row_heading level0 row1\" >6325</th>\n",
       "                        <td id=\"T_74812_row1_col0\" class=\"data row1 col0\" >1.00</td>\n",
       "                        <td id=\"T_74812_row1_col1\" class=\"data row1 col1\" >Fair</td>\n",
       "                        <td id=\"T_74812_row1_col2\" class=\"data row1 col2\" >G</td>\n",
       "                        <td id=\"T_74812_row1_col3\" class=\"data row1 col3\" >VS2</td>\n",
       "                        <td id=\"T_74812_row1_col4\" class=\"data row1 col4\" >44.0</td>\n",
       "                        <td id=\"T_74812_row1_col5\" class=\"data row1 col5\" >53.0</td>\n",
       "                        <td id=\"T_74812_row1_col6\" class=\"data row1 col6\" >4032</td>\n",
       "                        <td id=\"T_74812_row1_col7\" class=\"data row1 col7\" >6.31</td>\n",
       "                        <td id=\"T_74812_row1_col8\" class=\"data row1 col8\" >6.24</td>\n",
       "                        <td id=\"T_74812_row1_col9\" class=\"data row1 col9\" >4.12</td>\n",
       "            </tr>\n",
       "            <tr>\n",
       "                        <th id=\"T_74812_level0_row2\" class=\"row_heading level0 row2\" >10353</th>\n",
       "                        <td id=\"T_74812_row2_col0\" class=\"data row2 col0\" >1.09</td>\n",
       "                        <td id=\"T_74812_row2_col1\" class=\"data row2 col1\" >Ideal</td>\n",
       "                        <td id=\"T_74812_row2_col2\" class=\"data row2 col2\" >J</td>\n",
       "                        <td id=\"T_74812_row2_col3\" class=\"data row2 col3\" >VS2</td>\n",
       "                        <td id=\"T_74812_row2_col4\" class=\"data row2 col4\" >43.0</td>\n",
       "                        <td id=\"T_74812_row2_col5\" class=\"data row2 col5\" >54.0</td>\n",
       "                        <td id=\"T_74812_row2_col6\" class=\"data row2 col6\" >4778</td>\n",
       "                        <td id=\"T_74812_row2_col7\" class=\"data row2 col7\" >6.53</td>\n",
       "                        <td id=\"T_74812_row2_col8\" class=\"data row2 col8\" >6.55</td>\n",
       "                        <td id=\"T_74812_row2_col9\" class=\"data row2 col9\" >4.12</td>\n",
       "            </tr>\n",
       "            <tr>\n",
       "                        <th id=\"T_74812_level0_row3\" class=\"row_heading level0 row3\" >41787</th>\n",
       "                        <td id=\"T_74812_row3_col0\" class=\"data row3 col0\" >1.03</td>\n",
       "                        <td id=\"T_74812_row3_col1\" class=\"data row3 col1\" >Fair</td>\n",
       "                        <td id=\"T_74812_row3_col2\" class=\"data row3 col2\" >E</td>\n",
       "                        <td id=\"T_74812_row3_col3\" class=\"data row3 col3\" >I1</td>\n",
       "                        <td id=\"T_74812_row3_col4\" class=\"data row3 col4\" >78.2</td>\n",
       "                        <td id=\"T_74812_row3_col5\" class=\"data row3 col5\" >54.0</td>\n",
       "                        <td id=\"T_74812_row3_col6\" class=\"data row3 col6\" >1262</td>\n",
       "                        <td id=\"T_74812_row3_col7\" class=\"data row3 col7\" >5.72</td>\n",
       "                        <td id=\"T_74812_row3_col8\" class=\"data row3 col8\" >5.59</td>\n",
       "                        <td id=\"T_74812_row3_col9\" class=\"data row3 col9\" >4.42</td>\n",
       "            </tr>\n",
       "            <tr>\n",
       "                        <th id=\"T_74812_level0_row4\" class=\"row_heading level0 row4\" >52715</th>\n",
       "                        <td id=\"T_74812_row4_col0\" class=\"data row4 col0\" >0.50</td>\n",
       "                        <td id=\"T_74812_row4_col1\" class=\"data row4 col1\" >Fair</td>\n",
       "                        <td id=\"T_74812_row4_col2\" class=\"data row4 col2\" >E</td>\n",
       "                        <td id=\"T_74812_row4_col3\" class=\"data row4 col3\" >VS2</td>\n",
       "                        <td id=\"T_74812_row4_col4\" class=\"data row4 col4\" >79.0</td>\n",
       "                        <td id=\"T_74812_row4_col5\" class=\"data row4 col5\" >73.0</td>\n",
       "                        <td id=\"T_74812_row4_col6\" class=\"data row4 col6\" >2579</td>\n",
       "                        <td id=\"T_74812_row4_col7\" class=\"data row4 col7\" >5.21</td>\n",
       "                        <td id=\"T_74812_row4_col8\" class=\"data row4 col8\" >5.18</td>\n",
       "                        <td id=\"T_74812_row4_col9\" class=\"data row4 col9\" >4.09</td>\n",
       "            </tr>\n",
       "    </tbody></table>"
      ],
      "text/plain": [
       "<pandas.io.formats.style.Styler at 0x7f026395eb90>"
      ]
     },
     "execution_count": 24,
     "metadata": {},
     "output_type": "execute_result"
    }
   ],
   "source": [
    "df_outliers = df.loc[(df[\"depth\"] > 75) | (df[\"depth\"] < 45)].copy()\n",
    "highlight_outliers(df_outliers, \"depth\")"
   ]
  },
  {
   "cell_type": "markdown",
   "id": "lovely-bangladesh",
   "metadata": {
    "papermill": {
     "duration": 0.076936,
     "end_time": "2021-03-21T19:14:27.251406",
     "exception": false,
     "start_time": "2021-03-21T19:14:27.174470",
     "status": "completed"
    },
    "tags": []
   },
   "source": [
    "Well, even if this values are considerably distants from others they are not absurd values (e.g. 550%). Let's leave them as they are."
   ]
  },
  {
   "cell_type": "markdown",
   "id": "herbal-enforcement",
   "metadata": {
    "papermill": {
     "duration": 0.076431,
     "end_time": "2021-03-21T19:14:27.403662",
     "exception": false,
     "start_time": "2021-03-21T19:14:27.327231",
     "status": "completed"
    },
    "tags": []
   },
   "source": [
    "* <font size=\"3\">price X table</font>"
   ]
  },
  {
   "cell_type": "code",
   "execution_count": 25,
   "id": "greatest-mandate",
   "metadata": {
    "_kg_hide-input": true,
    "execution": {
     "iopub.execute_input": "2021-03-21T19:14:27.561913Z",
     "iopub.status.busy": "2021-03-21T19:14:27.561205Z",
     "iopub.status.idle": "2021-03-21T19:14:27.579851Z",
     "shell.execute_reply": "2021-03-21T19:14:27.579145Z"
    },
    "papermill": {
     "duration": 0.100638,
     "end_time": "2021-03-21T19:14:27.580007",
     "exception": false,
     "start_time": "2021-03-21T19:14:27.479369",
     "status": "completed"
    },
    "tags": []
   },
   "outputs": [
    {
     "data": {
      "text/html": [
       "<style  type=\"text/css\" >\n",
       "#T_cda7b_row0_col5,#T_cda7b_row1_col5,#T_cda7b_row2_col5,#T_cda7b_row3_col5{\n",
       "            background-color:  red;\n",
       "        }</style><table id=\"T_cda7b_\" ><thead>    <tr>        <th class=\"blank level0\" ></th>        <th class=\"col_heading level0 col0\" >carat</th>        <th class=\"col_heading level0 col1\" >cut</th>        <th class=\"col_heading level0 col2\" >color</th>        <th class=\"col_heading level0 col3\" >clarity</th>        <th class=\"col_heading level0 col4\" >depth</th>        <th class=\"col_heading level0 col5\" >table</th>        <th class=\"col_heading level0 col6\" >price</th>        <th class=\"col_heading level0 col7\" >x</th>        <th class=\"col_heading level0 col8\" >y</th>        <th class=\"col_heading level0 col9\" >z</th>    </tr></thead><tbody>\n",
       "                <tr>\n",
       "                        <th id=\"T_cda7b_level0_row0\" class=\"row_heading level0 row0\" >4506</th>\n",
       "                        <td id=\"T_cda7b_row0_col0\" class=\"data row0 col0\" >1.00</td>\n",
       "                        <td id=\"T_cda7b_row0_col1\" class=\"data row0 col1\" >Fair</td>\n",
       "                        <td id=\"T_cda7b_row0_col2\" class=\"data row0 col2\" >G</td>\n",
       "                        <td id=\"T_cda7b_row0_col3\" class=\"data row0 col3\" >SI1</td>\n",
       "                        <td id=\"T_cda7b_row0_col4\" class=\"data row0 col4\" >43.0</td>\n",
       "                        <td id=\"T_cda7b_row0_col5\" class=\"data row0 col5\" >59.0</td>\n",
       "                        <td id=\"T_cda7b_row0_col6\" class=\"data row0 col6\" >3634</td>\n",
       "                        <td id=\"T_cda7b_row0_col7\" class=\"data row0 col7\" >6.32</td>\n",
       "                        <td id=\"T_cda7b_row0_col8\" class=\"data row0 col8\" >6.27</td>\n",
       "                        <td id=\"T_cda7b_row0_col9\" class=\"data row0 col9\" >3.97</td>\n",
       "            </tr>\n",
       "            <tr>\n",
       "                        <th id=\"T_cda7b_level0_row1\" class=\"row_heading level0 row1\" >6325</th>\n",
       "                        <td id=\"T_cda7b_row1_col0\" class=\"data row1 col0\" >1.00</td>\n",
       "                        <td id=\"T_cda7b_row1_col1\" class=\"data row1 col1\" >Fair</td>\n",
       "                        <td id=\"T_cda7b_row1_col2\" class=\"data row1 col2\" >G</td>\n",
       "                        <td id=\"T_cda7b_row1_col3\" class=\"data row1 col3\" >VS2</td>\n",
       "                        <td id=\"T_cda7b_row1_col4\" class=\"data row1 col4\" >44.0</td>\n",
       "                        <td id=\"T_cda7b_row1_col5\" class=\"data row1 col5\" >53.0</td>\n",
       "                        <td id=\"T_cda7b_row1_col6\" class=\"data row1 col6\" >4032</td>\n",
       "                        <td id=\"T_cda7b_row1_col7\" class=\"data row1 col7\" >6.31</td>\n",
       "                        <td id=\"T_cda7b_row1_col8\" class=\"data row1 col8\" >6.24</td>\n",
       "                        <td id=\"T_cda7b_row1_col9\" class=\"data row1 col9\" >4.12</td>\n",
       "            </tr>\n",
       "            <tr>\n",
       "                        <th id=\"T_cda7b_level0_row2\" class=\"row_heading level0 row2\" >10353</th>\n",
       "                        <td id=\"T_cda7b_row2_col0\" class=\"data row2 col0\" >1.09</td>\n",
       "                        <td id=\"T_cda7b_row2_col1\" class=\"data row2 col1\" >Ideal</td>\n",
       "                        <td id=\"T_cda7b_row2_col2\" class=\"data row2 col2\" >J</td>\n",
       "                        <td id=\"T_cda7b_row2_col3\" class=\"data row2 col3\" >VS2</td>\n",
       "                        <td id=\"T_cda7b_row2_col4\" class=\"data row2 col4\" >43.0</td>\n",
       "                        <td id=\"T_cda7b_row2_col5\" class=\"data row2 col5\" >54.0</td>\n",
       "                        <td id=\"T_cda7b_row2_col6\" class=\"data row2 col6\" >4778</td>\n",
       "                        <td id=\"T_cda7b_row2_col7\" class=\"data row2 col7\" >6.53</td>\n",
       "                        <td id=\"T_cda7b_row2_col8\" class=\"data row2 col8\" >6.55</td>\n",
       "                        <td id=\"T_cda7b_row2_col9\" class=\"data row2 col9\" >4.12</td>\n",
       "            </tr>\n",
       "            <tr>\n",
       "                        <th id=\"T_cda7b_level0_row3\" class=\"row_heading level0 row3\" >24875</th>\n",
       "                        <td id=\"T_cda7b_row3_col0\" class=\"data row3 col0\" >2.01</td>\n",
       "                        <td id=\"T_cda7b_row3_col1\" class=\"data row3 col1\" >Fair</td>\n",
       "                        <td id=\"T_cda7b_row3_col2\" class=\"data row3 col2\" >F</td>\n",
       "                        <td id=\"T_cda7b_row3_col3\" class=\"data row3 col3\" >SI1</td>\n",
       "                        <td id=\"T_cda7b_row3_col4\" class=\"data row3 col4\" >58.6</td>\n",
       "                        <td id=\"T_cda7b_row3_col5\" class=\"data row3 col5\" >95.0</td>\n",
       "                        <td id=\"T_cda7b_row3_col6\" class=\"data row3 col6\" >13387</td>\n",
       "                        <td id=\"T_cda7b_row3_col7\" class=\"data row3 col7\" >8.32</td>\n",
       "                        <td id=\"T_cda7b_row3_col8\" class=\"data row3 col8\" >8.31</td>\n",
       "                        <td id=\"T_cda7b_row3_col9\" class=\"data row3 col9\" >4.87</td>\n",
       "            </tr>\n",
       "    </tbody></table>"
      ],
      "text/plain": [
       "<pandas.io.formats.style.Styler at 0x7f026376afd0>"
      ]
     },
     "execution_count": 25,
     "metadata": {},
     "output_type": "execute_result"
    }
   ],
   "source": [
    "df_outliers = df.loc[(df[\"table\"] > 90) | (df[\"depth\"] < 45)].copy()\n",
    "highlight_outliers(df_outliers, \"table\")"
   ]
  },
  {
   "cell_type": "markdown",
   "id": "ahead-complexity",
   "metadata": {
    "papermill": {
     "duration": 0.077039,
     "end_time": "2021-03-21T19:14:27.735434",
     "exception": false,
     "start_time": "2021-03-21T19:14:27.658395",
     "status": "completed"
    },
    "tags": []
   },
   "source": [
    "Same thing as before."
   ]
  },
  {
   "cell_type": "markdown",
   "id": "narrow-machinery",
   "metadata": {
    "papermill": {
     "duration": 0.076927,
     "end_time": "2021-03-21T19:14:27.889279",
     "exception": false,
     "start_time": "2021-03-21T19:14:27.812352",
     "status": "completed"
    },
    "tags": []
   },
   "source": [
    "* <font size=\"3\">price X z</font>"
   ]
  },
  {
   "cell_type": "code",
   "execution_count": 26,
   "id": "medical-bishop",
   "metadata": {
    "_kg_hide-input": true,
    "execution": {
     "iopub.execute_input": "2021-03-21T19:14:28.051573Z",
     "iopub.status.busy": "2021-03-21T19:14:28.050531Z",
     "iopub.status.idle": "2021-03-21T19:14:28.064921Z",
     "shell.execute_reply": "2021-03-21T19:14:28.064321Z"
    },
    "papermill": {
     "duration": 0.097054,
     "end_time": "2021-03-21T19:14:28.065065",
     "exception": false,
     "start_time": "2021-03-21T19:14:27.968011",
     "status": "completed"
    },
    "tags": []
   },
   "outputs": [
    {
     "data": {
      "text/html": [
       "<style  type=\"text/css\" >\n",
       "#T_f919e_row0_col9,#T_f919e_row1_col9,#T_f919e_row2_col9{\n",
       "            background-color:  red;\n",
       "        }</style><table id=\"T_f919e_\" ><thead>    <tr>        <th class=\"blank level0\" ></th>        <th class=\"col_heading level0 col0\" >carat</th>        <th class=\"col_heading level0 col1\" >cut</th>        <th class=\"col_heading level0 col2\" >color</th>        <th class=\"col_heading level0 col3\" >clarity</th>        <th class=\"col_heading level0 col4\" >depth</th>        <th class=\"col_heading level0 col5\" >table</th>        <th class=\"col_heading level0 col6\" >price</th>        <th class=\"col_heading level0 col7\" >x</th>        <th class=\"col_heading level0 col8\" >y</th>        <th class=\"col_heading level0 col9\" >z</th>    </tr></thead><tbody>\n",
       "                <tr>\n",
       "                        <th id=\"T_f919e_level0_row0\" class=\"row_heading level0 row0\" >14602</th>\n",
       "                        <td id=\"T_f919e_row0_col0\" class=\"data row0 col0\" >1.07</td>\n",
       "                        <td id=\"T_f919e_row0_col1\" class=\"data row0 col1\" >Ideal</td>\n",
       "                        <td id=\"T_f919e_row0_col2\" class=\"data row0 col2\" >F</td>\n",
       "                        <td id=\"T_f919e_row0_col3\" class=\"data row0 col3\" >SI1</td>\n",
       "                        <td id=\"T_f919e_row0_col4\" class=\"data row0 col4\" >60.6</td>\n",
       "                        <td id=\"T_f919e_row0_col5\" class=\"data row0 col5\" >57.0</td>\n",
       "                        <td id=\"T_f919e_row0_col6\" class=\"data row0 col6\" >5909</td>\n",
       "                        <td id=\"T_f919e_row0_col7\" class=\"data row0 col7\" >6.62</td>\n",
       "                        <td id=\"T_f919e_row0_col8\" class=\"data row0 col8\" >6.67</td>\n",
       "                        <td id=\"T_f919e_row0_col9\" class=\"data row0 col9\" >1.07</td>\n",
       "            </tr>\n",
       "            <tr>\n",
       "                        <th id=\"T_f919e_level0_row1\" class=\"row_heading level0 row1\" >20651</th>\n",
       "                        <td id=\"T_f919e_row1_col0\" class=\"data row1 col0\" >1.53</td>\n",
       "                        <td id=\"T_f919e_row1_col1\" class=\"data row1 col1\" >Ideal</td>\n",
       "                        <td id=\"T_f919e_row1_col2\" class=\"data row1 col2\" >I</td>\n",
       "                        <td id=\"T_f919e_row1_col3\" class=\"data row1 col3\" >SI1</td>\n",
       "                        <td id=\"T_f919e_row1_col4\" class=\"data row1 col4\" >61.9</td>\n",
       "                        <td id=\"T_f919e_row1_col5\" class=\"data row1 col5\" >54.0</td>\n",
       "                        <td id=\"T_f919e_row1_col6\" class=\"data row1 col6\" >8971</td>\n",
       "                        <td id=\"T_f919e_row1_col7\" class=\"data row1 col7\" >7.43</td>\n",
       "                        <td id=\"T_f919e_row1_col8\" class=\"data row1 col8\" >7.50</td>\n",
       "                        <td id=\"T_f919e_row1_col9\" class=\"data row1 col9\" >1.53</td>\n",
       "            </tr>\n",
       "            <tr>\n",
       "                        <th id=\"T_f919e_level0_row2\" class=\"row_heading level0 row2\" >21609</th>\n",
       "                        <td id=\"T_f919e_row2_col0\" class=\"data row2 col0\" >1.41</td>\n",
       "                        <td id=\"T_f919e_row2_col1\" class=\"data row2 col1\" >Ideal</td>\n",
       "                        <td id=\"T_f919e_row2_col2\" class=\"data row2 col2\" >H</td>\n",
       "                        <td id=\"T_f919e_row2_col3\" class=\"data row2 col3\" >VS1</td>\n",
       "                        <td id=\"T_f919e_row2_col4\" class=\"data row2 col4\" >60.7</td>\n",
       "                        <td id=\"T_f919e_row2_col5\" class=\"data row2 col5\" >56.0</td>\n",
       "                        <td id=\"T_f919e_row2_col6\" class=\"data row2 col6\" >9752</td>\n",
       "                        <td id=\"T_f919e_row2_col7\" class=\"data row2 col7\" >7.31</td>\n",
       "                        <td id=\"T_f919e_row2_col8\" class=\"data row2 col8\" >7.22</td>\n",
       "                        <td id=\"T_f919e_row2_col9\" class=\"data row2 col9\" >1.41</td>\n",
       "            </tr>\n",
       "    </tbody></table>"
      ],
      "text/plain": [
       "<pandas.io.formats.style.Styler at 0x7f0263176190>"
      ]
     },
     "execution_count": 26,
     "metadata": {},
     "output_type": "execute_result"
    }
   ],
   "source": [
    "df_outliers = df.loc[df[\"z\"] < 2].copy()\n",
    "highlight_outliers(df_outliers, \"z\")"
   ]
  },
  {
   "cell_type": "markdown",
   "id": "straight-sensitivity",
   "metadata": {
    "papermill": {
     "duration": 0.077502,
     "end_time": "2021-03-21T19:14:28.221144",
     "exception": false,
     "start_time": "2021-03-21T19:14:28.143642",
     "status": "completed"
    },
    "tags": []
   },
   "source": [
    "For some reason this **z** values are equal to the **carat**."
   ]
  },
  {
   "cell_type": "code",
   "execution_count": 27,
   "id": "circular-providence",
   "metadata": {
    "execution": {
     "iopub.execute_input": "2021-03-21T19:14:28.378243Z",
     "iopub.status.busy": "2021-03-21T19:14:28.377496Z",
     "iopub.status.idle": "2021-03-21T19:14:28.391141Z",
     "shell.execute_reply": "2021-03-21T19:14:28.391737Z"
    },
    "papermill": {
     "duration": 0.093961,
     "end_time": "2021-03-21T19:14:28.391931",
     "exception": false,
     "start_time": "2021-03-21T19:14:28.297970",
     "status": "completed"
    },
    "tags": []
   },
   "outputs": [
    {
     "data": {
      "text/html": [
       "<div>\n",
       "<style scoped>\n",
       "    .dataframe tbody tr th:only-of-type {\n",
       "        vertical-align: middle;\n",
       "    }\n",
       "\n",
       "    .dataframe tbody tr th {\n",
       "        vertical-align: top;\n",
       "    }\n",
       "\n",
       "    .dataframe thead th {\n",
       "        text-align: right;\n",
       "    }\n",
       "</style>\n",
       "<table border=\"1\" class=\"dataframe\">\n",
       "  <thead>\n",
       "    <tr style=\"text-align: right;\">\n",
       "      <th></th>\n",
       "      <th>carat</th>\n",
       "      <th>z</th>\n",
       "    </tr>\n",
       "  </thead>\n",
       "  <tbody>\n",
       "    <tr>\n",
       "      <th>14602</th>\n",
       "      <td>1.07</td>\n",
       "      <td>1.07</td>\n",
       "    </tr>\n",
       "    <tr>\n",
       "      <th>20651</th>\n",
       "      <td>1.53</td>\n",
       "      <td>1.53</td>\n",
       "    </tr>\n",
       "    <tr>\n",
       "      <th>21609</th>\n",
       "      <td>1.41</td>\n",
       "      <td>1.41</td>\n",
       "    </tr>\n",
       "  </tbody>\n",
       "</table>\n",
       "</div>"
      ],
      "text/plain": [
       "       carat     z\n",
       "14602   1.07  1.07\n",
       "20651   1.53  1.53\n",
       "21609   1.41  1.41"
      ]
     },
     "execution_count": 27,
     "metadata": {},
     "output_type": "execute_result"
    }
   ],
   "source": [
    "df.loc[df[\"carat\"] == df[\"z\"], [\"carat\", \"z\"]]"
   ]
  },
  {
   "cell_type": "markdown",
   "id": "duplicate-surrey",
   "metadata": {
    "papermill": {
     "duration": 0.079836,
     "end_time": "2021-03-21T19:14:28.550686",
     "exception": false,
     "start_time": "2021-03-21T19:14:28.470850",
     "status": "completed"
    },
    "tags": []
   },
   "source": [
    "This can not just be a coincidence, as only this three has this equal values (**carat** = **z**), so let's fix them, repeating the process."
   ]
  },
  {
   "cell_type": "code",
   "execution_count": 28,
   "id": "preceding-antenna",
   "metadata": {
    "execution": {
     "iopub.execute_input": "2021-03-21T19:14:28.715120Z",
     "iopub.status.busy": "2021-03-21T19:14:28.714314Z",
     "iopub.status.idle": "2021-03-21T19:14:28.719527Z",
     "shell.execute_reply": "2021-03-21T19:14:28.718984Z"
    },
    "papermill": {
     "duration": 0.089507,
     "end_time": "2021-03-21T19:14:28.719696",
     "exception": false,
     "start_time": "2021-03-21T19:14:28.630189",
     "status": "completed"
    },
    "tags": []
   },
   "outputs": [],
   "source": [
    "# Transforming them into NaN values\n",
    "df.loc[df[\"z\"] < 2, \"z\"] = np.nan"
   ]
  },
  {
   "cell_type": "code",
   "execution_count": 29,
   "id": "funky-ensemble",
   "metadata": {
    "execution": {
     "iopub.execute_input": "2021-03-21T19:14:28.884343Z",
     "iopub.status.busy": "2021-03-21T19:14:28.883656Z",
     "iopub.status.idle": "2021-03-21T19:14:28.906454Z",
     "shell.execute_reply": "2021-03-21T19:14:28.907296Z"
    },
    "papermill": {
     "duration": 0.10955,
     "end_time": "2021-03-21T19:14:28.907509",
     "exception": false,
     "start_time": "2021-03-21T19:14:28.797959",
     "status": "completed"
    },
    "tags": []
   },
   "outputs": [
    {
     "name": "stdout",
     "output_type": "stream",
     "text": [
      "carat: 1.53 / median z value: 4.56\n",
      "carat: 1.41 / median z value: 4.44\n",
      "carat: 1.07 / median z value: 4.05\n"
     ]
    },
    {
     "data": {
      "text/html": [
       "<style  type=\"text/css\" >\n",
       "#T_0a294_row0_col9,#T_0a294_row1_col9,#T_0a294_row2_col9{\n",
       "            background-color:  limegreen;\n",
       "        }</style><table id=\"T_0a294_\" ><thead>    <tr>        <th class=\"blank level0\" ></th>        <th class=\"col_heading level0 col0\" >carat</th>        <th class=\"col_heading level0 col1\" >cut</th>        <th class=\"col_heading level0 col2\" >color</th>        <th class=\"col_heading level0 col3\" >clarity</th>        <th class=\"col_heading level0 col4\" >depth</th>        <th class=\"col_heading level0 col5\" >table</th>        <th class=\"col_heading level0 col6\" >price</th>        <th class=\"col_heading level0 col7\" >x</th>        <th class=\"col_heading level0 col8\" >y</th>        <th class=\"col_heading level0 col9\" >z</th>    </tr></thead><tbody>\n",
       "                <tr>\n",
       "                        <th id=\"T_0a294_level0_row0\" class=\"row_heading level0 row0\" >20651</th>\n",
       "                        <td id=\"T_0a294_row0_col0\" class=\"data row0 col0\" >1.53</td>\n",
       "                        <td id=\"T_0a294_row0_col1\" class=\"data row0 col1\" >Ideal</td>\n",
       "                        <td id=\"T_0a294_row0_col2\" class=\"data row0 col2\" >I</td>\n",
       "                        <td id=\"T_0a294_row0_col3\" class=\"data row0 col3\" >SI1</td>\n",
       "                        <td id=\"T_0a294_row0_col4\" class=\"data row0 col4\" >61.9</td>\n",
       "                        <td id=\"T_0a294_row0_col5\" class=\"data row0 col5\" >54.0</td>\n",
       "                        <td id=\"T_0a294_row0_col6\" class=\"data row0 col6\" >8971</td>\n",
       "                        <td id=\"T_0a294_row0_col7\" class=\"data row0 col7\" >7.43</td>\n",
       "                        <td id=\"T_0a294_row0_col8\" class=\"data row0 col8\" >7.50</td>\n",
       "                        <td id=\"T_0a294_row0_col9\" class=\"data row0 col9\" >4.56</td>\n",
       "            </tr>\n",
       "            <tr>\n",
       "                        <th id=\"T_0a294_level0_row1\" class=\"row_heading level0 row1\" >21609</th>\n",
       "                        <td id=\"T_0a294_row1_col0\" class=\"data row1 col0\" >1.41</td>\n",
       "                        <td id=\"T_0a294_row1_col1\" class=\"data row1 col1\" >Ideal</td>\n",
       "                        <td id=\"T_0a294_row1_col2\" class=\"data row1 col2\" >H</td>\n",
       "                        <td id=\"T_0a294_row1_col3\" class=\"data row1 col3\" >VS1</td>\n",
       "                        <td id=\"T_0a294_row1_col4\" class=\"data row1 col4\" >60.7</td>\n",
       "                        <td id=\"T_0a294_row1_col5\" class=\"data row1 col5\" >56.0</td>\n",
       "                        <td id=\"T_0a294_row1_col6\" class=\"data row1 col6\" >9752</td>\n",
       "                        <td id=\"T_0a294_row1_col7\" class=\"data row1 col7\" >7.31</td>\n",
       "                        <td id=\"T_0a294_row1_col8\" class=\"data row1 col8\" >7.22</td>\n",
       "                        <td id=\"T_0a294_row1_col9\" class=\"data row1 col9\" >4.44</td>\n",
       "            </tr>\n",
       "            <tr>\n",
       "                        <th id=\"T_0a294_level0_row2\" class=\"row_heading level0 row2\" >14602</th>\n",
       "                        <td id=\"T_0a294_row2_col0\" class=\"data row2 col0\" >1.07</td>\n",
       "                        <td id=\"T_0a294_row2_col1\" class=\"data row2 col1\" >Ideal</td>\n",
       "                        <td id=\"T_0a294_row2_col2\" class=\"data row2 col2\" >F</td>\n",
       "                        <td id=\"T_0a294_row2_col3\" class=\"data row2 col3\" >SI1</td>\n",
       "                        <td id=\"T_0a294_row2_col4\" class=\"data row2 col4\" >60.6</td>\n",
       "                        <td id=\"T_0a294_row2_col5\" class=\"data row2 col5\" >57.0</td>\n",
       "                        <td id=\"T_0a294_row2_col6\" class=\"data row2 col6\" >5909</td>\n",
       "                        <td id=\"T_0a294_row2_col7\" class=\"data row2 col7\" >6.62</td>\n",
       "                        <td id=\"T_0a294_row2_col8\" class=\"data row2 col8\" >6.67</td>\n",
       "                        <td id=\"T_0a294_row2_col9\" class=\"data row2 col9\" >4.05</td>\n",
       "            </tr>\n",
       "    </tbody></table>"
      ],
      "text/plain": [
       "<pandas.io.formats.style.Styler at 0x7f0263264390>"
      ]
     },
     "execution_count": 29,
     "metadata": {},
     "output_type": "execute_result"
    }
   ],
   "source": [
    "fill_nan_values(\"z\")"
   ]
  },
  {
   "cell_type": "markdown",
   "id": "nasty-crawford",
   "metadata": {
    "papermill": {
     "duration": 0.081392,
     "end_time": "2021-03-21T19:14:29.069945",
     "exception": false,
     "start_time": "2021-03-21T19:14:28.988553",
     "status": "completed"
    },
    "tags": []
   },
   "source": [
    "# <font size=\"4\">Data Visualization</font>"
   ]
  },
  {
   "cell_type": "code",
   "execution_count": 30,
   "id": "olive-schedule",
   "metadata": {
    "_kg_hide-input": true,
    "execution": {
     "iopub.execute_input": "2021-03-21T19:14:29.246538Z",
     "iopub.status.busy": "2021-03-21T19:14:29.245818Z",
     "iopub.status.idle": "2021-03-21T19:14:29.265909Z",
     "shell.execute_reply": "2021-03-21T19:14:29.265157Z"
    },
    "papermill": {
     "duration": 0.114296,
     "end_time": "2021-03-21T19:14:29.266051",
     "exception": false,
     "start_time": "2021-03-21T19:14:29.151755",
     "status": "completed"
    },
    "tags": []
   },
   "outputs": [],
   "source": [
    "cut_palette = [\"darkturquoise\", \"lightskyblue\", \"paleturquoise\", \"lightcyan\", \"azure\"]\n",
    "color_palette = [\"cadetblue\", \"deepskyblue\", \"darkturquoise\", \"lightskyblue\", \"paleturquoise\", \"lightcyan\", \"azure\"]\n",
    "clarity_palette = [\"cadetblue\", \"deepskyblue\", \"darkturquoise\", \"lightskyblue\", \"paleturquoise\", \"lightcyan\", \"azure\", \"ghostwhite\"]\n",
    "\n",
    "df[\"cut\"] = pd.Categorical(df[\"cut\"], categories = [\"Ideal\", \"Premium\", \"Very Good\", \"Good\", \"Fair\"], ordered = True)\n",
    "df[\"color\"] = pd.Categorical(df[\"color\"], categories = [\"D\", \"E\", \"F\", \"G\", \"H\", \"I\", \"J\"], ordered = True)\n",
    "df[\"clarity\"] = pd.Categorical(df[\"clarity\"], categories = [\"IF\", \"VVS1\", \"VVS2\", \"VS1\", \"VS2\", \"SI1\", \"SI2\", \"I1\"], ordered = True)"
   ]
  },
  {
   "cell_type": "code",
   "execution_count": 31,
   "id": "meaningful-imperial",
   "metadata": {
    "_kg_hide-input": true,
    "execution": {
     "iopub.execute_input": "2021-03-21T19:14:29.449847Z",
     "iopub.status.busy": "2021-03-21T19:14:29.433324Z",
     "iopub.status.idle": "2021-03-21T19:14:29.570678Z",
     "shell.execute_reply": "2021-03-21T19:14:29.570016Z"
    },
    "papermill": {
     "duration": 0.225571,
     "end_time": "2021-03-21T19:14:29.570831",
     "exception": false,
     "start_time": "2021-03-21T19:14:29.345260",
     "status": "completed"
    },
    "tags": []
   },
   "outputs": [
    {
     "data": {
      "image/png": "[encoded data removed]",
      "text/plain": [
       "<Figure size 504x504 with 1 Axes>"
      ]
     },
     "metadata": {},
     "output_type": "display_data"
    }
   ],
   "source": [
    "df_cut = df[\"cut\"].value_counts()\n",
    "\n",
    "plt.figure(figsize = (7,7))\n",
    "plt.pie(data = df_cut, x = df_cut.values, labels = df_cut.index, autopct = \"%.2f%%\", pctdistance = 0.8, colors = cut_palette )\n",
    "circle = plt.Circle(xy = (0, 0), radius = 0.5, facecolor = 'white')\n",
    "plt.gca().add_artist(circle)\n",
    "plt.title(\"% of each Diamond Cut Quality\", size = 16)\n",
    "plt.show()"
   ]
  },
  {
   "cell_type": "markdown",
   "id": "indian-malaysia",
   "metadata": {
    "papermill": {
     "duration": 0.091122,
     "end_time": "2021-03-21T19:14:29.742228",
     "exception": false,
     "start_time": "2021-03-21T19:14:29.651106",
     "status": "completed"
    },
    "tags": []
   },
   "source": [
    "Remembering the order: Ideal > Premium > Very Good > Good > Fair\n"
   ]
  },
  {
   "cell_type": "code",
   "execution_count": 32,
   "id": "little-counter",
   "metadata": {
    "_kg_hide-input": true,
    "execution": {
     "iopub.execute_input": "2021-03-21T19:14:29.931160Z",
     "iopub.status.busy": "2021-03-21T19:14:29.930253Z",
     "iopub.status.idle": "2021-03-21T19:14:29.934284Z",
     "shell.execute_reply": "2021-03-21T19:14:29.933715Z"
    },
    "papermill": {
     "duration": 0.09332,
     "end_time": "2021-03-21T19:14:29.934439",
     "exception": false,
     "start_time": "2021-03-21T19:14:29.841119",
     "status": "completed"
    },
    "tags": []
   },
   "outputs": [
    {
     "name": "stdout",
     "output_type": "stream",
     "text": [
      "Ideal quality cuts: 21488\n",
      "Premium quality cuts: 13748\n",
      "Very Good quality cuts: 12069\n",
      "Good quality cuts: 4891\n",
      "Fair quality cuts: 1598\n"
     ]
    }
   ],
   "source": [
    "position = 0\n",
    "for cut in df_cut:\n",
    "    print(\"{0} quality cuts: {1}\".format(df_cut.index[position], df_cut.values[position]))\n",
    "    position += 1"
   ]
  },
  {
   "cell_type": "markdown",
   "id": "frank-lindsay",
   "metadata": {
    "papermill": {
     "duration": 0.080805,
     "end_time": "2021-03-21T19:14:30.096746",
     "exception": false,
     "start_time": "2021-03-21T19:14:30.015941",
     "status": "completed"
    },
    "tags": []
   },
   "source": [
    "As we can see, there are a lot more high quality cut diamonds. Now let's see how this affects the price."
   ]
  },
  {
   "cell_type": "code",
   "execution_count": 33,
   "id": "physical-flavor",
   "metadata": {
    "_kg_hide-input": true,
    "execution": {
     "iopub.execute_input": "2021-03-21T19:14:30.268930Z",
     "iopub.status.busy": "2021-03-21T19:14:30.268240Z",
     "iopub.status.idle": "2021-03-21T19:14:30.951120Z",
     "shell.execute_reply": "2021-03-21T19:14:30.950459Z"
    },
    "papermill": {
     "duration": 0.772818,
     "end_time": "2021-03-21T19:14:30.951521",
     "exception": false,
     "start_time": "2021-03-21T19:14:30.178703",
     "status": "completed"
    },
    "tags": []
   },
   "outputs": [
    {
     "data": {
      "image/png": "[encoded data removed]",
      "text/plain": [
       "<Figure size 648x432 with 1 Axes>"
      ]
     },
     "metadata": {},
     "output_type": "display_data"
    }
   ],
   "source": [
    "plt.figure(figsize = (9, 6))\n",
    "sns.barplot(data = df, x = \"cut\", y = \"price\", color = c)\n",
    "plt.title(\"Relation between Cut and Price\", size = 16)\n",
    "plt.show()"
   ]
  },
  {
   "cell_type": "markdown",
   "id": "wooden-cookbook",
   "metadata": {
    "papermill": {
     "duration": 0.086967,
     "end_time": "2021-03-21T19:14:31.136368",
     "exception": false,
     "start_time": "2021-03-21T19:14:31.049401",
     "status": "completed"
    },
    "tags": []
   },
   "source": [
    "Well... this was unexpected, why the mean price of diamonds with ideal cuts are lower than all other diamonds with less quality cut?\n",
    "\n",
    "Let's look which feature most impact on price."
   ]
  },
  {
   "cell_type": "code",
   "execution_count": 34,
   "id": "thirty-morris",
   "metadata": {
    "_kg_hide-input": false,
    "execution": {
     "iopub.execute_input": "2021-03-21T19:14:31.308926Z",
     "iopub.status.busy": "2021-03-21T19:14:31.308205Z",
     "iopub.status.idle": "2021-03-21T19:14:31.330339Z",
     "shell.execute_reply": "2021-03-21T19:14:31.330830Z"
    },
    "papermill": {
     "duration": 0.110762,
     "end_time": "2021-03-21T19:14:31.331016",
     "exception": false,
     "start_time": "2021-03-21T19:14:31.220254",
     "status": "completed"
    },
    "tags": []
   },
   "outputs": [
    {
     "data": {
      "text/plain": [
       "price    1.000000\n",
       "carat    0.921548\n",
       "y        0.888703\n",
       "x        0.887114\n",
       "z        0.882251\n",
       "table    0.126566\n",
       "depth   -0.011048\n",
       "dtype: float64"
      ]
     },
     "execution_count": 34,
     "metadata": {},
     "output_type": "execute_result"
    }
   ],
   "source": [
    "get_corr(\"price\")"
   ]
  },
  {
   "cell_type": "markdown",
   "id": "charming-marsh",
   "metadata": {
    "papermill": {
     "duration": 0.090319,
     "end_time": "2021-03-21T19:14:31.504796",
     "exception": false,
     "start_time": "2021-03-21T19:14:31.414477",
     "status": "completed"
    },
    "tags": []
   },
   "source": [
    "... and it is the carat.\n",
    "\n",
    "So, if the carat is the most important thing, when we are looking for the price... Than, diamonds with ideal cuts, should have lower carat value."
   ]
  },
  {
   "cell_type": "code",
   "execution_count": 35,
   "id": "packed-access",
   "metadata": {
    "_kg_hide-input": false,
    "execution": {
     "iopub.execute_input": "2021-03-21T19:14:31.674856Z",
     "iopub.status.busy": "2021-03-21T19:14:31.674124Z",
     "iopub.status.idle": "2021-03-21T19:14:31.687249Z",
     "shell.execute_reply": "2021-03-21T19:14:31.686456Z"
    },
    "papermill": {
     "duration": 0.099938,
     "end_time": "2021-03-21T19:14:31.687404",
     "exception": false,
     "start_time": "2021-03-21T19:14:31.587466",
     "status": "completed"
    },
    "tags": []
   },
   "outputs": [
    {
     "data": {
      "text/plain": [
       "cut\n",
       "Ideal        0.703472\n",
       "Premium      0.891620\n",
       "Very Good    0.806195\n",
       "Good         0.847215\n",
       "Fair         1.043736\n",
       "Name: carat, dtype: float64"
      ]
     },
     "execution_count": 35,
     "metadata": {},
     "output_type": "execute_result"
    }
   ],
   "source": [
    "df.groupby([\"cut\"])[\"carat\"].mean()"
   ]
  },
  {
   "cell_type": "markdown",
   "id": "virgin-tournament",
   "metadata": {
    "papermill": {
     "duration": 0.084225,
     "end_time": "2021-03-21T19:14:31.854742",
     "exception": false,
     "start_time": "2021-03-21T19:14:31.770517",
     "status": "completed"
    },
    "tags": []
   },
   "source": [
    "Here it is, that is why the mean price of ideal cut diamonds is the lowest one."
   ]
  },
  {
   "cell_type": "code",
   "execution_count": 36,
   "id": "widespread-flour",
   "metadata": {
    "_kg_hide-input": true,
    "execution": {
     "iopub.execute_input": "2021-03-21T19:14:32.032677Z",
     "iopub.status.busy": "2021-03-21T19:14:32.031575Z",
     "iopub.status.idle": "2021-03-21T19:14:32.172093Z",
     "shell.execute_reply": "2021-03-21T19:14:32.171516Z"
    },
    "papermill": {
     "duration": 0.231854,
     "end_time": "2021-03-21T19:14:32.172232",
     "exception": false,
     "start_time": "2021-03-21T19:14:31.940378",
     "status": "completed"
    },
    "tags": []
   },
   "outputs": [
    {
     "data": {
      "image/png": "[encoded data removed]",
      "text/plain": [
       "<Figure size 504x504 with 1 Axes>"
      ]
     },
     "metadata": {},
     "output_type": "display_data"
    }
   ],
   "source": [
    "df_color = df[\"color\"].value_counts()\n",
    "\n",
    "plt.figure(figsize = (7,7))\n",
    "plt.pie(data = df_color, x = df_color.values, labels = df_color.index, autopct = \"%.2f%%\", pctdistance = 0.8, startangle = 40, colors = color_palette)\n",
    "circle = plt.Circle(xy = (0, 0), radius = 0.5, facecolor = 'white')\n",
    "plt.gca().add_artist(circle)\n",
    "plt.title(\"% of each Diamond Color\", size = 16)\n",
    "plt.show()"
   ]
  },
  {
   "cell_type": "markdown",
   "id": "round-conversion",
   "metadata": {
    "papermill": {
     "duration": 0.083555,
     "end_time": "2021-03-21T19:14:32.340836",
     "exception": false,
     "start_time": "2021-03-21T19:14:32.257281",
     "status": "completed"
    },
    "tags": []
   },
   "source": [
    "Remembering the order: D > E > F > G > H > I > J"
   ]
  },
  {
   "cell_type": "code",
   "execution_count": 37,
   "id": "broken-burns",
   "metadata": {
    "_kg_hide-input": true,
    "execution": {
     "iopub.execute_input": "2021-03-21T19:14:32.515440Z",
     "iopub.status.busy": "2021-03-21T19:14:32.514586Z",
     "iopub.status.idle": "2021-03-21T19:14:32.519075Z",
     "shell.execute_reply": "2021-03-21T19:14:32.518452Z"
    },
    "papermill": {
     "duration": 0.094393,
     "end_time": "2021-03-21T19:14:32.519223",
     "exception": false,
     "start_time": "2021-03-21T19:14:32.424830",
     "status": "completed"
    },
    "tags": []
   },
   "outputs": [
    {
     "name": "stdout",
     "output_type": "stream",
     "text": [
      "G color diamonds: 11262\n",
      "E color diamonds: 9776\n",
      "F color diamonds: 9520\n",
      "H color diamonds: 8272\n",
      "D color diamonds: 6755\n",
      "I color diamonds: 5407\n",
      "J color diamonds: 2802\n"
     ]
    }
   ],
   "source": [
    "position = 0\n",
    "for color in df_color:\n",
    "    print(\"{0} color diamonds: {1}\".format(df_color.index[position], df_color.values[position]))\n",
    "    position += 1"
   ]
  },
  {
   "cell_type": "code",
   "execution_count": 38,
   "id": "fiscal-layout",
   "metadata": {
    "_kg_hide-input": true,
    "execution": {
     "iopub.execute_input": "2021-03-21T19:14:32.704051Z",
     "iopub.status.busy": "2021-03-21T19:14:32.703370Z",
     "iopub.status.idle": "2021-03-21T19:14:33.435157Z",
     "shell.execute_reply": "2021-03-21T19:14:33.435670Z"
    },
    "papermill": {
     "duration": 0.829191,
     "end_time": "2021-03-21T19:14:33.435875",
     "exception": false,
     "start_time": "2021-03-21T19:14:32.606684",
     "status": "completed"
    },
    "tags": []
   },
   "outputs": [
    {
     "data": {
      "image/png": "[encoded data removed]",
      "text/plain": [
       "<Figure size 648x432 with 1 Axes>"
      ]
     },
     "metadata": {},
     "output_type": "display_data"
    }
   ],
   "source": [
    "plt.figure(figsize = (9, 6))\n",
    "sns.barplot(data = df, x = \"color\", y = \"price\", color = c)\n",
    "plt.title(\"Relation between Diamond Color and Price\", size = 16)\n",
    "plt.show()"
   ]
  },
  {
   "cell_type": "markdown",
   "id": "minute-somerset",
   "metadata": {
    "papermill": {
     "duration": 0.086869,
     "end_time": "2021-03-21T19:14:33.610387",
     "exception": false,
     "start_time": "2021-03-21T19:14:33.523518",
     "status": "completed"
    },
    "tags": []
   },
   "source": [
    "Again, the mean price of diamonds with better colors are lower than all other diamonds with worst colors."
   ]
  },
  {
   "cell_type": "code",
   "execution_count": 39,
   "id": "major-bottle",
   "metadata": {
    "execution": {
     "iopub.execute_input": "2021-03-21T19:14:33.791154Z",
     "iopub.status.busy": "2021-03-21T19:14:33.790418Z",
     "iopub.status.idle": "2021-03-21T19:14:33.800630Z",
     "shell.execute_reply": "2021-03-21T19:14:33.799939Z"
    },
    "papermill": {
     "duration": 0.101516,
     "end_time": "2021-03-21T19:14:33.800789",
     "exception": false,
     "start_time": "2021-03-21T19:14:33.699273",
     "status": "completed"
    },
    "tags": []
   },
   "outputs": [
    {
     "data": {
      "text/plain": [
       "color\n",
       "D    0.658315\n",
       "E    0.657957\n",
       "F    0.736664\n",
       "G    0.771273\n",
       "H    0.911029\n",
       "I    1.025197\n",
       "J    1.162841\n",
       "Name: carat, dtype: float64"
      ]
     },
     "execution_count": 39,
     "metadata": {},
     "output_type": "execute_result"
    }
   ],
   "source": [
    "df.groupby([\"color\"])[\"carat\"].mean()"
   ]
  },
  {
   "cell_type": "markdown",
   "id": "empty-samba",
   "metadata": {
    "papermill": {
     "duration": 0.086107,
     "end_time": "2021-03-21T19:14:33.977306",
     "exception": false,
     "start_time": "2021-03-21T19:14:33.891199",
     "status": "completed"
    },
    "tags": []
   },
   "source": [
    "And the reason is the same as the cut."
   ]
  },
  {
   "cell_type": "code",
   "execution_count": 40,
   "id": "greater-premiere",
   "metadata": {
    "_kg_hide-input": true,
    "execution": {
     "iopub.execute_input": "2021-03-21T19:14:34.156173Z",
     "iopub.status.busy": "2021-03-21T19:14:34.155152Z",
     "iopub.status.idle": "2021-03-21T19:14:34.305124Z",
     "shell.execute_reply": "2021-03-21T19:14:34.305607Z"
    },
    "papermill": {
     "duration": 0.241769,
     "end_time": "2021-03-21T19:14:34.305794",
     "exception": false,
     "start_time": "2021-03-21T19:14:34.064025",
     "status": "completed"
    },
    "tags": []
   },
   "outputs": [
    {
     "data": {
      "image/png": "[encoded data removed]",
      "text/plain": [
       "<Figure size 504x504 with 1 Axes>"
      ]
     },
     "metadata": {},
     "output_type": "display_data"
    }
   ],
   "source": [
    "df_clarity = df[\"clarity\"].value_counts()\n",
    "\n",
    "plt.figure(figsize = (7,7))\n",
    "plt.pie(data = df_clarity, x = df_clarity.values, labels = df_clarity.index, autopct = \"%.2f%%\", pctdistance = 0.8, colors = clarity_palette)\n",
    "circle = plt.Circle(xy = (0, 0), radius = 0.5, facecolor = 'white')\n",
    "plt.gca().add_artist(circle)\n",
    "plt.title(\"% of each Diamond Clarity\", size = 16)\n",
    "plt.show()"
   ]
  },
  {
   "cell_type": "markdown",
   "id": "premier-agent",
   "metadata": {
    "papermill": {
     "duration": 0.087896,
     "end_time": "2021-03-21T19:14:34.481031",
     "exception": false,
     "start_time": "2021-03-21T19:14:34.393135",
     "status": "completed"
    },
    "tags": []
   },
   "source": [
    "Remembering the order: IF > VVS1 > VVS2 > VS1 > VS2 > SI1 > SI2 > I1"
   ]
  },
  {
   "cell_type": "code",
   "execution_count": 41,
   "id": "placed-arbitration",
   "metadata": {
    "_kg_hide-input": true,
    "execution": {
     "iopub.execute_input": "2021-03-21T19:14:34.663440Z",
     "iopub.status.busy": "2021-03-21T19:14:34.662416Z",
     "iopub.status.idle": "2021-03-21T19:14:34.671695Z",
     "shell.execute_reply": "2021-03-21T19:14:34.672241Z"
    },
    "papermill": {
     "duration": 0.10134,
     "end_time": "2021-03-21T19:14:34.672420",
     "exception": false,
     "start_time": "2021-03-21T19:14:34.571080",
     "status": "completed"
    },
    "tags": []
   },
   "outputs": [
    {
     "name": "stdout",
     "output_type": "stream",
     "text": [
      "SI1 clarity diamonds: 13032\n",
      "VS2 clarity diamonds: 12229\n",
      "SI2 clarity diamonds: 9150\n",
      "VS1 clarity diamonds: 8156\n",
      "VVS2 clarity diamonds: 5056\n",
      "VVS1 clarity diamonds: 3647\n",
      "IF clarity diamonds: 1784\n",
      "I1 clarity diamonds: 740\n"
     ]
    }
   ],
   "source": [
    "position = 0\n",
    "for color in df_clarity:\n",
    "    print(\"{0} clarity diamonds: {1}\".format(df_clarity.index[position], df_clarity.values[position]))\n",
    "    position += 1"
   ]
  },
  {
   "cell_type": "code",
   "execution_count": 42,
   "id": "traditional-tumor",
   "metadata": {
    "_kg_hide-input": true,
    "execution": {
     "iopub.execute_input": "2021-03-21T19:14:34.878036Z",
     "iopub.status.busy": "2021-03-21T19:14:34.876882Z",
     "iopub.status.idle": "2021-03-21T19:14:35.643626Z",
     "shell.execute_reply": "2021-03-21T19:14:35.642717Z"
    },
    "papermill": {
     "duration": 0.871014,
     "end_time": "2021-03-21T19:14:35.643782",
     "exception": false,
     "start_time": "2021-03-21T19:14:34.772768",
     "status": "completed"
    },
    "tags": []
   },
   "outputs": [
    {
     "data": {
      "image/png": "[encoded data removed]",
      "text/plain": [
       "<Figure size 648x432 with 1 Axes>"
      ]
     },
     "metadata": {},
     "output_type": "display_data"
    }
   ],
   "source": [
    "plt.figure(figsize = (9, 6))\n",
    "sns.barplot(data = df, x = \"clarity\", y = \"price\", color = c)\n",
    "plt.title(\"Relation between Diamond Clarity and Price\", size = 16)\n",
    "plt.show()"
   ]
  },
  {
   "cell_type": "markdown",
   "id": "northern-production",
   "metadata": {
    "papermill": {
     "duration": 0.091427,
     "end_time": "2021-03-21T19:14:35.829950",
     "exception": false,
     "start_time": "2021-03-21T19:14:35.738523",
     "status": "completed"
    },
    "tags": []
   },
   "source": [
    "And again..."
   ]
  },
  {
   "cell_type": "code",
   "execution_count": 43,
   "id": "textile-temperature",
   "metadata": {
    "execution": {
     "iopub.execute_input": "2021-03-21T19:14:36.016204Z",
     "iopub.status.busy": "2021-03-21T19:14:36.015095Z",
     "iopub.status.idle": "2021-03-21T19:14:36.024077Z",
     "shell.execute_reply": "2021-03-21T19:14:36.023493Z"
    },
    "papermill": {
     "duration": 0.104554,
     "end_time": "2021-03-21T19:14:36.024245",
     "exception": false,
     "start_time": "2021-03-21T19:14:35.919691",
     "status": "completed"
    },
    "tags": []
   },
   "outputs": [
    {
     "data": {
      "text/plain": [
       "clarity\n",
       "IF      0.505645\n",
       "VVS1    0.503696\n",
       "VVS2    0.596527\n",
       "VS1     0.727436\n",
       "VS2     0.764276\n",
       "SI1     0.850407\n",
       "SI2     1.076402\n",
       "I1      1.283527\n",
       "Name: carat, dtype: float64"
      ]
     },
     "execution_count": 43,
     "metadata": {},
     "output_type": "execute_result"
    }
   ],
   "source": [
    "df.groupby([\"clarity\"])[\"carat\"].mean()"
   ]
  },
  {
   "cell_type": "markdown",
   "id": "overhead-pierce",
   "metadata": {
    "papermill": {
     "duration": 0.089464,
     "end_time": "2021-03-21T19:14:36.205681",
     "exception": false,
     "start_time": "2021-03-21T19:14:36.116217",
     "status": "completed"
    },
    "tags": []
   },
   "source": [
    "And the reason is the same."
   ]
  },
  {
   "cell_type": "markdown",
   "id": "encouraging-literature",
   "metadata": {
    "papermill": {
     "duration": 0.090263,
     "end_time": "2021-03-21T19:14:36.385329",
     "exception": false,
     "start_time": "2021-03-21T19:14:36.295066",
     "status": "completed"
    },
    "tags": []
   },
   "source": [
    "# <font size=\"4\">Data Preparation</font>"
   ]
  },
  {
   "cell_type": "code",
   "execution_count": 44,
   "id": "frank-tours",
   "metadata": {
    "execution": {
     "iopub.execute_input": "2021-03-21T19:14:36.579774Z",
     "iopub.status.busy": "2021-03-21T19:14:36.578614Z",
     "iopub.status.idle": "2021-03-21T19:14:36.585833Z",
     "shell.execute_reply": "2021-03-21T19:14:36.585132Z"
    },
    "papermill": {
     "duration": 0.106455,
     "end_time": "2021-03-21T19:14:36.585973",
     "exception": false,
     "start_time": "2021-03-21T19:14:36.479518",
     "status": "completed"
    },
    "tags": []
   },
   "outputs": [],
   "source": [
    "# Splitting the data into features and target\n",
    "X = df.drop([\"price\"], axis = 1).copy()\n",
    "y = df[\"price\"].copy()"
   ]
  },
  {
   "cell_type": "markdown",
   "id": "competent-parks",
   "metadata": {
    "papermill": {
     "duration": 0.089012,
     "end_time": "2021-03-21T19:14:36.764260",
     "exception": false,
     "start_time": "2021-03-21T19:14:36.675248",
     "status": "completed"
    },
    "tags": []
   },
   "source": [
    "Some algorithms answers better with dummie variables, others with correctly ordered label encoder, so let's create two different ones."
   ]
  },
  {
   "cell_type": "code",
   "execution_count": 45,
   "id": "uniform-coffee",
   "metadata": {
    "execution": {
     "iopub.execute_input": "2021-03-21T19:14:36.953512Z",
     "iopub.status.busy": "2021-03-21T19:14:36.952173Z",
     "iopub.status.idle": "2021-03-21T19:14:37.092198Z",
     "shell.execute_reply": "2021-03-21T19:14:37.091641Z"
    },
    "papermill": {
     "duration": 0.238686,
     "end_time": "2021-03-21T19:14:37.092364",
     "exception": false,
     "start_time": "2021-03-21T19:14:36.853678",
     "status": "completed"
    },
    "tags": []
   },
   "outputs": [],
   "source": [
    "# Dummy variables\n",
    "X_dummies = X.copy()\n",
    "X_dummies = pd.get_dummies(data = X_dummies, columns = [\"clarity\", \"color\", \"cut\"], prefix = [\"clarity\", \"color\", \"cut\"], drop_first = True).copy()\n",
    "\n",
    "# Scaling the data\n",
    "ss = StandardScaler()\n",
    "X_dummies = ss.fit_transform(X_dummies)\n",
    "\n",
    "# Label encoder\n",
    "X_encoder = X.copy()\n",
    "X_encoder[\"cut\"] = X_encoder[\"cut\"].replace({\"Ideal\": 1, \"Premium\": 2, \"Very Good\": 3, \"Good\": 4, \"Fair\": 5}).copy()\n",
    "X_encoder[\"color\"] = X_encoder[\"color\"].replace({\"D\": 7, \"E\": 6, \"F\": 5, \"G\": 4, \"H\": 3, \"I\": 2, \"J\": 1}).copy()\n",
    "X_encoder[\"clarity\"] = X_encoder[\"clarity\"].replace({\"IF\" : 8, \"VVS1\" : 7, \"VVS2\" : 6, \"VS1\" : 5, \"VS2\" : 4, \"SI1\" : 3, \"SI2\" : 2, \"I1\" : 1}).copy()"
   ]
  },
  {
   "cell_type": "code",
   "execution_count": 46,
   "id": "mental-bridges",
   "metadata": {
    "execution": {
     "iopub.execute_input": "2021-03-21T19:14:37.280446Z",
     "iopub.status.busy": "2021-03-21T19:14:37.279781Z",
     "iopub.status.idle": "2021-03-21T19:14:37.282973Z",
     "shell.execute_reply": "2021-03-21T19:14:37.282432Z"
    },
    "papermill": {
     "duration": 0.099243,
     "end_time": "2021-03-21T19:14:37.283211",
     "exception": false,
     "start_time": "2021-03-21T19:14:37.183968",
     "status": "completed"
    },
    "tags": []
   },
   "outputs": [],
   "source": [
    "# K-folds for cross-validation\n",
    "kf = KFold(n_splits = 10, random_state = SEED, shuffle = True)\n",
    "\n",
    "# Evaluating the cross-validation\n",
    "scoring = [\"r2\", \"neg_mean_absolute_error\", \"neg_mean_squared_error\"]"
   ]
  },
  {
   "cell_type": "code",
   "execution_count": 47,
   "id": "fundamental-governor",
   "metadata": {
    "execution": {
     "iopub.execute_input": "2021-03-21T19:14:37.476492Z",
     "iopub.status.busy": "2021-03-21T19:14:37.475727Z",
     "iopub.status.idle": "2021-03-21T19:14:37.478957Z",
     "shell.execute_reply": "2021-03-21T19:14:37.478318Z"
    },
    "papermill": {
     "duration": 0.103791,
     "end_time": "2021-03-21T19:14:37.479098",
     "exception": false,
     "start_time": "2021-03-21T19:14:37.375307",
     "status": "completed"
    },
    "tags": []
   },
   "outputs": [],
   "source": [
    "model_scores = {\"train\" : [],\n",
    "                \"test\" : [],\n",
    "                \"mae\" : [],\n",
    "                \"mse\" : [],\n",
    "                \"rmse\" : []}\n",
    "\n",
    "def get_results(clf, features):\n",
    "    scores = cross_validate(clf, features, y, cv = kf, scoring = scoring, return_train_score = True)\n",
    "    train_score = scores[\"train_r2\"].mean()\n",
    "    model_scores[\"train\"].append(train_score)\n",
    "    test_score = scores[\"test_r2\"].mean()\n",
    "    model_scores[\"test\"].append(test_score)\n",
    "    mae = np.absolute(scores[\"test_neg_mean_absolute_error\"]).mean()\n",
    "    model_scores[\"mae\"].append(mae)\n",
    "    mse = np.absolute(scores[\"test_neg_mean_squared_error\"]).mean()\n",
    "    model_scores[\"mse\"].append(mse)\n",
    "    rmse = np.sqrt(mse)\n",
    "    model_scores[\"rmse\"].append(rmse)\n",
    "    print(\"train score: {0:.4f}\\nR2 score: {1:.4f}\\nMAE: {2:.2f}\\nMSE: {3:.2f}\\nRMSE: {4:.2f}\".format(train_score, test_score, mae, mse, rmse))"
   ]
  },
  {
   "cell_type": "markdown",
   "id": "sexual-romania",
   "metadata": {
    "papermill": {
     "duration": 0.089831,
     "end_time": "2021-03-21T19:14:37.661375",
     "exception": false,
     "start_time": "2021-03-21T19:14:37.571544",
     "status": "completed"
    },
    "tags": []
   },
   "source": [
    "Note that all values are the mean of all cross-validation runs."
   ]
  },
  {
   "attachments": {
    "image.png": {
     "image/png": "[encoded data removed]"
    }
   },
   "cell_type": "markdown",
   "id": "million-poverty",
   "metadata": {
    "papermill": {
     "duration": 0.089724,
     "end_time": "2021-03-21T19:14:37.842260",
     "exception": false,
     "start_time": "2021-03-21T19:14:37.752536",
     "status": "completed"
    },
    "tags": []
   },
   "source": [
    "![image.png](attachment:image.png)"
   ]
  },
  {
   "cell_type": "code",
   "execution_count": 48,
   "id": "plastic-hanging",
   "metadata": {
    "execution": {
     "iopub.execute_input": "2021-03-21T19:14:38.028829Z",
     "iopub.status.busy": "2021-03-21T19:14:38.028088Z",
     "iopub.status.idle": "2021-03-21T19:14:38.732500Z",
     "shell.execute_reply": "2021-03-21T19:14:38.733465Z"
    },
    "papermill": {
     "duration": 0.801488,
     "end_time": "2021-03-21T19:14:38.733769",
     "exception": false,
     "start_time": "2021-03-21T19:14:37.932281",
     "status": "completed"
    },
    "tags": []
   },
   "outputs": [
    {
     "name": "stdout",
     "output_type": "stream",
     "text": [
      "train score: 0.9208\n",
      "R2 score: 0.9206\n",
      "MAE: 732.64\n",
      "MSE: 1263206.91\n",
      "RMSE: 1123.92\n"
     ]
    }
   ],
   "source": [
    "lr = LinearRegression()\n",
    "get_results(lr, X_dummies)"
   ]
  },
  {
   "attachments": {
    "image.png": {
     "image/png": "[encoded data removed]"
    }
   },
   "cell_type": "markdown",
   "id": "indirect-radius",
   "metadata": {
    "papermill": {
     "duration": 0.09096,
     "end_time": "2021-03-21T19:14:38.956824",
     "exception": false,
     "start_time": "2021-03-21T19:14:38.865864",
     "status": "completed"
    },
    "tags": []
   },
   "source": [
    "![image.png](attachment:image.png)"
   ]
  },
  {
   "cell_type": "code",
   "execution_count": 49,
   "id": "overhead-balance",
   "metadata": {
    "execution": {
     "iopub.execute_input": "2021-03-21T19:14:39.146301Z",
     "iopub.status.busy": "2021-03-21T19:14:39.145330Z",
     "iopub.status.idle": "2021-03-21T19:14:40.569111Z",
     "shell.execute_reply": "2021-03-21T19:14:40.568399Z"
    },
    "papermill": {
     "duration": 1.520994,
     "end_time": "2021-03-21T19:14:40.569258",
     "exception": false,
     "start_time": "2021-03-21T19:14:39.048264",
     "status": "completed"
    },
    "tags": []
   },
   "outputs": [
    {
     "name": "stdout",
     "output_type": "stream",
     "text": [
      "train score: 0.9722\n",
      "R2 score: 0.9692\n",
      "MAE: 388.15\n",
      "MSE: 489904.63\n",
      "RMSE: 699.93\n"
     ]
    }
   ],
   "source": [
    "dtr = DecisionTreeRegressor(max_depth = 8, random_state = SEED)\n",
    "get_results(dtr, X_encoder)"
   ]
  },
  {
   "attachments": {
    "image.png": {
     "image/png": "[encoded data removed]"
    }
   },
   "cell_type": "markdown",
   "id": "accurate-diagram",
   "metadata": {
    "papermill": {
     "duration": 0.112529,
     "end_time": "2021-03-21T19:14:40.773807",
     "exception": false,
     "start_time": "2021-03-21T19:14:40.661278",
     "status": "completed"
    },
    "tags": []
   },
   "source": [
    "![image.png](attachment:image.png)"
   ]
  },
  {
   "cell_type": "code",
   "execution_count": 50,
   "id": "proud-healing",
   "metadata": {
    "execution": {
     "iopub.execute_input": "2021-03-21T19:14:41.002199Z",
     "iopub.status.busy": "2021-03-21T19:14:41.001112Z",
     "iopub.status.idle": "2021-03-21T19:15:15.562714Z",
     "shell.execute_reply": "2021-03-21T19:15:15.563308Z"
    },
    "papermill": {
     "duration": 34.664467,
     "end_time": "2021-03-21T19:15:15.563502",
     "exception": false,
     "start_time": "2021-03-21T19:14:40.899035",
     "status": "completed"
    },
    "tags": []
   },
   "outputs": [
    {
     "name": "stdout",
     "output_type": "stream",
     "text": [
      "train score: 0.9776\n",
      "R2 score: 0.9752\n",
      "MAE: 343.96\n",
      "MSE: 395114.38\n",
      "RMSE: 628.58\n"
     ]
    }
   ],
   "source": [
    "rfr = RandomForestRegressor(max_depth = 8, n_estimators = 40, random_state = SEED)\n",
    "get_results(rfr, X_encoder)"
   ]
  },
  {
   "attachments": {
    "image.png": {
     "image/png": "[encoded data removed]"
    }
   },
   "cell_type": "markdown",
   "id": "dutch-atmosphere",
   "metadata": {
    "papermill": {
     "duration": 0.091668,
     "end_time": "2021-03-21T19:15:15.749526",
     "exception": false,
     "start_time": "2021-03-21T19:15:15.657858",
     "status": "completed"
    },
    "tags": []
   },
   "source": [
    "![image.png](attachment:image.png)"
   ]
  },
  {
   "cell_type": "code",
   "execution_count": 51,
   "id": "immune-august",
   "metadata": {
    "execution": {
     "iopub.execute_input": "2021-03-21T19:15:15.935812Z",
     "iopub.status.busy": "2021-03-21T19:15:15.935110Z",
     "iopub.status.idle": "2021-03-21T19:15:49.124086Z",
     "shell.execute_reply": "2021-03-21T19:15:49.124613Z"
    },
    "papermill": {
     "duration": 33.283822,
     "end_time": "2021-03-21T19:15:49.124786",
     "exception": false,
     "start_time": "2021-03-21T19:15:15.840964",
     "status": "completed"
    },
    "tags": []
   },
   "outputs": [
    {
     "name": "stdout",
     "output_type": "stream",
     "text": [
      "train score: 0.9897\n",
      "R2 score: 0.9831\n",
      "MAE: 266.08\n",
      "MSE: 268514.71\n",
      "RMSE: 518.18\n"
     ]
    }
   ],
   "source": [
    "xgbr = XGBRegressor(learning_rate = 0.1, n_estimators = 200, random_state = SEED)\n",
    "get_results(xgbr, X_encoder)"
   ]
  },
  {
   "cell_type": "code",
   "execution_count": 52,
   "id": "graphic-arctic",
   "metadata": {
    "_kg_hide-input": true,
    "execution": {
     "iopub.execute_input": "2021-03-21T19:15:49.322771Z",
     "iopub.status.busy": "2021-03-21T19:15:49.321769Z",
     "iopub.status.idle": "2021-03-21T19:15:49.325394Z",
     "shell.execute_reply": "2021-03-21T19:15:49.326128Z"
    },
    "papermill": {
     "duration": 0.108921,
     "end_time": "2021-03-21T19:15:49.326304",
     "exception": false,
     "start_time": "2021-03-21T19:15:49.217383",
     "status": "completed"
    },
    "tags": []
   },
   "outputs": [
    {
     "name": "stdout",
     "output_type": "stream",
     "text": [
      "train score\n",
      "\n",
      "Linear Regression: 0.9208\n",
      "Decision Tree: 0.9722\n",
      "Random Forest: 0.9776\n",
      "XGBoost: 0.9897\n",
      "\n",
      "R2 score\n",
      "\n",
      "Linear Regression: 0.9206\n",
      "Decision Tree: 0.9692\n",
      "Random Forest: 0.9752\n",
      "XGBoost: 0.9831\n",
      "\n",
      "MAE\n",
      "\n",
      "Linear Regression: 732.64\n",
      "Decision Tree: 388.15\n",
      "Random Forest: 343.96\n",
      "XGBoost: 266.08\n",
      "\n",
      "MSE\n",
      "\n",
      "Linear Regression: 1263206.91\n",
      "Decision Tree: 489904.63\n",
      "Random Forest: 395114.38\n",
      "XGBoost: 268514.71\n",
      "\n",
      "RMSE\n",
      "\n",
      "Linear Regression: 1123.92\n",
      "Decision Tree: 699.93\n",
      "Random Forest: 628.58\n",
      "XGBoost: 518.18\n"
     ]
    }
   ],
   "source": [
    "print(\"train score\\n\")\n",
    "print(\"Linear Regression: {0:.4f}\\nDecision Tree: {1:.4f}\\nRandom Forest: {2:.4f}\\nXGBoost: {3:.4f}\".format(model_scores[\"train\"][0],model_scores[\"train\"][1], model_scores[\"train\"][2], model_scores[\"train\"][3]))\n",
    "print(\"\\nR2 score\\n\")\n",
    "print(\"Linear Regression: {0:.4f}\\nDecision Tree: {1:.4f}\\nRandom Forest: {2:.4f}\\nXGBoost: {3:.4f}\".format(model_scores[\"test\"][0],model_scores[\"test\"][1], model_scores[\"test\"][2], model_scores[\"test\"][3]))\n",
    "print(\"\\nMAE\\n\")\n",
    "print(\"Linear Regression: {0:.2f}\\nDecision Tree: {1:.2f}\\nRandom Forest: {2:.2f}\\nXGBoost: {3:.2f}\".format(model_scores[\"mae\"][0],model_scores[\"mae\"][1], model_scores[\"mae\"][2], model_scores[\"mae\"][3]))\n",
    "print(\"\\nMSE\\n\")\n",
    "print(\"Linear Regression: {0:.2f}\\nDecision Tree: {1:.2f}\\nRandom Forest: {2:.2f}\\nXGBoost: {3:.2f}\".format(model_scores[\"mse\"][0],model_scores[\"mse\"][1], model_scores[\"mse\"][2], model_scores[\"mse\"][3]))\n",
    "print(\"\\nRMSE\\n\")\n",
    "print(\"Linear Regression: {0:.2f}\\nDecision Tree: {1:.2f}\\nRandom Forest: {2:.2f}\\nXGBoost: {3:.2f}\".format(model_scores[\"rmse\"][0],model_scores[\"rmse\"][1], model_scores[\"rmse\"][2], model_scores[\"rmse\"][3]))"
   ]
  },
  {
   "attachments": {
    "image.png": {
     "image/png": "[encoded data removed]"
    }
   },
   "cell_type": "markdown",
   "id": "persistent-hardwood",
   "metadata": {
    "papermill": {
     "duration": 0.092924,
     "end_time": "2021-03-21T19:15:49.513354",
     "exception": false,
     "start_time": "2021-03-21T19:15:49.420430",
     "status": "completed"
    },
    "tags": []
   },
   "source": [
    "![image.png](attachment:image.png)"
   ]
  }
 ],
 "metadata": {
  "kernelspec": {
   "display_name": "Python 3",
   "language": "python",
   "name": "python3"
  },
  "language_info": {
   "codemirror_mode": {
    "name": "ipython",
    "version": 3
   },
   "file_extension": ".py",
   "mimetype": "text/x-python",
   "name": "python",
   "nbconvert_exporter": "python",
   "pygments_lexer": "ipython3",
   "version": "3.8.8"
  },
  "papermill": {
   "default_parameters": {},
   "duration": 121.923299,
   "end_time": "2021-03-21T19:15:50.318963",
   "environment_variables": {},
   "exception": null,
   "input_path": "__notebook__.ipynb",
   "output_path": "__notebook__.ipynb",
   "parameters": {},
   "start_time": "2021-03-21T19:13:48.395664",
   "version": "2.3.2"
  }
 },
 "nbformat": 4,
 "nbformat_minor": 5
}
