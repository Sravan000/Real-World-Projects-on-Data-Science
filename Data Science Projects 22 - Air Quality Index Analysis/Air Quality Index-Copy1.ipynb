{
 "cells": [
  {
   "cell_type": "code",
   "execution_count": null,
   "metadata": {},
   "outputs": [],
   "source": [
    "import numpy as np \n",
    "import pandas as pd \n",
    "import warnings\n",
    "import matplotlib.pyplot as plt \n",
    "%matplotlib inline\n",
    "import seaborn as sns\n",
    "import statsmodels.api as sm\n",
    "import itertools\n",
    "\n",
    "from pylab import rcParams\n",
    "\n",
    "warnings.filterwarnings('ignore')\n",
    "rcParams['figure.figsize'] = 18, 15\n",
    "sns.set_style('darkgrid')"
   ]
  },
  {
   "cell_type": "code",
   "execution_count": null,
   "metadata": {},
   "outputs": [],
   "source": [
    "''' reading dataset '''\n",
    "df_city_day = pd.read_csv('city_day.csv')"
   ]
  },
  {
   "cell_type": "code",
   "execution_count": null,
   "metadata": {},
   "outputs": [],
   "source": [
    "''' displaying 5 rows '''\n",
    "df_city_day.head()"
   ]
  },
  {
   "cell_type": "code",
   "execution_count": null,
   "metadata": {},
   "outputs": [],
   "source": [
    "''' checking null values '''\n",
    "df_city_day.isnull().sum()"
   ]
  },
  {
   "cell_type": "code",
   "execution_count": null,
   "metadata": {},
   "outputs": [],
   "source": [
    "''' shape of dataset '''\n",
    "df_city_day.shape"
   ]
  },
  {
   "cell_type": "code",
   "execution_count": null,
   "metadata": {},
   "outputs": [],
   "source": [
    "''' percentage of missing values in each column '''\n",
    "for c in df_city_day.columns:\n",
    "    null_values = df_city_day[c].isna().sum()\n",
    "    percentage = (null_values / len(df_city_day)) * 100\n",
    "    print(\"In {}, mean of null value is: {}\".format(c, percentage))\n",
    "    print(\"-\" * 100)"
   ]
  },
  {
   "cell_type": "code",
   "execution_count": null,
   "metadata": {},
   "outputs": [],
   "source": [
    "''' filling null values with mean of each column '''\n",
    "for c in df_city_day.columns:\n",
    "    if df_city_day[c].isna().sum() > 0:\n",
    "        if df_city_day[c].dtype == 'float64':\n",
    "            df_city_day[c] = df_city_day[c].fillna(df_city_day[c].mean())\n",
    "        elif df_city_day[c].dtype == 'object':\n",
    "            df_city_day[c] = df_city_day[c].fillna(df_city_day[c].value_counts().index[0])"
   ]
  },
  {
   "cell_type": "code",
   "execution_count": null,
   "metadata": {},
   "outputs": [],
   "source": [
    "'''again checking null values'''\n",
    "df_city_day.isna().sum()"
   ]
  },
  {
   "cell_type": "code",
   "execution_count": null,
   "metadata": {},
   "outputs": [],
   "source": [
    "''' info of dataset '''\n",
    "df_city_day.info()"
   ]
  },
  {
   "cell_type": "code",
   "execution_count": null,
   "metadata": {},
   "outputs": [],
   "source": [
    "''' count of cities '''\n",
    "city_label = df_city_day.City.value_counts().nlargest(10)\n",
    "\n",
    "''' barplot '''\n",
    "plt.figure(figsize=(10, 5))\n",
    "plt.xticks(rotation=75)\n",
    "sns.barplot(city_label.index, city_label)\n",
    "plt.xlabel('City', fontsize=20)\n",
    "plt.ylabel('Count', fontsize=20);"
   ]
  },
  {
   "cell_type": "code",
   "execution_count": null,
   "metadata": {},
   "outputs": [],
   "source": [
    "''' making date as index of data '''\n",
    "# df.head\n",
    "df_city_day.index = pd.DatetimeIndex(df_city_day['Date'])\n",
    "df_city_day.head()"
   ]
  },
  {
   "cell_type": "code",
   "execution_count": null,
   "metadata": {},
   "outputs": [],
   "source": [
    "''' dropping some columns '''\n",
    "df_city_day.drop(['City' , 'PM2.5' , 'PM10','Benzene' , 'Toluene', 'Xylene'  ,'AQI' ,'AQI_Bucket'], axis=1, inplace=True)"
   ]
  },
  {
   "cell_type": "code",
   "execution_count": null,
   "metadata": {},
   "outputs": [],
   "source": [
    "''' after dropping some columns, data looks like '''\n",
    "df_city_day.head()"
   ]
  },
  {
   "cell_type": "code",
   "execution_count": null,
   "metadata": {},
   "outputs": [],
   "source": [
    "# ''' Considering the pollutant NO  '''\n",
    "# decomp_no = sm.tsa.seasonal_decompose(df_city_day['NO'].resample('2W').mean(), model='additive')\n",
    "# fig1 = decomp_no.plot()\n",
    "# plt.show()\n",
    "\n",
    "decomp_no = sm.tsa.seasonal_decompose(df_city_day['NO'].resample('1W').mean(),model='additive')\n",
    "plt.figure(figsize=(16,18))\n",
    "fig1 = decomp_no.plot()\n",
    "plt.show()"
   ]
  },
  {
   "cell_type": "code",
   "execution_count": null,
   "metadata": {},
   "outputs": [],
   "source": [
    "# ''' SARIMA Model for NO '''\n",
    "\n",
    "# a = b = c = range(0, 3)\n",
    "# p = list(itertools.product(a, b, c))\n",
    "# seas_pdq = [(x[0], x[1], x[2], 12) for x in list(itertools.product(a, b, c))]\n",
    "# print('SARIMAX: {} x {}'.format(p[1], seasonal_pdq[1]))\n",
    "# print('SARIMAX: {} x {}'.format(p[1], seasonal_pdq[2]))\n",
    "# print('SARIMAX: {} x {}'.format(p[2], seasonal_pdq[3]))\n",
    "# print('SARIMAX: {} x {}'.format(p[2], seasonal_pdq[4]))\n",
    "a = b = c = range(0,3)\n",
    "p = list(itertools.product(a,b,c))\n",
    "seas_pdq = [(x[0],x[1],x[2],12) for x in list(itertools.product(a,b,c))]\n",
    "print('SARIMAX : {} x {}'.format(p[1],seas_pdq[1]))\n",
    "print('SARIMAX : {} x {}'.format(p[1],seas_pdq[2]))\n",
    "print('SARIMAX : {} x {}'.format(p[2],seas_pdq[3]))\n",
    "print('SARIMAX : {} x {}'.format(p[2],seas_pdq[4]))"
   ]
  },
  {
   "cell_type": "code",
   "execution_count": null,
   "metadata": {},
   "outputs": [],
   "source": [
    "# for params in p:\n",
    "#     for p_seasonal in seas_pdq:\n",
    "#         try:\n",
    "#             m = sm.tsa.statespace.SARIMAX(df_city_day['NO'].resample('2W').mean(),order=param,seasonal_order=p_seasonal, \n",
    "#                                           enforce_stationarity=False, enforce_invertibility=False)\n",
    "#             results = m.fit()\n",
    "#         except:\n",
    "#             continue\n",
    "\n",
    "for params in p:\n",
    "    for p_seasonal in seas_pdq:\n",
    "        try :\n",
    "            m = sm.tsa.statespace.SARIMAX(df_city_day['NO'].resample('2W').mean(),order = params,seasonal_order = p_seasonal,\n",
    "                                         enforce_stationarity = False,enforce_invertibility = False)\n",
    "            results = m.fit()\n",
    "        except:\n",
    "            continue"
   ]
  },
  {
   "cell_type": "code",
   "execution_count": null,
   "metadata": {},
   "outputs": [],
   "source": [
    "''' model '''\n",
    "model = sm.tsa.statespace.SARIMAX(df_city_day['NO'].resample('2W').mean(), order=(2, 1, 1), seasonal_order=(1, 1, 0, 12),\n",
    "                                  enforce_stationarity=False, enforce_invertibility=False)\n",
    "\n",
    "res = model.fit()\n",
    "print(res.summary().tables[1])"
   ]
  },
  {
   "cell_type": "code",
   "execution_count": null,
   "metadata": {},
   "outputs": [],
   "source": [
    "''' plotting '''\n",
    "res.plot_diagnostics(figsize=(16, 8))\n",
    "plt.show()"
   ]
  },
  {
   "cell_type": "code",
   "execution_count": null,
   "metadata": {},
   "outputs": [],
   "source": [
    "y_pred = res.get_prediction(start=pd.to_datetime('2017-01-01'), dynamic=False)\n",
    "y_pred_ci = y_pred.conf_int()\n",
    "\n",
    "ax = df_city_day['NO'].resample('2W').mean()['2017':].plot(label='observed')\n",
    "y_pred.predicted_mean.plot(ax=ax, label='Forecast', alpha=.7, figsize=(14, 7))\n",
    "\n",
    "ax.fill_between(y_pred_ci.index,\n",
    "                y_pred_ci.iloc[:, 0],\n",
    "                y_pred_ci.iloc[:, 1], color='k', alpha=.2)\n",
    "ax.set_xlabel('Date')\n",
    "ax.set_ylabel('NO Concentration')\n",
    "\n",
    "plt.legend(['observed', 'Forecast'])\n",
    "plt.show()"
   ]
  },
  {
   "cell_type": "code",
   "execution_count": null,
   "metadata": {},
   "outputs": [],
   "source": [
    "''' calculating mse and rmse '''\n",
    "\n",
    "y_f = y_pred.predicted_mean\n",
    "actual = df_city_day['NO'].resample('2W').mean()['2017-01-01':]\n",
    "mse = ((y_f - actual) ** 2).mean()\n",
    "\n",
    "print('The Mean Squared Error of our forecasts is {}'.format(round(mse, 2)))\n",
    "print('The Root Mean Squared Error of our forecasts is {}'.format(round(np.sqrt(mse), 2)))"
   ]
  },
  {
   "cell_type": "code",
   "execution_count": null,
   "metadata": {},
   "outputs": [],
   "source": [
    "''' considering the pollutant SO2  '''\n",
    "\n",
    "df_city_day['NO'].resample('2W').mean().plot(figsize=(15, 6))\n",
    "plt.show()"
   ]
  },
  {
   "cell_type": "code",
   "execution_count": null,
   "metadata": {},
   "outputs": [],
   "source": [
    "decomp_so2 = sm.tsa.seasonal_decompose(df_city_day['NO'].resample('2W').mean(), model='additive')\n",
    "fig_so2 = decomp_so2.plot()\n",
    "plt.show()"
   ]
  },
  {
   "cell_type": "code",
   "execution_count": null,
   "metadata": {},
   "outputs": [],
   "source": [
    "''' SARIMA for SO2 '''\n",
    "\n",
    "a = b = c = range(0, 3)\n",
    "p = list(itertools.product(a, b, c))\n",
    "seas_pdq = [(x[0], x[1], x[2], 12) for x in list(itertools.product(a, b, c))]\n",
    "print('SARIMAX: {} x {}'.format(p[1], seasonal_pdq[1]))\n",
    "print('SARIMAX: {} x {}'.format(p[1], seasonal_pdq[2]))\n",
    "print('SARIMAX: {} x {}'.format(p[2], seasonal_pdq[3]))\n",
    "print('SARIMAX: {} x {}'.format(p[2], seasonal_pdq[4]))"
   ]
  },
  {
   "cell_type": "code",
   "execution_count": null,
   "metadata": {},
   "outputs": [],
   "source": [
    "for params in p:\n",
    "    for p_seasonal in seas_pdq:\n",
    "        try:\n",
    "            m = sm.tsa.statespace.SARIMAX(df_city_day['SO2'].resample('2W').mean(),order=param,seasonal_order=p_seasonal, \n",
    "                                          enforce_stationarity=False, enforce_invertibility=False)\n",
    "            results = m.fit()\n",
    "        except:\n",
    "            continue"
   ]
  },
  {
   "cell_type": "code",
   "execution_count": null,
   "metadata": {},
   "outputs": [],
   "source": [
    "mod = sm.tsa.statespace.SARIMAX(df_city_day['SO2'].resample('2W').mean(), order=(2, 1, 1), seasonal_order=(1, 1, 0, 12),\n",
    "                                enforce_stationarity=False, enforce_invertibility=False)\n",
    "res = mod.fit()\n",
    "print(results.summary().tables[1])"
   ]
  },
  {
   "cell_type": "code",
   "execution_count": null,
   "metadata": {},
   "outputs": [],
   "source": [
    "''' plotting '''\n",
    "res.plot_diagnostics(figsize=(16, 8))\n",
    "plt.show()"
   ]
  },
  {
   "cell_type": "code",
   "execution_count": null,
   "metadata": {},
   "outputs": [],
   "source": [
    "y_pred = res.get_prediction(start=pd.to_datetime('2017-01-01'), dynamic=False)\n",
    "y_pred_ci = y_pred.conf_int()\n",
    "\n",
    "ax = df_city_day['SO2'].resample('2W').mean()['2017':].plot(label='observed')\n",
    "y_pred.predicted_mean.plot(ax=ax, label='Forecast', alpha=.7, figsize=(14, 7))\n",
    "\n",
    "ax.fill_between(y_pred_ci.index,\n",
    "                y_pred_ci.iloc[:, 0],\n",
    "                y_pred_ci.iloc[:, 1], color='k', alpha=.2)\n",
    "ax.set_xlabel('Date')\n",
    "ax.set_ylabel('NO Concentration')\n",
    "\n",
    "plt.legend(['observed', 'Forecast'])\n",
    "plt.show()"
   ]
  },
  {
   "cell_type": "code",
   "execution_count": null,
   "metadata": {},
   "outputs": [],
   "source": [
    "''' calculating mse and rmse '''\n",
    "\n",
    "y_f = y_pred.predicted_mean\n",
    "actual = df_city_day['SO2'].resample('2W').mean()['2017-01-01':]\n",
    "mse = ((y_f - actual) ** 2).mean()\n",
    "\n",
    "print('The Mean Squared Error of our forecasts is {}'.format(round(mse, 2)))\n",
    "print('The Root Mean Squared Error of our forecasts is {}'.format(round(np.sqrt(mse), 2)))"
   ]
  },
  {
   "cell_type": "code",
   "execution_count": null,
   "metadata": {},
   "outputs": [],
   "source": []
  }
 ],
 "metadata": {
  "kernelspec": {
   "display_name": "Python 3",
   "language": "python",
   "name": "python3"
  },
  "language_info": {
   "codemirror_mode": {
    "name": "ipython",
    "version": 3
   },
   "file_extension": ".py",
   "mimetype": "text/x-python",
   "name": "python",
   "nbconvert_exporter": "python",
   "pygments_lexer": "ipython3",
   "version": "3.8.8"
  }
 },
 "nbformat": 4,
 "nbformat_minor": 4
}
