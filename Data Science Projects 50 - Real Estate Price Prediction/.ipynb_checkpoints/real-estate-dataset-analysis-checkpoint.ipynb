{
 "cells": [
  {
   "cell_type": "markdown",
   "metadata": {
    "papermill": {
     "duration": 0.02808,
     "end_time": "2021-03-18T17:22:05.036503",
     "exception": false,
     "start_time": "2021-03-18T17:22:05.008423",
     "status": "completed"
    },
    "tags": []
   },
   "source": [
    "# Real Estate Price Prediction Dataset Analysis"
   ]
  },
  {
   "cell_type": "code",
   "execution_count": 1,
   "metadata": {
    "execution": {
     "iopub.execute_input": "2021-03-18T17:22:05.096494Z",
     "iopub.status.busy": "2021-03-18T17:22:05.095556Z",
     "iopub.status.idle": "2021-03-18T17:22:06.159206Z",
     "shell.execute_reply": "2021-03-18T17:22:06.158228Z"
    },
    "papermill": {
     "duration": 1.096291,
     "end_time": "2021-03-18T17:22:06.159459",
     "exception": false,
     "start_time": "2021-03-18T17:22:05.063168",
     "status": "completed"
    },
    "tags": []
   },
   "outputs": [],
   "source": [
    "import pandas as pd\n",
    "import numpy as np\n",
    "import matplotlib.pyplot as plt\n",
    "import seaborn as sns"
   ]
  },
  {
   "cell_type": "code",
   "execution_count": 2,
   "metadata": {
    "execution": {
     "iopub.execute_input": "2021-03-18T17:22:06.222841Z",
     "iopub.status.busy": "2021-03-18T17:22:06.221696Z",
     "iopub.status.idle": "2021-03-18T17:22:06.290701Z",
     "shell.execute_reply": "2021-03-18T17:22:06.291595Z"
    },
    "papermill": {
     "duration": 0.105334,
     "end_time": "2021-03-18T17:22:06.291894",
     "exception": false,
     "start_time": "2021-03-18T17:22:06.186560",
     "status": "completed"
    },
    "tags": []
   },
   "outputs": [
    {
     "data": {
      "text/html": [
       "<div>\n",
       "<style scoped>\n",
       "    .dataframe tbody tr th:only-of-type {\n",
       "        vertical-align: middle;\n",
       "    }\n",
       "\n",
       "    .dataframe tbody tr th {\n",
       "        vertical-align: top;\n",
       "    }\n",
       "\n",
       "    .dataframe thead th {\n",
       "        text-align: right;\n",
       "    }\n",
       "</style>\n",
       "<table border=\"1\" class=\"dataframe\">\n",
       "  <thead>\n",
       "    <tr style=\"text-align: right;\">\n",
       "      <th></th>\n",
       "      <th>No</th>\n",
       "      <th>X1 transaction date</th>\n",
       "      <th>X2 house age</th>\n",
       "      <th>X3 distance to the nearest MRT station</th>\n",
       "      <th>X4 number of convenience stores</th>\n",
       "      <th>X5 latitude</th>\n",
       "      <th>X6 longitude</th>\n",
       "      <th>Y house price of unit area</th>\n",
       "    </tr>\n",
       "  </thead>\n",
       "  <tbody>\n",
       "    <tr>\n",
       "      <th>0</th>\n",
       "      <td>1</td>\n",
       "      <td>2012.917</td>\n",
       "      <td>32.0</td>\n",
       "      <td>84.87882</td>\n",
       "      <td>10</td>\n",
       "      <td>24.98298</td>\n",
       "      <td>121.54024</td>\n",
       "      <td>37.9</td>\n",
       "    </tr>\n",
       "    <tr>\n",
       "      <th>1</th>\n",
       "      <td>2</td>\n",
       "      <td>2012.917</td>\n",
       "      <td>19.5</td>\n",
       "      <td>306.59470</td>\n",
       "      <td>9</td>\n",
       "      <td>24.98034</td>\n",
       "      <td>121.53951</td>\n",
       "      <td>42.2</td>\n",
       "    </tr>\n",
       "    <tr>\n",
       "      <th>2</th>\n",
       "      <td>3</td>\n",
       "      <td>2013.583</td>\n",
       "      <td>13.3</td>\n",
       "      <td>561.98450</td>\n",
       "      <td>5</td>\n",
       "      <td>24.98746</td>\n",
       "      <td>121.54391</td>\n",
       "      <td>47.3</td>\n",
       "    </tr>\n",
       "    <tr>\n",
       "      <th>3</th>\n",
       "      <td>4</td>\n",
       "      <td>2013.500</td>\n",
       "      <td>13.3</td>\n",
       "      <td>561.98450</td>\n",
       "      <td>5</td>\n",
       "      <td>24.98746</td>\n",
       "      <td>121.54391</td>\n",
       "      <td>54.8</td>\n",
       "    </tr>\n",
       "    <tr>\n",
       "      <th>4</th>\n",
       "      <td>5</td>\n",
       "      <td>2012.833</td>\n",
       "      <td>5.0</td>\n",
       "      <td>390.56840</td>\n",
       "      <td>5</td>\n",
       "      <td>24.97937</td>\n",
       "      <td>121.54245</td>\n",
       "      <td>43.1</td>\n",
       "    </tr>\n",
       "    <tr>\n",
       "      <th>5</th>\n",
       "      <td>6</td>\n",
       "      <td>2012.667</td>\n",
       "      <td>7.1</td>\n",
       "      <td>2175.03000</td>\n",
       "      <td>3</td>\n",
       "      <td>24.96305</td>\n",
       "      <td>121.51254</td>\n",
       "      <td>32.1</td>\n",
       "    </tr>\n",
       "    <tr>\n",
       "      <th>6</th>\n",
       "      <td>7</td>\n",
       "      <td>2012.667</td>\n",
       "      <td>34.5</td>\n",
       "      <td>623.47310</td>\n",
       "      <td>7</td>\n",
       "      <td>24.97933</td>\n",
       "      <td>121.53642</td>\n",
       "      <td>40.3</td>\n",
       "    </tr>\n",
       "    <tr>\n",
       "      <th>7</th>\n",
       "      <td>8</td>\n",
       "      <td>2013.417</td>\n",
       "      <td>20.3</td>\n",
       "      <td>287.60250</td>\n",
       "      <td>6</td>\n",
       "      <td>24.98042</td>\n",
       "      <td>121.54228</td>\n",
       "      <td>46.7</td>\n",
       "    </tr>\n",
       "    <tr>\n",
       "      <th>8</th>\n",
       "      <td>9</td>\n",
       "      <td>2013.500</td>\n",
       "      <td>31.7</td>\n",
       "      <td>5512.03800</td>\n",
       "      <td>1</td>\n",
       "      <td>24.95095</td>\n",
       "      <td>121.48458</td>\n",
       "      <td>18.8</td>\n",
       "    </tr>\n",
       "    <tr>\n",
       "      <th>9</th>\n",
       "      <td>10</td>\n",
       "      <td>2013.417</td>\n",
       "      <td>17.9</td>\n",
       "      <td>1783.18000</td>\n",
       "      <td>3</td>\n",
       "      <td>24.96731</td>\n",
       "      <td>121.51486</td>\n",
       "      <td>22.1</td>\n",
       "    </tr>\n",
       "  </tbody>\n",
       "</table>\n",
       "</div>"
      ],
      "text/plain": [
       "   No  X1 transaction date  X2 house age  \\\n",
       "0   1             2012.917          32.0   \n",
       "1   2             2012.917          19.5   \n",
       "2   3             2013.583          13.3   \n",
       "3   4             2013.500          13.3   \n",
       "4   5             2012.833           5.0   \n",
       "5   6             2012.667           7.1   \n",
       "6   7             2012.667          34.5   \n",
       "7   8             2013.417          20.3   \n",
       "8   9             2013.500          31.7   \n",
       "9  10             2013.417          17.9   \n",
       "\n",
       "   X3 distance to the nearest MRT station  X4 number of convenience stores  \\\n",
       "0                                84.87882                               10   \n",
       "1                               306.59470                                9   \n",
       "2                               561.98450                                5   \n",
       "3                               561.98450                                5   \n",
       "4                               390.56840                                5   \n",
       "5                              2175.03000                                3   \n",
       "6                               623.47310                                7   \n",
       "7                               287.60250                                6   \n",
       "8                              5512.03800                                1   \n",
       "9                              1783.18000                                3   \n",
       "\n",
       "   X5 latitude  X6 longitude  Y house price of unit area  \n",
       "0     24.98298     121.54024                        37.9  \n",
       "1     24.98034     121.53951                        42.2  \n",
       "2     24.98746     121.54391                        47.3  \n",
       "3     24.98746     121.54391                        54.8  \n",
       "4     24.97937     121.54245                        43.1  \n",
       "5     24.96305     121.51254                        32.1  \n",
       "6     24.97933     121.53642                        40.3  \n",
       "7     24.98042     121.54228                        46.7  \n",
       "8     24.95095     121.48458                        18.8  \n",
       "9     24.96731     121.51486                        22.1  "
      ]
     },
     "execution_count": 2,
     "metadata": {},
     "output_type": "execute_result"
    }
   ],
   "source": [
    "d2 = pd.read_csv('../input/real-estate-price-prediction/Real estate.csv')\n",
    "d2.head(10)"
   ]
  },
  {
   "cell_type": "markdown",
   "metadata": {
    "papermill": {
     "duration": 0.031976,
     "end_time": "2021-03-18T17:22:06.372013",
     "exception": false,
     "start_time": "2021-03-18T17:22:06.340037",
     "status": "completed"
    },
    "tags": []
   },
   "source": [
    "## Basic EDA"
   ]
  },
  {
   "cell_type": "code",
   "execution_count": 3,
   "metadata": {
    "execution": {
     "iopub.execute_input": "2021-03-18T17:22:06.440715Z",
     "iopub.status.busy": "2021-03-18T17:22:06.439962Z",
     "iopub.status.idle": "2021-03-18T17:22:06.446570Z",
     "shell.execute_reply": "2021-03-18T17:22:06.445986Z"
    },
    "papermill": {
     "duration": 0.03881,
     "end_time": "2021-03-18T17:22:06.446719",
     "exception": false,
     "start_time": "2021-03-18T17:22:06.407909",
     "status": "completed"
    },
    "tags": []
   },
   "outputs": [
    {
     "data": {
      "text/plain": [
       "(414, 8)"
      ]
     },
     "execution_count": 3,
     "metadata": {},
     "output_type": "execute_result"
    }
   ],
   "source": [
    "d2.shape"
   ]
  },
  {
   "cell_type": "code",
   "execution_count": 4,
   "metadata": {
    "execution": {
     "iopub.execute_input": "2021-03-18T17:22:06.525779Z",
     "iopub.status.busy": "2021-03-18T17:22:06.524978Z",
     "iopub.status.idle": "2021-03-18T17:22:06.531614Z",
     "shell.execute_reply": "2021-03-18T17:22:06.530333Z"
    },
    "papermill": {
     "duration": 0.056201,
     "end_time": "2021-03-18T17:22:06.531928",
     "exception": false,
     "start_time": "2021-03-18T17:22:06.475727",
     "status": "completed"
    },
    "tags": []
   },
   "outputs": [
    {
     "name": "stdout",
     "output_type": "stream",
     "text": [
      "<class 'pandas.core.frame.DataFrame'>\n",
      "RangeIndex: 414 entries, 0 to 413\n",
      "Data columns (total 8 columns):\n",
      " #   Column                                  Non-Null Count  Dtype  \n",
      "---  ------                                  --------------  -----  \n",
      " 0   No                                      414 non-null    int64  \n",
      " 1   X1 transaction date                     414 non-null    float64\n",
      " 2   X2 house age                            414 non-null    float64\n",
      " 3   X3 distance to the nearest MRT station  414 non-null    float64\n",
      " 4   X4 number of convenience stores         414 non-null    int64  \n",
      " 5   X5 latitude                             414 non-null    float64\n",
      " 6   X6 longitude                            414 non-null    float64\n",
      " 7   Y house price of unit area              414 non-null    float64\n",
      "dtypes: float64(6), int64(2)\n",
      "memory usage: 26.0 KB\n"
     ]
    }
   ],
   "source": [
    "d2.info()"
   ]
  },
  {
   "cell_type": "code",
   "execution_count": 5,
   "metadata": {
    "execution": {
     "iopub.execute_input": "2021-03-18T17:22:06.605745Z",
     "iopub.status.busy": "2021-03-18T17:22:06.604708Z",
     "iopub.status.idle": "2021-03-18T17:22:06.609503Z",
     "shell.execute_reply": "2021-03-18T17:22:06.608922Z"
    },
    "papermill": {
     "duration": 0.047032,
     "end_time": "2021-03-18T17:22:06.609646",
     "exception": false,
     "start_time": "2021-03-18T17:22:06.562614",
     "status": "completed"
    },
    "tags": []
   },
   "outputs": [
    {
     "data": {
      "text/html": [
       "<div>\n",
       "<style scoped>\n",
       "    .dataframe tbody tr th:only-of-type {\n",
       "        vertical-align: middle;\n",
       "    }\n",
       "\n",
       "    .dataframe tbody tr th {\n",
       "        vertical-align: top;\n",
       "    }\n",
       "\n",
       "    .dataframe thead th {\n",
       "        text-align: right;\n",
       "    }\n",
       "</style>\n",
       "<table border=\"1\" class=\"dataframe\">\n",
       "  <thead>\n",
       "    <tr style=\"text-align: right;\">\n",
       "      <th></th>\n",
       "      <th>X2 house age</th>\n",
       "      <th>X3 distance to the nearest MRT station</th>\n",
       "      <th>X4 number of convenience stores</th>\n",
       "      <th>X5 latitude</th>\n",
       "      <th>X6 longitude</th>\n",
       "      <th>Y house price of unit area</th>\n",
       "    </tr>\n",
       "  </thead>\n",
       "  <tbody>\n",
       "    <tr>\n",
       "      <th>0</th>\n",
       "      <td>32.0</td>\n",
       "      <td>84.87882</td>\n",
       "      <td>10</td>\n",
       "      <td>24.98298</td>\n",
       "      <td>121.54024</td>\n",
       "      <td>37.9</td>\n",
       "    </tr>\n",
       "    <tr>\n",
       "      <th>1</th>\n",
       "      <td>19.5</td>\n",
       "      <td>306.59470</td>\n",
       "      <td>9</td>\n",
       "      <td>24.98034</td>\n",
       "      <td>121.53951</td>\n",
       "      <td>42.2</td>\n",
       "    </tr>\n",
       "    <tr>\n",
       "      <th>2</th>\n",
       "      <td>13.3</td>\n",
       "      <td>561.98450</td>\n",
       "      <td>5</td>\n",
       "      <td>24.98746</td>\n",
       "      <td>121.54391</td>\n",
       "      <td>47.3</td>\n",
       "    </tr>\n",
       "  </tbody>\n",
       "</table>\n",
       "</div>"
      ],
      "text/plain": [
       "   X2 house age  X3 distance to the nearest MRT station  \\\n",
       "0          32.0                                84.87882   \n",
       "1          19.5                               306.59470   \n",
       "2          13.3                               561.98450   \n",
       "\n",
       "   X4 number of convenience stores  X5 latitude  X6 longitude  \\\n",
       "0                               10     24.98298     121.54024   \n",
       "1                                9     24.98034     121.53951   \n",
       "2                                5     24.98746     121.54391   \n",
       "\n",
       "   Y house price of unit area  \n",
       "0                        37.9  \n",
       "1                        42.2  \n",
       "2                        47.3  "
      ]
     },
     "execution_count": 5,
     "metadata": {},
     "output_type": "execute_result"
    }
   ],
   "source": [
    "tbd = ['X1 transaction date','No']\n",
    "d2 = d2.drop(tbd, axis=1)\n",
    "d2.head(3)"
   ]
  },
  {
   "cell_type": "code",
   "execution_count": 6,
   "metadata": {
    "execution": {
     "iopub.execute_input": "2021-03-18T17:22:06.680299Z",
     "iopub.status.busy": "2021-03-18T17:22:06.678382Z",
     "iopub.status.idle": "2021-03-18T17:22:06.704468Z",
     "shell.execute_reply": "2021-03-18T17:22:06.704998Z"
    },
    "papermill": {
     "duration": 0.06624,
     "end_time": "2021-03-18T17:22:06.705205",
     "exception": false,
     "start_time": "2021-03-18T17:22:06.638965",
     "status": "completed"
    },
    "tags": []
   },
   "outputs": [
    {
     "data": {
      "text/html": [
       "<div>\n",
       "<style scoped>\n",
       "    .dataframe tbody tr th:only-of-type {\n",
       "        vertical-align: middle;\n",
       "    }\n",
       "\n",
       "    .dataframe tbody tr th {\n",
       "        vertical-align: top;\n",
       "    }\n",
       "\n",
       "    .dataframe thead th {\n",
       "        text-align: right;\n",
       "    }\n",
       "</style>\n",
       "<table border=\"1\" class=\"dataframe\">\n",
       "  <thead>\n",
       "    <tr style=\"text-align: right;\">\n",
       "      <th></th>\n",
       "      <th>X2 house age</th>\n",
       "      <th>X3 distance to the nearest MRT station</th>\n",
       "      <th>X4 number of convenience stores</th>\n",
       "      <th>X5 latitude</th>\n",
       "      <th>X6 longitude</th>\n",
       "      <th>Y house price of unit area</th>\n",
       "    </tr>\n",
       "  </thead>\n",
       "  <tbody>\n",
       "    <tr>\n",
       "      <th>count</th>\n",
       "      <td>414.000000</td>\n",
       "      <td>414.000000</td>\n",
       "      <td>414.000000</td>\n",
       "      <td>414.000000</td>\n",
       "      <td>414.000000</td>\n",
       "      <td>414.000000</td>\n",
       "    </tr>\n",
       "    <tr>\n",
       "      <th>mean</th>\n",
       "      <td>17.712560</td>\n",
       "      <td>1083.885689</td>\n",
       "      <td>4.094203</td>\n",
       "      <td>24.969030</td>\n",
       "      <td>121.533361</td>\n",
       "      <td>37.980193</td>\n",
       "    </tr>\n",
       "    <tr>\n",
       "      <th>std</th>\n",
       "      <td>11.392485</td>\n",
       "      <td>1262.109595</td>\n",
       "      <td>2.945562</td>\n",
       "      <td>0.012410</td>\n",
       "      <td>0.015347</td>\n",
       "      <td>13.606488</td>\n",
       "    </tr>\n",
       "    <tr>\n",
       "      <th>min</th>\n",
       "      <td>0.000000</td>\n",
       "      <td>23.382840</td>\n",
       "      <td>0.000000</td>\n",
       "      <td>24.932070</td>\n",
       "      <td>121.473530</td>\n",
       "      <td>7.600000</td>\n",
       "    </tr>\n",
       "    <tr>\n",
       "      <th>25%</th>\n",
       "      <td>9.025000</td>\n",
       "      <td>289.324800</td>\n",
       "      <td>1.000000</td>\n",
       "      <td>24.963000</td>\n",
       "      <td>121.528085</td>\n",
       "      <td>27.700000</td>\n",
       "    </tr>\n",
       "    <tr>\n",
       "      <th>50%</th>\n",
       "      <td>16.100000</td>\n",
       "      <td>492.231300</td>\n",
       "      <td>4.000000</td>\n",
       "      <td>24.971100</td>\n",
       "      <td>121.538630</td>\n",
       "      <td>38.450000</td>\n",
       "    </tr>\n",
       "    <tr>\n",
       "      <th>75%</th>\n",
       "      <td>28.150000</td>\n",
       "      <td>1454.279000</td>\n",
       "      <td>6.000000</td>\n",
       "      <td>24.977455</td>\n",
       "      <td>121.543305</td>\n",
       "      <td>46.600000</td>\n",
       "    </tr>\n",
       "    <tr>\n",
       "      <th>max</th>\n",
       "      <td>43.800000</td>\n",
       "      <td>6488.021000</td>\n",
       "      <td>10.000000</td>\n",
       "      <td>25.014590</td>\n",
       "      <td>121.566270</td>\n",
       "      <td>117.500000</td>\n",
       "    </tr>\n",
       "  </tbody>\n",
       "</table>\n",
       "</div>"
      ],
      "text/plain": [
       "       X2 house age  X3 distance to the nearest MRT station  \\\n",
       "count    414.000000                              414.000000   \n",
       "mean      17.712560                             1083.885689   \n",
       "std       11.392485                             1262.109595   \n",
       "min        0.000000                               23.382840   \n",
       "25%        9.025000                              289.324800   \n",
       "50%       16.100000                              492.231300   \n",
       "75%       28.150000                             1454.279000   \n",
       "max       43.800000                             6488.021000   \n",
       "\n",
       "       X4 number of convenience stores  X5 latitude  X6 longitude  \\\n",
       "count                       414.000000   414.000000    414.000000   \n",
       "mean                          4.094203    24.969030    121.533361   \n",
       "std                           2.945562     0.012410      0.015347   \n",
       "min                           0.000000    24.932070    121.473530   \n",
       "25%                           1.000000    24.963000    121.528085   \n",
       "50%                           4.000000    24.971100    121.538630   \n",
       "75%                           6.000000    24.977455    121.543305   \n",
       "max                          10.000000    25.014590    121.566270   \n",
       "\n",
       "       Y house price of unit area  \n",
       "count                  414.000000  \n",
       "mean                    37.980193  \n",
       "std                     13.606488  \n",
       "min                      7.600000  \n",
       "25%                     27.700000  \n",
       "50%                     38.450000  \n",
       "75%                     46.600000  \n",
       "max                    117.500000  "
      ]
     },
     "execution_count": 6,
     "metadata": {},
     "output_type": "execute_result"
    }
   ],
   "source": [
    "d2.describe()"
   ]
  },
  {
   "cell_type": "code",
   "execution_count": 7,
   "metadata": {
    "execution": {
     "iopub.execute_input": "2021-03-18T17:22:06.770362Z",
     "iopub.status.busy": "2021-03-18T17:22:06.769583Z",
     "iopub.status.idle": "2021-03-18T17:22:07.744181Z",
     "shell.execute_reply": "2021-03-18T17:22:07.743553Z"
    },
    "papermill": {
     "duration": 1.008972,
     "end_time": "2021-03-18T17:22:07.744333",
     "exception": false,
     "start_time": "2021-03-18T17:22:06.735361",
     "status": "completed"
    },
    "tags": []
   },
   "outputs": [
    {
     "data": {
      "text/plain": [
       "array([[<AxesSubplot:title={'center':'X2 house age'}>,\n",
       "        <AxesSubplot:title={'center':'X3 distance to the nearest MRT station'}>],\n",
       "       [<AxesSubplot:title={'center':'X4 number of convenience stores'}>,\n",
       "        <AxesSubplot:title={'center':'X5 latitude'}>],\n",
       "       [<AxesSubplot:title={'center':'X6 longitude'}>,\n",
       "        <AxesSubplot:title={'center':'Y house price of unit area'}>]],\n",
       "      dtype=object)"
      ]
     },
     "execution_count": 7,
     "metadata": {},
     "output_type": "execute_result"
    },
    {
     "data": {
      "image/png": "[encoded data removed]",
      "text/plain": [
       "<Figure size 720x720 with 6 Axes>"
      ]
     },
     "metadata": {
      "needs_background": "light"
     },
     "output_type": "display_data"
    }
   ],
   "source": [
    "d2.hist(figsize=(10,10))"
   ]
  },
  {
   "cell_type": "code",
   "execution_count": 8,
   "metadata": {
    "execution": {
     "iopub.execute_input": "2021-03-18T17:22:07.825551Z",
     "iopub.status.busy": "2021-03-18T17:22:07.815216Z",
     "iopub.status.idle": "2021-03-18T17:22:07.830912Z",
     "shell.execute_reply": "2021-03-18T17:22:07.830289Z"
    },
    "papermill": {
     "duration": 0.054934,
     "end_time": "2021-03-18T17:22:07.831068",
     "exception": false,
     "start_time": "2021-03-18T17:22:07.776134",
     "status": "completed"
    },
    "tags": []
   },
   "outputs": [
    {
     "data": {
      "text/html": [
       "<div>\n",
       "<style scoped>\n",
       "    .dataframe tbody tr th:only-of-type {\n",
       "        vertical-align: middle;\n",
       "    }\n",
       "\n",
       "    .dataframe tbody tr th {\n",
       "        vertical-align: top;\n",
       "    }\n",
       "\n",
       "    .dataframe thead th {\n",
       "        text-align: right;\n",
       "    }\n",
       "</style>\n",
       "<table border=\"1\" class=\"dataframe\">\n",
       "  <thead>\n",
       "    <tr style=\"text-align: right;\">\n",
       "      <th></th>\n",
       "      <th>X2 house age</th>\n",
       "      <th>X3 distance to the nearest MRT station</th>\n",
       "      <th>X4 number of convenience stores</th>\n",
       "      <th>X5 latitude</th>\n",
       "      <th>X6 longitude</th>\n",
       "      <th>Y house price of unit area</th>\n",
       "    </tr>\n",
       "  </thead>\n",
       "  <tbody>\n",
       "    <tr>\n",
       "      <th>X2 house age</th>\n",
       "      <td>1.000000</td>\n",
       "      <td>0.025622</td>\n",
       "      <td>0.049593</td>\n",
       "      <td>0.054420</td>\n",
       "      <td>-0.048520</td>\n",
       "      <td>-0.210567</td>\n",
       "    </tr>\n",
       "    <tr>\n",
       "      <th>X3 distance to the nearest MRT station</th>\n",
       "      <td>0.025622</td>\n",
       "      <td>1.000000</td>\n",
       "      <td>-0.602519</td>\n",
       "      <td>-0.591067</td>\n",
       "      <td>-0.806317</td>\n",
       "      <td>-0.673613</td>\n",
       "    </tr>\n",
       "    <tr>\n",
       "      <th>X4 number of convenience stores</th>\n",
       "      <td>0.049593</td>\n",
       "      <td>-0.602519</td>\n",
       "      <td>1.000000</td>\n",
       "      <td>0.444143</td>\n",
       "      <td>0.449099</td>\n",
       "      <td>0.571005</td>\n",
       "    </tr>\n",
       "    <tr>\n",
       "      <th>X5 latitude</th>\n",
       "      <td>0.054420</td>\n",
       "      <td>-0.591067</td>\n",
       "      <td>0.444143</td>\n",
       "      <td>1.000000</td>\n",
       "      <td>0.412924</td>\n",
       "      <td>0.546307</td>\n",
       "    </tr>\n",
       "    <tr>\n",
       "      <th>X6 longitude</th>\n",
       "      <td>-0.048520</td>\n",
       "      <td>-0.806317</td>\n",
       "      <td>0.449099</td>\n",
       "      <td>0.412924</td>\n",
       "      <td>1.000000</td>\n",
       "      <td>0.523287</td>\n",
       "    </tr>\n",
       "    <tr>\n",
       "      <th>Y house price of unit area</th>\n",
       "      <td>-0.210567</td>\n",
       "      <td>-0.673613</td>\n",
       "      <td>0.571005</td>\n",
       "      <td>0.546307</td>\n",
       "      <td>0.523287</td>\n",
       "      <td>1.000000</td>\n",
       "    </tr>\n",
       "  </tbody>\n",
       "</table>\n",
       "</div>"
      ],
      "text/plain": [
       "                                        X2 house age  \\\n",
       "X2 house age                                1.000000   \n",
       "X3 distance to the nearest MRT station      0.025622   \n",
       "X4 number of convenience stores             0.049593   \n",
       "X5 latitude                                 0.054420   \n",
       "X6 longitude                               -0.048520   \n",
       "Y house price of unit area                 -0.210567   \n",
       "\n",
       "                                        X3 distance to the nearest MRT station  \\\n",
       "X2 house age                                                          0.025622   \n",
       "X3 distance to the nearest MRT station                                1.000000   \n",
       "X4 number of convenience stores                                      -0.602519   \n",
       "X5 latitude                                                          -0.591067   \n",
       "X6 longitude                                                         -0.806317   \n",
       "Y house price of unit area                                           -0.673613   \n",
       "\n",
       "                                        X4 number of convenience stores  \\\n",
       "X2 house age                                                   0.049593   \n",
       "X3 distance to the nearest MRT station                        -0.602519   \n",
       "X4 number of convenience stores                                1.000000   \n",
       "X5 latitude                                                    0.444143   \n",
       "X6 longitude                                                   0.449099   \n",
       "Y house price of unit area                                     0.571005   \n",
       "\n",
       "                                        X5 latitude  X6 longitude  \\\n",
       "X2 house age                               0.054420     -0.048520   \n",
       "X3 distance to the nearest MRT station    -0.591067     -0.806317   \n",
       "X4 number of convenience stores            0.444143      0.449099   \n",
       "X5 latitude                                1.000000      0.412924   \n",
       "X6 longitude                               0.412924      1.000000   \n",
       "Y house price of unit area                 0.546307      0.523287   \n",
       "\n",
       "                                        Y house price of unit area  \n",
       "X2 house age                                             -0.210567  \n",
       "X3 distance to the nearest MRT station                   -0.673613  \n",
       "X4 number of convenience stores                           0.571005  \n",
       "X5 latitude                                               0.546307  \n",
       "X6 longitude                                              0.523287  \n",
       "Y house price of unit area                                1.000000  "
      ]
     },
     "execution_count": 8,
     "metadata": {},
     "output_type": "execute_result"
    }
   ],
   "source": [
    "corr = d2.corr()\n",
    "corr"
   ]
  },
  {
   "cell_type": "code",
   "execution_count": 9,
   "metadata": {
    "execution": {
     "iopub.execute_input": "2021-03-18T17:22:07.907261Z",
     "iopub.status.busy": "2021-03-18T17:22:07.906155Z",
     "iopub.status.idle": "2021-03-18T17:22:08.512707Z",
     "shell.execute_reply": "2021-03-18T17:22:08.513253Z"
    },
    "papermill": {
     "duration": 0.648138,
     "end_time": "2021-03-18T17:22:08.513444",
     "exception": false,
     "start_time": "2021-03-18T17:22:07.865306",
     "status": "completed"
    },
    "tags": []
   },
   "outputs": [
    {
     "data": {
      "text/plain": [
       "<AxesSubplot:>"
      ]
     },
     "execution_count": 9,
     "metadata": {},
     "output_type": "execute_result"
    },
    {
     "data": {
      "image/png": "[encoded data removed]",
      "text/plain": [
       "<Figure size 1584x1080 with 2 Axes>"
      ]
     },
     "metadata": {
      "needs_background": "light"
     },
     "output_type": "display_data"
    }
   ],
   "source": [
    "fig, ax = plt.subplots(figsize=(22,15))\n",
    "sns.heatmap(corr, annot=True, ax=ax)"
   ]
  },
  {
   "cell_type": "markdown",
   "metadata": {
    "papermill": {
     "duration": 0.034968,
     "end_time": "2021-03-18T17:22:08.582908",
     "exception": false,
     "start_time": "2021-03-18T17:22:08.547940",
     "status": "completed"
    },
    "tags": []
   },
   "source": [
    "### Correlation Analysis\n",
    " 'X3 distance to the nearest MRT station' column shows least correlation."
   ]
  },
  {
   "cell_type": "code",
   "execution_count": 10,
   "metadata": {
    "execution": {
     "iopub.execute_input": "2021-03-18T17:22:08.663416Z",
     "iopub.status.busy": "2021-03-18T17:22:08.662345Z",
     "iopub.status.idle": "2021-03-18T17:22:08.667396Z",
     "shell.execute_reply": "2021-03-18T17:22:08.666773Z"
    },
    "papermill": {
     "duration": 0.048761,
     "end_time": "2021-03-18T17:22:08.667548",
     "exception": false,
     "start_time": "2021-03-18T17:22:08.618787",
     "status": "completed"
    },
    "tags": []
   },
   "outputs": [
    {
     "data": {
      "text/plain": [
       "X2 house age                              0\n",
       "X3 distance to the nearest MRT station    0\n",
       "X4 number of convenience stores           0\n",
       "X5 latitude                               0\n",
       "X6 longitude                              0\n",
       "Y house price of unit area                0\n",
       "dtype: int64"
      ]
     },
     "execution_count": 10,
     "metadata": {},
     "output_type": "execute_result"
    }
   ],
   "source": [
    "# Checking for null vlaues\n",
    "d2.isnull().sum()"
   ]
  },
  {
   "cell_type": "code",
   "execution_count": 11,
   "metadata": {
    "execution": {
     "iopub.execute_input": "2021-03-18T17:22:08.759392Z",
     "iopub.status.busy": "2021-03-18T17:22:08.753977Z",
     "iopub.status.idle": "2021-03-18T17:22:09.288886Z",
     "shell.execute_reply": "2021-03-18T17:22:09.288290Z"
    },
    "papermill": {
     "duration": 0.585951,
     "end_time": "2021-03-18T17:22:09.289040",
     "exception": false,
     "start_time": "2021-03-18T17:22:08.703089",
     "status": "completed"
    },
    "tags": []
   },
   "outputs": [
    {
     "data": {
      "image/png": "[encoded data removed]",
      "text/plain": [
       "<Figure size 432x288 with 1 Axes>"
      ]
     },
     "metadata": {
      "needs_background": "light"
     },
     "output_type": "display_data"
    }
   ],
   "source": [
    "# Numerical attributes comparison using scatterplot\n",
    "sns.barplot(x=d2['X4 number of convenience stores'], y=d2['Y house price of unit area']);"
   ]
  },
  {
   "cell_type": "markdown",
   "metadata": {
    "papermill": {
     "duration": 0.036074,
     "end_time": "2021-03-18T17:22:09.361249",
     "exception": false,
     "start_time": "2021-03-18T17:22:09.325175",
     "status": "completed"
    },
    "tags": []
   },
   "source": [
    "As the number of convenience stores increase in the locality, House price goes up.<br>\n",
    "This shows <b>positive</b> relation between these attributes."
   ]
  },
  {
   "cell_type": "code",
   "execution_count": 12,
   "metadata": {
    "execution": {
     "iopub.execute_input": "2021-03-18T17:22:09.463685Z",
     "iopub.status.busy": "2021-03-18T17:22:09.457031Z",
     "iopub.status.idle": "2021-03-18T17:22:09.732878Z",
     "shell.execute_reply": "2021-03-18T17:22:09.733368Z"
    },
    "papermill": {
     "duration": 0.33632,
     "end_time": "2021-03-18T17:22:09.733566",
     "exception": false,
     "start_time": "2021-03-18T17:22:09.397246",
     "status": "completed"
    },
    "tags": []
   },
   "outputs": [
    {
     "data": {
      "image/png": "[encoded data removed]",
      "text/plain": [
       "<Figure size 432x288 with 1 Axes>"
      ]
     },
     "metadata": {
      "needs_background": "light"
     },
     "output_type": "display_data"
    }
   ],
   "source": [
    "sns.regplot(x=d2['X2 house age'], y=d2['Y house price of unit area']);"
   ]
  },
  {
   "cell_type": "markdown",
   "metadata": {
    "papermill": {
     "duration": 0.037349,
     "end_time": "2021-03-18T17:22:09.808690",
     "exception": false,
     "start_time": "2021-03-18T17:22:09.771341",
     "status": "completed"
    },
    "tags": []
   },
   "source": [
    "The trend line shows house price reducing with increase in house age.<br>\n",
    "These attributes show a <b>negative</b> relation"
   ]
  },
  {
   "cell_type": "code",
   "execution_count": 13,
   "metadata": {
    "execution": {
     "iopub.execute_input": "2021-03-18T17:22:09.910204Z",
     "iopub.status.busy": "2021-03-18T17:22:09.890089Z",
     "iopub.status.idle": "2021-03-18T17:22:10.183060Z",
     "shell.execute_reply": "2021-03-18T17:22:10.181984Z"
    },
    "papermill": {
     "duration": 0.337491,
     "end_time": "2021-03-18T17:22:10.183237",
     "exception": false,
     "start_time": "2021-03-18T17:22:09.845746",
     "status": "completed"
    },
    "tags": []
   },
   "outputs": [
    {
     "data": {
      "image/png": "[encoded data removed]",
      "text/plain": [
       "<Figure size 432x288 with 1 Axes>"
      ]
     },
     "metadata": {
      "needs_background": "light"
     },
     "output_type": "display_data"
    }
   ],
   "source": [
    "sns.regplot(x=d2['X3 distance to the nearest MRT station'], y=d2['Y house price of unit area']);"
   ]
  },
  {
   "cell_type": "markdown",
   "metadata": {
    "papermill": {
     "duration": 0.048477,
     "end_time": "2021-03-18T17:22:10.272026",
     "exception": false,
     "start_time": "2021-03-18T17:22:10.223549",
     "status": "completed"
    },
    "tags": []
   },
   "source": [
    "This states that the houses that are near to MRT station have <b>higher</b> price"
   ]
  },
  {
   "cell_type": "code",
   "execution_count": 14,
   "metadata": {
    "execution": {
     "iopub.execute_input": "2021-03-18T17:22:10.384550Z",
     "iopub.status.busy": "2021-03-18T17:22:10.381821Z",
     "iopub.status.idle": "2021-03-18T17:22:13.556372Z",
     "shell.execute_reply": "2021-03-18T17:22:13.556872Z"
    },
    "papermill": {
     "duration": 3.241873,
     "end_time": "2021-03-18T17:22:13.557065",
     "exception": false,
     "start_time": "2021-03-18T17:22:10.315192",
     "status": "completed"
    },
    "tags": []
   },
   "outputs": [
    {
     "data": {
      "image/png": "[encoded data removed]",
      "text/plain": [
       "<Figure size 432x288 with 1 Axes>"
      ]
     },
     "metadata": {
      "needs_background": "light"
     },
     "output_type": "display_data"
    }
   ],
   "source": [
    "sns.lineplot(x=d2['X2 house age'], y=d2['X3 distance to the nearest MRT station']);"
   ]
  },
  {
   "cell_type": "markdown",
   "metadata": {
    "papermill": {
     "duration": 0.039424,
     "end_time": "2021-03-18T17:22:13.636213",
     "exception": false,
     "start_time": "2021-03-18T17:22:13.596789",
     "status": "completed"
    },
    "tags": []
   },
   "source": [
    "This shows that houses with an average age of <b>15 - 20 years</b> have <b>high distances</b> to MRT station while the houses aged for <b>35+</b> years are <b>more closer</b> to the stations"
   ]
  },
  {
   "cell_type": "markdown",
   "metadata": {
    "papermill": {
     "duration": 0.039276,
     "end_time": "2021-03-18T17:22:13.715330",
     "exception": false,
     "start_time": "2021-03-18T17:22:13.676054",
     "status": "completed"
    },
    "tags": []
   },
   "source": [
    "### Conclusion from EDA and Graph plots:\n",
    "1. Data is clean having no null values<br>\n",
    "2. Data doesn't have High correlation amongst attributes<br>\n",
    "3. Houses with more convenience stores in the area, with low age have high prices<br>\n",
    "4. Houses that are aged have more MRT stations near them and fall in low price."
   ]
  },
  {
   "cell_type": "markdown",
   "metadata": {
    "papermill": {
     "duration": 0.041153,
     "end_time": "2021-03-18T17:22:13.796938",
     "exception": false,
     "start_time": "2021-03-18T17:22:13.755785",
     "status": "completed"
    },
    "tags": []
   },
   "source": [
    "## Outlier Detection"
   ]
  },
  {
   "cell_type": "code",
   "execution_count": 15,
   "metadata": {
    "execution": {
     "iopub.execute_input": "2021-03-18T17:22:13.880315Z",
     "iopub.status.busy": "2021-03-18T17:22:13.879607Z",
     "iopub.status.idle": "2021-03-18T17:22:14.549637Z",
     "shell.execute_reply": "2021-03-18T17:22:14.548953Z"
    },
    "papermill": {
     "duration": 0.713164,
     "end_time": "2021-03-18T17:22:14.549802",
     "exception": false,
     "start_time": "2021-03-18T17:22:13.836638",
     "status": "completed"
    },
    "tags": []
   },
   "outputs": [
    {
     "data": {
      "image/png": "[encoded data removed]",
      "text/plain": [
       "<Figure size 936x360 with 6 Axes>"
      ]
     },
     "metadata": {
      "needs_background": "light"
     },
     "output_type": "display_data"
    }
   ],
   "source": [
    "plt.figure(figsize=(13,5))\n",
    "\n",
    "for feat, grd in zip(d2, range(231,237)):\n",
    "    plt.subplot(grd)\n",
    "    sns.boxplot(y=d2[feat], color='grey')\n",
    "    plt.ylabel('Value')\n",
    "    plt.title('Boxplot\\n%s'%feat)\n",
    "plt.tight_layout()"
   ]
  },
  {
   "cell_type": "markdown",
   "metadata": {
    "papermill": {
     "duration": 0.040648,
     "end_time": "2021-03-18T17:22:14.633092",
     "exception": false,
     "start_time": "2021-03-18T17:22:14.592444",
     "status": "completed"
    },
    "tags": []
   },
   "source": [
    "Data has outliers present outside the quartile range."
   ]
  },
  {
   "cell_type": "markdown",
   "metadata": {
    "papermill": {
     "duration": 0.041472,
     "end_time": "2021-03-18T17:22:14.715610",
     "exception": false,
     "start_time": "2021-03-18T17:22:14.674138",
     "status": "completed"
    },
    "tags": []
   },
   "source": [
    "## Splitting the data"
   ]
  },
  {
   "cell_type": "code",
   "execution_count": 16,
   "metadata": {
    "execution": {
     "iopub.execute_input": "2021-03-18T17:22:14.809531Z",
     "iopub.status.busy": "2021-03-18T17:22:14.808728Z",
     "iopub.status.idle": "2021-03-18T17:22:14.812428Z",
     "shell.execute_reply": "2021-03-18T17:22:14.811739Z"
    },
    "papermill": {
     "duration": 0.055761,
     "end_time": "2021-03-18T17:22:14.812575",
     "exception": false,
     "start_time": "2021-03-18T17:22:14.756814",
     "status": "completed"
    },
    "tags": []
   },
   "outputs": [],
   "source": [
    "X2 = d2.loc[:,'X2 house age' : 'X6 longitude']\n",
    "y2 = d2.loc[:,'Y house price of unit area']"
   ]
  },
  {
   "cell_type": "code",
   "execution_count": 17,
   "metadata": {
    "execution": {
     "iopub.execute_input": "2021-03-18T17:22:14.902952Z",
     "iopub.status.busy": "2021-03-18T17:22:14.902162Z",
     "iopub.status.idle": "2021-03-18T17:22:15.314350Z",
     "shell.execute_reply": "2021-03-18T17:22:15.313130Z"
    },
    "papermill": {
     "duration": 0.459146,
     "end_time": "2021-03-18T17:22:15.314535",
     "exception": false,
     "start_time": "2021-03-18T17:22:14.855389",
     "status": "completed"
    },
    "tags": []
   },
   "outputs": [
    {
     "name": "stdout",
     "output_type": "stream",
     "text": [
      "(331, 5) (83, 5)\n",
      "(331,) (83,)\n"
     ]
    }
   ],
   "source": [
    "#Train-test split\n",
    "from sklearn.model_selection import train_test_split\n",
    "\n",
    "X_train_2, X_test_2, y_train_2, y_test_2 = train_test_split(X2, y2, test_size=0.2, random_state=1)\n",
    "print(X_train_2.shape, X_test_2.shape)\n",
    "print(y_train_2.shape, y_test_2.shape)"
   ]
  },
  {
   "cell_type": "markdown",
   "metadata": {
    "papermill": {
     "duration": 0.042022,
     "end_time": "2021-03-18T17:22:15.398073",
     "exception": false,
     "start_time": "2021-03-18T17:22:15.356051",
     "status": "completed"
    },
    "tags": []
   },
   "source": [
    "## Statistical Analysis"
   ]
  },
  {
   "cell_type": "code",
   "execution_count": 18,
   "metadata": {
    "execution": {
     "iopub.execute_input": "2021-03-18T17:22:15.486873Z",
     "iopub.status.busy": "2021-03-18T17:22:15.486162Z",
     "iopub.status.idle": "2021-03-18T17:22:15.777474Z",
     "shell.execute_reply": "2021-03-18T17:22:15.778103Z"
    },
    "papermill": {
     "duration": 0.338471,
     "end_time": "2021-03-18T17:22:15.778297",
     "exception": false,
     "start_time": "2021-03-18T17:22:15.439826",
     "status": "completed"
    },
    "tags": []
   },
   "outputs": [
    {
     "data": {
      "image/png": "[encoded data removed]",
      "text/plain": [
       "<Figure size 432x288 with 1 Axes>"
      ]
     },
     "metadata": {
      "needs_background": "light"
     },
     "output_type": "display_data"
    }
   ],
   "source": [
    "from statsmodels.graphics.gofplots import qqplot\n",
    "\n",
    "qqplot(X2,line='s')\n",
    "plt.show()"
   ]
  },
  {
   "cell_type": "code",
   "execution_count": 19,
   "metadata": {
    "execution": {
     "iopub.execute_input": "2021-03-18T17:22:15.870671Z",
     "iopub.status.busy": "2021-03-18T17:22:15.869953Z",
     "iopub.status.idle": "2021-03-18T17:22:15.876129Z",
     "shell.execute_reply": "2021-03-18T17:22:15.876630Z"
    },
    "papermill": {
     "duration": 0.055645,
     "end_time": "2021-03-18T17:22:15.876830",
     "exception": false,
     "start_time": "2021-03-18T17:22:15.821185",
     "status": "completed"
    },
    "tags": []
   },
   "outputs": [
    {
     "name": "stdout",
     "output_type": "stream",
     "text": [
      "[ 0.38153742  1.88190636  0.15404583 -0.43700772 -1.21516823]\n"
     ]
    }
   ],
   "source": [
    "from scipy.stats import skew\n",
    "\n",
    "print(skew(X2))"
   ]
  },
  {
   "cell_type": "markdown",
   "metadata": {
    "papermill": {
     "duration": 0.043381,
     "end_time": "2021-03-18T17:22:15.964211",
     "exception": false,
     "start_time": "2021-03-18T17:22:15.920830",
     "status": "completed"
    },
    "tags": []
   },
   "source": [
    "Data does not appear to be following Gaussian / Normal Distribution. Both positively and Negatively skewed data is observed."
   ]
  },
  {
   "cell_type": "code",
   "execution_count": 20,
   "metadata": {
    "execution": {
     "iopub.execute_input": "2021-03-18T17:22:16.067949Z",
     "iopub.status.busy": "2021-03-18T17:22:16.067097Z",
     "iopub.status.idle": "2021-03-18T17:22:16.257288Z",
     "shell.execute_reply": "2021-03-18T17:22:16.256645Z"
    },
    "papermill": {
     "duration": 0.250095,
     "end_time": "2021-03-18T17:22:16.257460",
     "exception": false,
     "start_time": "2021-03-18T17:22:16.007365",
     "status": "completed"
    },
    "tags": []
   },
   "outputs": [
    {
     "name": "stdout",
     "output_type": "stream",
     "text": [
      "(331, 5)\n",
      "(83, 5)\n"
     ]
    },
    {
     "data": {
      "image/png": "[encoded data removed]",
      "text/plain": [
       "<Figure size 432x288 with 1 Axes>"
      ]
     },
     "metadata": {
      "needs_background": "light"
     },
     "output_type": "display_data"
    }
   ],
   "source": [
    "# Scaling Data using Min-Max Scaler\n",
    "\n",
    "from sklearn.preprocessing import MinMaxScaler\n",
    "mms = MinMaxScaler()\n",
    "X_train_norm_2 = mms.fit_transform(X_train_2)\n",
    "X_test_norm_2 = mms.transform(X_test_2)\n",
    "\n",
    "# Scaling Data using Standard Scaler\n",
    "\n",
    "from sklearn.preprocessing import StandardScaler\n",
    "scaler = StandardScaler()\n",
    "scaler.fit(X_train_2)\n",
    "X_train_std_2 = scaler.transform(X_train_2)\n",
    "X_test_std_2 = scaler.transform(X_test_2)\n",
    "\n",
    "# Comparing Scaled Data\n",
    "\n",
    "xx = np.arange(len(X_train_std_2))\n",
    "yy1 = X_train_norm_2[:,0]\n",
    "yy2 = X_train_std_2[:,0]\n",
    "plt.scatter(xx,yy1,color='b')\n",
    "plt.scatter(xx,yy2,color='r')\n",
    "\n",
    "print(X_train_std_2.shape)\n",
    "print(X_test_std_2.shape)"
   ]
  },
  {
   "cell_type": "markdown",
   "metadata": {
    "papermill": {
     "duration": 0.044625,
     "end_time": "2021-03-18T17:22:16.349722",
     "exception": false,
     "start_time": "2021-03-18T17:22:16.305097",
     "status": "completed"
    },
    "tags": []
   },
   "source": [
    "Min-Max Scaler gives more uniform scaling than Standard Scaler"
   ]
  },
  {
   "cell_type": "markdown",
   "metadata": {
    "papermill": {
     "duration": 0.044193,
     "end_time": "2021-03-18T17:22:16.438584",
     "exception": false,
     "start_time": "2021-03-18T17:22:16.394391",
     "status": "completed"
    },
    "tags": []
   },
   "source": [
    "## OLS regression analysis"
   ]
  },
  {
   "cell_type": "code",
   "execution_count": 21,
   "metadata": {
    "execution": {
     "iopub.execute_input": "2021-03-18T17:22:16.535871Z",
     "iopub.status.busy": "2021-03-18T17:22:16.534961Z",
     "iopub.status.idle": "2021-03-18T17:22:17.368622Z",
     "shell.execute_reply": "2021-03-18T17:22:17.369372Z"
    },
    "papermill": {
     "duration": 0.886478,
     "end_time": "2021-03-18T17:22:17.369606",
     "exception": false,
     "start_time": "2021-03-18T17:22:16.483128",
     "status": "completed"
    },
    "tags": []
   },
   "outputs": [
    {
     "name": "stdout",
     "output_type": "stream",
     "text": [
      "                                     OLS Regression Results                                    \n",
      "===============================================================================================\n",
      "Dep. Variable:     Y house price of unit area   R-squared (uncentered):                   0.940\n",
      "Model:                                    OLS   Adj. R-squared (uncentered):              0.939\n",
      "Method:                         Least Squares   F-statistic:                              1023.\n",
      "Date:                        Thu, 18 Mar 2021   Prob (F-statistic):                   7.79e-197\n",
      "Time:                                17:22:17   Log-Likelihood:                         -1233.8\n",
      "No. Observations:                         331   AIC:                                      2478.\n",
      "Df Residuals:                             326   BIC:                                      2497.\n",
      "Df Model:                                   5                                                  \n",
      "Covariance Type:                    nonrobust                                                  \n",
      "==============================================================================\n",
      "                 coef    std err          t      P>|t|      [0.025      0.975]\n",
      "------------------------------------------------------------------------------\n",
      "x1            -8.5106      2.068     -4.115      0.000     -12.579      -4.442\n",
      "x2             3.7965      2.902      1.308      0.192      -1.912       9.505\n",
      "x3            15.6047      2.342      6.662      0.000      10.997      20.213\n",
      "x4            33.1420      3.961      8.368      0.000      25.350      40.934\n",
      "x5            30.2255      2.771     10.907      0.000      24.774      35.677\n",
      "==============================================================================\n",
      "Omnibus:                      188.365   Durbin-Watson:                   1.943\n",
      "Prob(Omnibus):                  0.000   Jarque-Bera (JB):             2662.085\n",
      "Skew:                           2.033   Prob(JB):                         0.00\n",
      "Kurtosis:                      16.285   Cond. No.                         8.39\n",
      "==============================================================================\n",
      "\n",
      "Notes:\n",
      "[1] R² is computed without centering (uncentered) since the model does not contain a constant.\n",
      "[2] Standard Errors assume that the covariance matrix of the errors is correctly specified.\n"
     ]
    }
   ],
   "source": [
    "import statsmodels.api as sm\n",
    "model_ols = sm.OLS(y_train_2, X_train_norm_2)\n",
    "fitted = model_ols.fit()\n",
    "print(fitted.summary())"
   ]
  },
  {
   "cell_type": "code",
   "execution_count": 22,
   "metadata": {
    "execution": {
     "iopub.execute_input": "2021-03-18T17:22:17.472581Z",
     "iopub.status.busy": "2021-03-18T17:22:17.471811Z",
     "iopub.status.idle": "2021-03-18T17:22:17.853827Z",
     "shell.execute_reply": "2021-03-18T17:22:17.853217Z"
    },
    "papermill": {
     "duration": 0.430933,
     "end_time": "2021-03-18T17:22:17.854013",
     "exception": false,
     "start_time": "2021-03-18T17:22:17.423080",
     "status": "completed"
    },
    "tags": []
   },
   "outputs": [
    {
     "name": "stdout",
     "output_type": "stream",
     "text": [
      "Distribution is not normal. Statistic: 0.882, p-value: 2.905e-15\n"
     ]
    },
    {
     "data": {
      "image/png": "[encoded data removed]",
      "text/plain": [
       "<Figure size 1152x288 with 2 Axes>"
      ]
     },
     "metadata": {
      "needs_background": "light"
     },
     "output_type": "display_data"
    }
   ],
   "source": [
    "from scipy.stats import shapiro\n",
    "fig, ax = plt.subplots(figsize=(16,4), ncols=2)\n",
    "ax[0] = sns.scatterplot(x=y_train_2, y=fitted.resid, ax=ax[0])\n",
    "ax[1] = sns.histplot(fitted.resid, ax=ax[1])\n",
    "\n",
    "statistic, p_value = shapiro(fitted.resid)\n",
    "if p_value>0.05:\n",
    "    print(\"Distribution is normal. Statistic: {0:.3}, p-value: {1:.4}\".format(statistic, p_value))\n",
    "else:\n",
    "    print(\"Distribution is not normal. Statistic: {0:.3}, p-value: {1:.4}\".format(statistic, p_value))"
   ]
  },
  {
   "cell_type": "markdown",
   "metadata": {
    "papermill": {
     "duration": 0.04692,
     "end_time": "2021-03-18T17:22:17.948628",
     "exception": false,
     "start_time": "2021-03-18T17:22:17.901708",
     "status": "completed"
    },
    "tags": []
   },
   "source": [
    "## KNN Regressor model construction"
   ]
  },
  {
   "cell_type": "code",
   "execution_count": 23,
   "metadata": {
    "execution": {
     "iopub.execute_input": "2021-03-18T17:22:18.052885Z",
     "iopub.status.busy": "2021-03-18T17:22:18.052126Z",
     "iopub.status.idle": "2021-03-18T17:22:18.271659Z",
     "shell.execute_reply": "2021-03-18T17:22:18.271072Z"
    },
    "papermill": {
     "duration": 0.274662,
     "end_time": "2021-03-18T17:22:18.271807",
     "exception": false,
     "start_time": "2021-03-18T17:22:17.997145",
     "status": "completed"
    },
    "tags": []
   },
   "outputs": [
    {
     "data": {
      "text/plain": [
       "KNeighborsRegressor(algorithm='brute', n_neighbors=3, p=1)"
      ]
     },
     "execution_count": 23,
     "metadata": {},
     "output_type": "execute_result"
    }
   ],
   "source": [
    "from sklearn.neighbors import KNeighborsRegressor as knn\n",
    "model4 = knn(n_neighbors=3,p=1,algorithm='brute')\n",
    "model4.fit(X_train_norm_2,y_train_2)"
   ]
  },
  {
   "cell_type": "code",
   "execution_count": 24,
   "metadata": {
    "execution": {
     "iopub.execute_input": "2021-03-18T17:22:18.377635Z",
     "iopub.status.busy": "2021-03-18T17:22:18.376517Z",
     "iopub.status.idle": "2021-03-18T17:22:18.385098Z",
     "shell.execute_reply": "2021-03-18T17:22:18.384370Z"
    },
    "papermill": {
     "duration": 0.063699,
     "end_time": "2021-03-18T17:22:18.385250",
     "exception": false,
     "start_time": "2021-03-18T17:22:18.321551",
     "status": "completed"
    },
    "tags": []
   },
   "outputs": [
    {
     "data": {
      "text/plain": [
       "array([25.5       , 47.56666667, 23.73333333, 15.26666667, 46.2       ,\n",
       "       28.23333333, 25.5       , 35.03333333, 40.86666667, 20.        ,\n",
       "       16.96666667, 36.4       , 22.3       , 51.43333333, 54.73333333,\n",
       "       24.63333333, 46.2       , 49.43333333, 25.5       , 50.3       ,\n",
       "       41.9       , 26.3       , 38.86666667, 65.4       , 49.06666667,\n",
       "       26.86666667, 29.2       , 49.96666667, 52.23333333, 15.43333333,\n",
       "       30.26666667, 44.6       , 44.46666667, 48.73333333, 35.4       ,\n",
       "       16.13333333, 38.96666667, 34.63333333, 43.23333333, 15.26666667,\n",
       "       40.66666667, 15.5       , 61.7       , 30.13333333, 30.2       ,\n",
       "       27.13333333, 28.23333333, 44.46666667, 39.83333333, 35.13333333,\n",
       "       16.13333333, 58.43333333, 44.4       , 16.13333333, 47.2       ,\n",
       "       52.86666667, 46.2       , 38.16666667, 40.86666667, 40.7       ,\n",
       "       15.5       , 31.7       , 25.46666667, 16.13333333, 36.        ,\n",
       "       73.2       , 58.96666667, 35.4       , 16.13333333, 40.86666667,\n",
       "       50.8       , 17.36666667, 35.13333333, 36.43333333, 54.73333333,\n",
       "       34.46666667, 35.66666667, 38.16666667, 31.7       , 48.4       ,\n",
       "       44.93333333, 46.2       , 44.        ])"
      ]
     },
     "execution_count": 24,
     "metadata": {},
     "output_type": "execute_result"
    }
   ],
   "source": [
    "ypred3 = model4.predict(X_test_norm_2)\n",
    "ypred3"
   ]
  },
  {
   "cell_type": "code",
   "execution_count": 25,
   "metadata": {
    "execution": {
     "iopub.execute_input": "2021-03-18T17:22:18.488789Z",
     "iopub.status.busy": "2021-03-18T17:22:18.487708Z",
     "iopub.status.idle": "2021-03-18T17:22:18.494278Z",
     "shell.execute_reply": "2021-03-18T17:22:18.494915Z"
    },
    "papermill": {
     "duration": 0.061813,
     "end_time": "2021-03-18T17:22:18.495121",
     "exception": false,
     "start_time": "2021-03-18T17:22:18.433308",
     "status": "completed"
    },
    "tags": []
   },
   "outputs": [
    {
     "data": {
      "text/plain": [
       "0.6296329931099331"
      ]
     },
     "execution_count": 25,
     "metadata": {},
     "output_type": "execute_result"
    }
   ],
   "source": [
    "model4.score(X_test_norm_2,y_test_2)"
   ]
  },
  {
   "cell_type": "code",
   "execution_count": 26,
   "metadata": {
    "execution": {
     "iopub.execute_input": "2021-03-18T17:22:18.598133Z",
     "iopub.status.busy": "2021-03-18T17:22:18.597278Z",
     "iopub.status.idle": "2021-03-18T17:22:18.600357Z",
     "shell.execute_reply": "2021-03-18T17:22:18.599798Z"
    },
    "papermill": {
     "duration": 0.056685,
     "end_time": "2021-03-18T17:22:18.600505",
     "exception": false,
     "start_time": "2021-03-18T17:22:18.543820",
     "status": "completed"
    },
    "tags": []
   },
   "outputs": [],
   "source": [
    "k_values = np.arange(1,100,2)"
   ]
  },
  {
   "cell_type": "code",
   "execution_count": 27,
   "metadata": {
    "execution": {
     "iopub.execute_input": "2021-03-18T17:22:18.710981Z",
     "iopub.status.busy": "2021-03-18T17:22:18.710185Z",
     "iopub.status.idle": "2021-03-18T17:22:19.161015Z",
     "shell.execute_reply": "2021-03-18T17:22:19.160355Z"
    },
    "papermill": {
     "duration": 0.511071,
     "end_time": "2021-03-18T17:22:19.161162",
     "exception": false,
     "start_time": "2021-03-18T17:22:18.650091",
     "status": "completed"
    },
    "tags": []
   },
   "outputs": [
    {
     "name": "stdout",
     "output_type": "stream",
     "text": [
      "k=1, train_accuracy=98.40%, test_accuracy=49.11%\n",
      "k=3, train_accuracy=82.85%, test_accuracy=62.70%\n",
      "k=5, train_accuracy=76.51%, test_accuracy=65.10%\n",
      "k=7, train_accuracy=71.66%, test_accuracy=62.32%\n",
      "k=9, train_accuracy=69.54%, test_accuracy=69.09%\n",
      "k=11, train_accuracy=67.99%, test_accuracy=69.85%\n",
      "k=13, train_accuracy=66.20%, test_accuracy=69.96%\n",
      "k=15, train_accuracy=65.36%, test_accuracy=69.60%\n",
      "k=17, train_accuracy=65.20%, test_accuracy=70.20%\n",
      "k=19, train_accuracy=64.80%, test_accuracy=71.18%\n",
      "k=21, train_accuracy=63.86%, test_accuracy=71.19%\n",
      "k=23, train_accuracy=63.58%, test_accuracy=71.38%\n",
      "k=25, train_accuracy=63.22%, test_accuracy=71.79%\n",
      "k=27, train_accuracy=62.85%, test_accuracy=72.35%\n",
      "k=29, train_accuracy=62.48%, test_accuracy=72.01%\n",
      "k=31, train_accuracy=62.12%, test_accuracy=72.90%\n",
      "k=33, train_accuracy=61.50%, test_accuracy=72.89%\n",
      "k=35, train_accuracy=60.87%, test_accuracy=72.55%\n",
      "k=37, train_accuracy=60.07%, test_accuracy=72.35%\n",
      "k=39, train_accuracy=59.36%, test_accuracy=72.40%\n",
      "k=41, train_accuracy=58.69%, test_accuracy=72.08%\n",
      "k=43, train_accuracy=58.55%, test_accuracy=71.97%\n",
      "k=45, train_accuracy=58.37%, test_accuracy=71.62%\n",
      "k=47, train_accuracy=57.75%, test_accuracy=71.01%\n",
      "k=49, train_accuracy=57.39%, test_accuracy=70.98%\n",
      "k=51, train_accuracy=56.88%, test_accuracy=70.70%\n",
      "k=53, train_accuracy=56.47%, test_accuracy=70.25%\n",
      "k=55, train_accuracy=55.86%, test_accuracy=69.36%\n",
      "k=57, train_accuracy=55.68%, test_accuracy=68.75%\n",
      "k=59, train_accuracy=55.55%, test_accuracy=68.15%\n",
      "k=61, train_accuracy=55.17%, test_accuracy=67.86%\n",
      "k=63, train_accuracy=54.86%, test_accuracy=67.46%\n",
      "k=65, train_accuracy=54.53%, test_accuracy=67.10%\n",
      "k=67, train_accuracy=54.08%, test_accuracy=66.75%\n",
      "k=69, train_accuracy=53.53%, test_accuracy=65.73%\n",
      "k=71, train_accuracy=53.39%, test_accuracy=65.16%\n",
      "k=73, train_accuracy=53.19%, test_accuracy=64.66%\n",
      "k=75, train_accuracy=52.88%, test_accuracy=64.02%\n",
      "k=77, train_accuracy=52.50%, test_accuracy=63.95%\n",
      "k=79, train_accuracy=52.12%, test_accuracy=63.65%\n",
      "k=81, train_accuracy=51.97%, test_accuracy=63.30%\n",
      "k=83, train_accuracy=51.55%, test_accuracy=62.97%\n",
      "k=85, train_accuracy=51.30%, test_accuracy=62.69%\n",
      "k=87, train_accuracy=50.99%, test_accuracy=62.33%\n",
      "k=89, train_accuracy=50.87%, test_accuracy=61.77%\n",
      "k=91, train_accuracy=50.61%, test_accuracy=61.14%\n",
      "k=93, train_accuracy=50.34%, test_accuracy=60.82%\n",
      "k=95, train_accuracy=50.41%, test_accuracy=60.73%\n",
      "k=97, train_accuracy=50.34%, test_accuracy=60.54%\n",
      "k=99, train_accuracy=50.09%, test_accuracy=60.09%\n"
     ]
    }
   ],
   "source": [
    "train_score_arr = []\n",
    "val_score_arr = []\n",
    "\n",
    "for k in k_values:\n",
    "    \n",
    "    model2 = knn(n_neighbors=k,p=1)\n",
    "    model2.fit(X_train_norm_2,y_train_2)\n",
    "    \n",
    "    train_score = model2.score(X_train_norm_2, y_train_2) \n",
    "    train_score_arr.append(train_score*100)\n",
    "    \n",
    "    val_score = model2.score(X_test_norm_2, y_test_2)\n",
    "    val_score_arr.append(val_score*100)\n",
    "    \n",
    "    print(\"k=%d, train_accuracy=%.2f%%, test_accuracy=%.2f%%\" % (k, train_score * 100, val_score*100))"
   ]
  },
  {
   "cell_type": "code",
   "execution_count": 28,
   "metadata": {
    "execution": {
     "iopub.execute_input": "2021-03-18T17:22:19.281502Z",
     "iopub.status.busy": "2021-03-18T17:22:19.280200Z",
     "iopub.status.idle": "2021-03-18T17:22:19.417226Z",
     "shell.execute_reply": "2021-03-18T17:22:19.416516Z"
    },
    "papermill": {
     "duration": 0.207086,
     "end_time": "2021-03-18T17:22:19.417383",
     "exception": false,
     "start_time": "2021-03-18T17:22:19.210297",
     "status": "completed"
    },
    "tags": []
   },
   "outputs": [
    {
     "data": {
      "text/plain": [
       "[<matplotlib.lines.Line2D at 0x7f74afa53a90>]"
      ]
     },
     "execution_count": 28,
     "metadata": {},
     "output_type": "execute_result"
    },
    {
     "data": {
      "image/png": "[encoded data removed]",
      "text/plain": [
       "<Figure size 432x288 with 1 Axes>"
      ]
     },
     "metadata": {
      "needs_background": "light"
     },
     "output_type": "display_data"
    }
   ],
   "source": [
    "plt.plot(k_values,train_score_arr,'g')\n",
    "plt.plot(k_values,val_score_arr,'r')"
   ]
  },
  {
   "cell_type": "markdown",
   "metadata": {
    "papermill": {
     "duration": 0.05034,
     "end_time": "2021-03-18T17:22:19.518820",
     "exception": false,
     "start_time": "2021-03-18T17:22:19.468480",
     "status": "completed"
    },
    "tags": []
   },
   "source": [
    "From the above values we can conclude that the best value for k will be between 9 to 13"
   ]
  },
  {
   "cell_type": "code",
   "execution_count": 29,
   "metadata": {
    "execution": {
     "iopub.execute_input": "2021-03-18T17:22:19.629974Z",
     "iopub.status.busy": "2021-03-18T17:22:19.628942Z",
     "iopub.status.idle": "2021-03-18T17:22:19.653904Z",
     "shell.execute_reply": "2021-03-18T17:22:19.654398Z"
    },
    "papermill": {
     "duration": 0.08511,
     "end_time": "2021-03-18T17:22:19.654591",
     "exception": false,
     "start_time": "2021-03-18T17:22:19.569481",
     "status": "completed"
    },
    "tags": []
   },
   "outputs": [
    {
     "name": "stdout",
     "output_type": "stream",
     "text": [
      "[0.34096005 0.70102756 0.85978589 0.68715616 0.62325092 0.50928621\n",
      " 0.67525036 0.93464588 0.69201748 0.51395829]\n"
     ]
    }
   ],
   "source": [
    "from sklearn.model_selection import cross_val_score\n",
    "cross_val_score_train = cross_val_score(model4, X_train_norm_2, y_train_2, cv=10, scoring='r2')\n",
    "print(cross_val_score_train)"
   ]
  },
  {
   "cell_type": "code",
   "execution_count": 30,
   "metadata": {
    "execution": {
     "iopub.execute_input": "2021-03-18T17:22:19.763554Z",
     "iopub.status.busy": "2021-03-18T17:22:19.762574Z",
     "iopub.status.idle": "2021-03-18T17:22:19.767368Z",
     "shell.execute_reply": "2021-03-18T17:22:19.766788Z"
    },
    "papermill": {
     "duration": 0.061078,
     "end_time": "2021-03-18T17:22:19.767515",
     "exception": false,
     "start_time": "2021-03-18T17:22:19.706437",
     "status": "completed"
    },
    "tags": []
   },
   "outputs": [
    {
     "data": {
      "text/plain": [
       "0.6537338792092366"
      ]
     },
     "execution_count": 30,
     "metadata": {},
     "output_type": "execute_result"
    }
   ],
   "source": [
    "cross_val_score_train.mean()"
   ]
  },
  {
   "cell_type": "code",
   "execution_count": 31,
   "metadata": {
    "execution": {
     "iopub.execute_input": "2021-03-18T17:22:19.880042Z",
     "iopub.status.busy": "2021-03-18T17:22:19.879097Z",
     "iopub.status.idle": "2021-03-18T17:22:19.883818Z",
     "shell.execute_reply": "2021-03-18T17:22:19.883242Z"
    },
    "papermill": {
     "duration": 0.064283,
     "end_time": "2021-03-18T17:22:19.884023",
     "exception": false,
     "start_time": "2021-03-18T17:22:19.819740",
     "status": "completed"
    },
    "tags": []
   },
   "outputs": [
    {
     "name": "stdout",
     "output_type": "stream",
     "text": [
      "0.6296329931099331\n"
     ]
    }
   ],
   "source": [
    "from sklearn.metrics import r2_score\n",
    "\n",
    "print(r2_score(y_test_2, ypred3))"
   ]
  },
  {
   "cell_type": "code",
   "execution_count": 32,
   "metadata": {
    "execution": {
     "iopub.execute_input": "2021-03-18T17:22:20.002484Z",
     "iopub.status.busy": "2021-03-18T17:22:20.001405Z",
     "iopub.status.idle": "2021-03-18T17:22:20.006230Z",
     "shell.execute_reply": "2021-03-18T17:22:20.005696Z"
    },
    "papermill": {
     "duration": 0.069746,
     "end_time": "2021-03-18T17:22:20.006382",
     "exception": false,
     "start_time": "2021-03-18T17:22:19.936636",
     "status": "completed"
    },
    "tags": []
   },
   "outputs": [
    {
     "data": {
      "text/html": [
       "<div>\n",
       "<style scoped>\n",
       "    .dataframe tbody tr th:only-of-type {\n",
       "        vertical-align: middle;\n",
       "    }\n",
       "\n",
       "    .dataframe tbody tr th {\n",
       "        vertical-align: top;\n",
       "    }\n",
       "\n",
       "    .dataframe thead th {\n",
       "        text-align: right;\n",
       "    }\n",
       "</style>\n",
       "<table border=\"1\" class=\"dataframe\">\n",
       "  <thead>\n",
       "    <tr style=\"text-align: right;\">\n",
       "      <th></th>\n",
       "      <th>Estimated Price</th>\n",
       "    </tr>\n",
       "  </thead>\n",
       "  <tbody>\n",
       "    <tr>\n",
       "      <th>0</th>\n",
       "      <td>25.500000</td>\n",
       "    </tr>\n",
       "    <tr>\n",
       "      <th>1</th>\n",
       "      <td>47.566667</td>\n",
       "    </tr>\n",
       "    <tr>\n",
       "      <th>2</th>\n",
       "      <td>23.733333</td>\n",
       "    </tr>\n",
       "    <tr>\n",
       "      <th>3</th>\n",
       "      <td>15.266667</td>\n",
       "    </tr>\n",
       "    <tr>\n",
       "      <th>4</th>\n",
       "      <td>46.200000</td>\n",
       "    </tr>\n",
       "  </tbody>\n",
       "</table>\n",
       "</div>"
      ],
      "text/plain": [
       "   Estimated Price\n",
       "0        25.500000\n",
       "1        47.566667\n",
       "2        23.733333\n",
       "3        15.266667\n",
       "4        46.200000"
      ]
     },
     "execution_count": 32,
     "metadata": {},
     "output_type": "execute_result"
    }
   ],
   "source": [
    "c = pd.DataFrame(ypred3, columns=['Estimated Price'])\n",
    "c.head()"
   ]
  },
  {
   "cell_type": "code",
   "execution_count": 33,
   "metadata": {
    "execution": {
     "iopub.execute_input": "2021-03-18T17:22:20.122154Z",
     "iopub.status.busy": "2021-03-18T17:22:20.121001Z",
     "iopub.status.idle": "2021-03-18T17:22:20.126156Z",
     "shell.execute_reply": "2021-03-18T17:22:20.125452Z"
    },
    "papermill": {
     "duration": 0.066996,
     "end_time": "2021-03-18T17:22:20.126312",
     "exception": false,
     "start_time": "2021-03-18T17:22:20.059316",
     "status": "completed"
    },
    "tags": []
   },
   "outputs": [
    {
     "data": {
      "text/plain": [
       "0    27.3\n",
       "1    54.4\n",
       "2    22.0\n",
       "3    11.6\n",
       "4    45.4\n",
       "Name: Y house price of unit area, dtype: float64"
      ]
     },
     "execution_count": 33,
     "metadata": {},
     "output_type": "execute_result"
    }
   ],
   "source": [
    "d = pd.DataFrame(y_test_2)\n",
    "d = y_test_2.reset_index(drop=True)\n",
    "d.head()"
   ]
  },
  {
   "cell_type": "code",
   "execution_count": 34,
   "metadata": {
    "execution": {
     "iopub.execute_input": "2021-03-18T17:22:20.250736Z",
     "iopub.status.busy": "2021-03-18T17:22:20.249953Z",
     "iopub.status.idle": "2021-03-18T17:22:20.254676Z",
     "shell.execute_reply": "2021-03-18T17:22:20.254052Z"
    },
    "papermill": {
     "duration": 0.07416,
     "end_time": "2021-03-18T17:22:20.254829",
     "exception": false,
     "start_time": "2021-03-18T17:22:20.180669",
     "status": "completed"
    },
    "tags": []
   },
   "outputs": [
    {
     "data": {
      "text/html": [
       "<div>\n",
       "<style scoped>\n",
       "    .dataframe tbody tr th:only-of-type {\n",
       "        vertical-align: middle;\n",
       "    }\n",
       "\n",
       "    .dataframe tbody tr th {\n",
       "        vertical-align: top;\n",
       "    }\n",
       "\n",
       "    .dataframe thead th {\n",
       "        text-align: right;\n",
       "    }\n",
       "</style>\n",
       "<table border=\"1\" class=\"dataframe\">\n",
       "  <thead>\n",
       "    <tr style=\"text-align: right;\">\n",
       "      <th></th>\n",
       "      <th>Estimated Price</th>\n",
       "      <th>Y house price of unit area</th>\n",
       "    </tr>\n",
       "  </thead>\n",
       "  <tbody>\n",
       "    <tr>\n",
       "      <th>0</th>\n",
       "      <td>25.500000</td>\n",
       "      <td>27.3</td>\n",
       "    </tr>\n",
       "    <tr>\n",
       "      <th>1</th>\n",
       "      <td>47.566667</td>\n",
       "      <td>54.4</td>\n",
       "    </tr>\n",
       "    <tr>\n",
       "      <th>2</th>\n",
       "      <td>23.733333</td>\n",
       "      <td>22.0</td>\n",
       "    </tr>\n",
       "    <tr>\n",
       "      <th>3</th>\n",
       "      <td>15.266667</td>\n",
       "      <td>11.6</td>\n",
       "    </tr>\n",
       "    <tr>\n",
       "      <th>4</th>\n",
       "      <td>46.200000</td>\n",
       "      <td>45.4</td>\n",
       "    </tr>\n",
       "    <tr>\n",
       "      <th>...</th>\n",
       "      <td>...</td>\n",
       "      <td>...</td>\n",
       "    </tr>\n",
       "    <tr>\n",
       "      <th>78</th>\n",
       "      <td>31.700000</td>\n",
       "      <td>33.1</td>\n",
       "    </tr>\n",
       "    <tr>\n",
       "      <th>79</th>\n",
       "      <td>48.400000</td>\n",
       "      <td>59.6</td>\n",
       "    </tr>\n",
       "    <tr>\n",
       "      <th>80</th>\n",
       "      <td>44.933333</td>\n",
       "      <td>40.8</td>\n",
       "    </tr>\n",
       "    <tr>\n",
       "      <th>81</th>\n",
       "      <td>46.200000</td>\n",
       "      <td>52.2</td>\n",
       "    </tr>\n",
       "    <tr>\n",
       "      <th>82</th>\n",
       "      <td>44.000000</td>\n",
       "      <td>47.1</td>\n",
       "    </tr>\n",
       "  </tbody>\n",
       "</table>\n",
       "<p>83 rows × 2 columns</p>\n",
       "</div>"
      ],
      "text/plain": [
       "    Estimated Price  Y house price of unit area\n",
       "0         25.500000                        27.3\n",
       "1         47.566667                        54.4\n",
       "2         23.733333                        22.0\n",
       "3         15.266667                        11.6\n",
       "4         46.200000                        45.4\n",
       "..              ...                         ...\n",
       "78        31.700000                        33.1\n",
       "79        48.400000                        59.6\n",
       "80        44.933333                        40.8\n",
       "81        46.200000                        52.2\n",
       "82        44.000000                        47.1\n",
       "\n",
       "[83 rows x 2 columns]"
      ]
     },
     "execution_count": 34,
     "metadata": {},
     "output_type": "execute_result"
    }
   ],
   "source": [
    "ynew = pd.concat([c,d], axis=1)\n",
    "ynew"
   ]
  }
 ],
 "metadata": {
  "kernelspec": {
   "display_name": "Python 3",
   "language": "python",
   "name": "python3"
  },
  "language_info": {
   "codemirror_mode": {
    "name": "ipython",
    "version": 3
   },
   "file_extension": ".py",
   "mimetype": "text/x-python",
   "name": "python",
   "nbconvert_exporter": "python",
   "pygments_lexer": "ipython3",
   "version": "3.8.8"
  },
  "papermill": {
   "default_parameters": {},
   "duration": 22.820049,
   "end_time": "2021-03-18T17:22:21.120702",
   "environment_variables": {},
   "exception": null,
   "input_path": "__notebook__.ipynb",
   "output_path": "__notebook__.ipynb",
   "parameters": {},
   "start_time": "2021-03-18T17:21:58.300653",
   "version": "2.2.2"
  }
 },
 "nbformat": 4,
 "nbformat_minor": 4
}
