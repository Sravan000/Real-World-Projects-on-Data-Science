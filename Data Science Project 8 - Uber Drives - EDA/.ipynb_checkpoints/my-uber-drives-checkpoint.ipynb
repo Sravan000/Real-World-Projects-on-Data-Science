{
 "cells": [
  {
   "cell_type": "code",
   "execution_count": 1,
   "metadata": {
    "_cell_guid": "b1076dfc-b9ad-4769-8c92-a6c4dae69d19",
    "_uuid": "8f2839f25d086af736a60e9eeb907d3b93b6e0e5",
    "execution": {
     "iopub.execute_input": "2021-02-05T19:57:23.649427Z",
     "iopub.status.busy": "2021-02-05T19:57:23.648604Z",
     "iopub.status.idle": "2021-02-05T19:57:24.601058Z",
     "shell.execute_reply": "2021-02-05T19:57:24.602195Z"
    },
    "papermill": {
     "duration": 0.996598,
     "end_time": "2021-02-05T19:57:24.602662",
     "exception": false,
     "start_time": "2021-02-05T19:57:23.606064",
     "status": "completed"
    },
    "tags": []
   },
   "outputs": [],
   "source": [
    "\n",
    "import numpy as np # linear algebra\n",
    "import pandas as pd # data processing, CSV file I/O (e.g. pd.read_csv)\n",
    "import matplotlib.pyplot as plt\n",
    "import seaborn as sns\n"
   ]
  },
  {
   "cell_type": "code",
   "execution_count": 2,
   "metadata": {
    "execution": {
     "iopub.execute_input": "2021-02-05T19:57:24.678923Z",
     "iopub.status.busy": "2021-02-05T19:57:24.677906Z",
     "iopub.status.idle": "2021-02-05T19:57:24.702212Z",
     "shell.execute_reply": "2021-02-05T19:57:24.701066Z"
    },
    "papermill": {
     "duration": 0.062007,
     "end_time": "2021-02-05T19:57:24.702407",
     "exception": false,
     "start_time": "2021-02-05T19:57:24.640400",
     "status": "completed"
    },
    "tags": []
   },
   "outputs": [],
   "source": [
    "data = pd.read_csv('My Uber Drives - 2016.csv')"
   ]
  },
  {
   "cell_type": "markdown",
   "metadata": {
    "papermill": {
     "duration": 0.034731,
     "end_time": "2021-02-05T19:57:24.772310",
     "exception": false,
     "start_time": "2021-02-05T19:57:24.737579",
     "status": "completed"
    },
    "tags": []
   },
   "source": [
    "### First need to understand the data"
   ]
  },
  {
   "cell_type": "code",
   "execution_count": 3,
   "metadata": {
    "execution": {
     "iopub.execute_input": "2021-02-05T19:57:24.847066Z",
     "iopub.status.busy": "2021-02-05T19:57:24.846092Z",
     "iopub.status.idle": "2021-02-05T19:57:24.883927Z",
     "shell.execute_reply": "2021-02-05T19:57:24.882866Z"
    },
    "papermill": {
     "duration": 0.076111,
     "end_time": "2021-02-05T19:57:24.884111",
     "exception": false,
     "start_time": "2021-02-05T19:57:24.808000",
     "status": "completed"
    },
    "tags": []
   },
   "outputs": [
    {
     "data": {
      "text/html": [
       "<div>\n",
       "<style scoped>\n",
       "    .dataframe tbody tr th:only-of-type {\n",
       "        vertical-align: middle;\n",
       "    }\n",
       "\n",
       "    .dataframe tbody tr th {\n",
       "        vertical-align: top;\n",
       "    }\n",
       "\n",
       "    .dataframe thead th {\n",
       "        text-align: right;\n",
       "    }\n",
       "</style>\n",
       "<table border=\"1\" class=\"dataframe\">\n",
       "  <thead>\n",
       "    <tr style=\"text-align: right;\">\n",
       "      <th></th>\n",
       "      <th>START_DATE*</th>\n",
       "      <th>END_DATE*</th>\n",
       "      <th>CATEGORY*</th>\n",
       "      <th>START*</th>\n",
       "      <th>STOP*</th>\n",
       "      <th>MILES*</th>\n",
       "      <th>PURPOSE*</th>\n",
       "    </tr>\n",
       "  </thead>\n",
       "  <tbody>\n",
       "    <tr>\n",
       "      <th>0</th>\n",
       "      <td>1/1/2016 21:11</td>\n",
       "      <td>1/1/2016 21:17</td>\n",
       "      <td>Business</td>\n",
       "      <td>Fort Pierce</td>\n",
       "      <td>Fort Pierce</td>\n",
       "      <td>5.1</td>\n",
       "      <td>Meal/Entertain</td>\n",
       "    </tr>\n",
       "    <tr>\n",
       "      <th>1</th>\n",
       "      <td>1/2/2016 1:25</td>\n",
       "      <td>1/2/2016 1:37</td>\n",
       "      <td>Business</td>\n",
       "      <td>Fort Pierce</td>\n",
       "      <td>Fort Pierce</td>\n",
       "      <td>5.0</td>\n",
       "      <td>NaN</td>\n",
       "    </tr>\n",
       "    <tr>\n",
       "      <th>2</th>\n",
       "      <td>1/2/2016 20:25</td>\n",
       "      <td>1/2/2016 20:38</td>\n",
       "      <td>Business</td>\n",
       "      <td>Fort Pierce</td>\n",
       "      <td>Fort Pierce</td>\n",
       "      <td>4.8</td>\n",
       "      <td>Errand/Supplies</td>\n",
       "    </tr>\n",
       "    <tr>\n",
       "      <th>3</th>\n",
       "      <td>1/5/2016 17:31</td>\n",
       "      <td>1/5/2016 17:45</td>\n",
       "      <td>Business</td>\n",
       "      <td>Fort Pierce</td>\n",
       "      <td>Fort Pierce</td>\n",
       "      <td>4.7</td>\n",
       "      <td>Meeting</td>\n",
       "    </tr>\n",
       "    <tr>\n",
       "      <th>4</th>\n",
       "      <td>1/6/2016 14:42</td>\n",
       "      <td>1/6/2016 15:49</td>\n",
       "      <td>Business</td>\n",
       "      <td>Fort Pierce</td>\n",
       "      <td>West Palm Beach</td>\n",
       "      <td>63.7</td>\n",
       "      <td>Customer Visit</td>\n",
       "    </tr>\n",
       "  </tbody>\n",
       "</table>\n",
       "</div>"
      ],
      "text/plain": [
       "      START_DATE*       END_DATE* CATEGORY*       START*            STOP*  \\\n",
       "0  1/1/2016 21:11  1/1/2016 21:17  Business  Fort Pierce      Fort Pierce   \n",
       "1   1/2/2016 1:25   1/2/2016 1:37  Business  Fort Pierce      Fort Pierce   \n",
       "2  1/2/2016 20:25  1/2/2016 20:38  Business  Fort Pierce      Fort Pierce   \n",
       "3  1/5/2016 17:31  1/5/2016 17:45  Business  Fort Pierce      Fort Pierce   \n",
       "4  1/6/2016 14:42  1/6/2016 15:49  Business  Fort Pierce  West Palm Beach   \n",
       "\n",
       "   MILES*         PURPOSE*  \n",
       "0     5.1   Meal/Entertain  \n",
       "1     5.0              NaN  \n",
       "2     4.8  Errand/Supplies  \n",
       "3     4.7          Meeting  \n",
       "4    63.7   Customer Visit  "
      ]
     },
     "execution_count": 3,
     "metadata": {},
     "output_type": "execute_result"
    }
   ],
   "source": [
    "data.head()"
   ]
  },
  {
   "cell_type": "code",
   "execution_count": 4,
   "metadata": {
    "execution": {
     "iopub.execute_input": "2021-02-05T19:57:24.965135Z",
     "iopub.status.busy": "2021-02-05T19:57:24.964201Z",
     "iopub.status.idle": "2021-02-05T19:57:24.969017Z",
     "shell.execute_reply": "2021-02-05T19:57:24.968223Z"
    },
    "papermill": {
     "duration": 0.045392,
     "end_time": "2021-02-05T19:57:24.969184",
     "exception": false,
     "start_time": "2021-02-05T19:57:24.923792",
     "status": "completed"
    },
    "tags": []
   },
   "outputs": [
    {
     "data": {
      "text/plain": [
       "(1156, 7)"
      ]
     },
     "execution_count": 4,
     "metadata": {},
     "output_type": "execute_result"
    }
   ],
   "source": [
    "data.shape"
   ]
  },
  {
   "cell_type": "code",
   "execution_count": 5,
   "metadata": {
    "execution": {
     "iopub.execute_input": "2021-02-05T19:57:25.062640Z",
     "iopub.status.busy": "2021-02-05T19:57:25.061805Z",
     "iopub.status.idle": "2021-02-05T19:57:25.065857Z",
     "shell.execute_reply": "2021-02-05T19:57:25.065324Z"
    },
    "papermill": {
     "duration": 0.059502,
     "end_time": "2021-02-05T19:57:25.065999",
     "exception": false,
     "start_time": "2021-02-05T19:57:25.006497",
     "status": "completed"
    },
    "tags": []
   },
   "outputs": [
    {
     "name": "stdout",
     "output_type": "stream",
     "text": [
      "<class 'pandas.core.frame.DataFrame'>\n",
      "RangeIndex: 1156 entries, 0 to 1155\n",
      "Data columns (total 7 columns):\n",
      " #   Column       Non-Null Count  Dtype  \n",
      "---  ------       --------------  -----  \n",
      " 0   START_DATE*  1156 non-null   object \n",
      " 1   END_DATE*    1155 non-null   object \n",
      " 2   CATEGORY*    1155 non-null   object \n",
      " 3   START*       1155 non-null   object \n",
      " 4   STOP*        1155 non-null   object \n",
      " 5   MILES*       1156 non-null   float64\n",
      " 6   PURPOSE*     653 non-null    object \n",
      "dtypes: float64(1), object(6)\n",
      "memory usage: 63.3+ KB\n"
     ]
    }
   ],
   "source": [
    "data.info()"
   ]
  },
  {
   "cell_type": "markdown",
   "metadata": {
    "papermill": {
     "duration": 0.037144,
     "end_time": "2021-02-05T19:57:25.140300",
     "exception": false,
     "start_time": "2021-02-05T19:57:25.103156",
     "status": "completed"
    },
    "tags": []
   },
   "source": [
    "#### Above info shows the data types"
   ]
  },
  {
   "cell_type": "code",
   "execution_count": 6,
   "metadata": {
    "execution": {
     "iopub.execute_input": "2021-02-05T19:57:25.222723Z",
     "iopub.status.busy": "2021-02-05T19:57:25.221694Z",
     "iopub.status.idle": "2021-02-05T19:57:25.226549Z",
     "shell.execute_reply": "2021-02-05T19:57:25.225954Z"
    },
    "papermill": {
     "duration": 0.049556,
     "end_time": "2021-02-05T19:57:25.226701",
     "exception": false,
     "start_time": "2021-02-05T19:57:25.177145",
     "status": "completed"
    },
    "tags": []
   },
   "outputs": [
    {
     "data": {
      "text/plain": [
       "START_DATE*      0\n",
       "END_DATE*        1\n",
       "CATEGORY*        1\n",
       "START*           1\n",
       "STOP*            1\n",
       "MILES*           0\n",
       "PURPOSE*       503\n",
       "dtype: int64"
      ]
     },
     "execution_count": 6,
     "metadata": {},
     "output_type": "execute_result"
    }
   ],
   "source": [
    "data.isnull().sum()"
   ]
  },
  {
   "cell_type": "markdown",
   "metadata": {
    "papermill": {
     "duration": 0.037035,
     "end_time": "2021-02-05T19:57:25.302026",
     "exception": false,
     "start_time": "2021-02-05T19:57:25.264991",
     "status": "completed"
    },
    "tags": []
   },
   "source": [
    "#### From above data it is clear that there is that one null data which helps in further analysis if it is removed"
   ]
  },
  {
   "cell_type": "code",
   "execution_count": 7,
   "metadata": {
    "execution": {
     "iopub.execute_input": "2021-02-05T19:57:25.390776Z",
     "iopub.status.busy": "2021-02-05T19:57:25.389658Z",
     "iopub.status.idle": "2021-02-05T19:57:25.394094Z",
     "shell.execute_reply": "2021-02-05T19:57:25.394580Z"
    },
    "papermill": {
     "duration": 0.054974,
     "end_time": "2021-02-05T19:57:25.394774",
     "exception": false,
     "start_time": "2021-02-05T19:57:25.339800",
     "status": "completed"
    },
    "tags": []
   },
   "outputs": [
    {
     "data": {
      "text/html": [
       "<div>\n",
       "<style scoped>\n",
       "    .dataframe tbody tr th:only-of-type {\n",
       "        vertical-align: middle;\n",
       "    }\n",
       "\n",
       "    .dataframe tbody tr th {\n",
       "        vertical-align: top;\n",
       "    }\n",
       "\n",
       "    .dataframe thead th {\n",
       "        text-align: right;\n",
       "    }\n",
       "</style>\n",
       "<table border=\"1\" class=\"dataframe\">\n",
       "  <thead>\n",
       "    <tr style=\"text-align: right;\">\n",
       "      <th></th>\n",
       "      <th>START_DATE*</th>\n",
       "      <th>END_DATE*</th>\n",
       "      <th>CATEGORY*</th>\n",
       "      <th>START*</th>\n",
       "      <th>STOP*</th>\n",
       "      <th>MILES*</th>\n",
       "      <th>PURPOSE*</th>\n",
       "    </tr>\n",
       "  </thead>\n",
       "  <tbody>\n",
       "    <tr>\n",
       "      <th>1155</th>\n",
       "      <td>Totals</td>\n",
       "      <td>NaN</td>\n",
       "      <td>NaN</td>\n",
       "      <td>NaN</td>\n",
       "      <td>NaN</td>\n",
       "      <td>12204.7</td>\n",
       "      <td>NaN</td>\n",
       "    </tr>\n",
       "  </tbody>\n",
       "</table>\n",
       "</div>"
      ],
      "text/plain": [
       "     START_DATE* END_DATE* CATEGORY* START* STOP*   MILES* PURPOSE*\n",
       "1155      Totals       NaN       NaN    NaN   NaN  12204.7      NaN"
      ]
     },
     "execution_count": 7,
     "metadata": {},
     "output_type": "execute_result"
    }
   ],
   "source": [
    "data[data['END_DATE*'].isnull()]"
   ]
  },
  {
   "cell_type": "code",
   "execution_count": 8,
   "metadata": {
    "execution": {
     "iopub.execute_input": "2021-02-05T19:57:25.476514Z",
     "iopub.status.busy": "2021-02-05T19:57:25.475675Z",
     "iopub.status.idle": "2021-02-05T19:57:25.479323Z",
     "shell.execute_reply": "2021-02-05T19:57:25.478774Z"
    },
    "papermill": {
     "duration": 0.046446,
     "end_time": "2021-02-05T19:57:25.479490",
     "exception": false,
     "start_time": "2021-02-05T19:57:25.433044",
     "status": "completed"
    },
    "tags": []
   },
   "outputs": [],
   "source": [
    "data.drop(data.index[1155],inplace=True)"
   ]
  },
  {
   "cell_type": "markdown",
   "metadata": {
    "papermill": {
     "duration": 0.037975,
     "end_time": "2021-02-05T19:57:25.555283",
     "exception": false,
     "start_time": "2021-02-05T19:57:25.517308",
     "status": "completed"
    },
    "tags": []
   },
   "source": [
    "### Need to find the duplicated data and should be removed"
   ]
  },
  {
   "cell_type": "code",
   "execution_count": 9,
   "metadata": {
    "execution": {
     "iopub.execute_input": "2021-02-05T19:57:25.639225Z",
     "iopub.status.busy": "2021-02-05T19:57:25.638144Z",
     "iopub.status.idle": "2021-02-05T19:57:25.655831Z",
     "shell.execute_reply": "2021-02-05T19:57:25.655062Z"
    },
    "papermill": {
     "duration": 0.062782,
     "end_time": "2021-02-05T19:57:25.655990",
     "exception": false,
     "start_time": "2021-02-05T19:57:25.593208",
     "status": "completed"
    },
    "tags": []
   },
   "outputs": [
    {
     "data": {
      "text/html": [
       "<div>\n",
       "<style scoped>\n",
       "    .dataframe tbody tr th:only-of-type {\n",
       "        vertical-align: middle;\n",
       "    }\n",
       "\n",
       "    .dataframe tbody tr th {\n",
       "        vertical-align: top;\n",
       "    }\n",
       "\n",
       "    .dataframe thead th {\n",
       "        text-align: right;\n",
       "    }\n",
       "</style>\n",
       "<table border=\"1\" class=\"dataframe\">\n",
       "  <thead>\n",
       "    <tr style=\"text-align: right;\">\n",
       "      <th></th>\n",
       "      <th>START_DATE*</th>\n",
       "      <th>END_DATE*</th>\n",
       "      <th>CATEGORY*</th>\n",
       "      <th>START*</th>\n",
       "      <th>STOP*</th>\n",
       "      <th>MILES*</th>\n",
       "      <th>PURPOSE*</th>\n",
       "    </tr>\n",
       "  </thead>\n",
       "  <tbody>\n",
       "    <tr>\n",
       "      <th>492</th>\n",
       "      <td>6/28/2016 23:34</td>\n",
       "      <td>6/28/2016 23:59</td>\n",
       "      <td>Business</td>\n",
       "      <td>Durham</td>\n",
       "      <td>Cary</td>\n",
       "      <td>9.9</td>\n",
       "      <td>Meeting</td>\n",
       "    </tr>\n",
       "  </tbody>\n",
       "</table>\n",
       "</div>"
      ],
      "text/plain": [
       "         START_DATE*        END_DATE* CATEGORY*  START* STOP*  MILES* PURPOSE*\n",
       "492  6/28/2016 23:34  6/28/2016 23:59  Business  Durham  Cary     9.9  Meeting"
      ]
     },
     "execution_count": 9,
     "metadata": {},
     "output_type": "execute_result"
    }
   ],
   "source": [
    "data[data.duplicated()]"
   ]
  },
  {
   "cell_type": "code",
   "execution_count": 10,
   "metadata": {
    "execution": {
     "iopub.execute_input": "2021-02-05T19:57:25.740108Z",
     "iopub.status.busy": "2021-02-05T19:57:25.739266Z",
     "iopub.status.idle": "2021-02-05T19:57:25.745761Z",
     "shell.execute_reply": "2021-02-05T19:57:25.746235Z"
    },
    "papermill": {
     "duration": 0.05092,
     "end_time": "2021-02-05T19:57:25.746446",
     "exception": false,
     "start_time": "2021-02-05T19:57:25.695526",
     "status": "completed"
    },
    "tags": []
   },
   "outputs": [],
   "source": [
    "data.drop_duplicates(inplace=True)"
   ]
  },
  {
   "cell_type": "code",
   "execution_count": 11,
   "metadata": {
    "execution": {
     "iopub.execute_input": "2021-02-05T19:57:25.831937Z",
     "iopub.status.busy": "2021-02-05T19:57:25.831133Z",
     "iopub.status.idle": "2021-02-05T19:57:25.836283Z",
     "shell.execute_reply": "2021-02-05T19:57:25.836802Z"
    },
    "papermill": {
     "duration": 0.052123,
     "end_time": "2021-02-05T19:57:25.836990",
     "exception": false,
     "start_time": "2021-02-05T19:57:25.784867",
     "status": "completed"
    },
    "tags": []
   },
   "outputs": [
    {
     "data": {
      "text/plain": [
       "START_DATE*      0\n",
       "END_DATE*        0\n",
       "CATEGORY*        0\n",
       "START*           0\n",
       "STOP*            0\n",
       "MILES*           0\n",
       "PURPOSE*       502\n",
       "dtype: int64"
      ]
     },
     "execution_count": 11,
     "metadata": {},
     "output_type": "execute_result"
    }
   ],
   "source": [
    "data.isnull().sum()"
   ]
  },
  {
   "cell_type": "markdown",
   "metadata": {
    "papermill": {
     "duration": 0.043959,
     "end_time": "2021-02-05T19:57:25.919732",
     "exception": false,
     "start_time": "2021-02-05T19:57:25.875773",
     "status": "completed"
    },
    "tags": []
   },
   "source": [
    "### There we have 4 rows having starting and end-time exactly equal i.e. zero trip time, while having non-zero miles (distance) - which cannot be possible."
   ]
  },
  {
   "cell_type": "code",
   "execution_count": 12,
   "metadata": {
    "execution": {
     "iopub.execute_input": "2021-02-05T19:57:26.037624Z",
     "iopub.status.busy": "2021-02-05T19:57:26.036521Z",
     "iopub.status.idle": "2021-02-05T19:57:26.041609Z",
     "shell.execute_reply": "2021-02-05T19:57:26.040745Z"
    },
    "papermill": {
     "duration": 0.072429,
     "end_time": "2021-02-05T19:57:26.041836",
     "exception": false,
     "start_time": "2021-02-05T19:57:25.969407",
     "status": "completed"
    },
    "tags": []
   },
   "outputs": [
    {
     "data": {
      "text/html": [
       "<div>\n",
       "<style scoped>\n",
       "    .dataframe tbody tr th:only-of-type {\n",
       "        vertical-align: middle;\n",
       "    }\n",
       "\n",
       "    .dataframe tbody tr th {\n",
       "        vertical-align: top;\n",
       "    }\n",
       "\n",
       "    .dataframe thead th {\n",
       "        text-align: right;\n",
       "    }\n",
       "</style>\n",
       "<table border=\"1\" class=\"dataframe\">\n",
       "  <thead>\n",
       "    <tr style=\"text-align: right;\">\n",
       "      <th></th>\n",
       "      <th>START_DATE*</th>\n",
       "      <th>END_DATE*</th>\n",
       "      <th>CATEGORY*</th>\n",
       "      <th>START*</th>\n",
       "      <th>STOP*</th>\n",
       "      <th>MILES*</th>\n",
       "      <th>PURPOSE*</th>\n",
       "    </tr>\n",
       "  </thead>\n",
       "  <tbody>\n",
       "    <tr>\n",
       "      <th>751</th>\n",
       "      <td>9/6/2016 17:49</td>\n",
       "      <td>9/6/2016 17:49</td>\n",
       "      <td>Business</td>\n",
       "      <td>Unknown Location</td>\n",
       "      <td>Unknown Location</td>\n",
       "      <td>69.1</td>\n",
       "      <td>NaN</td>\n",
       "    </tr>\n",
       "    <tr>\n",
       "      <th>761</th>\n",
       "      <td>9/16/2016 7:08</td>\n",
       "      <td>9/16/2016 7:08</td>\n",
       "      <td>Business</td>\n",
       "      <td>Unknown Location</td>\n",
       "      <td>Unknown Location</td>\n",
       "      <td>1.6</td>\n",
       "      <td>NaN</td>\n",
       "    </tr>\n",
       "    <tr>\n",
       "      <th>798</th>\n",
       "      <td>10/8/2016 15:03</td>\n",
       "      <td>10/8/2016 15:03</td>\n",
       "      <td>Business</td>\n",
       "      <td>Karachi</td>\n",
       "      <td>Karachi</td>\n",
       "      <td>3.6</td>\n",
       "      <td>NaN</td>\n",
       "    </tr>\n",
       "    <tr>\n",
       "      <th>807</th>\n",
       "      <td>10/13/2016 13:02</td>\n",
       "      <td>10/13/2016 13:02</td>\n",
       "      <td>Business</td>\n",
       "      <td>Islamabad</td>\n",
       "      <td>Islamabad</td>\n",
       "      <td>0.7</td>\n",
       "      <td>NaN</td>\n",
       "    </tr>\n",
       "  </tbody>\n",
       "</table>\n",
       "</div>"
      ],
      "text/plain": [
       "          START_DATE*         END_DATE* CATEGORY*            START*  \\\n",
       "751    9/6/2016 17:49    9/6/2016 17:49  Business  Unknown Location   \n",
       "761    9/16/2016 7:08    9/16/2016 7:08  Business  Unknown Location   \n",
       "798   10/8/2016 15:03   10/8/2016 15:03  Business           Karachi   \n",
       "807  10/13/2016 13:02  10/13/2016 13:02  Business         Islamabad   \n",
       "\n",
       "                STOP*  MILES* PURPOSE*  \n",
       "751  Unknown Location    69.1      NaN  \n",
       "761  Unknown Location     1.6      NaN  \n",
       "798           Karachi     3.6      NaN  \n",
       "807         Islamabad     0.7      NaN  "
      ]
     },
     "execution_count": 12,
     "metadata": {},
     "output_type": "execute_result"
    }
   ],
   "source": [
    "data[data['START_DATE*'] == data['END_DATE*']]"
   ]
  },
  {
   "cell_type": "markdown",
   "metadata": {
    "papermill": {
     "duration": 0.040184,
     "end_time": "2021-02-05T19:57:26.129250",
     "exception": false,
     "start_time": "2021-02-05T19:57:26.089066",
     "status": "completed"
    },
    "tags": []
   },
   "source": [
    "#### Removing them from our dataset"
   ]
  },
  {
   "cell_type": "code",
   "execution_count": 13,
   "metadata": {
    "execution": {
     "iopub.execute_input": "2021-02-05T19:57:26.218020Z",
     "iopub.status.busy": "2021-02-05T19:57:26.217058Z",
     "iopub.status.idle": "2021-02-05T19:57:26.220932Z",
     "shell.execute_reply": "2021-02-05T19:57:26.220294Z"
    },
    "papermill": {
     "duration": 0.05233,
     "end_time": "2021-02-05T19:57:26.221099",
     "exception": false,
     "start_time": "2021-02-05T19:57:26.168769",
     "status": "completed"
    },
    "tags": []
   },
   "outputs": [],
   "source": [
    "data.drop(data.index[[751, 761, 798, 807]], inplace=True)"
   ]
  },
  {
   "cell_type": "code",
   "execution_count": 14,
   "metadata": {
    "execution": {
     "iopub.execute_input": "2021-02-05T19:57:26.307551Z",
     "iopub.status.busy": "2021-02-05T19:57:26.306796Z",
     "iopub.status.idle": "2021-02-05T19:57:26.310513Z",
     "shell.execute_reply": "2021-02-05T19:57:26.309792Z"
    },
    "papermill": {
     "duration": 0.04956,
     "end_time": "2021-02-05T19:57:26.310670",
     "exception": false,
     "start_time": "2021-02-05T19:57:26.261110",
     "status": "completed"
    },
    "tags": []
   },
   "outputs": [
    {
     "data": {
      "text/plain": [
       "(1150, 7)"
      ]
     },
     "execution_count": 14,
     "metadata": {},
     "output_type": "execute_result"
    }
   ],
   "source": [
    "data.shape"
   ]
  },
  {
   "cell_type": "markdown",
   "metadata": {
    "papermill": {
     "duration": 0.03944,
     "end_time": "2021-02-05T19:57:26.390816",
     "exception": false,
     "start_time": "2021-02-05T19:57:26.351376",
     "status": "completed"
    },
    "tags": []
   },
   "source": [
    "### Converting 'START_DATE*' and 'END_DATE*' to Datetime format"
   ]
  },
  {
   "cell_type": "code",
   "execution_count": 15,
   "metadata": {
    "execution": {
     "iopub.execute_input": "2021-02-05T19:57:26.491710Z",
     "iopub.status.busy": "2021-02-05T19:57:26.486594Z",
     "iopub.status.idle": "2021-02-05T19:57:26.716175Z",
     "shell.execute_reply": "2021-02-05T19:57:26.715628Z"
    },
    "papermill": {
     "duration": 0.285643,
     "end_time": "2021-02-05T19:57:26.716332",
     "exception": false,
     "start_time": "2021-02-05T19:57:26.430689",
     "status": "completed"
    },
    "tags": []
   },
   "outputs": [],
   "source": [
    "data['START_DATE*'] = pd.to_datetime(data['START_DATE*'])\n",
    "data['END_DATE*'] = pd.to_datetime(data['END_DATE*'])"
   ]
  },
  {
   "cell_type": "markdown",
   "metadata": {
    "papermill": {
     "duration": 0.040473,
     "end_time": "2021-02-05T19:57:26.797155",
     "exception": false,
     "start_time": "2021-02-05T19:57:26.756682",
     "status": "completed"
    },
    "tags": []
   },
   "source": [
    "### Plotting Business vs Personal Trips"
   ]
  },
  {
   "cell_type": "code",
   "execution_count": 16,
   "metadata": {
    "execution": {
     "iopub.execute_input": "2021-02-05T19:57:26.883116Z",
     "iopub.status.busy": "2021-02-05T19:57:26.882469Z",
     "iopub.status.idle": "2021-02-05T19:57:27.037040Z",
     "shell.execute_reply": "2021-02-05T19:57:27.035954Z"
    },
    "papermill": {
     "duration": 0.200133,
     "end_time": "2021-02-05T19:57:27.037268",
     "exception": false,
     "start_time": "2021-02-05T19:57:26.837135",
     "status": "completed"
    },
    "tags": []
   },
   "outputs": [
    {
     "name": "stderr",
     "output_type": "stream",
     "text": [
      "/opt/conda/lib/python3.7/site-packages/seaborn/_decorators.py:43: FutureWarning: Pass the following variable as a keyword arg: x. From version 0.12, the only valid positional argument will be `data`, and passing other arguments without an explicit keyword will result in an error or misinterpretation.\n",
      "  FutureWarning\n"
     ]
    },
    {
     "data": {
      "image/png": "[encoded data removed]",
      "text/plain": [
       "<Figure size 576x360 with 1 Axes>"
      ]
     },
     "metadata": {
      "needs_background": "light"
     },
     "output_type": "display_data"
    }
   ],
   "source": [
    "plt.figure(figsize=(8,5))\n",
    "sns.countplot(data['CATEGORY*'])\n",
    "plt.show()"
   ]
  },
  {
   "cell_type": "markdown",
   "metadata": {
    "papermill": {
     "duration": 0.041355,
     "end_time": "2021-02-05T19:57:27.120870",
     "exception": false,
     "start_time": "2021-02-05T19:57:27.079515",
     "status": "completed"
    },
    "tags": []
   },
   "source": [
    "### Plotting the Frequency for the Purpose of Trip"
   ]
  },
  {
   "cell_type": "code",
   "execution_count": 17,
   "metadata": {
    "execution": {
     "iopub.execute_input": "2021-02-05T19:57:27.214659Z",
     "iopub.status.busy": "2021-02-05T19:57:27.213977Z",
     "iopub.status.idle": "2021-02-05T19:57:27.419444Z",
     "shell.execute_reply": "2021-02-05T19:57:27.418862Z"
    },
    "papermill": {
     "duration": 0.257485,
     "end_time": "2021-02-05T19:57:27.419620",
     "exception": false,
     "start_time": "2021-02-05T19:57:27.162135",
     "status": "completed"
    },
    "tags": []
   },
   "outputs": [
    {
     "name": "stderr",
     "output_type": "stream",
     "text": [
      "/opt/conda/lib/python3.7/site-packages/seaborn/_decorators.py:43: FutureWarning: Pass the following variable as a keyword arg: x. From version 0.12, the only valid positional argument will be `data`, and passing other arguments without an explicit keyword will result in an error or misinterpretation.\n",
      "  FutureWarning\n"
     ]
    },
    {
     "data": {
      "image/png": "[encoded data removed]",
      "text/plain": [
       "<Figure size 1080x432 with 1 Axes>"
      ]
     },
     "metadata": {
      "needs_background": "light"
     },
     "output_type": "display_data"
    }
   ],
   "source": [
    "plt.figure(figsize=(15,6))\n",
    "sns.countplot(data['PURPOSE*'], order=data['PURPOSE*'].value_counts().index, palette='viridis')\n",
    "plt.show()"
   ]
  },
  {
   "cell_type": "markdown",
   "metadata": {
    "papermill": {
     "duration": 0.042068,
     "end_time": "2021-02-05T19:57:27.504450",
     "exception": false,
     "start_time": "2021-02-05T19:57:27.462382",
     "status": "completed"
    },
    "tags": []
   },
   "source": [
    "### Checking how many are the ROUND TRIPS i.e. start and stop points are same"
   ]
  },
  {
   "cell_type": "code",
   "execution_count": 18,
   "metadata": {
    "execution": {
     "iopub.execute_input": "2021-02-05T19:57:27.596750Z",
     "iopub.status.busy": "2021-02-05T19:57:27.595996Z",
     "iopub.status.idle": "2021-02-05T19:57:27.818414Z",
     "shell.execute_reply": "2021-02-05T19:57:27.818927Z"
    },
    "papermill": {
     "duration": 0.27232,
     "end_time": "2021-02-05T19:57:27.819106",
     "exception": false,
     "start_time": "2021-02-05T19:57:27.546786",
     "status": "completed"
    },
    "tags": []
   },
   "outputs": [
    {
     "name": "stderr",
     "output_type": "stream",
     "text": [
      "/opt/conda/lib/python3.7/site-packages/seaborn/_decorators.py:43: FutureWarning: Pass the following variable as a keyword arg: x. From version 0.12, the only valid positional argument will be `data`, and passing other arguments without an explicit keyword will result in an error or misinterpretation.\n",
      "  FutureWarning\n"
     ]
    },
    {
     "data": {
      "image/png": "[encoded data removed]",
      "text/plain": [
       "<Figure size 576x360 with 1 Axes>"
      ]
     },
     "metadata": {
      "needs_background": "light"
     },
     "output_type": "display_data"
    }
   ],
   "source": [
    "# For this purpose, we need to make a function\n",
    "plt.figure(figsize=(8,5))\n",
    "def round(x):\n",
    "    if x['START*'] == x['STOP*']:\n",
    "        return 'YES'\n",
    "    else:\n",
    "        return 'NO'\n",
    "    \n",
    "data['ROUND_TRIP*'] = data.apply(round, axis=1)\n",
    "\n",
    "sns.countplot(data['ROUND_TRIP*'], order=data['ROUND_TRIP*'].value_counts().index, palette='viridis')\n",
    "plt.show()"
   ]
  },
  {
   "cell_type": "markdown",
   "metadata": {
    "papermill": {
     "duration": 0.043986,
     "end_time": "2021-02-05T19:57:27.906461",
     "exception": false,
     "start_time": "2021-02-05T19:57:27.862475",
     "status": "completed"
    },
    "tags": []
   },
   "source": [
    "#### There are lesser number of round trips"
   ]
  },
  {
   "cell_type": "markdown",
   "metadata": {
    "papermill": {
     "duration": 0.043161,
     "end_time": "2021-02-05T19:57:27.994889",
     "exception": false,
     "start_time": "2021-02-05T19:57:27.951728",
     "status": "completed"
    },
    "tags": []
   },
   "source": [
    "### Entering Month Name and evaluating Frequency of Trip in each Month "
   ]
  },
  {
   "cell_type": "code",
   "execution_count": 19,
   "metadata": {
    "execution": {
     "iopub.execute_input": "2021-02-05T19:57:28.087970Z",
     "iopub.status.busy": "2021-02-05T19:57:28.086631Z",
     "iopub.status.idle": "2021-02-05T19:57:28.091162Z",
     "shell.execute_reply": "2021-02-05T19:57:28.090444Z"
    },
    "papermill": {
     "duration": 0.05301,
     "end_time": "2021-02-05T19:57:28.091326",
     "exception": false,
     "start_time": "2021-02-05T19:57:28.038316",
     "status": "completed"
    },
    "tags": []
   },
   "outputs": [],
   "source": [
    "data['MONTH*'] = pd.DatetimeIndex(data['START_DATE*']).month"
   ]
  },
  {
   "cell_type": "code",
   "execution_count": 20,
   "metadata": {
    "execution": {
     "iopub.execute_input": "2021-02-05T19:57:28.182649Z",
     "iopub.status.busy": "2021-02-05T19:57:28.181928Z",
     "iopub.status.idle": "2021-02-05T19:57:28.189126Z",
     "shell.execute_reply": "2021-02-05T19:57:28.188601Z"
    },
    "papermill": {
     "duration": 0.054022,
     "end_time": "2021-02-05T19:57:28.189277",
     "exception": false,
     "start_time": "2021-02-05T19:57:28.135255",
     "status": "completed"
    },
    "tags": []
   },
   "outputs": [],
   "source": [
    "dic = {1:'Jan', 2: 'Feb', 3: 'Mar', 4: 'April', 5: 'May', 6: 'June', 7: 'July', 8: 'Aug', 9: 'Sep',\n",
    "      10: 'Oct', 11: 'Nov', 12: 'Dec' }\n",
    "\n",
    "data['MONTH*'] = data['MONTH*'].map(dic)"
   ]
  },
  {
   "cell_type": "code",
   "execution_count": 21,
   "metadata": {
    "execution": {
     "iopub.execute_input": "2021-02-05T19:57:28.312564Z",
     "iopub.status.busy": "2021-02-05T19:57:28.288495Z",
     "iopub.status.idle": "2021-02-05T19:57:28.535838Z",
     "shell.execute_reply": "2021-02-05T19:57:28.535235Z"
    },
    "papermill": {
     "duration": 0.303043,
     "end_time": "2021-02-05T19:57:28.535983",
     "exception": false,
     "start_time": "2021-02-05T19:57:28.232940",
     "status": "completed"
    },
    "tags": []
   },
   "outputs": [
    {
     "name": "stderr",
     "output_type": "stream",
     "text": [
      "/opt/conda/lib/python3.7/site-packages/seaborn/_decorators.py:43: FutureWarning: Pass the following variable as a keyword arg: x. From version 0.12, the only valid positional argument will be `data`, and passing other arguments without an explicit keyword will result in an error or misinterpretation.\n",
      "  FutureWarning\n"
     ]
    },
    {
     "data": {
      "image/png": "[encoded data removed]",
      "text/plain": [
       "<Figure size 864x504 with 1 Axes>"
      ]
     },
     "metadata": {
      "needs_background": "light"
     },
     "output_type": "display_data"
    }
   ],
   "source": [
    "plt.figure(figsize=(12,7))\n",
    "sns.countplot(data['MONTH*'], order=data['MONTH*'].value_counts().index, palette='magma')\n",
    "plt.axhline(data['MONTH*'].value_counts().mean(),linestyle='--', color = 'darkred', label='Mean Trips across Months')\n",
    "plt.legend()\n",
    "plt.show()"
   ]
  },
  {
   "cell_type": "markdown",
   "metadata": {
    "papermill": {
     "duration": 0.04511,
     "end_time": "2021-02-05T19:57:28.627183",
     "exception": false,
     "start_time": "2021-02-05T19:57:28.582073",
     "status": "completed"
    },
    "tags": []
   },
   "source": [
    "#### Above plot shows that December has highest number of trips"
   ]
  },
  {
   "cell_type": "markdown",
   "metadata": {
    "papermill": {
     "duration": 0.046664,
     "end_time": "2021-02-05T19:57:28.719403",
     "exception": false,
     "start_time": "2021-02-05T19:57:28.672739",
     "status": "completed"
    },
    "tags": []
   },
   "source": [
    "### Round Trip against Months"
   ]
  },
  {
   "cell_type": "code",
   "execution_count": 22,
   "metadata": {
    "execution": {
     "iopub.execute_input": "2021-02-05T19:57:28.817947Z",
     "iopub.status.busy": "2021-02-05T19:57:28.816985Z",
     "iopub.status.idle": "2021-02-05T19:57:29.105246Z",
     "shell.execute_reply": "2021-02-05T19:57:29.105782Z"
    },
    "papermill": {
     "duration": 0.340068,
     "end_time": "2021-02-05T19:57:29.105969",
     "exception": false,
     "start_time": "2021-02-05T19:57:28.765901",
     "status": "completed"
    },
    "tags": []
   },
   "outputs": [
    {
     "name": "stderr",
     "output_type": "stream",
     "text": [
      "/opt/conda/lib/python3.7/site-packages/seaborn/_decorators.py:43: FutureWarning: Pass the following variable as a keyword arg: x. From version 0.12, the only valid positional argument will be `data`, and passing other arguments without an explicit keyword will result in an error or misinterpretation.\n",
      "  FutureWarning\n"
     ]
    },
    {
     "data": {
      "image/png": "[encoded data removed]",
      "text/plain": [
       "<Figure size 864x504 with 1 Axes>"
      ]
     },
     "metadata": {
      "needs_background": "light"
     },
     "output_type": "display_data"
    }
   ],
   "source": [
    "plt.figure(figsize=(12,7))\n",
    "a=sns.countplot(data['ROUND_TRIP*'],hue=data['MONTH*'])\n",
    "plt.legend(bbox_to_anchor=(1.05, 0.95), loc=2)\n",
    "plt.show()"
   ]
  },
  {
   "cell_type": "markdown",
   "metadata": {
    "papermill": {
     "duration": 0.046102,
     "end_time": "2021-02-05T19:57:29.198441",
     "exception": false,
     "start_time": "2021-02-05T19:57:29.152339",
     "status": "completed"
    },
    "tags": []
   },
   "source": [
    "### Mean distance of Trip w.r.t Category"
   ]
  },
  {
   "cell_type": "code",
   "execution_count": 23,
   "metadata": {
    "execution": {
     "iopub.execute_input": "2021-02-05T19:57:29.300011Z",
     "iopub.status.busy": "2021-02-05T19:57:29.299334Z",
     "iopub.status.idle": "2021-02-05T19:57:29.468114Z",
     "shell.execute_reply": "2021-02-05T19:57:29.467418Z"
    },
    "papermill": {
     "duration": 0.223476,
     "end_time": "2021-02-05T19:57:29.468261",
     "exception": false,
     "start_time": "2021-02-05T19:57:29.244785",
     "status": "completed"
    },
    "tags": []
   },
   "outputs": [
    {
     "data": {
      "image/png": "[encoded data removed]",
      "text/plain": [
       "<Figure size 576x360 with 1 Axes>"
      ]
     },
     "metadata": {
      "needs_background": "light"
     },
     "output_type": "display_data"
    }
   ],
   "source": [
    "plt.figure(figsize=(8,5))\n",
    "data.groupby('CATEGORY*')['MILES*'].mean().plot.bar(color=['maroon','darksalmon'])\n",
    "plt.axhline(data['MILES*'].mean(), linestyle='--', color='green', label='Mean distance')\n",
    "plt.legend()\n",
    "plt.show()"
   ]
  },
  {
   "cell_type": "markdown",
   "metadata": {
    "papermill": {
     "duration": 0.04689,
     "end_time": "2021-02-05T19:57:29.563101",
     "exception": false,
     "start_time": "2021-02-05T19:57:29.516211",
     "status": "completed"
    },
    "tags": []
   },
   "source": [
    "### Now we need to know which number of hours has highest trips"
   ]
  },
  {
   "cell_type": "code",
   "execution_count": 24,
   "metadata": {
    "execution": {
     "iopub.execute_input": "2021-02-05T19:57:29.668640Z",
     "iopub.status.busy": "2021-02-05T19:57:29.667019Z",
     "iopub.status.idle": "2021-02-05T19:57:29.954554Z",
     "shell.execute_reply": "2021-02-05T19:57:29.953819Z"
    },
    "papermill": {
     "duration": 0.344508,
     "end_time": "2021-02-05T19:57:29.954713",
     "exception": false,
     "start_time": "2021-02-05T19:57:29.610205",
     "status": "completed"
    },
    "tags": []
   },
   "outputs": [
    {
     "name": "stderr",
     "output_type": "stream",
     "text": [
      "/opt/conda/lib/python3.7/site-packages/seaborn/_decorators.py:43: FutureWarning: Pass the following variable as a keyword arg: x. From version 0.12, the only valid positional argument will be `data`, and passing other arguments without an explicit keyword will result in an error or misinterpretation.\n",
      "  FutureWarning\n"
     ]
    },
    {
     "data": {
      "image/png": "[encoded data removed]",
      "text/plain": [
       "<Figure size 1080x576 with 1 Axes>"
      ]
     },
     "metadata": {
      "needs_background": "light"
     },
     "output_type": "display_data"
    }
   ],
   "source": [
    "plt.figure(figsize=(15,8))\n",
    "sns.countplot(data['START_DATE*'].dt.hour, palette='cubehelix',\n",
    "              order = data['START_DATE*'].dt.hour.value_counts().index)\n",
    "plt.show()"
   ]
  },
  {
   "cell_type": "markdown",
   "metadata": {
    "papermill": {
     "duration": 0.048173,
     "end_time": "2021-02-05T19:57:30.051577",
     "exception": false,
     "start_time": "2021-02-05T19:57:30.003404",
     "status": "completed"
    },
    "tags": []
   },
   "source": [
    "#### From above graph it is found that higest number of trips occur between 12p.m - 3p.m, among which 3pm has highest trips"
   ]
  },
  {
   "cell_type": "markdown",
   "metadata": {
    "papermill": {
     "duration": 0.048011,
     "end_time": "2021-02-05T19:57:30.147805",
     "exception": false,
     "start_time": "2021-02-05T19:57:30.099794",
     "status": "completed"
    },
    "tags": []
   },
   "source": [
    "### Now we want to determine the speed for each trip"
   ]
  },
  {
   "cell_type": "markdown",
   "metadata": {
    "papermill": {
     "duration": 0.048209,
     "end_time": "2021-02-05T19:57:30.244128",
     "exception": false,
     "start_time": "2021-02-05T19:57:30.195919",
     "status": "completed"
    },
    "tags": []
   },
   "source": [
    "#### For that we will first find the trip duration and then speed"
   ]
  },
  {
   "cell_type": "code",
   "execution_count": 25,
   "metadata": {
    "execution": {
     "iopub.execute_input": "2021-02-05T19:57:30.364606Z",
     "iopub.status.busy": "2021-02-05T19:57:30.352595Z",
     "iopub.status.idle": "2021-02-05T19:57:30.421992Z",
     "shell.execute_reply": "2021-02-05T19:57:30.422702Z"
    },
    "papermill": {
     "duration": 0.130256,
     "end_time": "2021-02-05T19:57:30.422929",
     "exception": false,
     "start_time": "2021-02-05T19:57:30.292673",
     "status": "completed"
    },
    "tags": []
   },
   "outputs": [],
   "source": [
    "def timings(x):\n",
    "    seconds = (x['END_DATE*'] - x['START_DATE*']).seconds\n",
    "    return seconds\n",
    "\n",
    "data['TRIP_HOURS*'] = (data.apply(timings, axis=1)/3600).round(decimals=2)"
   ]
  },
  {
   "cell_type": "code",
   "execution_count": 26,
   "metadata": {
    "execution": {
     "iopub.execute_input": "2021-02-05T19:57:30.524417Z",
     "iopub.status.busy": "2021-02-05T19:57:30.523415Z",
     "iopub.status.idle": "2021-02-05T19:57:30.576311Z",
     "shell.execute_reply": "2021-02-05T19:57:30.575691Z"
    },
    "papermill": {
     "duration": 0.104719,
     "end_time": "2021-02-05T19:57:30.576499",
     "exception": false,
     "start_time": "2021-02-05T19:57:30.471780",
     "status": "completed"
    },
    "tags": []
   },
   "outputs": [],
   "source": [
    "def speed(x):\n",
    "    if x['START_DATE*'] != x['END_DATE*']:\n",
    "        sp = x['MILES*']*1.61 / x['TRIP_HOURS*']\n",
    "        return sp\n",
    "data['SPEED_KM/HR*'] = data.apply(speed, axis=1).round(decimals=2)"
   ]
  },
  {
   "cell_type": "code",
   "execution_count": 27,
   "metadata": {
    "execution": {
     "iopub.execute_input": "2021-02-05T19:57:30.682891Z",
     "iopub.status.busy": "2021-02-05T19:57:30.682169Z",
     "iopub.status.idle": "2021-02-05T19:57:30.684873Z",
     "shell.execute_reply": "2021-02-05T19:57:30.685382Z"
    },
    "papermill": {
     "duration": 0.059565,
     "end_time": "2021-02-05T19:57:30.685592",
     "exception": false,
     "start_time": "2021-02-05T19:57:30.626027",
     "status": "completed"
    },
    "tags": []
   },
   "outputs": [
    {
     "data": {
      "text/plain": [
       "0       82.11\n",
       "1       40.25\n",
       "2       35.13\n",
       "3       32.90\n",
       "4       91.57\n",
       "        ...  \n",
       "1150     9.39\n",
       "1151    20.93\n",
       "1152    44.97\n",
       "1153    34.35\n",
       "1154    45.12\n",
       "Name: SPEED_KM/HR*, Length: 1150, dtype: float64"
      ]
     },
     "execution_count": 27,
     "metadata": {},
     "output_type": "execute_result"
    }
   ],
   "source": [
    "data['SPEED_KM/HR*']"
   ]
  },
  {
   "cell_type": "markdown",
   "metadata": {
    "papermill": {
     "duration": 0.049185,
     "end_time": "2021-02-05T19:57:30.784184",
     "exception": false,
     "start_time": "2021-02-05T19:57:30.734999",
     "status": "completed"
    },
    "tags": []
   },
   "source": [
    "### Now we are interested in getting to know which day of week has highest number of trips"
   ]
  },
  {
   "cell_type": "code",
   "execution_count": 28,
   "metadata": {
    "execution": {
     "iopub.execute_input": "2021-02-05T19:57:30.887644Z",
     "iopub.status.busy": "2021-02-05T19:57:30.886840Z",
     "iopub.status.idle": "2021-02-05T19:57:30.934406Z",
     "shell.execute_reply": "2021-02-05T19:57:30.934949Z"
    },
    "papermill": {
     "duration": 0.10086,
     "end_time": "2021-02-05T19:57:30.935160",
     "exception": false,
     "start_time": "2021-02-05T19:57:30.834300",
     "status": "completed"
    },
    "tags": []
   },
   "outputs": [],
   "source": [
    "def day(x):\n",
    "    day = x['START_DATE*'].day_name()\n",
    "    return day\n",
    "\n",
    "data['DAY*'] = data.apply(day, axis=1)"
   ]
  },
  {
   "cell_type": "code",
   "execution_count": 29,
   "metadata": {
    "execution": {
     "iopub.execute_input": "2021-02-05T19:57:31.044051Z",
     "iopub.status.busy": "2021-02-05T19:57:31.043329Z",
     "iopub.status.idle": "2021-02-05T19:57:31.210037Z",
     "shell.execute_reply": "2021-02-05T19:57:31.210594Z"
    },
    "papermill": {
     "duration": 0.226068,
     "end_time": "2021-02-05T19:57:31.210789",
     "exception": false,
     "start_time": "2021-02-05T19:57:30.984721",
     "status": "completed"
    },
    "tags": []
   },
   "outputs": [
    {
     "name": "stderr",
     "output_type": "stream",
     "text": [
      "/opt/conda/lib/python3.7/site-packages/seaborn/_decorators.py:43: FutureWarning: Pass the following variable as a keyword arg: x. From version 0.12, the only valid positional argument will be `data`, and passing other arguments without an explicit keyword will result in an error or misinterpretation.\n",
      "  FutureWarning\n"
     ]
    },
    {
     "data": {
      "image/png": "[encoded data removed]",
      "text/plain": [
       "<Figure size 504x360 with 1 Axes>"
      ]
     },
     "metadata": {
      "needs_background": "light"
     },
     "output_type": "display_data"
    }
   ],
   "source": [
    "plt.figure(figsize=(7,5))\n",
    "sns.countplot(data['DAY*'], order = data['DAY*'].value_counts().index)\n",
    "plt.show()"
   ]
  },
  {
   "cell_type": "markdown",
   "metadata": {
    "papermill": {
     "duration": 0.050733,
     "end_time": "2021-02-05T19:57:31.312214",
     "exception": false,
     "start_time": "2021-02-05T19:57:31.261481",
     "status": "completed"
    },
    "tags": []
   },
   "source": [
    "#### Above figure shows that highest trips were made on Friday"
   ]
  },
  {
   "cell_type": "markdown",
   "metadata": {
    "papermill": {
     "duration": 0.050159,
     "end_time": "2021-02-05T19:57:31.414167",
     "exception": false,
     "start_time": "2021-02-05T19:57:31.364008",
     "status": "completed"
    },
    "tags": []
   },
   "source": [
    "### Category wise trip per day"
   ]
  },
  {
   "cell_type": "code",
   "execution_count": 30,
   "metadata": {
    "execution": {
     "iopub.execute_input": "2021-02-05T19:57:31.524730Z",
     "iopub.status.busy": "2021-02-05T19:57:31.523985Z",
     "iopub.status.idle": "2021-02-05T19:57:31.748950Z",
     "shell.execute_reply": "2021-02-05T19:57:31.748258Z"
    },
    "papermill": {
     "duration": 0.284579,
     "end_time": "2021-02-05T19:57:31.749101",
     "exception": false,
     "start_time": "2021-02-05T19:57:31.464522",
     "status": "completed"
    },
    "tags": []
   },
   "outputs": [
    {
     "name": "stderr",
     "output_type": "stream",
     "text": [
      "/opt/conda/lib/python3.7/site-packages/seaborn/_decorators.py:43: FutureWarning: Pass the following variable as a keyword arg: x. From version 0.12, the only valid positional argument will be `data`, and passing other arguments without an explicit keyword will result in an error or misinterpretation.\n",
      "  FutureWarning\n"
     ]
    },
    {
     "data": {
      "image/png": "[encoded data removed]",
      "text/plain": [
       "<Figure size 648x432 with 1 Axes>"
      ]
     },
     "metadata": {
      "needs_background": "light"
     },
     "output_type": "display_data"
    }
   ],
   "source": [
    "plt.figure(figsize=(9,6))\n",
    "a=sns.countplot(data['DAY*'],hue=data['CATEGORY*'], palette='rocket',\n",
    "                order=data['DAY*'].value_counts().index)\n",
    "plt.legend(bbox_to_anchor=(1.05, 0.95), loc=2)\n",
    "plt.show()"
   ]
  },
  {
   "cell_type": "markdown",
   "metadata": {
    "papermill": {
     "duration": 0.051594,
     "end_time": "2021-02-05T19:57:31.853463",
     "exception": false,
     "start_time": "2021-02-05T19:57:31.801869",
     "status": "completed"
    },
    "tags": []
   },
   "source": [
    "### Category of Trip per Month"
   ]
  },
  {
   "cell_type": "code",
   "execution_count": 31,
   "metadata": {
    "execution": {
     "iopub.execute_input": "2021-02-05T19:57:31.972771Z",
     "iopub.status.busy": "2021-02-05T19:57:31.970977Z",
     "iopub.status.idle": "2021-02-05T19:57:32.259755Z",
     "shell.execute_reply": "2021-02-05T19:57:32.259046Z"
    },
    "papermill": {
     "duration": 0.353134,
     "end_time": "2021-02-05T19:57:32.259941",
     "exception": false,
     "start_time": "2021-02-05T19:57:31.906807",
     "status": "completed"
    },
    "tags": []
   },
   "outputs": [
    {
     "name": "stderr",
     "output_type": "stream",
     "text": [
      "/opt/conda/lib/python3.7/site-packages/seaborn/_decorators.py:43: FutureWarning: Pass the following variable as a keyword arg: x. From version 0.12, the only valid positional argument will be `data`, and passing other arguments without an explicit keyword will result in an error or misinterpretation.\n",
      "  FutureWarning\n"
     ]
    },
    {
     "data": {
      "image/png": "[encoded data removed]",
      "text/plain": [
       "<Figure size 648x432 with 1 Axes>"
      ]
     },
     "metadata": {
      "needs_background": "light"
     },
     "output_type": "display_data"
    }
   ],
   "source": [
    "plt.figure(figsize=(9,6))\n",
    "sns.countplot(data['MONTH*'],hue=data['CATEGORY*'], palette = 'viridis_r',\n",
    "              order=data['MONTH*'].value_counts().index)\n",
    "plt.show()"
   ]
  },
  {
   "cell_type": "markdown",
   "metadata": {
    "papermill": {
     "duration": 0.054359,
     "end_time": "2021-02-05T19:57:32.367779",
     "exception": false,
     "start_time": "2021-02-05T19:57:32.313420",
     "status": "completed"
    },
    "tags": []
   },
   "source": [
    "#### It can be seen clearly from the above graph that most of the trips made are Business across the month, only few Personal trips were made. Also, highest Business trips were made in the month of December.\n",
    "\n",
    "#### While highest number of Personal trip were on March/ July"
   ]
  },
  {
   "cell_type": "markdown",
   "metadata": {
    "papermill": {
     "duration": 0.052762,
     "end_time": "2021-02-05T19:57:32.473751",
     "exception": false,
     "start_time": "2021-02-05T19:57:32.420989",
     "status": "completed"
    },
    "tags": []
   },
   "source": [
    "### It is necessary to find which hours of the day highest trips are made"
   ]
  },
  {
   "cell_type": "code",
   "execution_count": 32,
   "metadata": {
    "execution": {
     "iopub.execute_input": "2021-02-05T19:57:32.596380Z",
     "iopub.status.busy": "2021-02-05T19:57:32.592340Z",
     "iopub.status.idle": "2021-02-05T19:57:33.477691Z",
     "shell.execute_reply": "2021-02-05T19:57:33.477040Z"
    },
    "papermill": {
     "duration": 0.95005,
     "end_time": "2021-02-05T19:57:33.477836",
     "exception": false,
     "start_time": "2021-02-05T19:57:32.527786",
     "status": "completed"
    },
    "tags": []
   },
   "outputs": [
    {
     "data": {
      "image/png": "[encoded data removed]",
      "text/plain": [
       "<Figure size 1440x720 with 1 Axes>"
      ]
     },
     "metadata": {
      "needs_background": "light"
     },
     "output_type": "display_data"
    }
   ],
   "source": [
    "data['TIME*'] = data['START_DATE*'].dt.hour\n",
    "\n",
    "plt.figure(figsize=(20,10))\n",
    "sns.countplot(data=data, x=data['TIME*'], hue=data['DAY*'],\n",
    "              palette=\"viridis\", )\n",
    "plt.show()"
   ]
  },
  {
   "cell_type": "markdown",
   "metadata": {
    "papermill": {
     "duration": 0.054985,
     "end_time": "2021-02-05T19:57:33.587126",
     "exception": false,
     "start_time": "2021-02-05T19:57:33.532141",
     "status": "completed"
    },
    "tags": []
   },
   "source": [
    "#### From above plot, it can be seen that on Friday 11am - 12pm are peak hours of the trips"
   ]
  },
  {
   "cell_type": "markdown",
   "metadata": {
    "papermill": {
     "duration": 0.053896,
     "end_time": "2021-02-05T19:57:33.695236",
     "exception": false,
     "start_time": "2021-02-05T19:57:33.641340",
     "status": "completed"
    },
    "tags": []
   },
   "source": [
    "### Now we want to know how many trips were made on Day time and how many on Night time"
   ]
  },
  {
   "cell_type": "code",
   "execution_count": 33,
   "metadata": {
    "execution": {
     "iopub.execute_input": "2021-02-05T19:57:33.856399Z",
     "iopub.status.busy": "2021-02-05T19:57:33.819273Z",
     "iopub.status.idle": "2021-02-05T19:57:33.986444Z",
     "shell.execute_reply": "2021-02-05T19:57:33.986950Z"
    },
    "papermill": {
     "duration": 0.2358,
     "end_time": "2021-02-05T19:57:33.987141",
     "exception": false,
     "start_time": "2021-02-05T19:57:33.751341",
     "status": "completed"
    },
    "tags": []
   },
   "outputs": [
    {
     "name": "stderr",
     "output_type": "stream",
     "text": [
      "/opt/conda/lib/python3.7/site-packages/seaborn/_decorators.py:43: FutureWarning: Pass the following variable as a keyword arg: x. From version 0.12, the only valid positional argument will be `data`, and passing other arguments without an explicit keyword will result in an error or misinterpretation.\n",
      "  FutureWarning\n"
     ]
    },
    {
     "data": {
      "image/png": "[encoded data removed]",
      "text/plain": [
       "<Figure size 432x288 with 1 Axes>"
      ]
     },
     "metadata": {
      "needs_background": "light"
     },
     "output_type": "display_data"
    }
   ],
   "source": [
    "a = pd.to_datetime(['18:00:00']).time\n",
    "\n",
    "data['DAY/NIGHT*'] = data.apply(lambda x : 'Night Ride' if x['START_DATE*'].time() > a else 'Day Ride', axis=1)\n",
    "\n",
    "sns.countplot(data['DAY/NIGHT*'], palette='cubehelix' , order = data['DAY/NIGHT*'].value_counts().index)\n",
    "plt.show()"
   ]
  },
  {
   "cell_type": "markdown",
   "metadata": {
    "papermill": {
     "duration": 0.055095,
     "end_time": "2021-02-05T19:57:34.097958",
     "exception": false,
     "start_time": "2021-02-05T19:57:34.042863",
     "status": "completed"
    },
    "tags": []
   },
   "source": [
    "#### Maximum trips were made during Day Time"
   ]
  },
  {
   "cell_type": "markdown",
   "metadata": {
    "papermill": {
     "duration": 0.055298,
     "end_time": "2021-02-05T19:57:34.208761",
     "exception": false,
     "start_time": "2021-02-05T19:57:34.153463",
     "status": "completed"
    },
    "tags": []
   },
   "source": [
    "### Day/Night against Days"
   ]
  },
  {
   "cell_type": "code",
   "execution_count": 34,
   "metadata": {
    "execution": {
     "iopub.execute_input": "2021-02-05T19:57:34.335273Z",
     "iopub.status.busy": "2021-02-05T19:57:34.332187Z",
     "iopub.status.idle": "2021-02-05T19:57:34.562199Z",
     "shell.execute_reply": "2021-02-05T19:57:34.561520Z"
    },
    "papermill": {
     "duration": 0.298209,
     "end_time": "2021-02-05T19:57:34.562366",
     "exception": false,
     "start_time": "2021-02-05T19:57:34.264157",
     "status": "completed"
    },
    "tags": []
   },
   "outputs": [
    {
     "name": "stderr",
     "output_type": "stream",
     "text": [
      "/opt/conda/lib/python3.7/site-packages/seaborn/_decorators.py:43: FutureWarning: Pass the following variable as a keyword arg: x. From version 0.12, the only valid positional argument will be `data`, and passing other arguments without an explicit keyword will result in an error or misinterpretation.\n",
      "  FutureWarning\n"
     ]
    },
    {
     "data": {
      "image/png": "[encoded data removed]",
      "text/plain": [
       "<Figure size 648x504 with 1 Axes>"
      ]
     },
     "metadata": {
      "needs_background": "light"
     },
     "output_type": "display_data"
    }
   ],
   "source": [
    "plt.figure(figsize=(9,7))\n",
    "sns.countplot(data['DAY*'], hue=data['DAY/NIGHT*'], palette='viridis' ,\n",
    "              order=data['DAY*'].value_counts().index)\n",
    "plt.show()"
   ]
  },
  {
   "cell_type": "markdown",
   "metadata": {
    "papermill": {
     "duration": 0.056338,
     "end_time": "2021-02-05T19:57:34.675837",
     "exception": false,
     "start_time": "2021-02-05T19:57:34.619499",
     "status": "completed"
    },
    "tags": []
   },
   "source": [
    "#### Highest number of Day rides were on Friday while Night rides were on Sunday/Thursday"
   ]
  },
  {
   "cell_type": "markdown",
   "metadata": {
    "papermill": {
     "duration": 0.056897,
     "end_time": "2021-02-05T19:57:34.790802",
     "exception": false,
     "start_time": "2021-02-05T19:57:34.733905",
     "status": "completed"
    },
    "tags": []
   },
   "source": [
    "### Converting the continuous Miles into buckets"
   ]
  },
  {
   "cell_type": "code",
   "execution_count": 35,
   "metadata": {
    "execution": {
     "iopub.execute_input": "2021-02-05T19:57:34.966509Z",
     "iopub.status.busy": "2021-02-05T19:57:34.945491Z",
     "iopub.status.idle": "2021-02-05T19:57:35.783016Z",
     "shell.execute_reply": "2021-02-05T19:57:35.782436Z"
    },
    "papermill": {
     "duration": 0.935393,
     "end_time": "2021-02-05T19:57:35.783178",
     "exception": false,
     "start_time": "2021-02-05T19:57:34.847785",
     "status": "completed"
    },
    "tags": []
   },
   "outputs": [
    {
     "name": "stderr",
     "output_type": "stream",
     "text": [
      "/opt/conda/lib/python3.7/site-packages/seaborn/_decorators.py:43: FutureWarning: Pass the following variable as a keyword arg: x. From version 0.12, the only valid positional argument will be `data`, and passing other arguments without an explicit keyword will result in an error or misinterpretation.\n",
      "  FutureWarning\n"
     ]
    },
    {
     "data": {
      "image/png": "[encoded data removed]",
      "text/plain": [
       "<Figure size 720x432 with 1 Axes>"
      ]
     },
     "metadata": {
      "needs_background": "light"
     },
     "output_type": "display_data"
    }
   ],
   "source": [
    "f = {}\n",
    "\n",
    "for i in data['MILES*']:\n",
    "    for i in data['MILES*']:\n",
    "        if i < 10:\n",
    "            f.setdefault(i,'0-10 miles')\n",
    "        elif i >= 10 and i < 20:\n",
    "            f.setdefault(i,'10-20 miles')\n",
    "        elif i >= 20 and i < 30:\n",
    "            f.setdefault(i,'20-30 miles')\n",
    "        elif i >= 30 and i < 40:\n",
    "            f.setdefault(i,'30-40 miles')\n",
    "        elif i >= 40 and i < 50:\n",
    "            f.setdefault(i,'40-50 miles')\n",
    "        else:\n",
    "            f.setdefault(i,'Above 50 miles')\n",
    "            \n",
    "data['MILES_BUCKET*'] = data['MILES*'].map(f)\n",
    "\n",
    "plt.figure(figsize=(10,6))\n",
    "sns.countplot(data['MILES_BUCKET*'], palette='cubehelix' ,\n",
    "              order = data['MILES_BUCKET*'].value_counts().index)\n",
    "plt.show()"
   ]
  },
  {
   "cell_type": "markdown",
   "metadata": {
    "papermill": {
     "duration": 0.059999,
     "end_time": "2021-02-05T19:57:35.903140",
     "exception": false,
     "start_time": "2021-02-05T19:57:35.843141",
     "status": "completed"
    },
    "tags": []
   },
   "source": [
    "#### One can see that there are more number of short distanced trips"
   ]
  },
  {
   "cell_type": "code",
   "execution_count": 36,
   "metadata": {
    "execution": {
     "iopub.execute_input": "2021-02-05T19:57:36.060112Z",
     "iopub.status.busy": "2021-02-05T19:57:36.031420Z",
     "iopub.status.idle": "2021-02-05T19:57:36.246248Z",
     "shell.execute_reply": "2021-02-05T19:57:36.246759Z"
    },
    "papermill": {
     "duration": 0.285556,
     "end_time": "2021-02-05T19:57:36.246939",
     "exception": false,
     "start_time": "2021-02-05T19:57:35.961383",
     "status": "completed"
    },
    "tags": []
   },
   "outputs": [
    {
     "name": "stderr",
     "output_type": "stream",
     "text": [
      "/opt/conda/lib/python3.7/site-packages/seaborn/_decorators.py:43: FutureWarning: Pass the following variable as a keyword arg: x. From version 0.12, the only valid positional argument will be `data`, and passing other arguments without an explicit keyword will result in an error or misinterpretation.\n",
      "  FutureWarning\n"
     ]
    },
    {
     "data": {
      "image/png": "[encoded data removed]",
      "text/plain": [
       "<Figure size 720x504 with 1 Axes>"
      ]
     },
     "metadata": {
      "needs_background": "light"
     },
     "output_type": "display_data"
    }
   ],
   "source": [
    "plt.figure(figsize=(10,7))\n",
    "sns.countplot(data['MILES_BUCKET*'], hue=data['DAY/NIGHT*'], palette='YlOrBr',\n",
    "              order = data['MILES_BUCKET*'].value_counts().index)\n",
    "plt.show()"
   ]
  },
  {
   "cell_type": "markdown",
   "metadata": {
    "papermill": {
     "duration": 0.059458,
     "end_time": "2021-02-05T19:57:36.365857",
     "exception": false,
     "start_time": "2021-02-05T19:57:36.306399",
     "status": "completed"
    },
    "tags": []
   },
   "source": [
    "#### Both highest number of Day and Night Rides were below 10miles of a distance"
   ]
  },
  {
   "cell_type": "code",
   "execution_count": null,
   "metadata": {
    "papermill": {
     "duration": 0.058729,
     "end_time": "2021-02-05T19:57:36.483900",
     "exception": false,
     "start_time": "2021-02-05T19:57:36.425171",
     "status": "completed"
    },
    "tags": []
   },
   "outputs": [],
   "source": []
  }
 ],
 "metadata": {
  "kernelspec": {
   "display_name": "Python 3",
   "language": "python",
   "name": "python3"
  },
  "language_info": {
   "codemirror_mode": {
    "name": "ipython",
    "version": 3
   },
   "file_extension": ".py",
   "mimetype": "text/x-python",
   "name": "python",
   "nbconvert_exporter": "python",
   "pygments_lexer": "ipython3",
   "version": "3.8.8"
  },
  "papermill": {
   "default_parameters": {},
   "duration": 19.842588,
   "end_time": "2021-02-05T19:57:37.253426",
   "environment_variables": {},
   "exception": null,
   "input_path": "__notebook__.ipynb",
   "output_path": "__notebook__.ipynb",
   "parameters": {},
   "start_time": "2021-02-05T19:57:17.410838",
   "version": "2.2.2"
  }
 },
 "nbformat": 4,
 "nbformat_minor": 4
}
