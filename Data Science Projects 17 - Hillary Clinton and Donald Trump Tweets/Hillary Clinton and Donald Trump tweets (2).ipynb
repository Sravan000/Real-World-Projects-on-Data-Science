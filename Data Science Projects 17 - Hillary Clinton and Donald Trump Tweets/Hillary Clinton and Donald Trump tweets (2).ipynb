{
 "cells": [
  {
   "cell_type": "code",
   "execution_count": null,
   "metadata": {},
   "outputs": [],
   "source": [
    "import numpy as np \n",
    "import pandas as pd \n",
    "import re\n",
    "import torch\n",
    "import seaborn as sns\n",
    "import warnings\n",
    "import matplotlib.pyplot as plt \n",
    "%matplotlib inline\n",
    "\n",
    "from wordcloud import WordCloud, STOPWORDS\n",
    "from sklearn.model_selection import train_test_split\n",
    "from transformers import (GPT2Config,GPT2LMHeadModel,GPT2Tokenizer)\n",
    "from string import punctuation as pnc\n",
    "from collections import Counter\n",
    "from wordcloud import WordCloud\n",
    "\n",
    "sns.set_style('darkgrid')\n",
    "pd.set_option('display.max_columns', None)\n",
    "warnings.filterwarnings('ignore')"
   ]
  },
  {
   "cell_type": "code",
   "execution_count": null,
   "metadata": {},
   "outputs": [],
   "source": [
    "!pip install transformers"
   ]
  },
  {
   "cell_type": "code",
   "execution_count": null,
   "metadata": {},
   "outputs": [],
   "source": [
    "''' reading dataset '''\n",
    "df = pd.read_csv('tweets.csv')"
   ]
  },
  {
   "cell_type": "code",
   "execution_count": null,
   "metadata": {},
   "outputs": [],
   "source": [
    "''' displaying 5 rows '''\n",
    "df.head()"
   ]
  },
  {
   "cell_type": "code",
   "execution_count": null,
   "metadata": {},
   "outputs": [],
   "source": [
    "''' checking null values '''\n",
    "df.isna().sum()"
   ]
  },
  {
   "cell_type": "code",
   "execution_count": null,
   "metadata": {},
   "outputs": [],
   "source": [
    "''' taking only 3 features '''\n",
    "df = df[['handle','text','is_retweet']]\n",
    "\n",
    "''' displaying rows '''\n",
    "df.head()"
   ]
  },
  {
   "cell_type": "code",
   "execution_count": null,
   "metadata": {},
   "outputs": [],
   "source": [
    "''' valuec counts in handle column '''\n",
    "handle_label = df['handle'].value_counts()\n",
    "\n",
    "''' barplot '''\n",
    "plt.figure(figsize=(5, 5))\n",
    "sns.barplot(handle_label.index, handle_label);\n",
    "plt.xlabel('Handle', fontsize=20)\n",
    "plt.ylabel('Count', fontsize=20);"
   ]
  },
  {
   "cell_type": "code",
   "execution_count": null,
   "metadata": {},
   "outputs": [],
   "source": [
    "''' value count of is_retweet '''\n",
    "is_retweet_label = df.is_retweet.value_counts()\n",
    "\n",
    "''' barplot '''\n",
    "plt.figure(figsize=(5, 5))\n",
    "sns.barplot(is_retweet_label.index, is_retweet_label);\n",
    "plt.xlabel('isretweet', fontsize=20)\n",
    "plt.ylabel('Count', fontsize=20);"
   ]
  },
  {
   "cell_type": "code",
   "execution_count": null,
   "metadata": {},
   "outputs": [],
   "source": [
    "''' separrting donal and hillary tweets '''\n",
    "realDonaldTrump = df[df.handle == 'realDonaldTrump']\n",
    "hillaryClinton = df[df.handle == 'HillaryClinton']"
   ]
  },
  {
   "cell_type": "code",
   "execution_count": null,
   "metadata": {},
   "outputs": [],
   "source": [
    "''' donald tweet '''\n",
    "realDonaldTrump.head()"
   ]
  },
  {
   "cell_type": "code",
   "execution_count": null,
   "metadata": {},
   "outputs": [],
   "source": [
    "''' hillary clinton tweets '''\n",
    "hillaryClinton.head()"
   ]
  },
  {
   "cell_type": "code",
   "execution_count": null,
   "metadata": {},
   "outputs": [],
   "source": [
    "def get_word_cloud(df, c):\n",
    "    cm = ' '\n",
    "    s_word = set(STOPWbORDS)\n",
    "    \n",
    "    for sent in df[c]:\n",
    "        ''' converting sent into string '''\n",
    "        sent = str(sent)\n",
    "        ''' spiltting every sent from (\" \") '''\n",
    "        tokens = sent.split()\n",
    "        \n",
    "        for i in range(len(tokens)):\n",
    "            tokens[i] = tokens[i].lower()\n",
    "        \n",
    "        ''' joining all tokesn '''\n",
    "        cm += \" \".join(tokens)\n",
    "    \n",
    "    word_cloud = WordCloud(width=800, height=400, background_color='black', stopwords=s_word,\n",
    "                           min_font_size=10).generate(cm)\n",
    "    \n",
    "    plt.figure(figsize = (10, 10), facecolor = None) \n",
    "    plt.imshow(word_cloud) \n",
    "    plt.axis(\"off\")\n",
    "    plt.tight_layout(pad = 0) \n",
    "    plt.show()"
   ]
  },
  {
   "cell_type": "code",
   "execution_count": null,
   "metadata": {},
   "outputs": [],
   "source": [
    "''' hillary clinton '''\n",
    "get_word_cloud(hillaryClinton,'text')"
   ]
  },
  {
   "cell_type": "code",
   "execution_count": null,
   "metadata": {},
   "outputs": [],
   "source": [
    "''' donal trump '''\n",
    "get_word_cloud(realDonaldTrump, 'text')"
   ]
  },
  {
   "cell_type": "code",
   "execution_count": null,
   "metadata": {},
   "outputs": [],
   "source": [
    "''' extracting words that start with (@) '''\n",
    "def extract_words(df, c):\n",
    "    words = []\n",
    "    for t in df[c].tolist():\n",
    "        t = [x for x in t.split() if x.startswith('@')]\n",
    "        words += t\n",
    "    \n",
    "    print(words[:10])"
   ]
  },
  {
   "cell_type": "code",
   "execution_count": null,
   "metadata": {},
   "outputs": [],
   "source": [
    "extract_words(realDonaldTrump, 'text')"
   ]
  },
  {
   "cell_type": "code",
   "execution_count": null,
   "metadata": {},
   "outputs": [],
   "source": [
    "extract_words(hillaryClinton, 'text')"
   ]
  },
  {
   "cell_type": "code",
   "execution_count": null,
   "metadata": {},
   "outputs": [],
   "source": [
    "''' extracting words that start with (#) '''\n",
    "def extract_words_(df, c):\n",
    "    words = []\n",
    "    for t in df[c].tolist():\n",
    "        t = [x for x in t.split() if x.startswith('#')]\n",
    "        words += t\n",
    "    \n",
    "    print(words[:10])"
   ]
  },
  {
   "cell_type": "code",
   "execution_count": null,
   "metadata": {},
   "outputs": [],
   "source": [
    "extract_words_(realDonaldTrump, 'text')"
   ]
  },
  {
   "cell_type": "code",
   "execution_count": null,
   "metadata": {},
   "outputs": [],
   "source": [
    "extract_words_(hillaryClinton, 'text')"
   ]
  },
  {
   "cell_type": "code",
   "execution_count": null,
   "metadata": {},
   "outputs": [],
   "source": [
    "''' extracting words that start with (—) '''\n",
    "def extract_words_(df, c):\n",
    "    words = []\n",
    "    for t in df[c].tolist():\n",
    "        t = [x for x in t.split() if x.startswith('—')]\n",
    "        words += t\n",
    "    \n",
    "    print(words[:10])"
   ]
  },
  {
   "cell_type": "code",
   "execution_count": null,
   "metadata": {},
   "outputs": [],
   "source": [
    "extract_words_(realDonaldTrump, 'text')"
   ]
  },
  {
   "cell_type": "code",
   "execution_count": null,
   "metadata": {},
   "outputs": [],
   "source": [
    "extract_words_(hillaryClinton, 'text')"
   ]
  },
  {
   "cell_type": "code",
   "execution_count": null,
   "metadata": {
    "scrolled": true
   },
   "outputs": [],
   "source": [
    "''' Let's see tweets where Hillary mentioned herself '''\n",
    "\n",
    "''' converting every into small letter '''\n",
    "hillaryClinton['tweet_lower'] = hillaryClinton['text'].str.lower()\n",
    "\n",
    "''' getting tweets '''\n",
    "hillaryClinton[hillaryClinton['tweet_lower'].str.contains('hillary')]['text'].head()"
   ]
  },
  {
   "cell_type": "code",
   "execution_count": null,
   "metadata": {},
   "outputs": [],
   "source": [
    "''' Let's see tweets where Trump mentioned himself '''\n",
    "\n",
    "''' converting every into small letter '''\n",
    "realDonaldTrump['tweet_lower'] = realDonaldTrump['text'].str.lower()\n",
    "\n",
    "''' getting tweets '''\n",
    "realDonaldTrump[realDonaldTrump['tweet_lower'].str.contains('trump')]['text'].head()"
   ]
  },
  {
   "cell_type": "code",
   "execution_count": null,
   "metadata": {},
   "outputs": [],
   "source": [
    "''' removing all tags (@, #, -) '''\n",
    "def remove_tags(t):\n",
    "    text = \" \".join([x for x in t.split(\" \") if not x.startswith(\"@\")])\n",
    "    text = \" \".join([x for x in text.split(\" \") if not x.startswith(\"#\")])\n",
    "    text = \" \".join([x for x in text.split(\" \") if not x.startswith(\"—\")])\n",
    "    return text"
   ]
  },
  {
   "cell_type": "code",
   "execution_count": null,
   "metadata": {},
   "outputs": [],
   "source": [
    "''' preprocessing text'''\n",
    "\n",
    "''' hillary '''\n",
    "hillaryClinton['text_prepro'] = hillaryClinton['text'].str.replace('http\\S+|www.\\S+', '', case=False)\n",
    "hillaryClinton['text_prepro'] = hillaryClinton['text_prepro'].str.replace('\\n', '')\n",
    "hillaryClinton['text_prepro'] = hillaryClinton['text_prepro'].map(remove_tags)\n",
    "\n",
    "''' trump '''\n",
    "realDonaldTrump['text_prepro'] = realDonaldTrump['text'].str.replace('http\\S+|www.\\S+', '', case=False)\n",
    "realDonaldTrump['text_prepro'] = realDonaldTrump['text_prepro'].str.replace('\\n', '')\n",
    "realDonaldTrump['text_prepro'] = realDonaldTrump['text_prepro'].map(remove_tags)"
   ]
  },
  {
   "cell_type": "code",
   "execution_count": null,
   "metadata": {},
   "outputs": [],
   "source": [
    "hillaryClinton.head()"
   ]
  },
  {
   "cell_type": "code",
   "execution_count": null,
   "metadata": {},
   "outputs": [],
   "source": [
    "realDonaldTrump.head()"
   ]
  },
  {
   "cell_type": "code",
   "execution_count": null,
   "metadata": {},
   "outputs": [],
   "source": [
    "''' train test split '''\n",
    "X_train, X_test = train_test_split(hillaryClinton['text_prepro'],test_size = 0.05)"
   ]
  },
  {
   "cell_type": "code",
   "execution_count": null,
   "metadata": {},
   "outputs": [],
   "source": [
    "!pip install simpletransformers==0.32.3"
   ]
  },
  {
   "cell_type": "code",
   "execution_count": null,
   "metadata": {},
   "outputs": [],
   "source": [
    "\"\"\" Training the Model. We will finetune GPT2 Model(Simple Transformer) using the Hillary's Tweets \"\"\"\n",
    "from simpletransformers.language_modeling import LanguageModelingModel"
   ]
  },
  {
   "cell_type": "code",
   "execution_count": null,
   "metadata": {},
   "outputs": [],
   "source": [
    "args = {\n",
    "    \"reprocess_input_data\": True,\n",
    "    \"overwrite_output_dir\": True,\n",
    "    \"num_train_epochs\": 10,\n",
    "    \"train_batch_size\": 32,\n",
    "    \"mlm\": False,\n",
    "    \"dataset_type\" : \"simple\",\n",
    "    \"block_size\" : 24,\n",
    "    \"max_seq_length\" : 24,\n",
    "    \"evaluate_during_training\": True,\n",
    "    \"evaluate_during_training_steps\": 50,\n",
    "    \"evaluate_during_training_verbose\": True,\n",
    "    \"use_cached_eval_features\": True,\n",
    "    \"save_eval_checkpoints\" : False,\n",
    "    \"save_model_every_epoch\" : False,\n",
    "    \"early_stopping_patience\" : 2,\n",
    "    \"use_early_stopping\" : True,\n",
    "    \"save_optimizer_and_scheduler \" : False,\n",
    "    \"fp16\" : False\n",
    "}\n",
    "\n",
    "model = LanguageModelingModel(\n",
    "    'gpt2', \n",
    "    'gpt2',\n",
    "    args=args\n",
    ")"
   ]
  },
  {
   "cell_type": "code",
   "execution_count": null,
   "metadata": {},
   "outputs": [],
   "source": [
    "config, model, tokenizer = GPT2Config, GPT2LMHeadModel, GPT2Tokenizer"
   ]
  },
  {
   "cell_type": "code",
   "execution_count": null,
   "metadata": {},
   "outputs": [],
   "source": [
    "best_model  = model.from_pretrained('gpt2')"
   ]
  },
  {
   "cell_type": "code",
   "execution_count": null,
   "metadata": {},
   "outputs": [],
   "source": [
    "texts = [\"I will reduce Gun violence.\",\"Donald will build a wall\",\"I will make our health care system better\",\n",
    "        \"Come rally with us\",\"America is in financial stress\",\"We have to preserve secularism\", \"We will win the election\"]\n",
    "\n",
    "token = tokenizer.from_pretrained('gpt2')\n",
    "\n",
    "for text in texts:\n",
    "    enc_prompt = token.encode(texts, add_special_tokens=False, return_tensors=\"pt\")\n",
    "    gen = model.generate(encoded_prompt,max_length = 128, num_beams = 2, repetition_penalty = 5.0,verbose=False)\n",
    "    gen = gen.tolist()[0]\n",
    "    text = token.decode(gen, clean_up_tokenization_spaces=True)\n",
    "    print(\".\".join(text.split(\".\")[:3]))"
   ]
  },
  {
   "cell_type": "code",
   "execution_count": null,
   "metadata": {},
   "outputs": [],
   "source": []
  },
  {
   "cell_type": "code",
   "execution_count": null,
   "metadata": {},
   "outputs": [],
   "source": []
  }
 ],
 "metadata": {
  "kernelspec": {
   "display_name": "Python 3",
   "language": "python",
   "name": "python3"
  },
  "language_info": {
   "codemirror_mode": {
    "name": "ipython",
    "version": 3
   },
   "file_extension": ".py",
   "mimetype": "text/x-python",
   "name": "python",
   "nbconvert_exporter": "python",
   "pygments_lexer": "ipython3",
   "version": "3.8.8"
  }
 },
 "nbformat": 4,
 "nbformat_minor": 4
}
