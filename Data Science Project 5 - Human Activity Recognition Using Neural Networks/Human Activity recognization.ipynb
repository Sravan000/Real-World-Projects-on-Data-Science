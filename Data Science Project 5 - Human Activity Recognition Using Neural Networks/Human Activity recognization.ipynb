{
 "cells": [
  {
   "cell_type": "markdown",
   "metadata": {},
   "source": [
    "## Human Activity Recognition"
   ]
  },
  {
   "cell_type": "code",
   "execution_count": null,
   "metadata": {},
   "outputs": [],
   "source": [
    "import numpy as np \n",
    "import pandas as pd \n",
    "import matplotlib.pyplot as plt\n",
    "%matplotlib inline\n",
    "import seaborn as sns\n",
    "import tensorflow as tf\n",
    "\n",
    "from sklearn.preprocessing import StandardScaler\n",
    "from sklearn.decomposition import PCA\n",
    "from sklearn.preprocessing import LabelEncoder\n",
    "from tensorflow import keras\n",
    "from sklearn.metrics import accuracy_score, confusion_matrix, classification_report\n",
    "\n",
    "pd.set_option('display.max_columns', None)\n",
    "sns.set_style('darkgrid')"
   ]
  },
  {
   "cell_type": "code",
   "execution_count": null,
   "metadata": {},
   "outputs": [],
   "source": [
    "## reading training data\n",
    "train_df = pd.read_csv()\n",
    "##reading test data\n",
    "test_df = pd.read_csv()"
   ]
  },
  {
   "cell_type": "code",
   "execution_count": null,
   "metadata": {},
   "outputs": [],
   "source": [
    "train_df.head()"
   ]
  },
  {
   "cell_type": "code",
   "execution_count": null,
   "metadata": {},
   "outputs": [],
   "source": [
    "test_df.head()"
   ]
  },
  {
   "cell_type": "code",
   "execution_count": null,
   "metadata": {},
   "outputs": [],
   "source": [
    "print(\"train data shape: \", train_df.shape)\n",
    "print(\"test data shape: \", test_df.shape)"
   ]
  },
  {
   "cell_type": "code",
   "execution_count": null,
   "metadata": {},
   "outputs": [],
   "source": [
    "## train and test data \n",
    "X_train = train_df.iloc[:, :-2]\n",
    "y_train = train_df.iloc[:, -1]\n",
    "\n",
    "X_test = test_df.iloc[:, :-2]\n",
    "y_test = test_df.iloc[:, -1]"
   ]
  },
  {
   "cell_type": "code",
   "execution_count": null,
   "metadata": {},
   "outputs": [],
   "source": [
    "## unique classes\n",
    "y_train.unique()"
   ]
  },
  {
   "cell_type": "code",
   "execution_count": null,
   "metadata": {},
   "outputs": [],
   "source": [
    "## value counts of unique classes\n",
    "class_label = y_train.value_counts()"
   ]
  },
  {
   "cell_type": "code",
   "execution_count": null,
   "metadata": {},
   "outputs": [],
   "source": [
    "plt.figure(figsize=(10, 10))\n",
    "plt.xticks(rotation=75)\n",
    "sns.barplot(class_label.index, class_label);"
   ]
  },
  {
   "cell_type": "code",
   "execution_count": null,
   "metadata": {},
   "outputs": [],
   "source": [
    "## Standard Scaler\n",
    "sc = StandardScaler()\n",
    "\n",
    "X_train = sc.fit_transform(X_train)\n",
    "X_test = sc.transform(X_test)"
   ]
  },
  {
   "cell_type": "code",
   "execution_count": null,
   "metadata": {},
   "outputs": [],
   "source": [
    "##  LabelEncoder\n",
    "\n",
    "label_encoder = LabelEncoder()\n",
    "\n",
    "y_train = label_encoder.fit_transform(y_train)\n",
    "y_train=pd.get_dummies(y_train).values\n",
    "\n",
    "y_test = label_encoder.fit_transform(y_test)\n",
    "y_test=pd.get_dummies(y_test).values"
   ]
  },
  {
   "cell_type": "code",
   "execution_count": null,
   "metadata": {},
   "outputs": [],
   "source": [
    "## converting into numpy array\n",
    "y_train = np.array(y_train)\n",
    "y_test = np.array(y_test)"
   ]
  },
  {
   "cell_type": "code",
   "execution_count": null,
   "metadata": {},
   "outputs": [],
   "source": [
    "y_train"
   ]
  },
  {
   "cell_type": "code",
   "execution_count": 73,
   "metadata": {},
   "outputs": [],
   "source": [
    "## PCA \n",
    "pca = PCA(n_components=None)\n",
    "\n",
    "X_train = pca.fit_transform(X_train)\n",
    "X_test = pca.transform(X_test)"
   ]
  },
  {
   "cell_type": "code",
   "execution_count": 74,
   "metadata": {},
   "outputs": [
    {
     "data": {
      "text/plain": [
       "array([[-1.61385437e+01,  2.15202401e+00,  3.14478025e+00, ...,\n",
       "        -4.27136722e-15,  5.72222463e-17, -2.34441529e-17],\n",
       "       [-1.52961943e+01,  1.38714378e+00, -6.82221071e-01, ...,\n",
       "        -6.08755449e-16,  2.60584005e-16, -6.95377510e-17],\n",
       "       [-1.51370186e+01,  2.47335094e+00, -1.75664057e+00, ...,\n",
       "        -9.91046502e-17, -4.09340809e-16,  1.32293630e-16],\n",
       "       ...,\n",
       "       [ 1.43334359e+01, -1.22607119e+01,  4.02594620e+00, ...,\n",
       "         1.53359076e-15,  2.25751862e-16, -4.88702784e-17],\n",
       "       [ 1.28760189e+01, -1.40712559e+01,  2.91606098e+00, ...,\n",
       "        -1.06355487e-15,  2.16198057e-17,  2.70580757e-17],\n",
       "       [ 1.30161037e+01, -1.22442612e+01,  1.33604965e+00, ...,\n",
       "         1.02200086e-15,  1.70426180e-16, -1.94885453e-17]])"
      ]
     },
     "execution_count": 74,
     "metadata": {},
     "output_type": "execute_result"
    }
   ],
   "source": [
    "X_train"
   ]
  },
  {
   "cell_type": "code",
   "execution_count": 75,
   "metadata": {},
   "outputs": [],
   "source": [
    "## Model \n",
    "\n",
    "model = keras.models.Sequential()\n",
    "model.add(keras.layers.Dense(units=64,activation='relu'))\n",
    "model.add(keras.layers.Dense(units=128,activation='relu'))\n",
    "model.add(keras.layers.Dense(units=64,activation='relu'))\n",
    "model.add(keras.layers.Dense(units=6,activation='softmax'))"
   ]
  },
  {
   "cell_type": "code",
   "execution_count": 76,
   "metadata": {},
   "outputs": [],
   "source": [
    "model.compile(optimizer='adam',loss='categorical_crossentropy',metrics=['accuracy'])"
   ]
  },
  {
   "cell_type": "code",
   "execution_count": 77,
   "metadata": {},
   "outputs": [
    {
     "name": "stdout",
     "output_type": "stream",
     "text": [
      "Epoch 1/15\n",
      "46/46 [==============================] - 6s 24ms/step - loss: 1.1816 - accuracy: 0.5844 - val_loss: 0.2190 - val_accuracy: 0.9252\n",
      "Epoch 2/15\n",
      "46/46 [==============================] - 0s 7ms/step - loss: 0.1102 - accuracy: 0.9690 - val_loss: 0.1347 - val_accuracy: 0.9443\n",
      "Epoch 3/15\n",
      "46/46 [==============================] - 0s 7ms/step - loss: 0.0424 - accuracy: 0.9875 - val_loss: 0.1308 - val_accuracy: 0.9470\n",
      "Epoch 4/15\n",
      "46/46 [==============================] - 0s 7ms/step - loss: 0.0234 - accuracy: 0.9926 - val_loss: 0.1299 - val_accuracy: 0.9524\n",
      "Epoch 5/15\n",
      "46/46 [==============================] - ETA: 0s - loss: 0.0159 - accuracy: 0.99 - 0s 6ms/step - loss: 0.0166 - accuracy: 0.9962 - val_loss: 0.1541 - val_accuracy: 0.9524\n",
      "Epoch 6/15\n",
      "46/46 [==============================] - 0s 6ms/step - loss: 0.0146 - accuracy: 0.9960 - val_loss: 0.1600 - val_accuracy: 0.9524\n",
      "Epoch 7/15\n",
      "46/46 [==============================] - 0s 6ms/step - loss: 0.0088 - accuracy: 0.9980 - val_loss: 0.1545 - val_accuracy: 0.9551\n",
      "Epoch 8/15\n",
      "46/46 [==============================] - 0s 7ms/step - loss: 0.0065 - accuracy: 0.9988 - val_loss: 0.1599 - val_accuracy: 0.9572\n",
      "Epoch 9/15\n",
      "46/46 [==============================] - 0s 10ms/step - loss: 0.0041 - accuracy: 0.9993 - val_loss: 0.1796 - val_accuracy: 0.9551\n",
      "Epoch 10/15\n",
      "46/46 [==============================] - 1s 11ms/step - loss: 0.0026 - accuracy: 1.0000 - val_loss: 0.1829 - val_accuracy: 0.9565\n",
      "Epoch 11/15\n",
      "46/46 [==============================] - 1s 13ms/step - loss: 0.0020 - accuracy: 1.0000 - val_loss: 0.1980 - val_accuracy: 0.9572\n",
      "Epoch 12/15\n",
      "46/46 [==============================] - 0s 8ms/step - loss: 0.0015 - accuracy: 1.0000 - val_loss: 0.2027 - val_accuracy: 0.9572\n",
      "Epoch 13/15\n",
      "46/46 [==============================] - 1s 17ms/step - loss: 9.2582e-04 - accuracy: 1.0000 - val_loss: 0.1992 - val_accuracy: 0.9565\n",
      "Epoch 14/15\n",
      "46/46 [==============================] - 0s 9ms/step - loss: 7.3718e-04 - accuracy: 1.0000 - val_loss: 0.2063 - val_accuracy: 0.9572\n",
      "Epoch 15/15\n",
      "46/46 [==============================] - 0s 8ms/step - loss: 5.8906e-04 - accuracy: 1.0000 - val_loss: 0.2086 - val_accuracy: 0.9572\n"
     ]
    }
   ],
   "source": [
    "history = model.fit(X_train, y_train, batch_size=128, epochs=15, validation_split=0.2)"
   ]
  },
  {
   "cell_type": "code",
   "execution_count": 82,
   "metadata": {},
   "outputs": [
    {
     "data": {
      "image/png": "[encoded data removed]",
      "text/plain": [
       "<Figure size 720x360 with 1 Axes>"
      ]
     },
     "metadata": {},
     "output_type": "display_data"
    }
   ],
   "source": [
    "## Loss Vs. Epochs\n",
    "\n",
    "plt.figure(figsize=(10, 5))\n",
    "plt.plot(history.history['loss'], label='Train Loss')\n",
    "plt.plot(history.history['val_loss'], label='Test Loss')\n",
    "plt.xlabel('Epochs')\n",
    "plt.ylabel('Loss')\n",
    "plt.legend(['Train Loss', 'Validation Loss']);"
   ]
  },
  {
   "cell_type": "code",
   "execution_count": 83,
   "metadata": {},
   "outputs": [
    {
     "data": {
      "image/png": "[encoded data removed]",
      "text/plain": [
       "<Figure size 720x360 with 1 Axes>"
      ]
     },
     "metadata": {},
     "output_type": "display_data"
    }
   ],
   "source": [
    "## Accuracy Vs. Epochs\n",
    "\n",
    "plt.figure(figsize=(10, 5))\n",
    "plt.plot(history.history['accuracy'], label='Train Accuracy')\n",
    "plt.plot(history.history['val_accuracy'], label='Test Accuracy')\n",
    "plt.xlabel('Epochs')\n",
    "plt.ylabel('Accuracy')\n",
    "plt.legend(['Train Accuracy', 'Validation Accuracy']);"
   ]
  },
  {
   "cell_type": "code",
   "execution_count": 84,
   "metadata": {},
   "outputs": [],
   "source": [
    "## prediction\n",
    "\n",
    "pred = model.predict(X_test)"
   ]
  },
  {
   "cell_type": "code",
   "execution_count": 88,
   "metadata": {},
   "outputs": [],
   "source": [
    "predic = []\n",
    "\n",
    "for p in pred:\n",
    "    p = np.argmax(p)\n",
    "    predic.append(p)"
   ]
  },
  {
   "cell_type": "code",
   "execution_count": 90,
   "metadata": {},
   "outputs": [],
   "source": [
    "predic = np.array(predic)"
   ]
  },
  {
   "cell_type": "code",
   "execution_count": 94,
   "metadata": {},
   "outputs": [
    {
     "data": {
      "text/plain": [
       "(2947, 6)"
      ]
     },
     "execution_count": 94,
     "metadata": {},
     "output_type": "execute_result"
    }
   ],
   "source": [
    "y_test.shape"
   ]
  },
  {
   "cell_type": "code",
   "execution_count": 108,
   "metadata": {},
   "outputs": [],
   "source": [
    "y_test[0]\n",
    "\n",
    "y_test_label = []\n",
    "for i in range(len(y_test)):\n",
    "    for ind, j in enumerate(y_test[i]):\n",
    "        if j == 1:\n",
    "            y_test_label.append(ind)"
   ]
  },
  {
   "cell_type": "code",
   "execution_count": 109,
   "metadata": {},
   "outputs": [],
   "source": [
    "y_test_label = np.array(y_test_label)"
   ]
  },
  {
   "cell_type": "code",
   "execution_count": 110,
   "metadata": {},
   "outputs": [
    {
     "data": {
      "text/plain": [
       "array([2, 2, 2, ..., 5, 5, 5])"
      ]
     },
     "execution_count": 110,
     "metadata": {},
     "output_type": "execute_result"
    }
   ],
   "source": [
    "y_test_label"
   ]
  },
  {
   "cell_type": "code",
   "execution_count": 111,
   "metadata": {},
   "outputs": [
    {
     "data": {
      "text/plain": [
       "array([2, 2, 2, ..., 5, 5, 5], dtype=int64)"
      ]
     },
     "execution_count": 111,
     "metadata": {},
     "output_type": "execute_result"
    }
   ],
   "source": [
    "predic"
   ]
  },
  {
   "cell_type": "code",
   "execution_count": 113,
   "metadata": {},
   "outputs": [
    {
     "name": "stdout",
     "output_type": "stream",
     "text": [
      "Classification Report: \n",
      "               precision    recall  f1-score   support\n",
      "\n",
      "           0       1.00      0.94      0.97       537\n",
      "           1       0.97      0.86      0.91       491\n",
      "           2       0.84      0.98      0.90       532\n",
      "           3       0.92      0.99      0.95       496\n",
      "           4       0.97      0.90      0.94       420\n",
      "           5       0.93      0.92      0.92       471\n",
      "\n",
      "    accuracy                           0.93      2947\n",
      "   macro avg       0.94      0.93      0.93      2947\n",
      "weighted avg       0.94      0.93      0.93      2947\n",
      "\n",
      "----------------------------------------------------------------------------------------------------\n",
      "\n",
      "Accuracy Score:  0.9328130302002036\n",
      "----------------------------------------------------------------------------------------------------\n",
      "\n"
     ]
    },
    {
     "data": {
      "text/plain": [
       "<AxesSubplot:>"
      ]
     },
     "execution_count": 113,
     "metadata": {},
     "output_type": "execute_result"
    },
    {
     "data": {
      "image/png": "[encoded data removed]",
      "text/plain": [
       "<Figure size 720x720 with 2 Axes>"
      ]
     },
     "metadata": {},
     "output_type": "display_data"
    }
   ],
   "source": [
    "print(\"Classification Report: \\n\", classification_report(y_test_label, predic))\n",
    "print(\"-\" * 100)\n",
    "print()\n",
    "print(\"Accuracy Score: \", accuracy_score(y_test_label, predic))\n",
    "print(\"-\" * 100)\n",
    "print()\n",
    "plt.figure(figsize=(10, 10))\n",
    "sns.heatmap(confusion_matrix(y_test_label, predic), annot=True, fmt='g')"
   ]
  },
  {
   "cell_type": "code",
   "execution_count": null,
   "metadata": {},
   "outputs": [],
   "source": []
  }
 ],
 "metadata": {
  "kernelspec": {
   "display_name": "Python 3",
   "language": "python",
   "name": "python3"
  },
  "language_info": {
   "codemirror_mode": {
    "name": "ipython",
    "version": 3
   },
   "file_extension": ".py",
   "mimetype": "text/x-python",
   "name": "python",
   "nbconvert_exporter": "python",
   "pygments_lexer": "ipython3",
   "version": "3.8.8"
  }
 },
 "nbformat": 4,
 "nbformat_minor": 4
}
